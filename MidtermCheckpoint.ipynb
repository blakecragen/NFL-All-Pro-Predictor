{
 "cells": [
  {
   "cell_type": "markdown",
   "id": "ffe099f5-2c23-4075-a967-9038cc579b37",
   "metadata": {},
   "source": [
    "## Part 1: Data Preproccesssing "
   ]
  },
  {
   "cell_type": "code",
   "execution_count": 124,
   "id": "0ac173fe-b38f-4746-94a2-5bb88ba0223e",
   "metadata": {},
   "outputs": [],
   "source": [
    "import pandas as pd\n",
    "import numpy as np\n",
    "from sklearn.preprocessing import StandardScaler\n",
    "from sklearn.decomposition import PCA\n",
    "import matplotlib.pyplot as plt\n",
    "import plotly.express as px\n",
    "from sklearn.cluster import KMeans\n",
    "\n",
    "import warnings\n",
    "warnings.filterwarnings('ignore', category=FutureWarning)\n",
    "\n"
   ]
  },
  {
   "cell_type": "code",
   "execution_count": 125,
   "id": "1e2449fd",
   "metadata": {},
   "outputs": [
    {
     "name": "stdout",
     "output_type": "stream",
     "text": [
      "The data now has 1752 entries\n",
      "294 rows was deleted\n"
     ]
    }
   ],
   "source": [
    "file_path = \"data/WR.xlsx\" \n",
    "year = \"2020\"\n",
    "df = pd.read_excel(file_path, sheet_name=year) # Seperated by position and year, so have to specify the year. \n",
    "# Makes it a bit more readable.\n",
    "labels = df['name'].values\n",
    "title = file_path + \" - \" + year\n",
    "\n",
    "# Exclude non-numerical columns for PCA (May go back and clear out any 0 columns)\n",
    "# Not excluding them caused to error but tbh these columns don't matter.\n",
    "features_to_exclude = ['id', 'name', 'week', 'season', 'position', 'team', 'season_type']\n",
    "#features_to_exclude = ['id', 'name', 'season', 'position', 'team', 'season_type']\n",
    "\n",
    "# Merge all the weeks into 1\n",
    "grouped_df = df.groupby(['id', 'name', 'position', 'team', 'season', 'season_type'], as_index=False).sum()\n",
    "grouped_df.drop('week', axis=1, inplace=True)\n",
    "\n",
    "if file_path == \"data/RB.xlsx\":\n",
    "    all_pro_players = ['Derrick Henry', 'Dalvin Cook', 'Alvin Kamara', 'Nick Chubb']\n",
    "elif file_path == \"data/WR.xlsx\":\n",
    "    all_pro_players = ['Davante Adams', 'Stefon Diggs', 'Tyreek Hill', 'DeAndre Hopkins', 'Justin Jefferson', 'DK Metcalf', 'A.J. Brown', 'Calvin Ridley', 'Cole Beasley']\n",
    "\n",
    "# Check if player's name is in the all_pro_players list and assign 1 if yes, 0 otherwise\n",
    "df['allpro'] = df['name'].apply(lambda x: 1 if x in all_pro_players else 0)\n",
    "grouped_df['allpro'] = grouped_df['name'].apply(lambda x: 1 if x in all_pro_players else 0)\n",
    "\n",
    "#df = grouped_df\n",
    "\n",
    "df_numeric = df.drop(features_to_exclude, axis=1).select_dtypes(include=[np.number])\n",
    "df_filled = df_numeric.fillna(0)\n",
    "#print(df_filled[df_filled[\"allpro\"]==1])\n",
    "X = df_filled.drop(['allpro'], axis=1)\n",
    "y = df_filled['allpro']\n",
    "\n",
    "\n",
    "def detect_outliers(df, threshold=1.5):\n",
    "    outlier_indices = []\n",
    "    categorical_columns = df.select_dtypes(include=['object', 'category']).columns\n",
    "    for col in df.columns:\n",
    "        if col in categorical_columns:\n",
    "            continue\n",
    "        Q1 = np.percentile(df[col], 25)\n",
    "        Q3 = np.percentile(df[col], 75)\n",
    "        IQR = Q3 - Q1\n",
    "        outlier_step = threshold * IQR\n",
    "        outlier_list_col = df[(df[col] < Q1 - outlier_step) | (df[col] > Q3 + outlier_step)].index\n",
    "        outlier_indices.extend(outlier_list_col)\n",
    "    return outlier_indices\n",
    "\n",
    "from sklearn.neighbors import NearestNeighbors\n",
    "\n",
    "def find_outliers_knn(data, k, threshold):\n",
    "    nbrs = NearestNeighbors(n_neighbors=k+1).fit(data)\n",
    "    distances, indices = nbrs.kneighbors(data)\n",
    "    mean_distances = np.mean(distances[:, 1:], axis=1)\n",
    "    outliers = np.where(mean_distances > threshold)[0]\n",
    "    return outliers\n",
    "\n",
    "\n",
    "scaler = StandardScaler() # Used for normalizing and centering.\n",
    "df_scaled = pd.DataFrame(scaler.fit_transform(df_filled))\n",
    "x_new = scaler.fit_transform(X)\n",
    "\n",
    "#print(df_numeric[df_numeric['allpro']==1])\n",
    "#print(df_scaled)\n",
    "\n",
    "# remove outliers\n",
    "outliers = find_outliers_knn(df_scaled, k=3, threshold=3.25)\n",
    "X_clean = np.delete(x_new, outliers, axis=0)\n",
    "y_clean = y.drop(y.index[outliers]).reset_index(drop=True)\n",
    "\n",
    "df_drop = df_scaled.drop(outliers)\n",
    "labels = np.delete(labels,outliers)\n",
    "\n",
    "#print(df_drop[58])\n",
    "#print(y_clean[y_clean == 1])\n",
    "\n",
    "print(f'The data now has {len(labels)} entries')\n",
    "print(f'{len(outliers)} rows was deleted')\n",
    "\n",
    "X_scaled = np.array(df_drop)\n",
    "\n"
   ]
  },
  {
   "cell_type": "code",
   "execution_count": 126,
   "id": "e22ad007-e42f-4311-99a8-05a6293c50dd",
   "metadata": {},
   "outputs": [
    {
     "name": "stdout",
     "output_type": "stream",
     "text": [
      "Principal Component 1:\n",
      " - Explained Variance Ratio: 0.334\n",
      " - Feature Loadings:\n",
      "   - completions: -0.000\n",
      "   - attempts: 0.000\n",
      "   - passing_yards: 0.000\n",
      "   - passing_tds: -0.000\n",
      "   - interceptions: 0.000\n",
      "   - sacks: 0.000\n",
      "   - sack_yards: -0.000\n",
      "   - sack_fumbles: -0.000\n",
      "   - sack_fumbles_lost: -0.000\n",
      "   - passing_air_yards: -0.000\n",
      "   - passing_yards_after_catch: -0.000\n",
      "   - passing_first_downs: -0.000\n",
      "   - passing_2pt_conversions: -0.000\n",
      "   - carries: -0.020\n",
      "   - rushing_yards: -0.014\n",
      "   - rushing_tds: -0.000\n",
      "   - rushing_fumbles: -0.000\n",
      "   - rushing_fumbles_lost: 0.000\n",
      "   - rushing_first_downs: -0.021\n",
      "   - rushing_2pt_conversions: -0.000\n",
      "   - receptions: 0.275\n",
      "   - targets: 0.280\n",
      "   - receiving_yards: 0.277\n",
      "   - receiving_tds: 0.132\n",
      "   - receiving_fumbles: -0.005\n",
      "   - receiving_fumbles_lost: -0.007\n",
      "   - receiving_air_yards: 0.250\n",
      "   - receiving_yards_after_catch: 0.188\n",
      "   - receiving_first_downs: 0.275\n",
      "   - receiving_2pt_conversions: 0.001\n",
      "   - target_share: 0.272\n",
      "   - air_yards_share: 0.247\n",
      "   - fantasy_points: 0.241\n",
      "   - fantasy_points_ppr: 0.267\n",
      "   - total_yards: 0.272\n",
      "   - ypa: -0.000\n",
      "   - ypc: -0.019\n",
      "   - ypr: 0.139\n",
      "   - touches: 0.260\n",
      "   - count: -0.000\n",
      "   - comp_percentage: -0.000\n",
      "   - pass_td_percentage: -0.000\n",
      "   - int_percentage: 0.000\n",
      "   - rush_td_percentage: 0.000\n",
      "   - rec_td_percentage: 0.064\n",
      "   - total_tds: 0.128\n",
      "   - td_percentage: 0.066\n",
      "   - passer_rating: -0.000\n",
      "   - rookie_season: 0.057\n",
      "   - round: 0.007\n",
      "   - overall: -0.005\n",
      "   - wt: 0.057\n",
      "   - forty: 0.057\n",
      "   - vertical: 0.056\n",
      "   - offense_snaps: 0.226\n",
      "   - teams_offense_snaps: 0.055\n",
      "   - snap_pct: 0.226\n",
      "   - years_played: 0.071\n",
      "   - allpro: 0.069\n",
      "\n",
      "\n",
      "Principal Component 2:\n",
      " - Explained Variance Ratio: 0.226\n",
      " - Feature Loadings:\n",
      "   - completions: 0.000\n",
      "   - attempts: -0.000\n",
      "   - passing_yards: -0.000\n",
      "   - passing_tds: -0.000\n",
      "   - interceptions: -0.000\n",
      "   - sacks: -0.000\n",
      "   - sack_yards: -0.000\n",
      "   - sack_fumbles: -0.000\n",
      "   - sack_fumbles_lost: 0.000\n",
      "   - passing_air_yards: 0.000\n",
      "   - passing_yards_after_catch: 0.000\n",
      "   - passing_first_downs: 0.000\n",
      "   - passing_2pt_conversions: 0.000\n",
      "   - carries: -0.008\n",
      "   - rushing_yards: -0.004\n",
      "   - rushing_tds: 0.000\n",
      "   - rushing_fumbles: 0.000\n",
      "   - rushing_fumbles_lost: -0.000\n",
      "   - rushing_first_downs: -0.005\n",
      "   - rushing_2pt_conversions: 0.000\n",
      "   - receptions: -0.034\n",
      "   - targets: -0.015\n",
      "   - receiving_yards: -0.037\n",
      "   - receiving_tds: -0.061\n",
      "   - receiving_fumbles: -0.006\n",
      "   - receiving_fumbles_lost: -0.004\n",
      "   - receiving_air_yards: 0.000\n",
      "   - receiving_yards_after_catch: -0.034\n",
      "   - receiving_first_downs: -0.033\n",
      "   - receiving_2pt_conversions: 0.005\n",
      "   - target_share: -0.020\n",
      "   - air_yards_share: -0.006\n",
      "   - fantasy_points: -0.055\n",
      "   - fantasy_points_ppr: -0.052\n",
      "   - total_yards: -0.037\n",
      "   - ypa: 0.000\n",
      "   - ypc: -0.005\n",
      "   - ypr: -0.022\n",
      "   - touches: -0.035\n",
      "   - count: 0.000\n",
      "   - comp_percentage: 0.000\n",
      "   - pass_td_percentage: 0.000\n",
      "   - int_percentage: -0.000\n",
      "   - rush_td_percentage: -0.000\n",
      "   - rec_td_percentage: -0.058\n",
      "   - total_tds: -0.059\n",
      "   - td_percentage: -0.058\n",
      "   - passer_rating: 0.000\n",
      "   - rookie_season: 0.392\n",
      "   - round: 0.378\n",
      "   - overall: 0.357\n",
      "   - wt: 0.389\n",
      "   - forty: 0.393\n",
      "   - vertical: 0.388\n",
      "   - offense_snaps: 0.014\n",
      "   - teams_offense_snaps: 0.020\n",
      "   - snap_pct: 0.016\n",
      "   - years_played: 0.300\n",
      "   - allpro: -0.016\n",
      "\n",
      "\n",
      "Principal Component 3:\n",
      " - Explained Variance Ratio: 0.104\n",
      " - Feature Loadings:\n",
      "   - completions: 0.000\n",
      "   - attempts: 0.000\n",
      "   - passing_yards: -0.000\n",
      "   - passing_tds: 0.000\n",
      "   - interceptions: -0.000\n",
      "   - sacks: 0.000\n",
      "   - sack_yards: 0.000\n",
      "   - sack_fumbles: 0.000\n",
      "   - sack_fumbles_lost: 0.000\n",
      "   - passing_air_yards: 0.000\n",
      "   - passing_yards_after_catch: 0.000\n",
      "   - passing_first_downs: 0.000\n",
      "   - passing_2pt_conversions: 0.000\n",
      "   - carries: -0.018\n",
      "   - rushing_yards: -0.010\n",
      "   - rushing_tds: 0.000\n",
      "   - rushing_fumbles: 0.000\n",
      "   - rushing_fumbles_lost: -0.000\n",
      "   - rushing_first_downs: -0.011\n",
      "   - rushing_2pt_conversions: 0.000\n",
      "   - receptions: -0.096\n",
      "   - targets: -0.134\n",
      "   - receiving_yards: -0.025\n",
      "   - receiving_tds: 0.381\n",
      "   - receiving_fumbles: -0.013\n",
      "   - receiving_fumbles_lost: -0.011\n",
      "   - receiving_air_yards: -0.069\n",
      "   - receiving_yards_after_catch: -0.068\n",
      "   - receiving_first_downs: -0.023\n",
      "   - receiving_2pt_conversions: -0.009\n",
      "   - target_share: -0.124\n",
      "   - air_yards_share: -0.079\n",
      "   - fantasy_points: 0.186\n",
      "   - fantasy_points_ppr: 0.107\n",
      "   - total_yards: -0.026\n",
      "   - ypa: 0.000\n",
      "   - ypc: -0.014\n",
      "   - ypr: 0.102\n",
      "   - touches: -0.097\n",
      "   - count: 0.000\n",
      "   - comp_percentage: 0.000\n",
      "   - pass_td_percentage: 0.000\n",
      "   - int_percentage: -0.000\n",
      "   - rush_td_percentage: -0.000\n",
      "   - rec_td_percentage: 0.513\n",
      "   - total_tds: 0.370\n",
      "   - td_percentage: 0.518\n",
      "   - passer_rating: 0.000\n",
      "   - rookie_season: 0.036\n",
      "   - round: 0.066\n",
      "   - overall: 0.069\n",
      "   - wt: 0.038\n",
      "   - forty: 0.037\n",
      "   - vertical: 0.035\n",
      "   - offense_snaps: -0.146\n",
      "   - teams_offense_snaps: -0.043\n",
      "   - snap_pct: -0.143\n",
      "   - years_played: 0.012\n",
      "   - allpro: -0.031\n",
      "\n",
      "\n"
     ]
    }
   ],
   "source": [
    "def visualize_2d_pca(X_pca_2d, labels=None):\n",
    "    # Uses matplotlib. Kinda sucked for analysis\n",
    "    plt.figure(figsize=(10, 8))\n",
    "    plt.scatter(X_pca_2d[:, 0], X_pca_2d[:, 1], edgecolor='k', s=20)\n",
    "    if labels is not None:\n",
    "        for i, label in enumerate(labels):\n",
    "            plt.text(X_pca_2d[i, 0], X_pca_2d[i, 1], label, fontsize=9)\n",
    "    plt.xlabel('Principal Component 1')\n",
    "    plt.ylabel('Principal Component 2')\n",
    "    plt.title('2D PCA Visualization with Labels')\n",
    "    plt.grid(True)\n",
    "    plt.show()\n",
    "\n",
    "\n",
    "\n",
    "def visualize_2d_pca_interactive(X_pca_2d, labels=None, clusters=None, title=\"\"):\n",
    "    df = pd.DataFrame(X_pca_2d, columns=['PC 1', 'PC 2'])\n",
    "    df['Label'] = labels if labels is not None else 'Point'\n",
    "    if clusters is not None:\n",
    "        df['Cluster'] = clusters\n",
    "        fig = px.scatter(df, x='PC 1', y='PC 2', text='Label', color='Cluster', hover_data=['Label'])\n",
    "    else:\n",
    "        fig = px.scatter(df, x='PC 1', y='PC 2', text='Label', hover_data=['Label'])\n",
    "    fig.update_xaxes(range=[-1,1])\n",
    "    fig.update_layout(title=\"2D PCA Visualization - \" + title)\n",
    "    fig.show()\n",
    "\n",
    "def visualize_3d_pca(X_pca_3d, labels=None, clusters=None, title=\"\"):\n",
    "    df = pd.DataFrame(X_pca_3d, columns=['PC 1', 'PC 2', 'PC 3'])\n",
    "    df['Label'] = labels if labels is not None else 'Data'\n",
    "    if clusters is not None:\n",
    "        df['Cluster'] = clusters\n",
    "        fig = px.scatter_3d(df, x='PC 1', y='PC 2', z='PC 3', color='Cluster', symbol='Cluster')\n",
    "    else:\n",
    "        fig = px.scatter_3d(df, x='PC 1', y='PC 2', z='PC 3', text='Label')\n",
    "    fig.update_layout(title=\"3D PCA Visualization - \" + title, margin=dict(l=0, r=0, b=0, t=0))\n",
    "    fig.write_html(\"example.html\")\n",
    "    fig.show()\n",
    "\n",
    "\n",
    "def apply_kmeans(X, n_clusters=5):\n",
    "    kmeans = KMeans(n_clusters=n_clusters, random_state=42)\n",
    "    kmeans.fit(X)\n",
    "    return kmeans.labels_\n",
    "\n",
    "\n",
    "\n",
    "pca_2d = PCA(n_components=2)\n",
    "X_pca_2d = pca_2d.fit_transform(X_scaled)\n",
    "pca_3d = PCA(n_components=3)\n",
    "X_pca_3d = pca_3d.fit_transform(X_scaled)\n",
    "\n",
    "components = pca_3d.components_\n",
    "features = df_numeric.columns  # Make sure df_numeric only contains the features that were used in PCA\n",
    "\n",
    "for i, (component, var) in enumerate(zip(components, pca_3d.explained_variance_ratio_), start=1):\n",
    "    print(f\"Principal Component {i}:\")\n",
    "    print(f\" - Explained Variance Ratio: {var:.3f}\")\n",
    "    print(\" - Feature Loadings:\")\n",
    "    for feature, loading in zip(features, component):\n",
    "        print(f\"   - {feature}: {loading:.3f}\")\n",
    "    print(\"\\n\")\n",
    "\n"
   ]
  },
  {
   "cell_type": "markdown",
   "id": "c92a22f2",
   "metadata": {},
   "source": [
    "## Part 2.1: Data Clustering"
   ]
  },
  {
   "cell_type": "code",
   "execution_count": 127,
   "id": "5a12948f",
   "metadata": {},
   "outputs": [
    {
     "name": "stdout",
     "output_type": "stream",
     "text": [
      "Evaluating clustering for 2D PCA data:\n"
     ]
    },
    {
     "data": {
      "image/png": "[encoded data removed]",
      "text/plain": [
       "<Figure size 1080x360 with 4 Axes>"
      ]
     },
     "metadata": {
      "needs_background": "light"
     },
     "output_type": "display_data"
    },
    {
     "name": "stdout",
     "output_type": "stream",
     "text": [
      "Evaluating clustering for 3D PCA data:\n"
     ]
    },
    {
     "data": {
      "image/png": "[encoded data removed]",
      "text/plain": [
       "<Figure size 1080x360 with 4 Axes>"
      ]
     },
     "metadata": {
      "needs_background": "light"
     },
     "output_type": "display_data"
    }
   ],
   "source": [
    "import matplotlib.pyplot as plt\n",
    "from sklearn.cluster import KMeans\n",
    "from sklearn.metrics import silhouette_score, davies_bouldin_score\n",
    "from scipy.spatial import distance\n",
    "\n",
    "class ClusterEvaluator:\n",
    "    def __init__(self, data, cluster_range):\n",
    "        self.data = data\n",
    "        self.cluster_range = cluster_range\n",
    "        self.scores = {}\n",
    "\n",
    "    def calculate_scores(self):\n",
    "        for n_clusters in self.cluster_range:\n",
    "            kmeans = KMeans(n_clusters=n_clusters)\n",
    "            cluster_labels = kmeans.fit_predict(self.data)\n",
    "\n",
    "            self.scores[n_clusters] = {\n",
    "                'silhouette': silhouette_score(self.data, cluster_labels),\n",
    "                'davies_bouldin': davies_bouldin_score(self.data, cluster_labels),\n",
    "                'beta_cv': self.beta_cv(self.data, cluster_labels),\n",
    "                'inertia': kmeans.inertia_\n",
    "            }\n",
    "\n",
    "    def beta_cv(self, data, labels):\n",
    "        n_cluster = len(np.bincount(labels))\n",
    "        intra_dists = np.zeros(n_cluster)\n",
    "        inter_dists = np.zeros((n_cluster, n_cluster))\n",
    "\n",
    "        for i in range(n_cluster):\n",
    "            data_i = data[labels == i]\n",
    "\n",
    "            intra_dists[i] = np.mean(distance.pdist(data_i))\n",
    "\n",
    "            for j in range(n_cluster):\n",
    "                if j != i:\n",
    "                    data_j = data[labels == j]\n",
    "                    inter_dists[i, j] = np.mean([distance.euclidean(point_i, point_j) for point_i in data_i for point_j in data_j])\n",
    "\n",
    "        beta_cv = np.sum([intra_dists[i] / np.min([inter_dists[i, j] for j in range(n_cluster) if j != i]) for i in range(n_cluster)]) / n_cluster\n",
    "\n",
    "        return beta_cv\n",
    "\n",
    "    def plot_scores(self):\n",
    "        fig, axs = plt.subplots(1, 4, figsize=(15, 5))\n",
    "        for i, score_type in enumerate(['silhouette', 'davies_bouldin', 'inertia', 'beta_cv']):\n",
    "            scores = [self.scores[n][score_type] for n in self.cluster_range]\n",
    "            axs[i].plot(self.cluster_range, scores, marker='o')\n",
    "            axs[i].set_title(f'{score_type.capitalize()} scores')\n",
    "            axs[i].set_xlabel('Number of clusters')\n",
    "            axs[i].set_ylabel('Score')\n",
    "            axs[i].grid(True)\n",
    "\n",
    "        plt.tight_layout()\n",
    "        plt.show()\n",
    "\n",
    "# Define a range of possible cluster numbers\n",
    "cluster_range = range(2, 10)\n",
    "\n",
    "# Create ClusterEvaluator instances for 2D and 3D data\n",
    "evaluator_2d = ClusterEvaluator(X_pca_2d, cluster_range)\n",
    "evaluator_3d = ClusterEvaluator(X_pca_3d, cluster_range)\n",
    "\n",
    "# Calculate scores\n",
    "evaluator_2d.calculate_scores()\n",
    "evaluator_3d.calculate_scores()\n",
    "\n",
    "# Plot scores\n",
    "print(\"Evaluating clustering for 2D PCA data:\")\n",
    "evaluator_2d.plot_scores()\n",
    "\n",
    "print(\"Evaluating clustering for 3D PCA data:\")\n",
    "evaluator_3d.plot_scores()\n"
   ]
  },
  {
   "cell_type": "code",
   "execution_count": 128,
   "id": "f1dd084d-5560-4dc9-be84-b39a6d329325",
   "metadata": {},
   "outputs": [
    {
     "data": {
      "application/vnd.plotly.v1+json": {
       "config": {
        "plotlyServerURL": "https://plot.ly"
       },
       "data": [
        {
         "customdata": [
          [
           "A.J. Brown"
          ],
          [
           "A.J. Brown"
          ],
          [
           "A.J. Brown"
          ],
          [
           "A.J. Brown"
          ],
          [
           "A.J. Brown"
          ],
          [
           "A.J. Brown"
          ],
          [
           "A.J. Brown"
          ],
          [
           "A.J. Brown"
          ],
          [
           "A.J. Green"
          ],
          [
           "A.J. Green"
          ],
          [
           "A.J. Green"
          ],
          [
           "A.J. Green"
          ],
          [
           "A.J. Green"
          ],
          [
           "A.J. Green"
          ],
          [
           "A.J. Green"
          ],
          [
           "A.J. Green"
          ],
          [
           "A.J. Green"
          ],
          [
           "A.J. Green"
          ],
          [
           "A.J. Green"
          ],
          [
           "A.J. Green"
          ],
          [
           "A.J. Green"
          ],
          [
           "A.J. Green"
          ],
          [
           "A.J. Green"
          ],
          [
           "Adam Humphries"
          ],
          [
           "Adam Humphries"
          ],
          [
           "Adam Humphries"
          ],
          [
           "Adam Humphries"
          ],
          [
           "Adam Humphries"
          ],
          [
           "Adam Humphries"
          ],
          [
           "Adam Thielen"
          ],
          [
           "Adam Thielen"
          ],
          [
           "Adam Thielen"
          ],
          [
           "Adam Thielen"
          ],
          [
           "Adam Thielen"
          ],
          [
           "Adam Thielen"
          ],
          [
           "Adam Thielen"
          ],
          [
           "Adam Thielen"
          ],
          [
           "Adam Thielen"
          ],
          [
           "Adam Thielen"
          ],
          [
           "Adam Thielen"
          ],
          [
           "Alex Erickson"
          ],
          [
           "Alex Erickson"
          ],
          [
           "Alex Erickson"
          ],
          [
           "Alex Erickson"
          ],
          [
           "Alex Erickson"
          ],
          [
           "Alex Erickson"
          ],
          [
           "Alex Erickson"
          ],
          [
           "Allen Lazard"
          ],
          [
           "Allen Lazard"
          ],
          [
           "Allen Lazard"
          ],
          [
           "Allen Lazard"
          ],
          [
           "Allen Lazard"
          ],
          [
           "Allen Lazard"
          ],
          [
           "Allen Lazard"
          ],
          [
           "Allen Lazard"
          ],
          [
           "Allen Lazard"
          ],
          [
           "Allen Robinson"
          ],
          [
           "Allen Robinson"
          ],
          [
           "Allen Robinson"
          ],
          [
           "Allen Robinson"
          ],
          [
           "Allen Robinson"
          ],
          [
           "Allen Robinson"
          ],
          [
           "Allen Robinson"
          ],
          [
           "Allen Robinson"
          ],
          [
           "Allen Robinson"
          ],
          [
           "Allen Robinson"
          ],
          [
           "Allen Robinson"
          ],
          [
           "Allen Robinson"
          ],
          [
           "Allen Robinson"
          ],
          [
           "Allen Robinson"
          ],
          [
           "Allen Robinson"
          ],
          [
           "Alshon Jeffery"
          ],
          [
           "Alshon Jeffery"
          ],
          [
           "Alshon Jeffery"
          ],
          [
           "Alshon Jeffery"
          ],
          [
           "Alshon Jeffery"
          ],
          [
           "Alshon Jeffery"
          ],
          [
           "Alshon Jeffery"
          ],
          [
           "Amari Cooper"
          ],
          [
           "Amari Cooper"
          ],
          [
           "Amari Cooper"
          ],
          [
           "Amari Cooper"
          ],
          [
           "Amari Cooper"
          ],
          [
           "Amari Cooper"
          ],
          [
           "Amari Cooper"
          ],
          [
           "Amari Cooper"
          ],
          [
           "Amari Cooper"
          ],
          [
           "Amari Cooper"
          ],
          [
           "Amari Cooper"
          ],
          [
           "Amari Cooper"
          ],
          [
           "Amari Cooper"
          ],
          [
           "Amari Cooper"
          ],
          [
           "Andre Roberts"
          ],
          [
           "Andre Roberts"
          ],
          [
           "Andre Roberts"
          ],
          [
           "Andy Isabella"
          ],
          [
           "Andy Isabella"
          ],
          [
           "Andy Isabella"
          ],
          [
           "Andy Isabella"
          ],
          [
           "Andy Isabella"
          ],
          [
           "Andy Isabella"
          ],
          [
           "Andy Isabella"
          ],
          [
           "Andy Isabella"
          ],
          [
           "Andy Isabella"
          ],
          [
           "Andy Isabella"
          ],
          [
           "Anthony Miller"
          ],
          [
           "Anthony Miller"
          ],
          [
           "Anthony Miller"
          ],
          [
           "Anthony Miller"
          ],
          [
           "Anthony Miller"
          ],
          [
           "Anthony Miller"
          ],
          [
           "Anthony Miller"
          ],
          [
           "Anthony Miller"
          ],
          [
           "Anthony Miller"
          ],
          [
           "Anthony Miller"
          ],
          [
           "Anthony Miller"
          ],
          [
           "Anthony Miller"
          ],
          [
           "Anthony Miller"
          ],
          [
           "Anthony Miller"
          ],
          [
           "Anthony Miller"
          ],
          [
           "Antonio Brown"
          ],
          [
           "Antonio Brown"
          ],
          [
           "Antonio Brown"
          ],
          [
           "Antonio Brown"
          ],
          [
           "Antonio Brown"
          ],
          [
           "Antonio Brown"
          ],
          [
           "Antonio Brown"
          ],
          [
           "Antonio Callaway"
          ],
          [
           "Antonio Callaway"
          ],
          [
           "Antonio Callaway"
          ],
          [
           "Antonio Gandy-Golden"
          ],
          [
           "Antonio Gandy-Golden"
          ],
          [
           "Antonio Gandy-Golden"
          ],
          [
           "Antonio Gandy-Golden"
          ],
          [
           "Ashton Dulin"
          ],
          [
           "Ashton Dulin"
          ],
          [
           "Ashton Dulin"
          ],
          [
           "Ashton Dulin"
          ],
          [
           "Ashton Dulin"
          ],
          [
           "Ashton Dulin"
          ],
          [
           "Auden Tate"
          ],
          [
           "Auden Tate"
          ],
          [
           "Auden Tate"
          ],
          [
           "Auden Tate"
          ],
          [
           "Auden Tate"
          ],
          [
           "Auden Tate"
          ],
          [
           "Auden Tate"
          ],
          [
           "Auden Tate"
          ],
          [
           "Austin Carr"
          ],
          [
           "Austin Carr"
          ],
          [
           "Austin Carr"
          ],
          [
           "Austin Carr"
          ],
          [
           "Austin Mack"
          ],
          [
           "Austin Mack"
          ],
          [
           "Austin Mack"
          ],
          [
           "Austin Mack"
          ],
          [
           "Austin Mack"
          ],
          [
           "Bennie Fowler"
          ],
          [
           "Brandin Cooks"
          ],
          [
           "Brandin Cooks"
          ],
          [
           "Brandin Cooks"
          ],
          [
           "Brandin Cooks"
          ],
          [
           "Brandin Cooks"
          ],
          [
           "Brandin Cooks"
          ],
          [
           "Brandin Cooks"
          ],
          [
           "Brandin Cooks"
          ],
          [
           "Brandin Cooks"
          ],
          [
           "Brandin Cooks"
          ],
          [
           "Brandin Cooks"
          ],
          [
           "Brandin Cooks"
          ],
          [
           "Brandin Cooks"
          ],
          [
           "Brandin Cooks"
          ],
          [
           "Brandon Aiyuk"
          ],
          [
           "Brandon Aiyuk"
          ],
          [
           "Brandon Aiyuk"
          ],
          [
           "Brandon Aiyuk"
          ],
          [
           "Brandon Aiyuk"
          ],
          [
           "Brandon Aiyuk"
          ],
          [
           "Brandon Aiyuk"
          ],
          [
           "Brandon Aiyuk"
          ],
          [
           "Brandon Powell"
          ],
          [
           "Brandon Powell"
          ],
          [
           "Brandon Powell"
          ],
          [
           "Brandon Powell"
          ],
          [
           "Brandon Powell"
          ],
          [
           "Brandon Powell"
          ],
          [
           "Brandon Powell"
          ],
          [
           "Brandon Powell"
          ],
          [
           "Brandon Powell"
          ],
          [
           "Brandon Powell"
          ],
          [
           "Brandon Zylstra"
          ],
          [
           "Brandon Zylstra"
          ],
          [
           "Brandon Zylstra"
          ],
          [
           "Brandon Zylstra"
          ],
          [
           "Brandon Zylstra"
          ],
          [
           "Braxton Berrios"
          ],
          [
           "Braxton Berrios"
          ],
          [
           "Braxton Berrios"
          ],
          [
           "Braxton Berrios"
          ],
          [
           "Braxton Berrios"
          ],
          [
           "Braxton Berrios"
          ],
          [
           "Braxton Berrios"
          ],
          [
           "Braxton Berrios"
          ],
          [
           "Braxton Berrios"
          ],
          [
           "Braxton Berrios"
          ],
          [
           "Braxton Berrios"
          ],
          [
           "Braxton Berrios"
          ],
          [
           "Braxton Berrios"
          ],
          [
           "Breshad Perriman"
          ],
          [
           "Breshad Perriman"
          ],
          [
           "Breshad Perriman"
          ],
          [
           "Breshad Perriman"
          ],
          [
           "Breshad Perriman"
          ],
          [
           "Breshad Perriman"
          ],
          [
           "Breshad Perriman"
          ],
          [
           "Breshad Perriman"
          ],
          [
           "Breshad Perriman"
          ],
          [
           "Breshad Perriman"
          ],
          [
           "Breshad Perriman"
          ],
          [
           "Breshad Perriman"
          ],
          [
           "Bryan Edwards"
          ],
          [
           "Bryan Edwards"
          ],
          [
           "Bryan Edwards"
          ],
          [
           "Bryan Edwards"
          ],
          [
           "Bryan Edwards"
          ],
          [
           "Bryan Edwards"
          ],
          [
           "Bryan Edwards"
          ],
          [
           "Bryan Edwards"
          ],
          [
           "Bryan Edwards"
          ],
          [
           "Byron Pringle"
          ],
          [
           "Byron Pringle"
          ],
          [
           "Byron Pringle"
          ],
          [
           "Byron Pringle"
          ],
          [
           "Byron Pringle"
          ],
          [
           "Byron Pringle"
          ],
          [
           "C.J. Board"
          ],
          [
           "C.J. Board"
          ],
          [
           "C.J. Board"
          ],
          [
           "C.J. Board"
          ],
          [
           "C.J. Board"
          ],
          [
           "C.J. Board"
          ],
          [
           "C.J. Board"
          ],
          [
           "C.J. Board"
          ],
          [
           "C.J. Board"
          ],
          [
           "Calvin Ridley"
          ],
          [
           "Calvin Ridley"
          ],
          [
           "Calvin Ridley"
          ],
          [
           "Calvin Ridley"
          ],
          [
           "Calvin Ridley"
          ],
          [
           "Calvin Ridley"
          ],
          [
           "Cam Sims"
          ],
          [
           "Cam Sims"
          ],
          [
           "Cam Sims"
          ],
          [
           "Cam Sims"
          ],
          [
           "Cam Sims"
          ],
          [
           "Cam Sims"
          ],
          [
           "Cam Sims"
          ],
          [
           "Cam Sims"
          ],
          [
           "Cam Sims"
          ],
          [
           "Cam Sims"
          ],
          [
           "Cam Sims"
          ],
          [
           "Cameron Batson"
          ],
          [
           "Cameron Batson"
          ],
          [
           "Cameron Batson"
          ],
          [
           "Cameron Batson"
          ],
          [
           "Cameron Batson"
          ],
          [
           "Cameron Batson"
          ],
          [
           "Cameron Batson"
          ],
          [
           "Cameron Batson"
          ],
          [
           "Cedrick Wilson"
          ],
          [
           "Cedrick Wilson"
          ],
          [
           "Cedrick Wilson"
          ],
          [
           "Cedrick Wilson"
          ],
          [
           "Cedrick Wilson"
          ],
          [
           "Cedrick Wilson"
          ],
          [
           "CeeDee Lamb"
          ],
          [
           "CeeDee Lamb"
          ],
          [
           "CeeDee Lamb"
          ],
          [
           "CeeDee Lamb"
          ],
          [
           "CeeDee Lamb"
          ],
          [
           "CeeDee Lamb"
          ],
          [
           "CeeDee Lamb"
          ],
          [
           "CeeDee Lamb"
          ],
          [
           "CeeDee Lamb"
          ],
          [
           "CeeDee Lamb"
          ],
          [
           "Chad Beebe"
          ],
          [
           "Chad Beebe"
          ],
          [
           "Chad Beebe"
          ],
          [
           "Chad Beebe"
          ],
          [
           "Chad Beebe"
          ],
          [
           "Chad Beebe"
          ],
          [
           "Chad Beebe"
          ],
          [
           "Chad Beebe"
          ],
          [
           "Chad Beebe"
          ],
          [
           "Chad Beebe"
          ],
          [
           "Chad Hansen"
          ],
          [
           "Chad Hansen"
          ],
          [
           "Chad Hansen"
          ],
          [
           "Chad Hansen"
          ],
          [
           "Chad Hansen"
          ],
          [
           "Chase Claypool"
          ],
          [
           "Chase Claypool"
          ],
          [
           "Chase Claypool"
          ],
          [
           "Chase Claypool"
          ],
          [
           "Chase Claypool"
          ],
          [
           "Chase Claypool"
          ],
          [
           "Chase Claypool"
          ],
          [
           "Chase Claypool"
          ],
          [
           "Chase Claypool"
          ],
          [
           "Chase Claypool"
          ],
          [
           "Chris Conley"
          ],
          [
           "Chris Conley"
          ],
          [
           "Chris Conley"
          ],
          [
           "Chris Conley"
          ],
          [
           "Chris Conley"
          ],
          [
           "Chris Conley"
          ],
          [
           "Chris Conley"
          ],
          [
           "Chris Conley"
          ],
          [
           "Chris Conley"
          ],
          [
           "Chris Conley"
          ],
          [
           "Chris Conley"
          ],
          [
           "Chris Conley"
          ],
          [
           "Chris Conley"
          ],
          [
           "Chris Conley"
          ],
          [
           "Chris Godwin"
          ],
          [
           "Chris Godwin"
          ],
          [
           "Chris Godwin"
          ],
          [
           "Chris Godwin"
          ],
          [
           "Chris Godwin"
          ],
          [
           "Chris Godwin"
          ],
          [
           "Chris Godwin"
          ],
          [
           "Chris Godwin"
          ],
          [
           "Chris Godwin"
          ],
          [
           "Chris Godwin"
          ],
          [
           "Chris Godwin"
          ],
          [
           "Chris Hogan"
          ],
          [
           "Chris Hogan"
          ],
          [
           "Chris Hogan"
          ],
          [
           "Chris Hogan"
          ],
          [
           "Chris Hogan"
          ],
          [
           "Christian Blake"
          ],
          [
           "Christian Blake"
          ],
          [
           "Christian Blake"
          ],
          [
           "Christian Blake"
          ],
          [
           "Christian Blake"
          ],
          [
           "Christian Blake"
          ],
          [
           "Christian Blake"
          ],
          [
           "Christian Kirk"
          ],
          [
           "Christian Kirk"
          ],
          [
           "Christian Kirk"
          ],
          [
           "Christian Kirk"
          ],
          [
           "Christian Kirk"
          ],
          [
           "Christian Kirk"
          ],
          [
           "Christian Kirk"
          ],
          [
           "Christian Kirk"
          ],
          [
           "Christian Kirk"
          ],
          [
           "Christian Kirk"
          ],
          [
           "Christian Kirk"
          ],
          [
           "Cody Hollister"
          ],
          [
           "Cole Beasley"
          ],
          [
           "Cole Beasley"
          ],
          [
           "Cole Beasley"
          ],
          [
           "Cole Beasley"
          ],
          [
           "Cole Beasley"
          ],
          [
           "Cole Beasley"
          ],
          [
           "Cole Beasley"
          ],
          [
           "Cole Beasley"
          ],
          [
           "Cole Beasley"
          ],
          [
           "Cole Beasley"
          ],
          [
           "Cole Beasley"
          ],
          [
           "Cole Beasley"
          ],
          [
           "Cole Beasley"
          ],
          [
           "Collin Johnson"
          ],
          [
           "Collin Johnson"
          ],
          [
           "Collin Johnson"
          ],
          [
           "Collin Johnson"
          ],
          [
           "Collin Johnson"
          ],
          [
           "Collin Johnson"
          ],
          [
           "Collin Johnson"
          ],
          [
           "Collin Johnson"
          ],
          [
           "Collin Johnson"
          ],
          [
           "Collin Johnson"
          ],
          [
           "Cooper Kupp"
          ],
          [
           "Cooper Kupp"
          ],
          [
           "Cooper Kupp"
          ],
          [
           "Cooper Kupp"
          ],
          [
           "Cooper Kupp"
          ],
          [
           "Cooper Kupp"
          ],
          [
           "Cooper Kupp"
          ],
          [
           "Cooper Kupp"
          ],
          [
           "Cooper Kupp"
          ],
          [
           "Cooper Kupp"
          ],
          [
           "Cooper Kupp"
          ],
          [
           "Cooper Kupp"
          ],
          [
           "Cooper Kupp"
          ],
          [
           "Corey Davis"
          ],
          [
           "Corey Davis"
          ],
          [
           "Corey Davis"
          ],
          [
           "Corey Davis"
          ],
          [
           "Corey Davis"
          ],
          [
           "Corey Davis"
          ],
          [
           "Corey Davis"
          ],
          [
           "Corey Davis"
          ],
          [
           "Corey Davis"
          ],
          [
           "Corey Davis"
          ],
          [
           "Corey Davis"
          ],
          [
           "Corey Davis"
          ],
          [
           "Corey Davis"
          ],
          [
           "Corey Davis"
          ],
          [
           "Courtland Sutton"
          ],
          [
           "Curtis Samuel"
          ],
          [
           "Curtis Samuel"
          ],
          [
           "Curtis Samuel"
          ],
          [
           "Cyril Grayson"
          ],
          [
           "Cyril Grayson"
          ],
          [
           "D.J. Chark"
          ],
          [
           "D.J. Chark"
          ],
          [
           "D.J. Chark"
          ],
          [
           "D.J. Chark"
          ],
          [
           "D.J. Chark"
          ],
          [
           "D.J. Chark"
          ],
          [
           "D.J. Chark"
          ],
          [
           "D.J. Chark"
          ],
          [
           "D.J. Moore"
          ],
          [
           "D.J. Moore"
          ],
          [
           "D.J. Moore"
          ],
          [
           "D.J. Moore"
          ],
          [
           "D.J. Moore"
          ],
          [
           "D.J. Moore"
          ],
          [
           "D.J. Moore"
          ],
          [
           "D.J. Moore"
          ],
          [
           "D.J. Moore"
          ],
          [
           "D.J. Moore"
          ],
          [
           "D.J. Moore"
          ],
          [
           "D.J. Moore"
          ],
          [
           "DK Metcalf"
          ],
          [
           "DK Metcalf"
          ],
          [
           "DK Metcalf"
          ],
          [
           "DK Metcalf"
          ],
          [
           "DK Metcalf"
          ],
          [
           "DK Metcalf"
          ],
          [
           "DK Metcalf"
          ],
          [
           "DK Metcalf"
          ],
          [
           "DK Metcalf"
          ],
          [
           "DK Metcalf"
          ],
          [
           "DaeSean Hamilton"
          ],
          [
           "DaeSean Hamilton"
          ],
          [
           "DaeSean Hamilton"
          ],
          [
           "DaeSean Hamilton"
          ],
          [
           "DaeSean Hamilton"
          ],
          [
           "DaeSean Hamilton"
          ],
          [
           "DaeSean Hamilton"
          ],
          [
           "DaeSean Hamilton"
          ],
          [
           "DaeSean Hamilton"
          ],
          [
           "DaeSean Hamilton"
          ],
          [
           "DaeSean Hamilton"
          ],
          [
           "Damiere Byrd"
          ],
          [
           "Damiere Byrd"
          ],
          [
           "Damiere Byrd"
          ],
          [
           "Damiere Byrd"
          ],
          [
           "Damiere Byrd"
          ],
          [
           "Damiere Byrd"
          ],
          [
           "Damiere Byrd"
          ],
          [
           "Damiere Byrd"
          ],
          [
           "Damiere Byrd"
          ],
          [
           "Damiere Byrd"
          ],
          [
           "Damiere Byrd"
          ],
          [
           "Damiere Byrd"
          ],
          [
           "Damion Ratley"
          ],
          [
           "Damion Ratley"
          ],
          [
           "Damion Ratley"
          ],
          [
           "Damion Ratley"
          ],
          [
           "Damion Ratley"
          ],
          [
           "Danny Amendola"
          ],
          [
           "Danny Amendola"
          ],
          [
           "Danny Amendola"
          ],
          [
           "Danny Amendola"
          ],
          [
           "Danny Amendola"
          ],
          [
           "Danny Amendola"
          ],
          [
           "Danny Amendola"
          ],
          [
           "Danny Amendola"
          ],
          [
           "Danny Amendola"
          ],
          [
           "Danny Amendola"
          ],
          [
           "Danny Amendola"
          ],
          [
           "Danny Amendola"
          ],
          [
           "Danny Amendola"
          ],
          [
           "Dante Pettis"
          ],
          [
           "Dante Pettis"
          ],
          [
           "Dante Pettis"
          ],
          [
           "Darius Slayton"
          ],
          [
           "Darius Slayton"
          ],
          [
           "Darius Slayton"
          ],
          [
           "Darius Slayton"
          ],
          [
           "Darius Slayton"
          ],
          [
           "Darius Slayton"
          ],
          [
           "Darius Slayton"
          ],
          [
           "Darius Slayton"
          ],
          [
           "Darius Slayton"
          ],
          [
           "Darius Slayton"
          ],
          [
           "Darius Slayton"
          ],
          [
           "Darius Slayton"
          ],
          [
           "Darius Slayton"
          ],
          [
           "Darnell Mooney"
          ],
          [
           "Darnell Mooney"
          ],
          [
           "Darnell Mooney"
          ],
          [
           "Darnell Mooney"
          ],
          [
           "Darnell Mooney"
          ],
          [
           "Darnell Mooney"
          ],
          [
           "Darnell Mooney"
          ],
          [
           "Darnell Mooney"
          ],
          [
           "Darnell Mooney"
          ],
          [
           "Darnell Mooney"
          ],
          [
           "Darnell Mooney"
          ],
          [
           "Darnell Mooney"
          ],
          [
           "Darrius Shepherd"
          ],
          [
           "Darrius Shepherd"
          ],
          [
           "Darrius Shepherd"
          ],
          [
           "Darrius Shepherd"
          ],
          [
           "Darrius Shepherd"
          ],
          [
           "Darrius Shepherd"
          ],
          [
           "Daurice Fountain"
          ],
          [
           "Daurice Fountain"
          ],
          [
           "Davante Adams"
          ],
          [
           "Davante Adams"
          ],
          [
           "David Moore"
          ],
          [
           "David Moore"
          ],
          [
           "David Moore"
          ],
          [
           "David Moore"
          ],
          [
           "David Moore"
          ],
          [
           "David Moore"
          ],
          [
           "David Moore"
          ],
          [
           "David Moore"
          ],
          [
           "David Moore"
          ],
          [
           "David Moore"
          ],
          [
           "David Moore"
          ],
          [
           "David Moore"
          ],
          [
           "David Moore"
          ],
          [
           "David Moore"
          ],
          [
           "David Moore"
          ],
          [
           "DeAndre Carter"
          ],
          [
           "DeAndre Hopkins"
          ],
          [
           "DeAndre Hopkins"
          ],
          [
           "DeAndre Hopkins"
          ],
          [
           "DeAndre Hopkins"
          ],
          [
           "DeAndre Hopkins"
          ],
          [
           "DeAndre Hopkins"
          ],
          [
           "DeAndre Hopkins"
          ],
          [
           "DeAndre Hopkins"
          ],
          [
           "DeAndre Hopkins"
          ],
          [
           "DeAndre Hopkins"
          ],
          [
           "DeMichael Harris"
          ],
          [
           "DeMichael Harris"
          ],
          [
           "DeMichael Harris"
          ],
          [
           "DeMichael Harris"
          ],
          [
           "DeMichael Harris"
          ],
          [
           "DeSean Jackson"
          ],
          [
           "DeSean Jackson"
          ],
          [
           "DeSean Jackson"
          ],
          [
           "DeSean Jackson"
          ],
          [
           "DeVante Parker"
          ],
          [
           "DeVante Parker"
          ],
          [
           "DeVante Parker"
          ],
          [
           "DeVante Parker"
          ],
          [
           "DeVante Parker"
          ],
          [
           "DeVante Parker"
          ],
          [
           "DeVante Parker"
          ],
          [
           "DeVante Parker"
          ],
          [
           "DeVante Parker"
          ],
          [
           "DeVante Parker"
          ],
          [
           "DeVante Parker"
          ],
          [
           "DeVante Parker"
          ],
          [
           "Dede Westbrook"
          ],
          [
           "Deebo Samuel"
          ],
          [
           "Deebo Samuel"
          ],
          [
           "Deebo Samuel"
          ],
          [
           "Deebo Samuel"
          ],
          [
           "Demarcus Robinson"
          ],
          [
           "Demarcus Robinson"
          ],
          [
           "Demarcus Robinson"
          ],
          [
           "Demarcus Robinson"
          ],
          [
           "Demarcus Robinson"
          ],
          [
           "Demarcus Robinson"
          ],
          [
           "Demarcus Robinson"
          ],
          [
           "Demarcus Robinson"
          ],
          [
           "Demarcus Robinson"
          ],
          [
           "Demarcus Robinson"
          ],
          [
           "Demarcus Robinson"
          ],
          [
           "Demarcus Robinson"
          ],
          [
           "Demarcus Robinson"
          ],
          [
           "Demarcus Robinson"
          ],
          [
           "Denzel Mims"
          ],
          [
           "Denzel Mims"
          ],
          [
           "Denzel Mims"
          ],
          [
           "Denzel Mims"
          ],
          [
           "Denzel Mims"
          ],
          [
           "Denzel Mims"
          ],
          [
           "Denzel Mims"
          ],
          [
           "Denzel Mims"
          ],
          [
           "Denzel Mims"
          ],
          [
           "Deontay Burnett"
          ],
          [
           "Deonte Harty"
          ],
          [
           "Deonte Harty"
          ],
          [
           "Deonte Harty"
          ],
          [
           "Deonte Harty"
          ],
          [
           "Deonte Harty"
          ],
          [
           "Deonte Harty"
          ],
          [
           "Deonte Harty"
          ],
          [
           "Deonte Harty"
          ],
          [
           "Devin Duvernay"
          ],
          [
           "Devin Duvernay"
          ],
          [
           "Devin Duvernay"
          ],
          [
           "Devin Duvernay"
          ],
          [
           "Devin Duvernay"
          ],
          [
           "Devin Duvernay"
          ],
          [
           "Devin Duvernay"
          ],
          [
           "Devin Duvernay"
          ],
          [
           "Devin Duvernay"
          ],
          [
           "Devin Duvernay"
          ],
          [
           "Devin Duvernay"
          ],
          [
           "Devin Duvernay"
          ],
          [
           "Dez Bryant"
          ],
          [
           "Dez Bryant"
          ],
          [
           "Dez Bryant"
          ],
          [
           "Dez Bryant"
          ],
          [
           "Diontae Johnson"
          ],
          [
           "Diontae Johnson"
          ],
          [
           "Diontae Johnson"
          ],
          [
           "Diontae Johnson"
          ],
          [
           "Diontae Johnson"
          ],
          [
           "Diontae Johnson"
          ],
          [
           "Diontae Johnson"
          ],
          [
           "Diontae Johnson"
          ],
          [
           "Diontae Johnson"
          ],
          [
           "Diontae Johnson"
          ],
          [
           "Diontae Johnson"
          ],
          [
           "Diontae Johnson"
          ],
          [
           "Diontae Johnson"
          ],
          [
           "Diontae Spencer"
          ],
          [
           "Diontae Spencer"
          ],
          [
           "Diontae Spencer"
          ],
          [
           "Diontae Spencer"
          ],
          [
           "Diontae Spencer"
          ],
          [
           "Donovan Peoples-Jones"
          ],
          [
           "Donovan Peoples-Jones"
          ],
          [
           "Donovan Peoples-Jones"
          ],
          [
           "Donovan Peoples-Jones"
          ],
          [
           "Donovan Peoples-Jones"
          ],
          [
           "Donte Moncrief"
          ],
          [
           "Donte Moncrief"
          ],
          [
           "Dontrelle Inman"
          ],
          [
           "Dontrelle Inman"
          ],
          [
           "Dontrelle Inman"
          ],
          [
           "Dontrelle Inman"
          ],
          [
           "Dontrelle Inman"
          ],
          [
           "Dontrelle Inman"
          ],
          [
           "Emmanuel Sanders"
          ],
          [
           "Emmanuel Sanders"
          ],
          [
           "Emmanuel Sanders"
          ],
          [
           "Emmanuel Sanders"
          ],
          [
           "Emmanuel Sanders"
          ],
          [
           "Emmanuel Sanders"
          ],
          [
           "Emmanuel Sanders"
          ],
          [
           "Emmanuel Sanders"
          ],
          [
           "Emmanuel Sanders"
          ],
          [
           "Emmanuel Sanders"
          ],
          [
           "Emmanuel Sanders"
          ],
          [
           "Emmanuel Sanders"
          ],
          [
           "Emmanuel Sanders"
          ],
          [
           "Equanimeous St. Brown"
          ],
          [
           "Equanimeous St. Brown"
          ],
          [
           "Equanimeous St. Brown"
          ],
          [
           "Equanimeous St. Brown"
          ],
          [
           "Equanimeous St. Brown"
          ],
          [
           "Equanimeous St. Brown"
          ],
          [
           "Equanimeous St. Brown"
          ],
          [
           "Equanimeous St. Brown"
          ],
          [
           "Freddie Swain"
          ],
          [
           "Freddie Swain"
          ],
          [
           "Freddie Swain"
          ],
          [
           "Freddie Swain"
          ],
          [
           "Freddie Swain"
          ],
          [
           "Freddie Swain"
          ],
          [
           "Freddie Swain"
          ],
          [
           "Freddie Swain"
          ],
          [
           "Freddie Swain"
          ],
          [
           "Freddie Swain"
          ],
          [
           "Freddie Swain"
          ],
          [
           "Gabe Davis"
          ],
          [
           "Gabe Davis"
          ],
          [
           "Gabe Davis"
          ],
          [
           "Gabe Davis"
          ],
          [
           "Gabe Davis"
          ],
          [
           "Gabe Davis"
          ],
          [
           "Gabe Davis"
          ],
          [
           "Gabe Davis"
          ],
          [
           "Gabe Davis"
          ],
          [
           "Gabe Davis"
          ],
          [
           "Gabe Davis"
          ],
          [
           "Gabe Davis"
          ],
          [
           "Gehrig Dieter"
          ],
          [
           "Golden Tate"
          ],
          [
           "Golden Tate"
          ],
          [
           "Golden Tate"
          ],
          [
           "Golden Tate"
          ],
          [
           "Golden Tate"
          ],
          [
           "Golden Tate"
          ],
          [
           "Golden Tate"
          ],
          [
           "Golden Tate"
          ],
          [
           "Golden Tate"
          ],
          [
           "Golden Tate"
          ],
          [
           "Greg Ward"
          ],
          [
           "Greg Ward"
          ],
          [
           "Greg Ward"
          ],
          [
           "Greg Ward"
          ],
          [
           "Greg Ward"
          ],
          [
           "Greg Ward"
          ],
          [
           "Greg Ward"
          ],
          [
           "Greg Ward"
          ],
          [
           "Greg Ward"
          ],
          [
           "Greg Ward"
          ],
          [
           "Greg Ward"
          ],
          [
           "Greg Ward"
          ],
          [
           "Greg Ward"
          ],
          [
           "Greg Ward"
          ],
          [
           "Gunner Olszewski"
          ],
          [
           "Gunner Olszewski"
          ],
          [
           "Gunner Olszewski"
          ],
          [
           "Gunner Olszewski"
          ],
          [
           "Gunner Olszewski"
          ],
          [
           "Henry Ruggs"
          ],
          [
           "Henry Ruggs"
          ],
          [
           "Henry Ruggs"
          ],
          [
           "Henry Ruggs"
          ],
          [
           "Henry Ruggs"
          ],
          [
           "Henry Ruggs"
          ],
          [
           "Henry Ruggs"
          ],
          [
           "Henry Ruggs"
          ],
          [
           "Henry Ruggs"
          ],
          [
           "Hunter Renfrow"
          ],
          [
           "Hunter Renfrow"
          ],
          [
           "Hunter Renfrow"
          ],
          [
           "Hunter Renfrow"
          ],
          [
           "Hunter Renfrow"
          ],
          [
           "Hunter Renfrow"
          ],
          [
           "Hunter Renfrow"
          ],
          [
           "Hunter Renfrow"
          ],
          [
           "Hunter Renfrow"
          ],
          [
           "Hunter Renfrow"
          ],
          [
           "Hunter Renfrow"
          ],
          [
           "Hunter Renfrow"
          ],
          [
           "Hunter Renfrow"
          ],
          [
           "Hunter Renfrow"
          ],
          [
           "Hunter Renfrow"
          ],
          [
           "Isaiah Ford"
          ],
          [
           "Isaiah Ford"
          ],
          [
           "Isaiah Ford"
          ],
          [
           "Isaiah Ford"
          ],
          [
           "Isaiah Ford"
          ],
          [
           "Isaiah Ford"
          ],
          [
           "Isaiah Ford"
          ],
          [
           "Isaiah Ford"
          ],
          [
           "Isaiah Ford"
          ],
          [
           "Isaiah McKenzie"
          ],
          [
           "Isaiah McKenzie"
          ],
          [
           "Isaiah McKenzie"
          ],
          [
           "Isaiah McKenzie"
          ],
          [
           "Isaiah McKenzie"
          ],
          [
           "Isaiah McKenzie"
          ],
          [
           "Isaiah McKenzie"
          ],
          [
           "Isaiah McKenzie"
          ],
          [
           "Isaiah McKenzie"
          ],
          [
           "Isaiah McKenzie"
          ],
          [
           "Isaiah McKenzie"
          ],
          [
           "Isaiah McKenzie"
          ],
          [
           "Isaiah McKenzie"
          ],
          [
           "Isaiah Wright"
          ],
          [
           "Isaiah Wright"
          ],
          [
           "Isaiah Wright"
          ],
          [
           "Isaiah Wright"
          ],
          [
           "Isaiah Wright"
          ],
          [
           "Isaiah Wright"
          ],
          [
           "Isaiah Wright"
          ],
          [
           "Isaiah Wright"
          ],
          [
           "Isaiah Wright"
          ],
          [
           "Isaiah Wright"
          ],
          [
           "Isaiah Zuber"
          ],
          [
           "Isaiah Zuber"
          ],
          [
           "Isaiah Zuber"
          ],
          [
           "Isaiah Zuber"
          ],
          [
           "Ja'Marcus Bradley"
          ],
          [
           "Jake Kumerow"
          ],
          [
           "Jakeem Grant"
          ],
          [
           "Jakeem Grant"
          ],
          [
           "Jakeem Grant"
          ],
          [
           "Jakeem Grant"
          ],
          [
           "Jakeem Grant"
          ],
          [
           "Jakeem Grant"
          ],
          [
           "Jakeem Grant"
          ],
          [
           "Jakeem Grant"
          ],
          [
           "Jakeem Grant"
          ],
          [
           "Jakeem Grant"
          ],
          [
           "Jakeem Grant"
          ],
          [
           "Jakeem Grant"
          ],
          [
           "Jakeem Grant"
          ],
          [
           "Jakobi Meyers"
          ],
          [
           "Jakobi Meyers"
          ],
          [
           "Jakobi Meyers"
          ],
          [
           "Jakobi Meyers"
          ],
          [
           "Jakobi Meyers"
          ],
          [
           "Jakobi Meyers"
          ],
          [
           "Jakobi Meyers"
          ],
          [
           "Jaleel Scott"
          ],
          [
           "Jalen Guyton"
          ],
          [
           "Jalen Guyton"
          ],
          [
           "Jalen Guyton"
          ],
          [
           "Jalen Guyton"
          ],
          [
           "Jalen Guyton"
          ],
          [
           "Jalen Guyton"
          ],
          [
           "Jalen Guyton"
          ],
          [
           "Jalen Guyton"
          ],
          [
           "Jalen Guyton"
          ],
          [
           "Jalen Guyton"
          ],
          [
           "Jalen Guyton"
          ],
          [
           "Jalen Guyton"
          ],
          [
           "Jalen Guyton"
          ],
          [
           "Jalen Guyton"
          ],
          [
           "Jalen Reagor"
          ],
          [
           "Jalen Reagor"
          ],
          [
           "Jalen Reagor"
          ],
          [
           "Jalen Reagor"
          ],
          [
           "Jalen Reagor"
          ],
          [
           "Jalen Reagor"
          ],
          [
           "Jalen Reagor"
          ],
          [
           "Jamal Agnew"
          ],
          [
           "Jamal Agnew"
          ],
          [
           "Jamal Agnew"
          ],
          [
           "Jamal Agnew"
          ],
          [
           "Jamal Agnew"
          ],
          [
           "Jamal Agnew"
          ],
          [
           "Jamal Agnew"
          ],
          [
           "Jamal Agnew"
          ],
          [
           "Jamal Agnew"
          ],
          [
           "Jamal Agnew"
          ],
          [
           "Jamal Agnew"
          ],
          [
           "Jamal Agnew"
          ],
          [
           "James Proche"
          ],
          [
           "James Proche"
          ],
          [
           "James Proche"
          ],
          [
           "James Washington"
          ],
          [
           "James Washington"
          ],
          [
           "James Washington"
          ],
          [
           "James Washington"
          ],
          [
           "James Washington"
          ],
          [
           "James Washington"
          ],
          [
           "James Washington"
          ],
          [
           "James Washington"
          ],
          [
           "James Washington"
          ],
          [
           "James Washington"
          ],
          [
           "James Washington"
          ],
          [
           "James Washington"
          ],
          [
           "James Washington"
          ],
          [
           "James Washington"
          ],
          [
           "James Washington"
          ],
          [
           "Jamison Crowder"
          ],
          [
           "Jamison Crowder"
          ],
          [
           "Jamison Crowder"
          ],
          [
           "Jamison Crowder"
          ],
          [
           "Jamison Crowder"
          ],
          [
           "Jamison Crowder"
          ],
          [
           "Jamison Crowder"
          ],
          [
           "Jamison Crowder"
          ],
          [
           "Jamison Crowder"
          ],
          [
           "Jamison Crowder"
          ],
          [
           "Jamison Crowder"
          ],
          [
           "Jarvis Landry"
          ],
          [
           "Jarvis Landry"
          ],
          [
           "Jarvis Landry"
          ],
          [
           "Jarvis Landry"
          ],
          [
           "Jarvis Landry"
          ],
          [
           "Jarvis Landry"
          ],
          [
           "Jarvis Landry"
          ],
          [
           "Jarvis Landry"
          ],
          [
           "Jarvis Landry"
          ],
          [
           "Jarvis Landry"
          ],
          [
           "Javon Wims"
          ],
          [
           "Javon Wims"
          ],
          [
           "Javon Wims"
          ],
          [
           "Javon Wims"
          ],
          [
           "Javon Wims"
          ],
          [
           "Javon Wims"
          ],
          [
           "Javon Wims"
          ],
          [
           "Javon Wims"
          ],
          [
           "Javon Wims"
          ],
          [
           "Jaydon Mickens"
          ],
          [
           "Jaydon Mickens"
          ],
          [
           "Jeff Badet"
          ],
          [
           "Jeff Smith"
          ],
          [
           "Jeff Smith"
          ],
          [
           "Jeff Smith"
          ],
          [
           "Jeff Smith"
          ],
          [
           "Jeff Smith"
          ],
          [
           "Jeff Smith"
          ],
          [
           "Jeff Smith"
          ],
          [
           "Jerry Jeudy"
          ],
          [
           "Jerry Jeudy"
          ],
          [
           "Jerry Jeudy"
          ],
          [
           "Jerry Jeudy"
          ],
          [
           "Jerry Jeudy"
          ],
          [
           "Jerry Jeudy"
          ],
          [
           "Jerry Jeudy"
          ],
          [
           "Jerry Jeudy"
          ],
          [
           "Jerry Jeudy"
          ],
          [
           "Jerry Jeudy"
          ],
          [
           "Jerry Jeudy"
          ],
          [
           "Jerry Jeudy"
          ],
          [
           "Jerry Jeudy"
          ],
          [
           "JoJo Natson"
          ],
          [
           "Joe Reed"
          ],
          [
           "Joe Reed"
          ],
          [
           "John Brown"
          ],
          [
           "John Brown"
          ],
          [
           "John Brown"
          ],
          [
           "John Brown"
          ],
          [
           "John Brown"
          ],
          [
           "John Brown"
          ],
          [
           "John Brown"
          ],
          [
           "John Brown"
          ],
          [
           "John Brown"
          ],
          [
           "John Hightower"
          ],
          [
           "John Hightower"
          ],
          [
           "John Hightower"
          ],
          [
           "John Hightower"
          ],
          [
           "John Hightower"
          ],
          [
           "John Hightower"
          ],
          [
           "John Hightower"
          ],
          [
           "John Hightower"
          ],
          [
           "John Hightower"
          ],
          [
           "John Ross"
          ],
          [
           "John Ross"
          ],
          [
           "Josh Malone"
          ],
          [
           "Josh Reynolds"
          ],
          [
           "Josh Reynolds"
          ],
          [
           "Josh Reynolds"
          ],
          [
           "Josh Reynolds"
          ],
          [
           "Josh Reynolds"
          ],
          [
           "Josh Reynolds"
          ],
          [
           "Josh Reynolds"
          ],
          [
           "Josh Reynolds"
          ],
          [
           "Josh Reynolds"
          ],
          [
           "Josh Reynolds"
          ],
          [
           "Josh Reynolds"
          ],
          [
           "Josh Reynolds"
          ],
          [
           "Josh Reynolds"
          ],
          [
           "Josh Reynolds"
          ],
          [
           "Josh Reynolds"
          ],
          [
           "Josh Reynolds"
          ],
          [
           "JuJu Smith-Schuster"
          ],
          [
           "JuJu Smith-Schuster"
          ],
          [
           "JuJu Smith-Schuster"
          ],
          [
           "JuJu Smith-Schuster"
          ],
          [
           "JuJu Smith-Schuster"
          ],
          [
           "JuJu Smith-Schuster"
          ],
          [
           "JuJu Smith-Schuster"
          ],
          [
           "JuJu Smith-Schuster"
          ],
          [
           "JuJu Smith-Schuster"
          ],
          [
           "JuJu Smith-Schuster"
          ],
          [
           "JuJu Smith-Schuster"
          ],
          [
           "Julian Edelman"
          ],
          [
           "Julian Edelman"
          ],
          [
           "Julian Edelman"
          ],
          [
           "Julio Jones"
          ],
          [
           "Julio Jones"
          ],
          [
           "Julio Jones"
          ],
          [
           "Julio Jones"
          ],
          [
           "Julio Jones"
          ],
          [
           "Julio Jones"
          ],
          [
           "Julio Jones"
          ],
          [
           "Julio Jones"
          ],
          [
           "Justin Jefferson"
          ],
          [
           "Justin Jefferson"
          ],
          [
           "Justin Jefferson"
          ],
          [
           "Justin Jefferson"
          ],
          [
           "Justin Jefferson"
          ],
          [
           "Justin Jefferson"
          ],
          [
           "Justin Jefferson"
          ],
          [
           "Justin Jefferson"
          ],
          [
           "Justin Watson"
          ],
          [
           "Justin Watson"
          ],
          [
           "Justin Watson"
          ],
          [
           "K.J. Hamler"
          ],
          [
           "K.J. Hamler"
          ],
          [
           "K.J. Hamler"
          ],
          [
           "K.J. Hamler"
          ],
          [
           "K.J. Hamler"
          ],
          [
           "K.J. Hamler"
          ],
          [
           "K.J. Hamler"
          ],
          [
           "K.J. Hamler"
          ],
          [
           "K.J. Hamler"
          ],
          [
           "K.J. Hill"
          ],
          [
           "K.J. Hill"
          ],
          [
           "K.J. Hill"
          ],
          [
           "K.J. Hill"
          ],
          [
           "K.J. Hill"
          ],
          [
           "Kalif Raymond"
          ],
          [
           "Kalif Raymond"
          ],
          [
           "Kalif Raymond"
          ],
          [
           "Kalif Raymond"
          ],
          [
           "Kalif Raymond"
          ],
          [
           "Kalif Raymond"
          ],
          [
           "Kalif Raymond"
          ],
          [
           "KeeSean Johnson"
          ],
          [
           "KeeSean Johnson"
          ],
          [
           "KeeSean Johnson"
          ],
          [
           "KeeSean Johnson"
          ],
          [
           "KeeSean Johnson"
          ],
          [
           "KeeSean Johnson"
          ],
          [
           "KeeSean Johnson"
          ],
          [
           "KeeSean Johnson"
          ],
          [
           "Keelan Cole"
          ],
          [
           "Keelan Cole"
          ],
          [
           "Keelan Cole"
          ],
          [
           "Keelan Cole"
          ],
          [
           "Keelan Cole"
          ],
          [
           "Keelan Cole"
          ],
          [
           "Keelan Cole"
          ],
          [
           "Keelan Cole"
          ],
          [
           "Keelan Cole"
          ],
          [
           "Keelan Cole"
          ],
          [
           "Keelan Cole"
          ],
          [
           "Keelan Cole"
          ],
          [
           "Keelan Cole"
          ],
          [
           "Keelan Cole"
          ],
          [
           "Keelan Cole"
          ],
          [
           "Keelan Cole"
          ],
          [
           "Keenan Allen"
          ],
          [
           "Keenan Allen"
          ],
          [
           "Keenan Allen"
          ],
          [
           "Keenan Allen"
          ],
          [
           "Keenan Allen"
          ],
          [
           "Keenan Allen"
          ],
          [
           "Keenan Allen"
          ],
          [
           "Keenan Allen"
          ],
          [
           "Keenan Allen"
          ],
          [
           "Keith Kirkwood"
          ],
          [
           "Keke Coutee"
          ],
          [
           "Keke Coutee"
          ],
          [
           "Keke Coutee"
          ],
          [
           "Keke Coutee"
          ],
          [
           "Kendrick Bourne"
          ],
          [
           "Kendrick Bourne"
          ],
          [
           "Kendrick Bourne"
          ],
          [
           "Kendrick Bourne"
          ],
          [
           "Kendrick Bourne"
          ],
          [
           "Kendrick Bourne"
          ],
          [
           "Kendrick Bourne"
          ],
          [
           "Kendrick Bourne"
          ],
          [
           "Kendrick Bourne"
          ],
          [
           "Kendrick Bourne"
          ],
          [
           "Kendrick Bourne"
          ],
          [
           "Kendrick Bourne"
          ],
          [
           "Kendrick Bourne"
          ],
          [
           "Kendrick Bourne"
          ],
          [
           "Kendrick Bourne"
          ],
          [
           "Kenny Golladay"
          ],
          [
           "Kenny Golladay"
          ],
          [
           "Kenny Golladay"
          ],
          [
           "Kenny Golladay"
          ],
          [
           "Kenny Golladay"
          ],
          [
           "Kenny Stills"
          ],
          [
           "Kenny Stills"
          ],
          [
           "Kenny Stills"
          ],
          [
           "Kenny Stills"
          ],
          [
           "Kenny Stills"
          ],
          [
           "Kenny Stills"
          ],
          [
           "Kenny Stills"
          ],
          [
           "KhaDarel Hodge"
          ],
          [
           "KhaDarel Hodge"
          ],
          [
           "KhaDarel Hodge"
          ],
          [
           "KhaDarel Hodge"
          ],
          [
           "KhaDarel Hodge"
          ],
          [
           "KhaDarel Hodge"
          ],
          [
           "KhaDarel Hodge"
          ],
          [
           "Laquon Treadwell"
          ],
          [
           "Laquon Treadwell"
          ],
          [
           "Laquon Treadwell"
          ],
          [
           "Laquon Treadwell"
          ],
          [
           "Larry Fitzgerald"
          ],
          [
           "Larry Fitzgerald"
          ],
          [
           "Larry Fitzgerald"
          ],
          [
           "Larry Fitzgerald"
          ],
          [
           "Larry Fitzgerald"
          ],
          [
           "Larry Fitzgerald"
          ],
          [
           "Larry Fitzgerald"
          ],
          [
           "Larry Fitzgerald"
          ],
          [
           "Larry Fitzgerald"
          ],
          [
           "Larry Fitzgerald"
          ],
          [
           "Larry Fitzgerald"
          ],
          [
           "Larry Fitzgerald"
          ],
          [
           "Larry Fitzgerald"
          ],
          [
           "Laviska Shenault"
          ],
          [
           "Laviska Shenault"
          ],
          [
           "Laviska Shenault"
          ],
          [
           "Laviska Shenault"
          ],
          [
           "Laviska Shenault"
          ],
          [
           "Laviska Shenault"
          ],
          [
           "Laviska Shenault"
          ],
          [
           "Laviska Shenault"
          ],
          [
           "Laviska Shenault"
          ],
          [
           "Laviska Shenault"
          ],
          [
           "Lawrence Cager"
          ],
          [
           "Lawrence Cager"
          ],
          [
           "Lil'Jordan Humphrey"
          ],
          [
           "Lil'Jordan Humphrey"
          ],
          [
           "Mack Hollins"
          ],
          [
           "Mack Hollins"
          ],
          [
           "Mack Hollins"
          ],
          [
           "Mack Hollins"
          ],
          [
           "Mack Hollins"
          ],
          [
           "Mack Hollins"
          ],
          [
           "Mack Hollins"
          ],
          [
           "Mack Hollins"
          ],
          [
           "Mack Hollins"
          ],
          [
           "Malik Taylor"
          ],
          [
           "Malik Taylor"
          ],
          [
           "Malik Taylor"
          ],
          [
           "Malik Taylor"
          ],
          [
           "Malik Taylor"
          ],
          [
           "Malik Taylor"
          ],
          [
           "Marcus Johnson"
          ],
          [
           "Marcus Johnson"
          ],
          [
           "Marcus Johnson"
          ],
          [
           "Marcus Johnson"
          ],
          [
           "Marcus Johnson"
          ],
          [
           "Marcus Johnson"
          ],
          [
           "Marcus Johnson"
          ],
          [
           "Marcus Johnson"
          ],
          [
           "Marcus Kemp"
          ],
          [
           "Marquez Callaway"
          ],
          [
           "Marquez Callaway"
          ],
          [
           "Marquez Callaway"
          ],
          [
           "Marquez Callaway"
          ],
          [
           "Marquez Callaway"
          ],
          [
           "Marquez Callaway"
          ],
          [
           "Marquez Valdes-Scantling"
          ],
          [
           "Marquez Valdes-Scantling"
          ],
          [
           "Marquez Valdes-Scantling"
          ],
          [
           "Marquez Valdes-Scantling"
          ],
          [
           "Marquez Valdes-Scantling"
          ],
          [
           "Marquez Valdes-Scantling"
          ],
          [
           "Marquez Valdes-Scantling"
          ],
          [
           "Marquez Valdes-Scantling"
          ],
          [
           "Marquez Valdes-Scantling"
          ],
          [
           "Marquise Brown"
          ],
          [
           "Marquise Brown"
          ],
          [
           "Marquise Brown"
          ],
          [
           "Marquise Brown"
          ],
          [
           "Marquise Brown"
          ],
          [
           "Marquise Brown"
          ],
          [
           "Marquise Brown"
          ],
          [
           "Marquise Brown"
          ],
          [
           "Marquise Brown"
          ],
          [
           "Marquise Brown"
          ],
          [
           "Marquise Brown"
          ],
          [
           "Marquise Brown"
          ],
          [
           "Marquise Brown"
          ],
          [
           "Marquise Brown"
          ],
          [
           "Marquise Brown"
          ],
          [
           "Marvin Hall"
          ],
          [
           "Marvin Hall"
          ],
          [
           "Marvin Hall"
          ],
          [
           "Marvin Hall"
          ],
          [
           "Marvin Hall"
          ],
          [
           "Marvin Hall"
          ],
          [
           "Marvin Hall"
          ],
          [
           "Marvin Hall"
          ],
          [
           "Marvin Hall"
          ],
          [
           "Marvin Hall"
          ],
          [
           "Marvin Hall"
          ],
          [
           "Marvin Jones"
          ],
          [
           "Marvin Jones"
          ],
          [
           "Marvin Jones"
          ],
          [
           "Marvin Jones"
          ],
          [
           "Marvin Jones"
          ],
          [
           "Marvin Jones"
          ],
          [
           "Marvin Jones"
          ],
          [
           "Marvin Jones"
          ],
          [
           "Marvin Jones"
          ],
          [
           "Marvin Jones"
          ],
          [
           "Marvin Jones"
          ],
          [
           "Marvin Jones"
          ],
          [
           "Marvin Jones"
          ],
          [
           "Marvin Jones"
          ],
          [
           "Marvin Jones"
          ],
          [
           "Marvin Jones"
          ],
          [
           "Mecole Hardman"
          ],
          [
           "Mecole Hardman"
          ],
          [
           "Mecole Hardman"
          ],
          [
           "Mecole Hardman"
          ],
          [
           "Mecole Hardman"
          ],
          [
           "Mecole Hardman"
          ],
          [
           "Mecole Hardman"
          ],
          [
           "Mecole Hardman"
          ],
          [
           "Mecole Hardman"
          ],
          [
           "Mecole Hardman"
          ],
          [
           "Mecole Hardman"
          ],
          [
           "Mecole Hardman"
          ],
          [
           "Mecole Hardman"
          ],
          [
           "Michael Gallup"
          ],
          [
           "Michael Gallup"
          ],
          [
           "Michael Gallup"
          ],
          [
           "Michael Gallup"
          ],
          [
           "Michael Gallup"
          ],
          [
           "Michael Gallup"
          ],
          [
           "Michael Gallup"
          ],
          [
           "Michael Gallup"
          ],
          [
           "Michael Gallup"
          ],
          [
           "Michael Gallup"
          ],
          [
           "Michael Gallup"
          ],
          [
           "Michael Gallup"
          ],
          [
           "Michael Gallup"
          ],
          [
           "Michael Gallup"
          ],
          [
           "Michael Gallup"
          ],
          [
           "Michael Pittman"
          ],
          [
           "Michael Pittman"
          ],
          [
           "Michael Pittman"
          ],
          [
           "Michael Pittman"
          ],
          [
           "Michael Pittman"
          ],
          [
           "Michael Pittman"
          ],
          [
           "Michael Pittman"
          ],
          [
           "Michael Pittman"
          ],
          [
           "Michael Pittman"
          ],
          [
           "Michael Pittman"
          ],
          [
           "Michael Pittman"
          ],
          [
           "Michael Thomas"
          ],
          [
           "Michael Thomas"
          ],
          [
           "Michael Thomas"
          ],
          [
           "Michael Thomas"
          ],
          [
           "Michael Thomas"
          ],
          [
           "Mike Evans"
          ],
          [
           "Mike Evans"
          ],
          [
           "Mike Evans"
          ],
          [
           "Mike Evans"
          ],
          [
           "Mike Evans"
          ],
          [
           "Mike Evans"
          ],
          [
           "Mike Evans"
          ],
          [
           "Mike Evans"
          ],
          [
           "Mike Evans"
          ],
          [
           "Mike Evans"
          ],
          [
           "Mike Evans"
          ],
          [
           "Mike Evans"
          ],
          [
           "Mike Evans"
          ],
          [
           "Mike Evans"
          ],
          [
           "Mike Evans"
          ],
          [
           "Mike Thomas"
          ],
          [
           "Mike Thomas"
          ],
          [
           "Mike Thomas"
          ],
          [
           "Mike Thomas"
          ],
          [
           "Mike Thomas"
          ],
          [
           "Mike Thomas"
          ],
          [
           "Mike Thomas"
          ],
          [
           "Mike Thomas"
          ],
          [
           "Mike Thomas"
          ],
          [
           "Mike Thomas"
          ],
          [
           "Mike Williams"
          ],
          [
           "Mike Williams"
          ],
          [
           "Mike Williams"
          ],
          [
           "Mike Williams"
          ],
          [
           "Mike Williams"
          ],
          [
           "Mike Williams"
          ],
          [
           "Mike Williams"
          ],
          [
           "Mike Williams"
          ],
          [
           "Mike Williams"
          ],
          [
           "Mike Williams"
          ],
          [
           "Mike Williams"
          ],
          [
           "Mike Williams"
          ],
          [
           "Mike Williams"
          ],
          [
           "Mike Williams"
          ],
          [
           "Miles Boykin"
          ],
          [
           "Miles Boykin"
          ],
          [
           "Miles Boykin"
          ],
          [
           "Miles Boykin"
          ],
          [
           "Miles Boykin"
          ],
          [
           "Miles Boykin"
          ],
          [
           "Miles Boykin"
          ],
          [
           "Miles Boykin"
          ],
          [
           "Miles Boykin"
          ],
          [
           "Miles Boykin"
          ],
          [
           "Miles Boykin"
          ],
          [
           "Mohamed Sanu"
          ],
          [
           "Mohamed Sanu"
          ],
          [
           "Mohamed Sanu"
          ],
          [
           "Mohamed Sanu"
          ],
          [
           "Mohamed Sanu"
          ],
          [
           "N'Keal Harry"
          ],
          [
           "N'Keal Harry"
          ],
          [
           "N'Keal Harry"
          ],
          [
           "N'Keal Harry"
          ],
          [
           "N'Keal Harry"
          ],
          [
           "N'Keal Harry"
          ],
          [
           "N'Keal Harry"
          ],
          [
           "N'Keal Harry"
          ],
          [
           "N'Keal Harry"
          ],
          [
           "N'Keal Harry"
          ],
          [
           "N'Keal Harry"
          ],
          [
           "N'Keal Harry"
          ],
          [
           "Nelson Agholor"
          ],
          [
           "Nelson Agholor"
          ],
          [
           "Nelson Agholor"
          ],
          [
           "Nelson Agholor"
          ],
          [
           "Nelson Agholor"
          ],
          [
           "Nelson Agholor"
          ],
          [
           "Nelson Agholor"
          ],
          [
           "Nelson Agholor"
          ],
          [
           "Nelson Agholor"
          ],
          [
           "Nelson Agholor"
          ],
          [
           "Nelson Agholor"
          ],
          [
           "Nelson Agholor"
          ],
          [
           "Nelson Agholor"
          ],
          [
           "Nelson Agholor"
          ],
          [
           "Nelson Agholor"
          ],
          [
           "Nelson Agholor"
          ],
          [
           "Nick Westbrook-Ikhine"
          ],
          [
           "Nick Westbrook-Ikhine"
          ],
          [
           "Nick Westbrook-Ikhine"
          ],
          [
           "Nick Westbrook-Ikhine"
          ],
          [
           "Nick Westbrook-Ikhine"
          ],
          [
           "Nick Westbrook-Ikhine"
          ],
          [
           "Nick Westbrook-Ikhine"
          ],
          [
           "Noah Brown"
          ],
          [
           "Noah Brown"
          ],
          [
           "Noah Brown"
          ],
          [
           "Noah Brown"
          ],
          [
           "Noah Brown"
          ],
          [
           "Noah Brown"
          ],
          [
           "Noah Brown"
          ],
          [
           "Noah Brown"
          ],
          [
           "Noah Brown"
          ],
          [
           "Odell Beckham"
          ],
          [
           "Odell Beckham"
          ],
          [
           "Odell Beckham"
          ],
          [
           "Odell Beckham"
          ],
          [
           "Odell Beckham"
          ],
          [
           "Olabisi Johnson"
          ],
          [
           "Olabisi Johnson"
          ],
          [
           "Olabisi Johnson"
          ],
          [
           "Olabisi Johnson"
          ],
          [
           "Olabisi Johnson"
          ],
          [
           "Olabisi Johnson"
          ],
          [
           "Olabisi Johnson"
          ],
          [
           "Olamide Zaccheaus"
          ],
          [
           "Olamide Zaccheaus"
          ],
          [
           "Olamide Zaccheaus"
          ],
          [
           "Olamide Zaccheaus"
          ],
          [
           "Olamide Zaccheaus"
          ],
          [
           "Olamide Zaccheaus"
          ],
          [
           "Olamide Zaccheaus"
          ],
          [
           "Olamide Zaccheaus"
          ],
          [
           "Olamide Zaccheaus"
          ],
          [
           "Parris Campbell"
          ],
          [
           "Penny Hart"
          ],
          [
           "Pharoh Cooper"
          ],
          [
           "Pharoh Cooper"
          ],
          [
           "Pharoh Cooper"
          ],
          [
           "Pharoh Cooper"
          ],
          [
           "Pharoh Cooper"
          ],
          [
           "Preston Williams"
          ],
          [
           "Preston Williams"
          ],
          [
           "Preston Williams"
          ],
          [
           "Preston Williams"
          ],
          [
           "Preston Williams"
          ],
          [
           "Preston Williams"
          ],
          [
           "Preston Williams"
          ],
          [
           "Preston Williams"
          ],
          [
           "Quez Watkins"
          ],
          [
           "Quez Watkins"
          ],
          [
           "Quez Watkins"
          ],
          [
           "Quintez Cephus"
          ],
          [
           "Quintez Cephus"
          ],
          [
           "Quintez Cephus"
          ],
          [
           "Quintez Cephus"
          ],
          [
           "Quintez Cephus"
          ],
          [
           "Quintez Cephus"
          ],
          [
           "Quintez Cephus"
          ],
          [
           "Quintez Cephus"
          ],
          [
           "Quintez Cephus"
          ],
          [
           "Quintez Cephus"
          ],
          [
           "Quintez Cephus"
          ],
          [
           "Randall Cobb"
          ],
          [
           "Randall Cobb"
          ],
          [
           "Randall Cobb"
          ],
          [
           "Randall Cobb"
          ],
          [
           "Randall Cobb"
          ],
          [
           "Randall Cobb"
          ],
          [
           "Randall Cobb"
          ],
          [
           "Randall Cobb"
          ],
          [
           "Randall Cobb"
          ],
          [
           "Rashard Higgins"
          ],
          [
           "Rashard Higgins"
          ],
          [
           "Rashard Higgins"
          ],
          [
           "Rashard Higgins"
          ],
          [
           "Rashard Higgins"
          ],
          [
           "Rashard Higgins"
          ],
          [
           "Rashard Higgins"
          ],
          [
           "Rashard Higgins"
          ],
          [
           "Rashard Higgins"
          ],
          [
           "Rashard Higgins"
          ],
          [
           "Rashard Higgins"
          ],
          [
           "Ray-Ray McCloud"
          ],
          [
           "Ray-Ray McCloud"
          ],
          [
           "Ray-Ray McCloud"
          ],
          [
           "Ray-Ray McCloud"
          ],
          [
           "Ray-Ray McCloud"
          ],
          [
           "Ray-Ray McCloud"
          ],
          [
           "Ray-Ray McCloud"
          ],
          [
           "Ray-Ray McCloud"
          ],
          [
           "Ray-Ray McCloud"
          ],
          [
           "Ray-Ray McCloud"
          ],
          [
           "Richie James"
          ],
          [
           "Richie James"
          ],
          [
           "Richie James"
          ],
          [
           "Richie James"
          ],
          [
           "Richie James"
          ],
          [
           "Richie James"
          ],
          [
           "Rico Gafford"
          ],
          [
           "Rico Gafford"
          ],
          [
           "Riley Ridley"
          ],
          [
           "Riley Ridley"
          ],
          [
           "River Cracraft"
          ],
          [
           "River Cracraft"
          ],
          [
           "River Cracraft"
          ],
          [
           "Robby Anderson"
          ],
          [
           "Robby Anderson"
          ],
          [
           "Robby Anderson"
          ],
          [
           "Robby Anderson"
          ],
          [
           "Robby Anderson"
          ],
          [
           "Robby Anderson"
          ],
          [
           "Robby Anderson"
          ],
          [
           "Robby Anderson"
          ],
          [
           "Robby Anderson"
          ],
          [
           "Robby Anderson"
          ],
          [
           "Robby Anderson"
          ],
          [
           "Robby Anderson"
          ],
          [
           "Robby Anderson"
          ],
          [
           "Robert Foster"
          ],
          [
           "Robert Foster"
          ],
          [
           "Robert Foster"
          ],
          [
           "Robert Woods"
          ],
          [
           "Robert Woods"
          ],
          [
           "Robert Woods"
          ],
          [
           "Robert Woods"
          ],
          [
           "Robert Woods"
          ],
          [
           "Robert Woods"
          ],
          [
           "Robert Woods"
          ],
          [
           "Russell Gage"
          ],
          [
           "Russell Gage"
          ],
          [
           "Russell Gage"
          ],
          [
           "Russell Gage"
          ],
          [
           "Russell Gage"
          ],
          [
           "Russell Gage"
          ],
          [
           "Russell Gage"
          ],
          [
           "Russell Gage"
          ],
          [
           "Russell Gage"
          ],
          [
           "Russell Gage"
          ],
          [
           "Russell Gage"
          ],
          [
           "Russell Gage"
          ],
          [
           "Russell Gage"
          ],
          [
           "Sammy Watkins"
          ],
          [
           "Sammy Watkins"
          ],
          [
           "Sammy Watkins"
          ],
          [
           "Sammy Watkins"
          ],
          [
           "Sammy Watkins"
          ],
          [
           "Sammy Watkins"
          ],
          [
           "Sammy Watkins"
          ],
          [
           "Sammy Watkins"
          ],
          [
           "Sammy Watkins"
          ],
          [
           "Scott Miller"
          ],
          [
           "Scott Miller"
          ],
          [
           "Scott Miller"
          ],
          [
           "Scott Miller"
          ],
          [
           "Scott Miller"
          ],
          [
           "Scott Miller"
          ],
          [
           "Scott Miller"
          ],
          [
           "Scott Miller"
          ],
          [
           "Scott Miller"
          ],
          [
           "Scott Miller"
          ],
          [
           "Scott Miller"
          ],
          [
           "Scott Miller"
          ],
          [
           "Scott Miller"
          ],
          [
           "Scott Miller"
          ],
          [
           "Seth Roberts"
          ],
          [
           "Seth Roberts"
          ],
          [
           "Seth Roberts"
          ],
          [
           "Stefon Diggs"
          ],
          [
           "Stefon Diggs"
          ],
          [
           "Stefon Diggs"
          ],
          [
           "Stefon Diggs"
          ],
          [
           "Stefon Diggs"
          ],
          [
           "Stefon Diggs"
          ],
          [
           "Stefon Diggs"
          ],
          [
           "Stefon Diggs"
          ],
          [
           "Stefon Diggs"
          ],
          [
           "Stefon Diggs"
          ],
          [
           "Stefon Diggs"
          ],
          [
           "Stefon Diggs"
          ],
          [
           "Sterling Shepard"
          ],
          [
           "Sterling Shepard"
          ],
          [
           "Sterling Shepard"
          ],
          [
           "Sterling Shepard"
          ],
          [
           "Sterling Shepard"
          ],
          [
           "Sterling Shepard"
          ],
          [
           "Sterling Shepard"
          ],
          [
           "Sterling Shepard"
          ],
          [
           "Sterling Shepard"
          ],
          [
           "Steven Mitchell"
          ],
          [
           "Steven Mitchell"
          ],
          [
           "Steven Mitchell"
          ],
          [
           "Steven Sims"
          ],
          [
           "Steven Sims"
          ],
          [
           "Steven Sims"
          ],
          [
           "Steven Sims"
          ],
          [
           "Steven Sims"
          ],
          [
           "Steven Sims"
          ],
          [
           "Steven Sims"
          ],
          [
           "Steven Sims"
          ],
          [
           "Steven Sims"
          ],
          [
           "Steven Sims"
          ],
          [
           "Steven Sims"
          ],
          [
           "T.Y. Hilton"
          ],
          [
           "T.Y. Hilton"
          ],
          [
           "T.Y. Hilton"
          ],
          [
           "T.Y. Hilton"
          ],
          [
           "T.Y. Hilton"
          ],
          [
           "T.Y. Hilton"
          ],
          [
           "T.Y. Hilton"
          ],
          [
           "T.Y. Hilton"
          ],
          [
           "T.Y. Hilton"
          ],
          [
           "T.Y. Hilton"
          ],
          [
           "T.Y. Hilton"
          ],
          [
           "T.Y. Hilton"
          ],
          [
           "T.Y. Hilton"
          ],
          [
           "T.Y. Hilton"
          ],
          [
           "Tajae Sharpe"
          ],
          [
           "Tajae Sharpe"
          ],
          [
           "Tajae Sharpe"
          ],
          [
           "Tavon Austin"
          ],
          [
           "Tavon Austin"
          ],
          [
           "Tavon Austin"
          ],
          [
           "Taywan Taylor"
          ],
          [
           "Ted Ginn"
          ],
          [
           "Ted Ginn"
          ],
          [
           "Ted Ginn"
          ],
          [
           "Tee Higgins"
          ],
          [
           "Tee Higgins"
          ],
          [
           "Tee Higgins"
          ],
          [
           "Tee Higgins"
          ],
          [
           "Tee Higgins"
          ],
          [
           "Tee Higgins"
          ],
          [
           "Tee Higgins"
          ],
          [
           "Tee Higgins"
          ],
          [
           "Tee Higgins"
          ],
          [
           "Tee Higgins"
          ],
          [
           "Tee Higgins"
          ],
          [
           "Tee Higgins"
          ],
          [
           "Tee Higgins"
          ],
          [
           "Tee Higgins"
          ],
          [
           "Terry Godwin"
          ],
          [
           "Terry Godwin"
          ],
          [
           "Terry McLaurin"
          ],
          [
           "Terry McLaurin"
          ],
          [
           "Terry McLaurin"
          ],
          [
           "Terry McLaurin"
          ],
          [
           "Terry McLaurin"
          ],
          [
           "Terry McLaurin"
          ],
          [
           "Terry McLaurin"
          ],
          [
           "Terry McLaurin"
          ],
          [
           "Terry McLaurin"
          ],
          [
           "Terry McLaurin"
          ],
          [
           "Terry McLaurin"
          ],
          [
           "Terry McLaurin"
          ],
          [
           "Terry McLaurin"
          ],
          [
           "Tim Patrick"
          ],
          [
           "Tim Patrick"
          ],
          [
           "Tim Patrick"
          ],
          [
           "Tim Patrick"
          ],
          [
           "Tim Patrick"
          ],
          [
           "Tim Patrick"
          ],
          [
           "Tim Patrick"
          ],
          [
           "Tim Patrick"
          ],
          [
           "Tim Patrick"
          ],
          [
           "Tim Patrick"
          ],
          [
           "Tim Patrick"
          ],
          [
           "Tim Patrick"
          ],
          [
           "Tim Patrick"
          ],
          [
           "Tim Patrick"
          ],
          [
           "Tim Patrick"
          ],
          [
           "Tommylee Lewis"
          ],
          [
           "Tommylee Lewis"
          ],
          [
           "Tommylee Lewis"
          ],
          [
           "Tommylee Lewis"
          ],
          [
           "Travis Fulgham"
          ],
          [
           "Travis Fulgham"
          ],
          [
           "Travis Fulgham"
          ],
          [
           "Travis Fulgham"
          ],
          [
           "Travis Fulgham"
          ],
          [
           "Travis Fulgham"
          ],
          [
           "Travis Fulgham"
          ],
          [
           "Travis Fulgham"
          ],
          [
           "Travis Fulgham"
          ],
          [
           "Travis Fulgham"
          ],
          [
           "Travis Fulgham"
          ],
          [
           "Travis Fulgham"
          ],
          [
           "Tre'Quan Smith"
          ],
          [
           "Tre'Quan Smith"
          ],
          [
           "Tre'Quan Smith"
          ],
          [
           "Tre'Quan Smith"
          ],
          [
           "Tre'Quan Smith"
          ],
          [
           "Tre'Quan Smith"
          ],
          [
           "Tre'Quan Smith"
          ],
          [
           "Tre'Quan Smith"
          ],
          [
           "Tre'Quan Smith"
          ],
          [
           "Tre'Quan Smith"
          ],
          [
           "Tre'Quan Smith"
          ],
          [
           "Tre'Quan Smith"
          ],
          [
           "Tre'Quan Smith"
          ],
          [
           "Trent Sherfield"
          ],
          [
           "Trent Sherfield"
          ],
          [
           "Trent Taylor"
          ],
          [
           "Trent Taylor"
          ],
          [
           "Trent Taylor"
          ],
          [
           "Trent Taylor"
          ],
          [
           "Trent Taylor"
          ],
          [
           "Trent Taylor"
          ],
          [
           "Trent Taylor"
          ],
          [
           "Trenton Irwin"
          ],
          [
           "Ty Montgomery"
          ],
          [
           "Ty Montgomery"
          ],
          [
           "Ty Montgomery"
          ],
          [
           "Tyler Boyd"
          ],
          [
           "Tyler Boyd"
          ],
          [
           "Tyler Boyd"
          ],
          [
           "Tyler Boyd"
          ],
          [
           "Tyler Boyd"
          ],
          [
           "Tyler Boyd"
          ],
          [
           "Tyler Boyd"
          ],
          [
           "Tyler Boyd"
          ],
          [
           "Tyler Boyd"
          ],
          [
           "Tyler Boyd"
          ],
          [
           "Tyler Johnson"
          ],
          [
           "Tyler Johnson"
          ],
          [
           "Tyler Johnson"
          ],
          [
           "Tyler Johnson"
          ],
          [
           "Tyler Johnson"
          ],
          [
           "Tyler Johnson"
          ],
          [
           "Tyler Johnson"
          ],
          [
           "Tyler Johnson"
          ],
          [
           "Tyler Johnson"
          ],
          [
           "Tyler Johnson"
          ],
          [
           "Tyler Lockett"
          ],
          [
           "Tyler Lockett"
          ],
          [
           "Tyler Lockett"
          ],
          [
           "Tyler Lockett"
          ],
          [
           "Tyler Lockett"
          ],
          [
           "Tyler Lockett"
          ],
          [
           "Tyler Lockett"
          ],
          [
           "Tyler Lockett"
          ],
          [
           "Tyler Lockett"
          ],
          [
           "Tyler Lockett"
          ],
          [
           "Tyler Lockett"
          ],
          [
           "Tyler Lockett"
          ],
          [
           "Tyreek Hill"
          ],
          [
           "Tyreek Hill"
          ],
          [
           "Tyreek Hill"
          ],
          [
           "Tyreek Hill"
          ],
          [
           "Tyreek Hill"
          ],
          [
           "Tyreek Hill"
          ],
          [
           "Tyrie Cleveland"
          ],
          [
           "Tyrie Cleveland"
          ],
          [
           "Tyrie Cleveland"
          ],
          [
           "Tyrie Cleveland"
          ],
          [
           "Tyrie Cleveland"
          ],
          [
           "Tyron Johnson"
          ],
          [
           "Tyron Johnson"
          ],
          [
           "Tyron Johnson"
          ],
          [
           "Tyron Johnson"
          ],
          [
           "Tyron Johnson"
          ],
          [
           "Tyron Johnson"
          ],
          [
           "Tyron Johnson"
          ],
          [
           "Tyron Johnson"
          ],
          [
           "Tyron Johnson"
          ],
          [
           "Tyron Johnson"
          ],
          [
           "Tyron Johnson"
          ],
          [
           "Van Jefferson"
          ],
          [
           "Van Jefferson"
          ],
          [
           "Van Jefferson"
          ],
          [
           "Van Jefferson"
          ],
          [
           "Van Jefferson"
          ],
          [
           "Van Jefferson"
          ],
          [
           "Van Jefferson"
          ],
          [
           "Van Jefferson"
          ],
          [
           "Van Jefferson"
          ],
          [
           "Van Jefferson"
          ],
          [
           "Van Jefferson"
          ],
          [
           "Van Jefferson"
          ],
          [
           "Van Jefferson"
          ],
          [
           "Vyncint Smith"
          ],
          [
           "Vyncint Smith"
          ],
          [
           "Will Fuller"
          ],
          [
           "Will Fuller"
          ],
          [
           "Will Fuller"
          ],
          [
           "Will Fuller"
          ],
          [
           "Will Fuller"
          ],
          [
           "Will Fuller"
          ],
          [
           "Will Fuller"
          ],
          [
           "Will Fuller"
          ],
          [
           "Will Fuller"
          ],
          [
           "Will Fuller"
          ],
          [
           "Willie Snead"
          ],
          [
           "Willie Snead"
          ],
          [
           "Willie Snead"
          ],
          [
           "Willie Snead"
          ],
          [
           "Willie Snead"
          ],
          [
           "Willie Snead"
          ],
          [
           "Willie Snead"
          ],
          [
           "Willie Snead"
          ],
          [
           "Willie Snead"
          ],
          [
           "Willie Snead"
          ],
          [
           "Willie Snead"
          ],
          [
           "Zach Pascal"
          ],
          [
           "Zach Pascal"
          ],
          [
           "Zach Pascal"
          ],
          [
           "Zach Pascal"
          ],
          [
           "Zach Pascal"
          ],
          [
           "Zach Pascal"
          ],
          [
           "Zach Pascal"
          ],
          [
           "Zach Pascal"
          ],
          [
           "Zach Pascal"
          ],
          [
           "Zach Pascal"
          ],
          [
           "Zach Pascal"
          ],
          [
           "Zach Pascal"
          ],
          [
           "Zach Pascal"
          ],
          [
           "Zach Pascal"
          ],
          [
           "Zach Pascal"
          ],
          [
           "Zay Jones"
          ],
          [
           "Zay Jones"
          ],
          [
           "Zay Jones"
          ],
          [
           "Zay Jones"
          ],
          [
           "Zay Jones"
          ],
          [
           "Zay Jones"
          ],
          [
           "Zay Jones"
          ],
          [
           "Zay Jones"
          ],
          [
           "Zay Jones"
          ],
          [
           "Zay Jones"
          ]
         ],
         "hovertemplate": "PC 1=%{x}<br>PC 2=%{y}<br>Label=%{customdata[0]}<br>Cluster=%{marker.color}<extra></extra>",
         "legendgroup": "",
         "marker": {
          "color": [
           5,
           2,
           5,
           5,
           2,
           2,
           2,
           5,
           2,
           5,
           3,
           3,
           2,
           2,
           5,
           3,
           2,
           3,
           3,
           2,
           5,
           5,
           3,
           4,
           4,
           1,
           0,
           0,
           0,
           4,
           4,
           4,
           4,
           4,
           1,
           1,
           4,
           4,
           1,
           4,
           0,
           0,
           0,
           0,
           0,
           0,
           0,
           4,
           1,
           0,
           4,
           4,
           0,
           4,
           0,
           4,
           1,
           4,
           1,
           1,
           1,
           4,
           4,
           1,
           1,
           4,
           1,
           1,
           1,
           1,
           4,
           0,
           0,
           0,
           0,
           4,
           4,
           0,
           1,
           1,
           1,
           4,
           1,
           1,
           0,
           4,
           1,
           1,
           4,
           0,
           1,
           4,
           0,
           0,
           0,
           5,
           3,
           3,
           3,
           3,
           3,
           3,
           3,
           5,
           3,
           1,
           0,
           4,
           0,
           0,
           4,
           1,
           4,
           4,
           4,
           4,
           0,
           0,
           0,
           0,
           4,
           1,
           1,
           0,
           4,
           1,
           4,
           0,
           0,
           0,
           0,
           0,
           0,
           0,
           0,
           0,
           0,
           0,
           0,
           0,
           3,
           3,
           3,
           3,
           5,
           3,
           3,
           3,
           0,
           0,
           0,
           0,
           0,
           4,
           0,
           0,
           0,
           0,
           4,
           1,
           4,
           0,
           1,
           1,
           1,
           1,
           4,
           4,
           1,
           1,
           1,
           1,
           3,
           5,
           5,
           2,
           2,
           2,
           2,
           3,
           4,
           0,
           0,
           0,
           0,
           0,
           0,
           0,
           0,
           0,
           0,
           0,
           0,
           0,
           0,
           1,
           1,
           0,
           0,
           0,
           4,
           1,
           0,
           0,
           4,
           0,
           4,
           0,
           4,
           0,
           1,
           4,
           1,
           1,
           1,
           4,
           4,
           0,
           4,
           1,
           0,
           4,
           4,
           0,
           0,
           0,
           0,
           0,
           4,
           0,
           4,
           0,
           4,
           4,
           1,
           0,
           0,
           0,
           0,
           0,
           0,
           0,
           0,
           0,
           2,
           5,
           2,
           2,
           2,
           2,
           0,
           4,
           0,
           1,
           4,
           0,
           1,
           0,
           4,
           1,
           4,
           0,
           0,
           0,
           0,
           0,
           0,
           0,
           0,
           3,
           3,
           3,
           3,
           3,
           3,
           5,
           5,
           2,
           2,
           3,
           5,
           5,
           5,
           2,
           5,
           0,
           0,
           0,
           0,
           0,
           1,
           0,
           0,
           0,
           4,
           1,
           4,
           4,
           0,
           4,
           3,
           5,
           2,
           2,
           5,
           5,
           5,
           5,
           5,
           2,
           0,
           4,
           4,
           4,
           4,
           0,
           4,
           4,
           4,
           0,
           0,
           4,
           0,
           1,
           1,
           1,
           4,
           1,
           4,
           1,
           1,
           1,
           4,
           1,
           1,
           0,
           1,
           0,
           4,
           0,
           4,
           0,
           0,
           0,
           4,
           0,
           0,
           3,
           5,
           2,
           2,
           5,
           5,
           5,
           3,
           3,
           5,
           2,
           0,
           4,
           4,
           1,
           4,
           1,
           1,
           4,
           4,
           1,
           1,
           4,
           1,
           4,
           0,
           0,
           0,
           4,
           0,
           0,
           1,
           4,
           0,
           0,
           4,
           1,
           1,
           1,
           4,
           4,
           4,
           1,
           4,
           1,
           4,
           4,
           1,
           1,
           4,
           4,
           1,
           1,
           0,
           4,
           1,
           4,
           1,
           4,
           1,
           0,
           1,
           5,
           5,
           5,
           2,
           0,
           0,
           5,
           3,
           5,
           5,
           5,
           5,
           5,
           5,
           2,
           2,
           5,
           5,
           2,
           2,
           5,
           5,
           2,
           2,
           2,
           2,
           1,
           1,
           0,
           1,
           0,
           4,
           1,
           4,
           4,
           4,
           4,
           0,
           0,
           0,
           0,
           1,
           0,
           0,
           0,
           1,
           4,
           1,
           4,
           1,
           4,
           0,
           4,
           1,
           4,
           4,
           4,
           4,
           0,
           0,
           0,
           0,
           4,
           0,
           4,
           4,
           0,
           4,
           0,
           4,
           4,
           0,
           4,
           4,
           0,
           4,
           0,
           0,
           4,
           0,
           5,
           5,
           5,
           3,
           2,
           3,
           2,
           3,
           3,
           5,
           2,
           5,
           5,
           3,
           3,
           5,
           3,
           5,
           5,
           2,
           5,
           3,
           5,
           5,
           5,
           0,
           4,
           0,
           0,
           0,
           0,
           0,
           0,
           2,
           2,
           0,
           4,
           0,
           1,
           0,
           4,
           4,
           0,
           0,
           0,
           0,
           4,
           0,
           4,
           0,
           0,
           1,
           1,
           1,
           4,
           1,
           1,
           1,
           1,
           1,
           1,
           0,
           0,
           0,
           0,
           0,
           4,
           1,
           0,
           4,
           5,
           2,
           2,
           2,
           5,
           5,
           2,
           5,
           2,
           5,
           3,
           2,
           0,
           5,
           5,
           2,
           3,
           5,
           5,
           3,
           3,
           2,
           3,
           5,
           5,
           5,
           3,
           3,
           3,
           5,
           5,
           5,
           5,
           2,
           2,
           2,
           5,
           5,
           3,
           3,
           0,
           0,
           0,
           0,
           0,
           4,
           0,
           0,
           0,
           3,
           3,
           3,
           3,
           3,
           5,
           3,
           5,
           3,
           3,
           3,
           3,
           4,
           0,
           4,
           0,
           2,
           2,
           3,
           3,
           3,
           2,
           2,
           2,
           2,
           5,
           2,
           2,
           5,
           0,
           0,
           0,
           0,
           0,
           3,
           5,
           3,
           5,
           3,
           0,
           0,
           4,
           4,
           4,
           0,
           4,
           0,
           4,
           0,
           1,
           1,
           4,
           0,
           4,
           0,
           4,
           4,
           4,
           4,
           1,
           0,
           0,
           0,
           4,
           0,
           0,
           4,
           0,
           3,
           3,
           3,
           3,
           3,
           3,
           5,
           3,
           5,
           3,
           3,
           0,
           4,
           4,
           0,
           0,
           0,
           4,
           0,
           4,
           4,
           4,
           0,
           0,
           4,
           4,
           4,
           4,
           0,
           4,
           4,
           4,
           4,
           0,
           4,
           0,
           1,
           4,
           4,
           4,
           4,
           4,
           0,
           0,
           4,
           4,
           4,
           4,
           0,
           0,
           0,
           4,
           0,
           0,
           0,
           0,
           0,
           0,
           0,
           4,
           0,
           0,
           3,
           5,
           2,
           5,
           3,
           5,
           5,
           5,
           3,
           3,
           2,
           5,
           3,
           5,
           5,
           3,
           2,
           3,
           5,
           3,
           3,
           3,
           5,
           5,
           0,
           0,
           0,
           0,
           4,
           0,
           0,
           4,
           0,
           4,
           0,
           0,
           4,
           4,
           4,
           0,
           4,
           0,
           4,
           0,
           0,
           0,
           0,
           0,
           0,
           0,
           0,
           1,
           4,
           4,
           0,
           4,
           0,
           4,
           0,
           4,
           4,
           4,
           0,
           4,
           4,
           4,
           0,
           1,
           4,
           4,
           4,
           4,
           4,
           0,
           0,
           4,
           4,
           1,
           4,
           0,
           4,
           0,
           4,
           4,
           0,
           1,
           4,
           0,
           5,
           5,
           5,
           5,
           5,
           5,
           3,
           0,
           0,
           0,
           0,
           0,
           0,
           0,
           0,
           0,
           0,
           0,
           0,
           0,
           0,
           0,
           5,
           5,
           5,
           5,
           2,
           3,
           3,
           5,
           3,
           3,
           3,
           5,
           3,
           3,
           3,
           1,
           1,
           1,
           1,
           4,
           0,
           4,
           1,
           0,
           1,
           4,
           4,
           4,
           4,
           1,
           4,
           1,
           4,
           0,
           1,
           1,
           3,
           3,
           3,
           3,
           3,
           3,
           3,
           3,
           3,
           0,
           4,
           0,
           1,
           0,
           0,
           4,
           0,
           0,
           0,
           5,
           5,
           5,
           5,
           5,
           2,
           2,
           5,
           3,
           3,
           5,
           5,
           2,
           0,
           3,
           3,
           1,
           1,
           0,
           4,
           0,
           0,
           1,
           1,
           4,
           3,
           3,
           3,
           5,
           5,
           3,
           3,
           3,
           3,
           5,
           3,
           4,
           0,
           4,
           4,
           4,
           4,
           4,
           1,
           4,
           1,
           4,
           4,
           0,
           0,
           0,
           1,
           4,
           5,
           5,
           3,
           2,
           2,
           2,
           2,
           5,
           5,
           2,
           2,
           4,
           4,
           0,
           2,
           5,
           3,
           2,
           2,
           2,
           3,
           2,
           5,
           5,
           2,
           5,
           5,
           2,
           2,
           2,
           0,
           4,
           4,
           4,
           0,
           0,
           4,
           4,
           0,
           0,
           0,
           0,
           3,
           3,
           3,
           3,
           3,
           0,
           0,
           4,
           0,
           0,
           0,
           0,
           4,
           0,
           0,
           4,
           0,
           0,
           4,
           0,
           4,
           1,
           4,
           4,
           4,
           1,
           0,
           0,
           1,
           4,
           4,
           0,
           1,
           0,
           4,
           4,
           4,
           1,
           4,
           1,
           1,
           4,
           4,
           1,
           0,
           0,
           5,
           3,
           5,
           5,
           4,
           4,
           4,
           4,
           4,
           4,
           0,
           1,
           4,
           4,
           4,
           4,
           1,
           0,
           1,
           2,
           2,
           2,
           2,
           3,
           0,
           0,
           4,
           4,
           0,
           4,
           0,
           0,
           4,
           0,
           0,
           1,
           4,
           0,
           0,
           0,
           0,
           0,
           4,
           4,
           0,
           0,
           4,
           4,
           4,
           4,
           4,
           1,
           0,
           4,
           4,
           4,
           4,
           4,
           0,
           0,
           0,
           0,
           4,
           4,
           4,
           4,
           0,
           4,
           0,
           0,
           0,
           0,
           0,
           0,
           4,
           4,
           4,
           0,
           0,
           0,
           0,
           0,
           0,
           0,
           0,
           4,
           1,
           4,
           4,
           0,
           0,
           0,
           0,
           0,
           4,
           1,
           0,
           4,
           4,
           2,
           5,
           3,
           5,
           5,
           3,
           3,
           2,
           3,
           1,
           4,
           4,
           1,
           1,
           4,
           4,
           4,
           4,
           0,
           1,
           1,
           1,
           4,
           1,
           0,
           0,
           4,
           0,
           0,
           0,
           1,
           4,
           4,
           0,
           0,
           4,
           4,
           4,
           0,
           4,
           1,
           1,
           4,
           1,
           4,
           1,
           1,
           4,
           1,
           4,
           1,
           3,
           2,
           5,
           5,
           3,
           5,
           2,
           5,
           3,
           5,
           3,
           5,
           3,
           5,
           5,
           2,
           5,
           5,
           5,
           3,
           2,
           5,
           5,
           5,
           2,
           5,
           5,
           5,
           3,
           5,
           3,
           3,
           5,
           5,
           5,
           5,
           3,
           5,
           3,
           5,
           5,
           5,
           2,
           2,
           4,
           1,
           1,
           1,
           0,
           4,
           1,
           4,
           1,
           1,
           1,
           4,
           1,
           1,
           4,
           0,
           4,
           0,
           0,
           0,
           0,
           4,
           0,
           0,
           0,
           1,
           4,
           0,
           1,
           0,
           1,
           1,
           4,
           1,
           4,
           4,
           0,
           1,
           1,
           5,
           5,
           3,
           5,
           3,
           3,
           5,
           3,
           3,
           5,
           3,
           4,
           4,
           4,
           4,
           0,
           2,
           5,
           5,
           3,
           3,
           5,
           3,
           5,
           5,
           3,
           3,
           3,
           4,
           0,
           4,
           4,
           4,
           1,
           0,
           4,
           0,
           1,
           4,
           1,
           1,
           4,
           1,
           4,
           0,
           0,
           0,
           0,
           0,
           0,
           0,
           0,
           0,
           4,
           0,
           0,
           0,
           0,
           4,
           4,
           4,
           1,
           4,
           0,
           0,
           4,
           4,
           0,
           0,
           0,
           0,
           0,
           0,
           4,
           1,
           4,
           0,
           0,
           1,
           0,
           0,
           3,
           0,
           0,
           4,
           0,
           0,
           0,
           4,
           4,
           4,
           0,
           1,
           4,
           4,
           4,
           3,
           5,
           3,
           5,
           5,
           3,
           3,
           3,
           3,
           5,
           3,
           5,
           3,
           5,
           0,
           4,
           1,
           4,
           4,
           1,
           0,
           4,
           0,
           3,
           5,
           5,
           2,
           3,
           5,
           5,
           3,
           2,
           5,
           5,
           0,
           0,
           0,
           0,
           0,
           0,
           0,
           0,
           0,
           0,
           5,
           3,
           3,
           5,
           3,
           5,
           0,
           0,
           3,
           3,
           4,
           0,
           0,
           4,
           1,
           1,
           4,
           1,
           4,
           1,
           4,
           4,
           1,
           4,
           1,
           4,
           0,
           0,
           0,
           4,
           1,
           4,
           1,
           4,
           4,
           4,
           1,
           0,
           0,
           4,
           4,
           4,
           0,
           4,
           1,
           4,
           1,
           1,
           4,
           1,
           0,
           1,
           4,
           4,
           4,
           4,
           4,
           4,
           4,
           0,
           4,
           1,
           0,
           1,
           4,
           0,
           0,
           0,
           4,
           0,
           0,
           0,
           0,
           0,
           0,
           1,
           1,
           1,
           1,
           1,
           1,
           1,
           1,
           1,
           1,
           1,
           1,
           5,
           3,
           2,
           2,
           5,
           2,
           5,
           5,
           2,
           4,
           0,
           0,
           4,
           4,
           0,
           4,
           4,
           0,
           4,
           0,
           0,
           4,
           0,
           4,
           4,
           4,
           4,
           1,
           0,
           0,
           4,
           4,
           1,
           1,
           1,
           4,
           4,
           0,
           0,
           0,
           0,
           0,
           0,
           0,
           0,
           0,
           0,
           4,
           1,
           1,
           1,
           1,
           1,
           1,
           4,
           4,
           1,
           4,
           4,
           1,
           0,
           0,
           4,
           1,
           1,
           1,
           4,
           1,
           1,
           1,
           1,
           1,
           4,
           4,
           1,
           1,
           4,
           4,
           4,
           1,
           1,
           4,
           4,
           4,
           1,
           0,
           1,
           4,
           4,
           4,
           4,
           0,
           0,
           0,
           0,
           4,
           1,
           1,
           1,
           1,
           4,
           4,
           0,
           0,
           0,
           0,
           0,
           0,
           1,
           4,
           1,
           0,
           4,
           4,
           4,
           0,
           0,
           4,
           4,
           0,
           0,
           4,
           3,
           3,
           3,
           3,
           3,
           3,
           3,
           0,
           0,
           0,
           0,
           5,
           2,
           2,
           2,
           5,
           5,
           2,
           5,
           5,
           3,
           4,
           0,
           0,
           0,
           0,
           0,
           0,
           0,
           0,
           0,
           2,
           2,
           5,
           5,
           5,
           5,
           2,
           2,
           5,
           5,
           5,
           5,
           1,
           1,
           4,
           1,
           1,
           4,
           3,
           3,
           3,
           3,
           5,
           4,
           0,
           0,
           0,
           4,
           4,
           0,
           1,
           1,
           4,
           4,
           4,
           4,
           0,
           0,
           0,
           0,
           0,
           0,
           0,
           4,
           0,
           0,
           4,
           0,
           0,
           2,
           3,
           2,
           2,
           2,
           2,
           5,
           2,
           5,
           2,
           4,
           0,
           0,
           0,
           0,
           4,
           1,
           4,
           4,
           0,
           0,
           0,
           4,
           4,
           4,
           0,
           1,
           4,
           4,
           4,
           4,
           0,
           0,
           1,
           1,
           4,
           4,
           4,
           4,
           0,
           0,
           0,
           0,
           0,
           0,
           0
          ],
          "coloraxis": "coloraxis",
          "symbol": "circle"
         },
         "mode": "markers+text",
         "name": "",
         "showlegend": false,
         "text": [
          "A.J. Brown",
          "A.J. Brown",
          "A.J. Brown",
          "A.J. Brown",
          "A.J. Brown",
          "A.J. Brown",
          "A.J. Brown",
          "A.J. Brown",
          "A.J. Green",
          "A.J. Green",
          "A.J. Green",
          "A.J. Green",
          "A.J. Green",
          "A.J. Green",
          "A.J. Green",
          "A.J. Green",
          "A.J. Green",
          "A.J. Green",
          "A.J. Green",
          "A.J. Green",
          "A.J. Green",
          "A.J. Green",
          "A.J. Green",
          "Adam Humphries",
          "Adam Humphries",
          "Adam Humphries",
          "Adam Humphries",
          "Adam Humphries",
          "Adam Humphries",
          "Adam Thielen",
          "Adam Thielen",
          "Adam Thielen",
          "Adam Thielen",
          "Adam Thielen",
          "Adam Thielen",
          "Adam Thielen",
          "Adam Thielen",
          "Adam Thielen",
          "Adam Thielen",
          "Adam Thielen",
          "Alex Erickson",
          "Alex Erickson",
          "Alex Erickson",
          "Alex Erickson",
          "Alex Erickson",
          "Alex Erickson",
          "Alex Erickson",
          "Allen Lazard",
          "Allen Lazard",
          "Allen Lazard",
          "Allen Lazard",
          "Allen Lazard",
          "Allen Lazard",
          "Allen Lazard",
          "Allen Lazard",
          "Allen Lazard",
          "Allen Robinson",
          "Allen Robinson",
          "Allen Robinson",
          "Allen Robinson",
          "Allen Robinson",
          "Allen Robinson",
          "Allen Robinson",
          "Allen Robinson",
          "Allen Robinson",
          "Allen Robinson",
          "Allen Robinson",
          "Allen Robinson",
          "Allen Robinson",
          "Allen Robinson",
          "Allen Robinson",
          "Alshon Jeffery",
          "Alshon Jeffery",
          "Alshon Jeffery",
          "Alshon Jeffery",
          "Alshon Jeffery",
          "Alshon Jeffery",
          "Alshon Jeffery",
          "Amari Cooper",
          "Amari Cooper",
          "Amari Cooper",
          "Amari Cooper",
          "Amari Cooper",
          "Amari Cooper",
          "Amari Cooper",
          "Amari Cooper",
          "Amari Cooper",
          "Amari Cooper",
          "Amari Cooper",
          "Amari Cooper",
          "Amari Cooper",
          "Amari Cooper",
          "Andre Roberts",
          "Andre Roberts",
          "Andre Roberts",
          "Andy Isabella",
          "Andy Isabella",
          "Andy Isabella",
          "Andy Isabella",
          "Andy Isabella",
          "Andy Isabella",
          "Andy Isabella",
          "Andy Isabella",
          "Andy Isabella",
          "Andy Isabella",
          "Anthony Miller",
          "Anthony Miller",
          "Anthony Miller",
          "Anthony Miller",
          "Anthony Miller",
          "Anthony Miller",
          "Anthony Miller",
          "Anthony Miller",
          "Anthony Miller",
          "Anthony Miller",
          "Anthony Miller",
          "Anthony Miller",
          "Anthony Miller",
          "Anthony Miller",
          "Anthony Miller",
          "Antonio Brown",
          "Antonio Brown",
          "Antonio Brown",
          "Antonio Brown",
          "Antonio Brown",
          "Antonio Brown",
          "Antonio Brown",
          "Antonio Callaway",
          "Antonio Callaway",
          "Antonio Callaway",
          "Antonio Gandy-Golden",
          "Antonio Gandy-Golden",
          "Antonio Gandy-Golden",
          "Antonio Gandy-Golden",
          "Ashton Dulin",
          "Ashton Dulin",
          "Ashton Dulin",
          "Ashton Dulin",
          "Ashton Dulin",
          "Ashton Dulin",
          "Auden Tate",
          "Auden Tate",
          "Auden Tate",
          "Auden Tate",
          "Auden Tate",
          "Auden Tate",
          "Auden Tate",
          "Auden Tate",
          "Austin Carr",
          "Austin Carr",
          "Austin Carr",
          "Austin Carr",
          "Austin Mack",
          "Austin Mack",
          "Austin Mack",
          "Austin Mack",
          "Austin Mack",
          "Bennie Fowler",
          "Brandin Cooks",
          "Brandin Cooks",
          "Brandin Cooks",
          "Brandin Cooks",
          "Brandin Cooks",
          "Brandin Cooks",
          "Brandin Cooks",
          "Brandin Cooks",
          "Brandin Cooks",
          "Brandin Cooks",
          "Brandin Cooks",
          "Brandin Cooks",
          "Brandin Cooks",
          "Brandin Cooks",
          "Brandon Aiyuk",
          "Brandon Aiyuk",
          "Brandon Aiyuk",
          "Brandon Aiyuk",
          "Brandon Aiyuk",
          "Brandon Aiyuk",
          "Brandon Aiyuk",
          "Brandon Aiyuk",
          "Brandon Powell",
          "Brandon Powell",
          "Brandon Powell",
          "Brandon Powell",
          "Brandon Powell",
          "Brandon Powell",
          "Brandon Powell",
          "Brandon Powell",
          "Brandon Powell",
          "Brandon Powell",
          "Brandon Zylstra",
          "Brandon Zylstra",
          "Brandon Zylstra",
          "Brandon Zylstra",
          "Brandon Zylstra",
          "Braxton Berrios",
          "Braxton Berrios",
          "Braxton Berrios",
          "Braxton Berrios",
          "Braxton Berrios",
          "Braxton Berrios",
          "Braxton Berrios",
          "Braxton Berrios",
          "Braxton Berrios",
          "Braxton Berrios",
          "Braxton Berrios",
          "Braxton Berrios",
          "Braxton Berrios",
          "Breshad Perriman",
          "Breshad Perriman",
          "Breshad Perriman",
          "Breshad Perriman",
          "Breshad Perriman",
          "Breshad Perriman",
          "Breshad Perriman",
          "Breshad Perriman",
          "Breshad Perriman",
          "Breshad Perriman",
          "Breshad Perriman",
          "Breshad Perriman",
          "Bryan Edwards",
          "Bryan Edwards",
          "Bryan Edwards",
          "Bryan Edwards",
          "Bryan Edwards",
          "Bryan Edwards",
          "Bryan Edwards",
          "Bryan Edwards",
          "Bryan Edwards",
          "Byron Pringle",
          "Byron Pringle",
          "Byron Pringle",
          "Byron Pringle",
          "Byron Pringle",
          "Byron Pringle",
          "C.J. Board",
          "C.J. Board",
          "C.J. Board",
          "C.J. Board",
          "C.J. Board",
          "C.J. Board",
          "C.J. Board",
          "C.J. Board",
          "C.J. Board",
          "Calvin Ridley",
          "Calvin Ridley",
          "Calvin Ridley",
          "Calvin Ridley",
          "Calvin Ridley",
          "Calvin Ridley",
          "Cam Sims",
          "Cam Sims",
          "Cam Sims",
          "Cam Sims",
          "Cam Sims",
          "Cam Sims",
          "Cam Sims",
          "Cam Sims",
          "Cam Sims",
          "Cam Sims",
          "Cam Sims",
          "Cameron Batson",
          "Cameron Batson",
          "Cameron Batson",
          "Cameron Batson",
          "Cameron Batson",
          "Cameron Batson",
          "Cameron Batson",
          "Cameron Batson",
          "Cedrick Wilson",
          "Cedrick Wilson",
          "Cedrick Wilson",
          "Cedrick Wilson",
          "Cedrick Wilson",
          "Cedrick Wilson",
          "CeeDee Lamb",
          "CeeDee Lamb",
          "CeeDee Lamb",
          "CeeDee Lamb",
          "CeeDee Lamb",
          "CeeDee Lamb",
          "CeeDee Lamb",
          "CeeDee Lamb",
          "CeeDee Lamb",
          "CeeDee Lamb",
          "Chad Beebe",
          "Chad Beebe",
          "Chad Beebe",
          "Chad Beebe",
          "Chad Beebe",
          "Chad Beebe",
          "Chad Beebe",
          "Chad Beebe",
          "Chad Beebe",
          "Chad Beebe",
          "Chad Hansen",
          "Chad Hansen",
          "Chad Hansen",
          "Chad Hansen",
          "Chad Hansen",
          "Chase Claypool",
          "Chase Claypool",
          "Chase Claypool",
          "Chase Claypool",
          "Chase Claypool",
          "Chase Claypool",
          "Chase Claypool",
          "Chase Claypool",
          "Chase Claypool",
          "Chase Claypool",
          "Chris Conley",
          "Chris Conley",
          "Chris Conley",
          "Chris Conley",
          "Chris Conley",
          "Chris Conley",
          "Chris Conley",
          "Chris Conley",
          "Chris Conley",
          "Chris Conley",
          "Chris Conley",
          "Chris Conley",
          "Chris Conley",
          "Chris Conley",
          "Chris Godwin",
          "Chris Godwin",
          "Chris Godwin",
          "Chris Godwin",
          "Chris Godwin",
          "Chris Godwin",
          "Chris Godwin",
          "Chris Godwin",
          "Chris Godwin",
          "Chris Godwin",
          "Chris Godwin",
          "Chris Hogan",
          "Chris Hogan",
          "Chris Hogan",
          "Chris Hogan",
          "Chris Hogan",
          "Christian Blake",
          "Christian Blake",
          "Christian Blake",
          "Christian Blake",
          "Christian Blake",
          "Christian Blake",
          "Christian Blake",
          "Christian Kirk",
          "Christian Kirk",
          "Christian Kirk",
          "Christian Kirk",
          "Christian Kirk",
          "Christian Kirk",
          "Christian Kirk",
          "Christian Kirk",
          "Christian Kirk",
          "Christian Kirk",
          "Christian Kirk",
          "Cody Hollister",
          "Cole Beasley",
          "Cole Beasley",
          "Cole Beasley",
          "Cole Beasley",
          "Cole Beasley",
          "Cole Beasley",
          "Cole Beasley",
          "Cole Beasley",
          "Cole Beasley",
          "Cole Beasley",
          "Cole Beasley",
          "Cole Beasley",
          "Cole Beasley",
          "Collin Johnson",
          "Collin Johnson",
          "Collin Johnson",
          "Collin Johnson",
          "Collin Johnson",
          "Collin Johnson",
          "Collin Johnson",
          "Collin Johnson",
          "Collin Johnson",
          "Collin Johnson",
          "Cooper Kupp",
          "Cooper Kupp",
          "Cooper Kupp",
          "Cooper Kupp",
          "Cooper Kupp",
          "Cooper Kupp",
          "Cooper Kupp",
          "Cooper Kupp",
          "Cooper Kupp",
          "Cooper Kupp",
          "Cooper Kupp",
          "Cooper Kupp",
          "Cooper Kupp",
          "Corey Davis",
          "Corey Davis",
          "Corey Davis",
          "Corey Davis",
          "Corey Davis",
          "Corey Davis",
          "Corey Davis",
          "Corey Davis",
          "Corey Davis",
          "Corey Davis",
          "Corey Davis",
          "Corey Davis",
          "Corey Davis",
          "Corey Davis",
          "Courtland Sutton",
          "Curtis Samuel",
          "Curtis Samuel",
          "Curtis Samuel",
          "Cyril Grayson",
          "Cyril Grayson",
          "D.J. Chark",
          "D.J. Chark",
          "D.J. Chark",
          "D.J. Chark",
          "D.J. Chark",
          "D.J. Chark",
          "D.J. Chark",
          "D.J. Chark",
          "D.J. Moore",
          "D.J. Moore",
          "D.J. Moore",
          "D.J. Moore",
          "D.J. Moore",
          "D.J. Moore",
          "D.J. Moore",
          "D.J. Moore",
          "D.J. Moore",
          "D.J. Moore",
          "D.J. Moore",
          "D.J. Moore",
          "DK Metcalf",
          "DK Metcalf",
          "DK Metcalf",
          "DK Metcalf",
          "DK Metcalf",
          "DK Metcalf",
          "DK Metcalf",
          "DK Metcalf",
          "DK Metcalf",
          "DK Metcalf",
          "DaeSean Hamilton",
          "DaeSean Hamilton",
          "DaeSean Hamilton",
          "DaeSean Hamilton",
          "DaeSean Hamilton",
          "DaeSean Hamilton",
          "DaeSean Hamilton",
          "DaeSean Hamilton",
          "DaeSean Hamilton",
          "DaeSean Hamilton",
          "DaeSean Hamilton",
          "Damiere Byrd",
          "Damiere Byrd",
          "Damiere Byrd",
          "Damiere Byrd",
          "Damiere Byrd",
          "Damiere Byrd",
          "Damiere Byrd",
          "Damiere Byrd",
          "Damiere Byrd",
          "Damiere Byrd",
          "Damiere Byrd",
          "Damiere Byrd",
          "Damion Ratley",
          "Damion Ratley",
          "Damion Ratley",
          "Damion Ratley",
          "Damion Ratley",
          "Danny Amendola",
          "Danny Amendola",
          "Danny Amendola",
          "Danny Amendola",
          "Danny Amendola",
          "Danny Amendola",
          "Danny Amendola",
          "Danny Amendola",
          "Danny Amendola",
          "Danny Amendola",
          "Danny Amendola",
          "Danny Amendola",
          "Danny Amendola",
          "Dante Pettis",
          "Dante Pettis",
          "Dante Pettis",
          "Darius Slayton",
          "Darius Slayton",
          "Darius Slayton",
          "Darius Slayton",
          "Darius Slayton",
          "Darius Slayton",
          "Darius Slayton",
          "Darius Slayton",
          "Darius Slayton",
          "Darius Slayton",
          "Darius Slayton",
          "Darius Slayton",
          "Darius Slayton",
          "Darnell Mooney",
          "Darnell Mooney",
          "Darnell Mooney",
          "Darnell Mooney",
          "Darnell Mooney",
          "Darnell Mooney",
          "Darnell Mooney",
          "Darnell Mooney",
          "Darnell Mooney",
          "Darnell Mooney",
          "Darnell Mooney",
          "Darnell Mooney",
          "Darrius Shepherd",
          "Darrius Shepherd",
          "Darrius Shepherd",
          "Darrius Shepherd",
          "Darrius Shepherd",
          "Darrius Shepherd",
          "Daurice Fountain",
          "Daurice Fountain",
          "Davante Adams",
          "Davante Adams",
          "David Moore",
          "David Moore",
          "David Moore",
          "David Moore",
          "David Moore",
          "David Moore",
          "David Moore",
          "David Moore",
          "David Moore",
          "David Moore",
          "David Moore",
          "David Moore",
          "David Moore",
          "David Moore",
          "David Moore",
          "DeAndre Carter",
          "DeAndre Hopkins",
          "DeAndre Hopkins",
          "DeAndre Hopkins",
          "DeAndre Hopkins",
          "DeAndre Hopkins",
          "DeAndre Hopkins",
          "DeAndre Hopkins",
          "DeAndre Hopkins",
          "DeAndre Hopkins",
          "DeAndre Hopkins",
          "DeMichael Harris",
          "DeMichael Harris",
          "DeMichael Harris",
          "DeMichael Harris",
          "DeMichael Harris",
          "DeSean Jackson",
          "DeSean Jackson",
          "DeSean Jackson",
          "DeSean Jackson",
          "DeVante Parker",
          "DeVante Parker",
          "DeVante Parker",
          "DeVante Parker",
          "DeVante Parker",
          "DeVante Parker",
          "DeVante Parker",
          "DeVante Parker",
          "DeVante Parker",
          "DeVante Parker",
          "DeVante Parker",
          "DeVante Parker",
          "Dede Westbrook",
          "Deebo Samuel",
          "Deebo Samuel",
          "Deebo Samuel",
          "Deebo Samuel",
          "Demarcus Robinson",
          "Demarcus Robinson",
          "Demarcus Robinson",
          "Demarcus Robinson",
          "Demarcus Robinson",
          "Demarcus Robinson",
          "Demarcus Robinson",
          "Demarcus Robinson",
          "Demarcus Robinson",
          "Demarcus Robinson",
          "Demarcus Robinson",
          "Demarcus Robinson",
          "Demarcus Robinson",
          "Demarcus Robinson",
          "Denzel Mims",
          "Denzel Mims",
          "Denzel Mims",
          "Denzel Mims",
          "Denzel Mims",
          "Denzel Mims",
          "Denzel Mims",
          "Denzel Mims",
          "Denzel Mims",
          "Deontay Burnett",
          "Deonte Harty",
          "Deonte Harty",
          "Deonte Harty",
          "Deonte Harty",
          "Deonte Harty",
          "Deonte Harty",
          "Deonte Harty",
          "Deonte Harty",
          "Devin Duvernay",
          "Devin Duvernay",
          "Devin Duvernay",
          "Devin Duvernay",
          "Devin Duvernay",
          "Devin Duvernay",
          "Devin Duvernay",
          "Devin Duvernay",
          "Devin Duvernay",
          "Devin Duvernay",
          "Devin Duvernay",
          "Devin Duvernay",
          "Dez Bryant",
          "Dez Bryant",
          "Dez Bryant",
          "Dez Bryant",
          "Diontae Johnson",
          "Diontae Johnson",
          "Diontae Johnson",
          "Diontae Johnson",
          "Diontae Johnson",
          "Diontae Johnson",
          "Diontae Johnson",
          "Diontae Johnson",
          "Diontae Johnson",
          "Diontae Johnson",
          "Diontae Johnson",
          "Diontae Johnson",
          "Diontae Johnson",
          "Diontae Spencer",
          "Diontae Spencer",
          "Diontae Spencer",
          "Diontae Spencer",
          "Diontae Spencer",
          "Donovan Peoples-Jones",
          "Donovan Peoples-Jones",
          "Donovan Peoples-Jones",
          "Donovan Peoples-Jones",
          "Donovan Peoples-Jones",
          "Donte Moncrief",
          "Donte Moncrief",
          "Dontrelle Inman",
          "Dontrelle Inman",
          "Dontrelle Inman",
          "Dontrelle Inman",
          "Dontrelle Inman",
          "Dontrelle Inman",
          "Emmanuel Sanders",
          "Emmanuel Sanders",
          "Emmanuel Sanders",
          "Emmanuel Sanders",
          "Emmanuel Sanders",
          "Emmanuel Sanders",
          "Emmanuel Sanders",
          "Emmanuel Sanders",
          "Emmanuel Sanders",
          "Emmanuel Sanders",
          "Emmanuel Sanders",
          "Emmanuel Sanders",
          "Emmanuel Sanders",
          "Equanimeous St. Brown",
          "Equanimeous St. Brown",
          "Equanimeous St. Brown",
          "Equanimeous St. Brown",
          "Equanimeous St. Brown",
          "Equanimeous St. Brown",
          "Equanimeous St. Brown",
          "Equanimeous St. Brown",
          "Freddie Swain",
          "Freddie Swain",
          "Freddie Swain",
          "Freddie Swain",
          "Freddie Swain",
          "Freddie Swain",
          "Freddie Swain",
          "Freddie Swain",
          "Freddie Swain",
          "Freddie Swain",
          "Freddie Swain",
          "Gabe Davis",
          "Gabe Davis",
          "Gabe Davis",
          "Gabe Davis",
          "Gabe Davis",
          "Gabe Davis",
          "Gabe Davis",
          "Gabe Davis",
          "Gabe Davis",
          "Gabe Davis",
          "Gabe Davis",
          "Gabe Davis",
          "Gehrig Dieter",
          "Golden Tate",
          "Golden Tate",
          "Golden Tate",
          "Golden Tate",
          "Golden Tate",
          "Golden Tate",
          "Golden Tate",
          "Golden Tate",
          "Golden Tate",
          "Golden Tate",
          "Greg Ward",
          "Greg Ward",
          "Greg Ward",
          "Greg Ward",
          "Greg Ward",
          "Greg Ward",
          "Greg Ward",
          "Greg Ward",
          "Greg Ward",
          "Greg Ward",
          "Greg Ward",
          "Greg Ward",
          "Greg Ward",
          "Greg Ward",
          "Gunner Olszewski",
          "Gunner Olszewski",
          "Gunner Olszewski",
          "Gunner Olszewski",
          "Gunner Olszewski",
          "Henry Ruggs",
          "Henry Ruggs",
          "Henry Ruggs",
          "Henry Ruggs",
          "Henry Ruggs",
          "Henry Ruggs",
          "Henry Ruggs",
          "Henry Ruggs",
          "Henry Ruggs",
          "Hunter Renfrow",
          "Hunter Renfrow",
          "Hunter Renfrow",
          "Hunter Renfrow",
          "Hunter Renfrow",
          "Hunter Renfrow",
          "Hunter Renfrow",
          "Hunter Renfrow",
          "Hunter Renfrow",
          "Hunter Renfrow",
          "Hunter Renfrow",
          "Hunter Renfrow",
          "Hunter Renfrow",
          "Hunter Renfrow",
          "Hunter Renfrow",
          "Isaiah Ford",
          "Isaiah Ford",
          "Isaiah Ford",
          "Isaiah Ford",
          "Isaiah Ford",
          "Isaiah Ford",
          "Isaiah Ford",
          "Isaiah Ford",
          "Isaiah Ford",
          "Isaiah McKenzie",
          "Isaiah McKenzie",
          "Isaiah McKenzie",
          "Isaiah McKenzie",
          "Isaiah McKenzie",
          "Isaiah McKenzie",
          "Isaiah McKenzie",
          "Isaiah McKenzie",
          "Isaiah McKenzie",
          "Isaiah McKenzie",
          "Isaiah McKenzie",
          "Isaiah McKenzie",
          "Isaiah McKenzie",
          "Isaiah Wright",
          "Isaiah Wright",
          "Isaiah Wright",
          "Isaiah Wright",
          "Isaiah Wright",
          "Isaiah Wright",
          "Isaiah Wright",
          "Isaiah Wright",
          "Isaiah Wright",
          "Isaiah Wright",
          "Isaiah Zuber",
          "Isaiah Zuber",
          "Isaiah Zuber",
          "Isaiah Zuber",
          "Ja'Marcus Bradley",
          "Jake Kumerow",
          "Jakeem Grant",
          "Jakeem Grant",
          "Jakeem Grant",
          "Jakeem Grant",
          "Jakeem Grant",
          "Jakeem Grant",
          "Jakeem Grant",
          "Jakeem Grant",
          "Jakeem Grant",
          "Jakeem Grant",
          "Jakeem Grant",
          "Jakeem Grant",
          "Jakeem Grant",
          "Jakobi Meyers",
          "Jakobi Meyers",
          "Jakobi Meyers",
          "Jakobi Meyers",
          "Jakobi Meyers",
          "Jakobi Meyers",
          "Jakobi Meyers",
          "Jaleel Scott",
          "Jalen Guyton",
          "Jalen Guyton",
          "Jalen Guyton",
          "Jalen Guyton",
          "Jalen Guyton",
          "Jalen Guyton",
          "Jalen Guyton",
          "Jalen Guyton",
          "Jalen Guyton",
          "Jalen Guyton",
          "Jalen Guyton",
          "Jalen Guyton",
          "Jalen Guyton",
          "Jalen Guyton",
          "Jalen Reagor",
          "Jalen Reagor",
          "Jalen Reagor",
          "Jalen Reagor",
          "Jalen Reagor",
          "Jalen Reagor",
          "Jalen Reagor",
          "Jamal Agnew",
          "Jamal Agnew",
          "Jamal Agnew",
          "Jamal Agnew",
          "Jamal Agnew",
          "Jamal Agnew",
          "Jamal Agnew",
          "Jamal Agnew",
          "Jamal Agnew",
          "Jamal Agnew",
          "Jamal Agnew",
          "Jamal Agnew",
          "James Proche",
          "James Proche",
          "James Proche",
          "James Washington",
          "James Washington",
          "James Washington",
          "James Washington",
          "James Washington",
          "James Washington",
          "James Washington",
          "James Washington",
          "James Washington",
          "James Washington",
          "James Washington",
          "James Washington",
          "James Washington",
          "James Washington",
          "James Washington",
          "Jamison Crowder",
          "Jamison Crowder",
          "Jamison Crowder",
          "Jamison Crowder",
          "Jamison Crowder",
          "Jamison Crowder",
          "Jamison Crowder",
          "Jamison Crowder",
          "Jamison Crowder",
          "Jamison Crowder",
          "Jamison Crowder",
          "Jarvis Landry",
          "Jarvis Landry",
          "Jarvis Landry",
          "Jarvis Landry",
          "Jarvis Landry",
          "Jarvis Landry",
          "Jarvis Landry",
          "Jarvis Landry",
          "Jarvis Landry",
          "Jarvis Landry",
          "Javon Wims",
          "Javon Wims",
          "Javon Wims",
          "Javon Wims",
          "Javon Wims",
          "Javon Wims",
          "Javon Wims",
          "Javon Wims",
          "Javon Wims",
          "Jaydon Mickens",
          "Jaydon Mickens",
          "Jeff Badet",
          "Jeff Smith",
          "Jeff Smith",
          "Jeff Smith",
          "Jeff Smith",
          "Jeff Smith",
          "Jeff Smith",
          "Jeff Smith",
          "Jerry Jeudy",
          "Jerry Jeudy",
          "Jerry Jeudy",
          "Jerry Jeudy",
          "Jerry Jeudy",
          "Jerry Jeudy",
          "Jerry Jeudy",
          "Jerry Jeudy",
          "Jerry Jeudy",
          "Jerry Jeudy",
          "Jerry Jeudy",
          "Jerry Jeudy",
          "Jerry Jeudy",
          "JoJo Natson",
          "Joe Reed",
          "Joe Reed",
          "John Brown",
          "John Brown",
          "John Brown",
          "John Brown",
          "John Brown",
          "John Brown",
          "John Brown",
          "John Brown",
          "John Brown",
          "John Hightower",
          "John Hightower",
          "John Hightower",
          "John Hightower",
          "John Hightower",
          "John Hightower",
          "John Hightower",
          "John Hightower",
          "John Hightower",
          "John Ross",
          "John Ross",
          "Josh Malone",
          "Josh Reynolds",
          "Josh Reynolds",
          "Josh Reynolds",
          "Josh Reynolds",
          "Josh Reynolds",
          "Josh Reynolds",
          "Josh Reynolds",
          "Josh Reynolds",
          "Josh Reynolds",
          "Josh Reynolds",
          "Josh Reynolds",
          "Josh Reynolds",
          "Josh Reynolds",
          "Josh Reynolds",
          "Josh Reynolds",
          "Josh Reynolds",
          "JuJu Smith-Schuster",
          "JuJu Smith-Schuster",
          "JuJu Smith-Schuster",
          "JuJu Smith-Schuster",
          "JuJu Smith-Schuster",
          "JuJu Smith-Schuster",
          "JuJu Smith-Schuster",
          "JuJu Smith-Schuster",
          "JuJu Smith-Schuster",
          "JuJu Smith-Schuster",
          "JuJu Smith-Schuster",
          "Julian Edelman",
          "Julian Edelman",
          "Julian Edelman",
          "Julio Jones",
          "Julio Jones",
          "Julio Jones",
          "Julio Jones",
          "Julio Jones",
          "Julio Jones",
          "Julio Jones",
          "Julio Jones",
          "Justin Jefferson",
          "Justin Jefferson",
          "Justin Jefferson",
          "Justin Jefferson",
          "Justin Jefferson",
          "Justin Jefferson",
          "Justin Jefferson",
          "Justin Jefferson",
          "Justin Watson",
          "Justin Watson",
          "Justin Watson",
          "K.J. Hamler",
          "K.J. Hamler",
          "K.J. Hamler",
          "K.J. Hamler",
          "K.J. Hamler",
          "K.J. Hamler",
          "K.J. Hamler",
          "K.J. Hamler",
          "K.J. Hamler",
          "K.J. Hill",
          "K.J. Hill",
          "K.J. Hill",
          "K.J. Hill",
          "K.J. Hill",
          "Kalif Raymond",
          "Kalif Raymond",
          "Kalif Raymond",
          "Kalif Raymond",
          "Kalif Raymond",
          "Kalif Raymond",
          "Kalif Raymond",
          "KeeSean Johnson",
          "KeeSean Johnson",
          "KeeSean Johnson",
          "KeeSean Johnson",
          "KeeSean Johnson",
          "KeeSean Johnson",
          "KeeSean Johnson",
          "KeeSean Johnson",
          "Keelan Cole",
          "Keelan Cole",
          "Keelan Cole",
          "Keelan Cole",
          "Keelan Cole",
          "Keelan Cole",
          "Keelan Cole",
          "Keelan Cole",
          "Keelan Cole",
          "Keelan Cole",
          "Keelan Cole",
          "Keelan Cole",
          "Keelan Cole",
          "Keelan Cole",
          "Keelan Cole",
          "Keelan Cole",
          "Keenan Allen",
          "Keenan Allen",
          "Keenan Allen",
          "Keenan Allen",
          "Keenan Allen",
          "Keenan Allen",
          "Keenan Allen",
          "Keenan Allen",
          "Keenan Allen",
          "Keith Kirkwood",
          "Keke Coutee",
          "Keke Coutee",
          "Keke Coutee",
          "Keke Coutee",
          "Kendrick Bourne",
          "Kendrick Bourne",
          "Kendrick Bourne",
          "Kendrick Bourne",
          "Kendrick Bourne",
          "Kendrick Bourne",
          "Kendrick Bourne",
          "Kendrick Bourne",
          "Kendrick Bourne",
          "Kendrick Bourne",
          "Kendrick Bourne",
          "Kendrick Bourne",
          "Kendrick Bourne",
          "Kendrick Bourne",
          "Kendrick Bourne",
          "Kenny Golladay",
          "Kenny Golladay",
          "Kenny Golladay",
          "Kenny Golladay",
          "Kenny Golladay",
          "Kenny Stills",
          "Kenny Stills",
          "Kenny Stills",
          "Kenny Stills",
          "Kenny Stills",
          "Kenny Stills",
          "Kenny Stills",
          "KhaDarel Hodge",
          "KhaDarel Hodge",
          "KhaDarel Hodge",
          "KhaDarel Hodge",
          "KhaDarel Hodge",
          "KhaDarel Hodge",
          "KhaDarel Hodge",
          "Laquon Treadwell",
          "Laquon Treadwell",
          "Laquon Treadwell",
          "Laquon Treadwell",
          "Larry Fitzgerald",
          "Larry Fitzgerald",
          "Larry Fitzgerald",
          "Larry Fitzgerald",
          "Larry Fitzgerald",
          "Larry Fitzgerald",
          "Larry Fitzgerald",
          "Larry Fitzgerald",
          "Larry Fitzgerald",
          "Larry Fitzgerald",
          "Larry Fitzgerald",
          "Larry Fitzgerald",
          "Larry Fitzgerald",
          "Laviska Shenault",
          "Laviska Shenault",
          "Laviska Shenault",
          "Laviska Shenault",
          "Laviska Shenault",
          "Laviska Shenault",
          "Laviska Shenault",
          "Laviska Shenault",
          "Laviska Shenault",
          "Laviska Shenault",
          "Lawrence Cager",
          "Lawrence Cager",
          "Lil'Jordan Humphrey",
          "Lil'Jordan Humphrey",
          "Mack Hollins",
          "Mack Hollins",
          "Mack Hollins",
          "Mack Hollins",
          "Mack Hollins",
          "Mack Hollins",
          "Mack Hollins",
          "Mack Hollins",
          "Mack Hollins",
          "Malik Taylor",
          "Malik Taylor",
          "Malik Taylor",
          "Malik Taylor",
          "Malik Taylor",
          "Malik Taylor",
          "Marcus Johnson",
          "Marcus Johnson",
          "Marcus Johnson",
          "Marcus Johnson",
          "Marcus Johnson",
          "Marcus Johnson",
          "Marcus Johnson",
          "Marcus Johnson",
          "Marcus Kemp",
          "Marquez Callaway",
          "Marquez Callaway",
          "Marquez Callaway",
          "Marquez Callaway",
          "Marquez Callaway",
          "Marquez Callaway",
          "Marquez Valdes-Scantling",
          "Marquez Valdes-Scantling",
          "Marquez Valdes-Scantling",
          "Marquez Valdes-Scantling",
          "Marquez Valdes-Scantling",
          "Marquez Valdes-Scantling",
          "Marquez Valdes-Scantling",
          "Marquez Valdes-Scantling",
          "Marquez Valdes-Scantling",
          "Marquise Brown",
          "Marquise Brown",
          "Marquise Brown",
          "Marquise Brown",
          "Marquise Brown",
          "Marquise Brown",
          "Marquise Brown",
          "Marquise Brown",
          "Marquise Brown",
          "Marquise Brown",
          "Marquise Brown",
          "Marquise Brown",
          "Marquise Brown",
          "Marquise Brown",
          "Marquise Brown",
          "Marvin Hall",
          "Marvin Hall",
          "Marvin Hall",
          "Marvin Hall",
          "Marvin Hall",
          "Marvin Hall",
          "Marvin Hall",
          "Marvin Hall",
          "Marvin Hall",
          "Marvin Hall",
          "Marvin Hall",
          "Marvin Jones",
          "Marvin Jones",
          "Marvin Jones",
          "Marvin Jones",
          "Marvin Jones",
          "Marvin Jones",
          "Marvin Jones",
          "Marvin Jones",
          "Marvin Jones",
          "Marvin Jones",
          "Marvin Jones",
          "Marvin Jones",
          "Marvin Jones",
          "Marvin Jones",
          "Marvin Jones",
          "Marvin Jones",
          "Mecole Hardman",
          "Mecole Hardman",
          "Mecole Hardman",
          "Mecole Hardman",
          "Mecole Hardman",
          "Mecole Hardman",
          "Mecole Hardman",
          "Mecole Hardman",
          "Mecole Hardman",
          "Mecole Hardman",
          "Mecole Hardman",
          "Mecole Hardman",
          "Mecole Hardman",
          "Michael Gallup",
          "Michael Gallup",
          "Michael Gallup",
          "Michael Gallup",
          "Michael Gallup",
          "Michael Gallup",
          "Michael Gallup",
          "Michael Gallup",
          "Michael Gallup",
          "Michael Gallup",
          "Michael Gallup",
          "Michael Gallup",
          "Michael Gallup",
          "Michael Gallup",
          "Michael Gallup",
          "Michael Pittman",
          "Michael Pittman",
          "Michael Pittman",
          "Michael Pittman",
          "Michael Pittman",
          "Michael Pittman",
          "Michael Pittman",
          "Michael Pittman",
          "Michael Pittman",
          "Michael Pittman",
          "Michael Pittman",
          "Michael Thomas",
          "Michael Thomas",
          "Michael Thomas",
          "Michael Thomas",
          "Michael Thomas",
          "Mike Evans",
          "Mike Evans",
          "Mike Evans",
          "Mike Evans",
          "Mike Evans",
          "Mike Evans",
          "Mike Evans",
          "Mike Evans",
          "Mike Evans",
          "Mike Evans",
          "Mike Evans",
          "Mike Evans",
          "Mike Evans",
          "Mike Evans",
          "Mike Evans",
          "Mike Thomas",
          "Mike Thomas",
          "Mike Thomas",
          "Mike Thomas",
          "Mike Thomas",
          "Mike Thomas",
          "Mike Thomas",
          "Mike Thomas",
          "Mike Thomas",
          "Mike Thomas",
          "Mike Williams",
          "Mike Williams",
          "Mike Williams",
          "Mike Williams",
          "Mike Williams",
          "Mike Williams",
          "Mike Williams",
          "Mike Williams",
          "Mike Williams",
          "Mike Williams",
          "Mike Williams",
          "Mike Williams",
          "Mike Williams",
          "Mike Williams",
          "Miles Boykin",
          "Miles Boykin",
          "Miles Boykin",
          "Miles Boykin",
          "Miles Boykin",
          "Miles Boykin",
          "Miles Boykin",
          "Miles Boykin",
          "Miles Boykin",
          "Miles Boykin",
          "Miles Boykin",
          "Mohamed Sanu",
          "Mohamed Sanu",
          "Mohamed Sanu",
          "Mohamed Sanu",
          "Mohamed Sanu",
          "N'Keal Harry",
          "N'Keal Harry",
          "N'Keal Harry",
          "N'Keal Harry",
          "N'Keal Harry",
          "N'Keal Harry",
          "N'Keal Harry",
          "N'Keal Harry",
          "N'Keal Harry",
          "N'Keal Harry",
          "N'Keal Harry",
          "N'Keal Harry",
          "Nelson Agholor",
          "Nelson Agholor",
          "Nelson Agholor",
          "Nelson Agholor",
          "Nelson Agholor",
          "Nelson Agholor",
          "Nelson Agholor",
          "Nelson Agholor",
          "Nelson Agholor",
          "Nelson Agholor",
          "Nelson Agholor",
          "Nelson Agholor",
          "Nelson Agholor",
          "Nelson Agholor",
          "Nelson Agholor",
          "Nelson Agholor",
          "Nick Westbrook-Ikhine",
          "Nick Westbrook-Ikhine",
          "Nick Westbrook-Ikhine",
          "Nick Westbrook-Ikhine",
          "Nick Westbrook-Ikhine",
          "Nick Westbrook-Ikhine",
          "Nick Westbrook-Ikhine",
          "Noah Brown",
          "Noah Brown",
          "Noah Brown",
          "Noah Brown",
          "Noah Brown",
          "Noah Brown",
          "Noah Brown",
          "Noah Brown",
          "Noah Brown",
          "Odell Beckham",
          "Odell Beckham",
          "Odell Beckham",
          "Odell Beckham",
          "Odell Beckham",
          "Olabisi Johnson",
          "Olabisi Johnson",
          "Olabisi Johnson",
          "Olabisi Johnson",
          "Olabisi Johnson",
          "Olabisi Johnson",
          "Olabisi Johnson",
          "Olamide Zaccheaus",
          "Olamide Zaccheaus",
          "Olamide Zaccheaus",
          "Olamide Zaccheaus",
          "Olamide Zaccheaus",
          "Olamide Zaccheaus",
          "Olamide Zaccheaus",
          "Olamide Zaccheaus",
          "Olamide Zaccheaus",
          "Parris Campbell",
          "Penny Hart",
          "Pharoh Cooper",
          "Pharoh Cooper",
          "Pharoh Cooper",
          "Pharoh Cooper",
          "Pharoh Cooper",
          "Preston Williams",
          "Preston Williams",
          "Preston Williams",
          "Preston Williams",
          "Preston Williams",
          "Preston Williams",
          "Preston Williams",
          "Preston Williams",
          "Quez Watkins",
          "Quez Watkins",
          "Quez Watkins",
          "Quintez Cephus",
          "Quintez Cephus",
          "Quintez Cephus",
          "Quintez Cephus",
          "Quintez Cephus",
          "Quintez Cephus",
          "Quintez Cephus",
          "Quintez Cephus",
          "Quintez Cephus",
          "Quintez Cephus",
          "Quintez Cephus",
          "Randall Cobb",
          "Randall Cobb",
          "Randall Cobb",
          "Randall Cobb",
          "Randall Cobb",
          "Randall Cobb",
          "Randall Cobb",
          "Randall Cobb",
          "Randall Cobb",
          "Rashard Higgins",
          "Rashard Higgins",
          "Rashard Higgins",
          "Rashard Higgins",
          "Rashard Higgins",
          "Rashard Higgins",
          "Rashard Higgins",
          "Rashard Higgins",
          "Rashard Higgins",
          "Rashard Higgins",
          "Rashard Higgins",
          "Ray-Ray McCloud",
          "Ray-Ray McCloud",
          "Ray-Ray McCloud",
          "Ray-Ray McCloud",
          "Ray-Ray McCloud",
          "Ray-Ray McCloud",
          "Ray-Ray McCloud",
          "Ray-Ray McCloud",
          "Ray-Ray McCloud",
          "Ray-Ray McCloud",
          "Richie James",
          "Richie James",
          "Richie James",
          "Richie James",
          "Richie James",
          "Richie James",
          "Rico Gafford",
          "Rico Gafford",
          "Riley Ridley",
          "Riley Ridley",
          "River Cracraft",
          "River Cracraft",
          "River Cracraft",
          "Robby Anderson",
          "Robby Anderson",
          "Robby Anderson",
          "Robby Anderson",
          "Robby Anderson",
          "Robby Anderson",
          "Robby Anderson",
          "Robby Anderson",
          "Robby Anderson",
          "Robby Anderson",
          "Robby Anderson",
          "Robby Anderson",
          "Robby Anderson",
          "Robert Foster",
          "Robert Foster",
          "Robert Foster",
          "Robert Woods",
          "Robert Woods",
          "Robert Woods",
          "Robert Woods",
          "Robert Woods",
          "Robert Woods",
          "Robert Woods",
          "Russell Gage",
          "Russell Gage",
          "Russell Gage",
          "Russell Gage",
          "Russell Gage",
          "Russell Gage",
          "Russell Gage",
          "Russell Gage",
          "Russell Gage",
          "Russell Gage",
          "Russell Gage",
          "Russell Gage",
          "Russell Gage",
          "Sammy Watkins",
          "Sammy Watkins",
          "Sammy Watkins",
          "Sammy Watkins",
          "Sammy Watkins",
          "Sammy Watkins",
          "Sammy Watkins",
          "Sammy Watkins",
          "Sammy Watkins",
          "Scott Miller",
          "Scott Miller",
          "Scott Miller",
          "Scott Miller",
          "Scott Miller",
          "Scott Miller",
          "Scott Miller",
          "Scott Miller",
          "Scott Miller",
          "Scott Miller",
          "Scott Miller",
          "Scott Miller",
          "Scott Miller",
          "Scott Miller",
          "Seth Roberts",
          "Seth Roberts",
          "Seth Roberts",
          "Stefon Diggs",
          "Stefon Diggs",
          "Stefon Diggs",
          "Stefon Diggs",
          "Stefon Diggs",
          "Stefon Diggs",
          "Stefon Diggs",
          "Stefon Diggs",
          "Stefon Diggs",
          "Stefon Diggs",
          "Stefon Diggs",
          "Stefon Diggs",
          "Sterling Shepard",
          "Sterling Shepard",
          "Sterling Shepard",
          "Sterling Shepard",
          "Sterling Shepard",
          "Sterling Shepard",
          "Sterling Shepard",
          "Sterling Shepard",
          "Sterling Shepard",
          "Steven Mitchell",
          "Steven Mitchell",
          "Steven Mitchell",
          "Steven Sims",
          "Steven Sims",
          "Steven Sims",
          "Steven Sims",
          "Steven Sims",
          "Steven Sims",
          "Steven Sims",
          "Steven Sims",
          "Steven Sims",
          "Steven Sims",
          "Steven Sims",
          "T.Y. Hilton",
          "T.Y. Hilton",
          "T.Y. Hilton",
          "T.Y. Hilton",
          "T.Y. Hilton",
          "T.Y. Hilton",
          "T.Y. Hilton",
          "T.Y. Hilton",
          "T.Y. Hilton",
          "T.Y. Hilton",
          "T.Y. Hilton",
          "T.Y. Hilton",
          "T.Y. Hilton",
          "T.Y. Hilton",
          "Tajae Sharpe",
          "Tajae Sharpe",
          "Tajae Sharpe",
          "Tavon Austin",
          "Tavon Austin",
          "Tavon Austin",
          "Taywan Taylor",
          "Ted Ginn",
          "Ted Ginn",
          "Ted Ginn",
          "Tee Higgins",
          "Tee Higgins",
          "Tee Higgins",
          "Tee Higgins",
          "Tee Higgins",
          "Tee Higgins",
          "Tee Higgins",
          "Tee Higgins",
          "Tee Higgins",
          "Tee Higgins",
          "Tee Higgins",
          "Tee Higgins",
          "Tee Higgins",
          "Tee Higgins",
          "Terry Godwin",
          "Terry Godwin",
          "Terry McLaurin",
          "Terry McLaurin",
          "Terry McLaurin",
          "Terry McLaurin",
          "Terry McLaurin",
          "Terry McLaurin",
          "Terry McLaurin",
          "Terry McLaurin",
          "Terry McLaurin",
          "Terry McLaurin",
          "Terry McLaurin",
          "Terry McLaurin",
          "Terry McLaurin",
          "Tim Patrick",
          "Tim Patrick",
          "Tim Patrick",
          "Tim Patrick",
          "Tim Patrick",
          "Tim Patrick",
          "Tim Patrick",
          "Tim Patrick",
          "Tim Patrick",
          "Tim Patrick",
          "Tim Patrick",
          "Tim Patrick",
          "Tim Patrick",
          "Tim Patrick",
          "Tim Patrick",
          "Tommylee Lewis",
          "Tommylee Lewis",
          "Tommylee Lewis",
          "Tommylee Lewis",
          "Travis Fulgham",
          "Travis Fulgham",
          "Travis Fulgham",
          "Travis Fulgham",
          "Travis Fulgham",
          "Travis Fulgham",
          "Travis Fulgham",
          "Travis Fulgham",
          "Travis Fulgham",
          "Travis Fulgham",
          "Travis Fulgham",
          "Travis Fulgham",
          "Tre'Quan Smith",
          "Tre'Quan Smith",
          "Tre'Quan Smith",
          "Tre'Quan Smith",
          "Tre'Quan Smith",
          "Tre'Quan Smith",
          "Tre'Quan Smith",
          "Tre'Quan Smith",
          "Tre'Quan Smith",
          "Tre'Quan Smith",
          "Tre'Quan Smith",
          "Tre'Quan Smith",
          "Tre'Quan Smith",
          "Trent Sherfield",
          "Trent Sherfield",
          "Trent Taylor",
          "Trent Taylor",
          "Trent Taylor",
          "Trent Taylor",
          "Trent Taylor",
          "Trent Taylor",
          "Trent Taylor",
          "Trenton Irwin",
          "Ty Montgomery",
          "Ty Montgomery",
          "Ty Montgomery",
          "Tyler Boyd",
          "Tyler Boyd",
          "Tyler Boyd",
          "Tyler Boyd",
          "Tyler Boyd",
          "Tyler Boyd",
          "Tyler Boyd",
          "Tyler Boyd",
          "Tyler Boyd",
          "Tyler Boyd",
          "Tyler Johnson",
          "Tyler Johnson",
          "Tyler Johnson",
          "Tyler Johnson",
          "Tyler Johnson",
          "Tyler Johnson",
          "Tyler Johnson",
          "Tyler Johnson",
          "Tyler Johnson",
          "Tyler Johnson",
          "Tyler Lockett",
          "Tyler Lockett",
          "Tyler Lockett",
          "Tyler Lockett",
          "Tyler Lockett",
          "Tyler Lockett",
          "Tyler Lockett",
          "Tyler Lockett",
          "Tyler Lockett",
          "Tyler Lockett",
          "Tyler Lockett",
          "Tyler Lockett",
          "Tyreek Hill",
          "Tyreek Hill",
          "Tyreek Hill",
          "Tyreek Hill",
          "Tyreek Hill",
          "Tyreek Hill",
          "Tyrie Cleveland",
          "Tyrie Cleveland",
          "Tyrie Cleveland",
          "Tyrie Cleveland",
          "Tyrie Cleveland",
          "Tyron Johnson",
          "Tyron Johnson",
          "Tyron Johnson",
          "Tyron Johnson",
          "Tyron Johnson",
          "Tyron Johnson",
          "Tyron Johnson",
          "Tyron Johnson",
          "Tyron Johnson",
          "Tyron Johnson",
          "Tyron Johnson",
          "Van Jefferson",
          "Van Jefferson",
          "Van Jefferson",
          "Van Jefferson",
          "Van Jefferson",
          "Van Jefferson",
          "Van Jefferson",
          "Van Jefferson",
          "Van Jefferson",
          "Van Jefferson",
          "Van Jefferson",
          "Van Jefferson",
          "Van Jefferson",
          "Vyncint Smith",
          "Vyncint Smith",
          "Will Fuller",
          "Will Fuller",
          "Will Fuller",
          "Will Fuller",
          "Will Fuller",
          "Will Fuller",
          "Will Fuller",
          "Will Fuller",
          "Will Fuller",
          "Will Fuller",
          "Willie Snead",
          "Willie Snead",
          "Willie Snead",
          "Willie Snead",
          "Willie Snead",
          "Willie Snead",
          "Willie Snead",
          "Willie Snead",
          "Willie Snead",
          "Willie Snead",
          "Willie Snead",
          "Zach Pascal",
          "Zach Pascal",
          "Zach Pascal",
          "Zach Pascal",
          "Zach Pascal",
          "Zach Pascal",
          "Zach Pascal",
          "Zach Pascal",
          "Zach Pascal",
          "Zach Pascal",
          "Zach Pascal",
          "Zach Pascal",
          "Zach Pascal",
          "Zach Pascal",
          "Zach Pascal",
          "Zay Jones",
          "Zay Jones",
          "Zay Jones",
          "Zay Jones",
          "Zay Jones",
          "Zay Jones",
          "Zay Jones",
          "Zay Jones",
          "Zay Jones",
          "Zay Jones"
         ],
         "type": "scattergl",
         "x": [
          2.1882790548319777,
          6.113200990797953,
          2.1910657890575553,
          0.13081073718078234,
          4.077807736149137,
          6.896138679089423,
          3.3751331145491283,
          2.670635918888678,
          3.310946049042605,
          1.1635611753640887,
          -0.5294884552765943,
          -2.699673830807436,
          6.035982026006666,
          5.750888974059564,
          0.19160378676822773,
          -0.8883123973030347,
          3.290658028706038,
          -1.2068226688184067,
          -2.3613893060719087,
          4.450658991023126,
          1.0331729844779507,
          2.8622320926575977,
          -0.5136921349971193,
          0.8025376865140045,
          1.9835782414293677,
          2.642146833585675,
          -1.7935285739845999,
          -3.484896818701326,
          -2.522721429144571,
          1.493076377379815,
          1.7786137791356895,
          2.0239594507078156,
          -0.06041280483959965,
          0.7527022034934561,
          3.8290253117373614,
          5.560071188788497,
          0.3495050637252019,
          -0.2296281778182227,
          5.22481610049744,
          1.2826278448030521,
          -3.4590365911428895,
          -4.244705238812027,
          -3.608553769681686,
          -4.386020014489536,
          -2.279007119560108,
          -3.264499530153206,
          -2.203947379144541,
          0.900677973075573,
          6.694749707074703,
          -1.5589719957449923,
          1.0075955187174441,
          0.030065481385716977,
          -1.505482476927276,
          1.7066708996609692,
          -1.9295361454555706,
          -1.009646131689101,
          3.3583685595803616,
          1.1264655501937237,
          7.077826170528752,
          5.412818610948316,
          5.794869273698367,
          1.8069972210511345,
          0.9974249299520087,
          4.174772317011162,
          3.3227634516883757,
          2.001235950986459,
          2.589647097030657,
          8.092903452279653,
          2.8161617800990295,
          5.869239830510323,
          0.1411651275889211,
          -3.853227893116979,
          -4.060189020397107,
          -1.7249605069961977,
          -3.529579461710409,
          -0.8780024503483238,
          0.4049660219260626,
          -2.407563318574772,
          5.341105085682888,
          4.173398032404735,
          4.343100698153273,
          -1.2304404116200238,
          4.643192901784259,
          3.280935228571886,
          -1.792963321514806,
          1.6275598199194599,
          3.1257085077936684,
          5.387332271304042,
          1.9991323069144464,
          -1.7248667578573775,
          3.5636909911668826,
          1.9804075839834496,
          -3.705354046984503,
          -2.451936579451011,
          -2.924948949176785,
          0.38498161916817014,
          -1.983919592678017,
          -1.0743420993560728,
          -2.1500743318346585,
          -1.8530916528177601,
          -2.049908660618682,
          -2.5222222404106622,
          -2.509412600918826,
          0.4163254140469737,
          -0.87244215704706,
          2.7648833957183565,
          -3.031042010598845,
          -1.166014468878885,
          -1.3198368855922997,
          -2.158760403696096,
          -0.8104024285697087,
          3.1707909879088403,
          1.3135801385167138,
          -0.04949727224505896,
          -0.2552325602156235,
          0.7289271341728851,
          -2.2299348885294004,
          -2.9548331451486525,
          -2.3888299906375954,
          -2.3120934812791547,
          0.17726461005112795,
          2.484803393115832,
          3.437646434875292,
          -1.9689117796277595,
          0.309179352438535,
          3.39823097887363,
          1.0585689066889317,
          -3.227287885896416,
          -3.563569869325873,
          -3.7381262575550855,
          -3.933248657350791,
          -3.507743674767073,
          -4.18967463305928,
          -2.4997623294215296,
          -3.714775939980619,
          -4.121232808065783,
          -2.1010849594990546,
          -4.249322719943679,
          -4.287693811031377,
          -3.9766970184171098,
          -0.6745537924227656,
          -2.2297002086508035,
          -2.2486793638596856,
          -3.4366594391315215,
          2.581320468151486,
          -1.4675653669804485,
          -2.622721194410262,
          -2.9908280505350464,
          -3.4467149278373257,
          -3.0996473657485004,
          -3.7713606209395243,
          -1.5505615855895978,
          -3.187026919652009,
          1.3591819063266408,
          -3.052564772430839,
          -3.4035952316318836,
          -3.21185960728618,
          -1.7941857067559042,
          -1.1020945301408056,
          3.777937297444949,
          -0.4896807616255516,
          -2.409473074722278,
          8.226790909603949,
          4.30855548446576,
          2.5488791512689852,
          4.951218482531544,
          1.4816558486975289,
          1.999606614680092,
          2.55192611781395,
          2.4741320305745464,
          2.275557812896132,
          7.130711174743089,
          -0.9739046879137411,
          1.7803023311465775,
          1.017582965867739,
          5.581153383689459,
          5.7539346086155065,
          5.412713360182887,
          6.611378132117512,
          -0.9212270911229558,
          -0.846558178951819,
          -4.180337722676943,
          -3.266885425108514,
          -1.8087577854321646,
          -4.406460987597784,
          -1.8934972915047414,
          -3.4822918973209225,
          -3.105754453801123,
          -2.6856206833390557,
          -3.8218615707889185,
          -3.7421800791559896,
          -2.4296937956359446,
          -2.7545643180642054,
          -4.391258283907032,
          -4.052811459396019,
          3.1919813120528997,
          2.3384685926678377,
          -3.7259487942985885,
          -3.051884461505177,
          -2.170461997410536,
          0.756054948975845,
          2.426593208830222,
          -3.2244435665362854,
          -2.0391478116307695,
          0.24036319077580487,
          -2.7485495114578593,
          0.6193088421789289,
          -1.9394074634966831,
          -0.6162184392900504,
          -2.6724969592053225,
          2.657956995259623,
          -1.104627300183506,
          6.006065718749079,
          2.2135227365515533,
          3.21011750074423,
          -0.14630820267887606,
          0.5098990084967384,
          -1.486560208006653,
          -0.7863070589298083,
          2.500111830525907,
          -2.695584267007427,
          -0.7309657290837763,
          -0.7349626393747762,
          -2.7446484607394375,
          -3.74642520007146,
          -2.66476194982355,
          -4.0680158673107245,
          -3.213726205991741,
          0.27580718505458995,
          -2.702409691638075,
          -0.9515885901799771,
          -3.4139718242404036,
          -1.154879859734893,
          -1.1644707905507456,
          2.4016428369208107,
          -2.4933209809172068,
          -1.6119401375910796,
          -2.496003563669497,
          -3.5288091592729276,
          -2.589786133654845,
          -3.185157735562762,
          -3.2795337980406027,
          -4.194284300911458,
          -2.8083143927777505,
          6.682749688258397,
          0.3607660680871765,
          4.464087605618824,
          4.2975297863401964,
          5.5306351210565845,
          8.407799979598899,
          -3.013508299091284,
          -1.109625959038952,
          -1.5528244508321094,
          2.7009087988532743,
          1.5058703842729828,
          -1.5759397176962924,
          3.4989473691775888,
          -1.913928629302879,
          0.7902368225844902,
          2.8395446324146407,
          0.9821081478550352,
          -1.6270356446543557,
          -2.9827271745903516,
          -3.5551824142614636,
          -2.7372312525505373,
          -2.2749025526880238,
          -4.069420925053955,
          -3.6601421408139365,
          -2.8366700976408277,
          -0.5856024020969102,
          -2.4179186229760137,
          -3.114055350235315,
          -3.166924706113199,
          -4.094018001763007,
          -3.623197713744861,
          1.8000304935490452,
          2.0466482237015056,
          6.0896654976285625,
          3.793931618531434,
          -1.6059847826627225,
          0.024481279227517024,
          2.281635044606603,
          -0.15241406346591313,
          3.4105282017959824,
          1.6136427179865447,
          -3.327080651799072,
          -2.7321358753759153,
          -1.826529036803751,
          -2.608869317082418,
          -2.490146067932738,
          2.781794670150716,
          -2.6828506445698697,
          -3.2458490122163157,
          -2.110611842942247,
          0.2813477478676978,
          3.462641134646031,
          2.05427490713224,
          1.6189981753811333,
          -1.9272261921229399,
          -1.1854516866187446,
          -0.9317937535040114,
          2.5846648809773227,
          5.177109767693612,
          3.56454702154005,
          2.4179752569340693,
          -0.21448603884012082,
          -0.15143137673051368,
          2.1620344301007846,
          1.2566907589880298,
          6.033232364257356,
          -3.4847958664420746,
          0.6174924839199964,
          1.5795068864143424,
          -0.7690477631991303,
          -0.7755628777489145,
          -3.2163604799104166,
          0.0061540743197678015,
          1.7911327318610253,
          0.9810629724812641,
          -1.6097241058566953,
          -3.3717490731816406,
          -0.1384472899404511,
          -1.591435418480079,
          3.5921432782052296,
          2.8023956363694533,
          2.580869235984966,
          0.974266381927336,
          5.154291665482905,
          0.38436721303769933,
          3.074356439685157,
          3.7658055411424667,
          3.820028107959657,
          -0.8244263132249833,
          4.377140525741283,
          6.858126264960433,
          -1.9608527726102716,
          3.3737891306565317,
          -2.010076223264738,
          0.1883471266155283,
          -1.502805960319168,
          -0.21200602997375312,
          -3.315172717718097,
          -2.3819462149001773,
          -1.8141861997077515,
          -1.2092758920621276,
          -2.159151180986005,
          -3.934968589313897,
          -0.7237951313077453,
          1.0920652815288852,
          3.157012990569334,
          5.952075248183604,
          0.50049332038573,
          1.9427188011925502,
          0.8084634566035249,
          -1.0173030807941237,
          -0.6828309910546891,
          0.19788136012408367,
          4.030801586364754,
          -2.811919497138219,
          1.2275622769321692,
          1.8439253368794288,
          3.374490295531471,
          1.3263644192322985,
          2.352961592209745,
          6.2589728683424175,
          -1.2461038692676254,
          -0.38785858467684653,
          7.242207751413882,
          7.716827459201415,
          1.9533023355180492,
          5.043658224973079,
          -1.2648303702645638,
          -2.9586406424911167,
          -3.6424178332157418,
          -3.414352851131247,
          0.009019491183947077,
          -3.091681102080959,
          -3.273133873467237,
          4.682088345300132,
          1.2797813309356156,
          -1.7417348766293146,
          -3.773213194246869,
          0.577282177649633,
          6.477130238693409,
          3.1851104311848766,
          2.436366398620508,
          0.3211946259784721,
          1.086918747991003,
          0.786397915006961,
          6.781865585994634,
          0.09972294919253208,
          2.9454576255410556,
          1.2445770499391093,
          0.15090322506514192,
          3.085025365162471,
          4.509726987376226,
          1.5591030089057065,
          1.6903227646505554,
          3.041794232651663,
          6.869069919629576,
          -2.2248921771039245,
          1.873011437368647,
          4.358589586532511,
          1.4203165173383174,
          9.233014128056068,
          -1.0735823683246621,
          4.804239972034713,
          -2.8863814411379205,
          2.8650697736257578,
          1.4042082308154722,
          1.7729846394005753,
          0.6733801855866499,
          5.13410097026862,
          -3.704229105605953,
          -3.4225575438604734,
          0.9913830285944472,
          -2.0436173932155075,
          0.004672385141339702,
          0.9295684327193541,
          0.6609657008568511,
          0.23980858701029215,
          -0.5075417574933268,
          0.2586195585406711,
          2.8751385252858714,
          6.905935739648534,
          1.955176294326841,
          1.587681594728045,
          4.506915819307023,
          5.318068473862639,
          1.9306200416112675,
          -0.32849634194168364,
          5.490266240882474,
          3.507857889979017,
          3.121708994171745,
          5.284746386001968,
          3.704549559120418,
          3.051452757622884,
          -1.5555374767838002,
          4.251999304927108,
          -1.4144993958274843,
          2.039697549976998,
          2.9083810656531113,
          0.1962478440561184,
          1.51479536072394,
          -0.08892904257864365,
          -1.1266036576789176,
          -2.920912155365788,
          -1.3676724565649083,
          -3.0412574091281077,
          -1.5801354495929931,
          3.248330107281192,
          -2.624053061956855,
          -3.2416724776867394,
          -3.0414597689633567,
          3.0711642876173255,
          -0.07071356374782937,
          2.947814380158249,
          -0.6842873331729363,
          4.073154131401017,
          0.5411076255098902,
          -1.737251337830493,
          0.5097795502714635,
          3.351972810619536,
          1.8032136374967336,
          -0.7793661063048206,
          1.628005347026004,
          -0.6804840619781649,
          -1.5929094138788003,
          -3.90259891414086,
          -3.4850658901257177,
          -1.995206704129502,
          -0.9435098241511839,
          -3.6159558194188803,
          2.057886339287666,
          -0.31838149390334786,
          -1.5569804832802547,
          -0.30366598879847173,
          -1.61607933130534,
          0.26845096477450614,
          0.13718748786551213,
          -2.3794071129103527,
          0.3308461159886376,
          1.7702063271926611,
          -1.5794151964972374,
          0.6980629857953926,
          -2.8887835923073424,
          -1.372304066479638,
          -0.06873356570480108,
          -3.003931505181183,
          1.0276185678458651,
          1.5558561089989602,
          2.211527118332018,
          -0.43359077920158245,
          3.6926273910028793,
          -1.8907833013756765,
          3.4982807959785935,
          -1.915621892560786,
          -1.5193962181812084,
          1.9219351850221484,
          3.3278007621303693,
          0.8660775406594832,
          0.34550576374515274,
          -0.6965552736624868,
          -0.5801316344918088,
          2.3033119071505075,
          -0.4403389059358636,
          0.6506713314544297,
          1.8975576927093871,
          3.8123215539358646,
          2.7044887145612178,
          -1.8690560181250702,
          1.9394476236726557,
          1.6506738272143722,
          1.57525073426951,
          -3.5509518539272875,
          -1.2943453693665008,
          -3.261811540216626,
          -3.653676336213526,
          -3.5111910348576947,
          -3.531775563375895,
          -1.945624488156447,
          -4.019471825058422,
          3.894137622710208,
          5.711851629318171,
          -1.3654855329849584,
          0.7847037681174676,
          -3.439637550240176,
          2.6917758970354,
          -2.8556346879657815,
          -0.36391737346795916,
          2.010500818962909,
          -1.976194855913585,
          -2.7491184536634496,
          -1.7128999015482456,
          -2.6702231725288823,
          0.6881671563189417,
          -1.9570656266087971,
          -1.2612613581661136,
          -3.369093626748948,
          -3.1935770240666272,
          4.798815645366407,
          7.52986852440083,
          2.6179601574704137,
          -0.005657300234026609,
          7.4364546618107275,
          2.36869415123185,
          2.403777036931781,
          5.08298384391289,
          7.276761166267128,
          2.5685046203392172,
          -2.346616804700892,
          -3.1295089123745297,
          -4.085081470029336,
          -4.2508741924918345,
          -4.71565594134344,
          1.2909243116531595,
          2.37727258564487,
          -1.7426289705316405,
          -0.565294833392696,
          0.4941233481264884,
          3.6183561198314833,
          3.066293413503569,
          6.050653155187506,
          1.9656368665461161,
          1.7754458700542488,
          3.1274962347002226,
          1.2846579364826687,
          4.63131954891351,
          1.2965800321488707,
          -2.749425552414448,
          6.383636981488994,
          -3.659588448492411,
          -0.5845439120013033,
          0.9672028310835127,
          3.3972210774102694,
          -3.759394562369671,
          0.24542701081524249,
          -0.13864191600278003,
          -2.7011813906622586,
          -1.318279948513443,
          3.288957604901348,
          -2.458111035926528,
          2.58728041983918,
          2.2691108142774894,
          1.0836828992431473,
          -0.4285786981928189,
          -1.994850763721081,
          -0.6687240397719317,
          0.3673031452788518,
          2.8823313784749347,
          1.850120598494224,
          0.5738657683607159,
          3.459405158462537,
          3.31912456852911,
          3.1166330454351163,
          0.8199167960652254,
          -0.5576579548881583,
          -1.9611013525321679,
          -1.9493716277096893,
          -1.6434151277252325,
          -3.253075518868418,
          -1.8384991493177107,
          -3.4580790711674596,
          -3.0430319362821714,
          0.43172181588301434,
          -2.6525539609468587,
          -2.1793056239026614,
          -1.9982327711310643,
          -2.6532258966500084,
          -2.3340360494190606,
          -2.1279936279468386,
          -2.7154541200045523,
          -0.7127667559506318,
          -0.3135333681836839,
          -3.4389580998232945,
          0.10570991180462984,
          -2.4136982432640934,
          -0.836544239930257,
          -2.4840194052631466,
          -3.1075887509843962,
          -0.6128174754734409,
          -3.0781891039516767,
          -0.9807340841778677,
          -1.5027980804823016,
          3.4547820516010677,
          6.387615399214042,
          -2.4640128089377917,
          -3.5911604298826405,
          -1.3413262495288913,
          3.964471081280123,
          6.553698735154988,
          6.8263518059699555,
          4.9737691515083275,
          0.46393271968296446,
          4.789410851156745,
          5.744014737634486,
          2.6648217030973322,
          -3.7960114214821443,
          -4.20092748037327,
          -4.092422174006359,
          -2.897442130901933,
          -2.884287199412524,
          -3.7127417162040115,
          1.8476456713128846,
          -2.0320016159479692,
          0.4614316914651465,
          -1.9781924698246538,
          -3.0044988084649575,
          -4.242976854616561,
          -0.6859532522011991,
          -1.2252457136675408,
          -0.14151988683137018,
          -3.5986568087968225,
          0.9838417188546471,
          -3.1081214596319704,
          0.0026397976924569786,
          -1.6852249518257643,
          2.38040416035862,
          4.15063558306931,
          0.7096826777823844,
          -2.9817194037839756,
          1.1904669256649627,
          -3.411244191422383,
          0.10314389090169852,
          1.5770083535637713,
          1.4667560600308802,
          1.6868561819446832,
          5.180521071132596,
          -4.009132839026743,
          -2.813218160341457,
          -2.565103936594389,
          -0.9914554869471104,
          -3.1263104777443376,
          -2.884175911166483,
          -0.8197628285134921,
          -3.771207326970059,
          -2.4546126584702512,
          -2.1647202087698343,
          -0.9637926277559794,
          -2.199748875311156,
          -3.355387691346794,
          -2.964914120071958,
          -0.20941154327844497,
          -2.952924038667337,
          0.06745624477149531,
          -3.151209868144645,
          -2.99408430855864,
          -3.341846378976665,
          0.2816691340109592,
          0.8949223411589997,
          -3.9853796965634314,
          -2.9838052035841054,
          -3.456573926216777,
          1.2749808362934225,
          -3.997702630948419,
          1.947843173562109,
          0.8862205410804416,
          0.20925531664255576,
          -2.110987574245675,
          -2.714005247148169,
          0.28938979451159413,
          0.6230638381604423,
          -0.38292025981167105,
          0.15951375363465267,
          -2.6214295874003626,
          0.5151909183206727,
          -0.4073999911034088,
          -1.0938185300868675,
          -0.8553030864526352,
          -2.016780061264711,
          -0.1964681226923981,
          -3.6645767542086713,
          4.763592331249286,
          0.8544755664060798,
          0.27557616080120756,
          2.1175488779220677,
          -0.8921061672709545,
          0.16705888371777983,
          -1.6663412766852748,
          -2.6444472262943663,
          1.8885491177725913,
          -0.7401424508867038,
          1.3448584748342358,
          -0.8290485955144166,
          -3.3446689387379593,
          -3.56824112309309,
          -4.526772329564425,
          0.19790670731649684,
          -2.7403303540280297,
          -3.2624003980025567,
          -1.7956660748970101,
          -2.0708219704363304,
          -3.287699741104278,
          -1.35765115945128,
          -4.031128876536622,
          -0.15329102848483522,
          -2.7881797340478367,
          -3.711468691511558,
          -1.34838316379333,
          -0.2597592771203024,
          5.281148958366616,
          2.144781079659641,
          -0.6948761501405555,
          0.7653544273613143,
          0.539168194772961,
          0.42114337537135843,
          -1.0198193998006653,
          -0.9005448836840394,
          3.168092064227079,
          1.22730195452628,
          -2.876330383792883,
          0.4013367516034086,
          0.22615399946517106,
          -0.7780075248898632,
          3.8327254788773923,
          -1.6484535062337036,
          2.145359514410853,
          -1.476829426271239,
          -2.442294224026585,
          -0.7248344123561612,
          0.5776131327357381,
          1.3715457603056398,
          -2.125430265185072,
          -1.5537798997736674,
          -3.2525951727262052,
          -2.5129667015954875,
          -0.9229893548239183,
          -3.8218100924055265,
          -2.7637345593064677,
          -1.159924548242806,
          -4.266744877375592,
          -0.6685558523632262,
          -3.2363267038666543,
          -3.3246253115069453,
          -1.1319484781070397,
          -0.515215407974309,
          -0.6225278597137119,
          -3.0120009844785263,
          -0.42273016851578005,
          -1.423592389852514,
          0.7919425575261989,
          -3.456401855264068,
          -2.8257243810926904,
          -2.7621986532497234,
          -3.941855365443149,
          -4.373244848212901,
          -4.331884156762645,
          -3.109934686132266,
          -3.3877743006537626,
          2.7451665537249212,
          -1.2069804183984356,
          -1.2137862879143824,
          -3.8726119399397367,
          -0.5291117010830182,
          -2.8206304826997806,
          -0.3613475723960439,
          -2.090358377898022,
          -0.6542942043853169,
          1.8628289733118313,
          -0.05592102419705624,
          -2.524570085583084,
          0.7814150642665562,
          -0.459214717477571,
          -0.10896256258560666,
          -3.5289525540754925,
          2.612638078324807,
          -0.1951622374948677,
          2.0184437760317318,
          -0.09289589993746342,
          0.751560701843724,
          1.3049161409897723,
          -3.0013426353843484,
          -2.264201152567925,
          -0.5369594209810807,
          -0.9035662252575697,
          2.5602343247842847,
          -1.0950540691684096,
          -1.783193859562634,
          -0.37989471229284455,
          -2.6390295862415285,
          -0.27703760356073626,
          0.7342402700351491,
          -1.6610004415885151,
          2.8837115105432454,
          0.1355159320844841,
          -1.7065759639486633,
          0.5960900246531659,
          2.1066035900910585,
          1.6063504929956478,
          -0.22449877320305225,
          -0.2934823473119475,
          0.6091841536578221,
          -2.3124059833700894,
          -4.497971410046162,
          -4.354789004956142,
          -2.8956882718792807,
          -3.69794820192845,
          -3.093540437091507,
          -4.616282338800887,
          -4.6981421090969855,
          -1.9034358594239131,
          -2.7792636111188807,
          -4.108196288493239,
          -3.459256499146873,
          -4.318712849621624,
          -4.25953348067152,
          -3.338302078456777,
          -4.333665130909401,
          1.1909183937213728,
          -0.5622819802953261,
          1.323087414095421,
          -0.2470003559024016,
          4.025616039592555,
          -3.4056697923674517,
          -3.5536572387562604,
          -0.2891279480719757,
          -1.2697050343696483,
          -1.6386890363685387,
          -1.5335303528960407,
          2.242979446474265,
          -2.141650219632757,
          -1.7343482125959897,
          -2.6959043197921893,
          6.962923968923995,
          4.573826977360429,
          5.97354197448093,
          2.956930287274496,
          -0.4541148122880657,
          -1.380728945622753,
          -0.34334385483317803,
          3.8575202315738846,
          -1.8191291443926456,
          2.584834289080309,
          -0.5958336140759135,
          1.6172810793111105,
          -0.48436737360380466,
          -0.13836120708941257,
          2.9476131218306905,
          0.08982182800713238,
          2.978333758716167,
          -0.004363052434773269,
          -1.4871601697948598,
          7.874575694328336,
          3.4911521912804946,
          -1.0497064083777907,
          -1.5024193555612944,
          -3.1495630127064262,
          -2.274225766519164,
          -2.9499502355397946,
          -2.16106098639902,
          -3.343283077483733,
          -3.1893869820301872,
          -2.1098781909353272,
          -2.5764108881680627,
          1.200535515392998,
          -4.0433321092330266,
          3.5966543139123215,
          -1.4838240115222368,
          -3.841910570976181,
          1.0865648224590105,
          -3.6378550406976373,
          -3.767107952060268,
          -1.9877218795685903,
          2.013613585248098,
          2.551377302388856,
          2.410630372805831,
          0.39788159178968924,
          -0.12006140578310408,
          3.9807851045450504,
          2.983612958321618,
          1.5228786173230366,
          -2.6877402581798258,
          -1.2777426254747513,
          0.3115893879209266,
          0.19673373410444264,
          4.630024170151753,
          -4.6753347587482645,
          -3.782056766359487,
          -3.665519580109359,
          4.824740402493027,
          3.3389760721517,
          -2.9327381410255726,
          0.6127773523681623,
          -1.8025946786413078,
          -1.5356125119790607,
          4.635806449443722,
          2.8220401160799593,
          1.7293703002224392,
          -2.462954326583572,
          -0.5159186243323206,
          -0.8265493869593817,
          1.1747791396595002,
          0.3161206801344318,
          -2.179152421149984,
          -3.2141723806459876,
          -3.048782330176875,
          -2.6337326437945507,
          -0.10635835936445764,
          -2.919976982929931,
          -0.7301515137156817,
          -2.366407147016377,
          -1.1536923085687272,
          1.5721692709939474,
          -0.9643555788588563,
          0.1805221673028898,
          1.4573647083144352,
          3.7557596765402166,
          1.6644645963296658,
          4.591751670934751,
          0.6402367839443094,
          1.1392757667997608,
          -2.1775548693848874,
          -2.6278840786664768,
          -2.37969424379779,
          2.393247873593139,
          -0.14477415038514244,
          2.3782177442375203,
          0.28855635136859104,
          -1.362510484662963,
          5.763188582763789,
          3.2642234410977147,
          4.750204748524557,
          5.75246688669891,
          -0.1842785355761447,
          1.8657623182596177,
          3.555773726587931,
          3.8642336407729108,
          0.506231239943118,
          -0.08358760435978632,
          -1.984211793584683,
          7.926795142869149,
          0.3360100467680286,
          -0.495997777855783,
          4.961324371370976,
          7.339224544063626,
          3.3889198536993264,
          -0.5496120295110265,
          5.063994856198376,
          -0.6185070431543067,
          0.20395271087057973,
          3.8881752314932156,
          0.5995199607137099,
          1.963921754055952,
          7.178110930476653,
          6.1713889705236635,
          4.667755388234616,
          -3.444141168416845,
          -0.032883925063700865,
          0.4393678708894994,
          -0.21369433229530327,
          -1.6978885965497676,
          -1.7705009417460966,
          0.3217267839916548,
          -0.7870131637356195,
          -4.704190063084067,
          -1.3614075559806698,
          -3.5539423954522187,
          -4.6753347587482645,
          -1.4616122316802405,
          -2.2685279353279952,
          -3.1525696751793877,
          -3.13617884455755,
          -0.9051535258799799,
          -3.620389071808932,
          -1.7072701674077166,
          -0.8541520162983803,
          -2.9502734675060465,
          -3.882025298779154,
          -3.5871744282667906,
          -4.176200184291352,
          0.17837759498676686,
          -3.6714392889196787,
          -3.624039046319162,
          -0.7113670078097614,
          -3.116448558254281,
          -1.4231180076556493,
          -0.9357849696887678,
          -1.9127208203018402,
          2.080013593497455,
          2.5014134683941878,
          0.5175556916347709,
          0.2192218922332168,
          1.5393267265371728,
          5.319470224808403,
          -2.248141276843996,
          -2.393220904202136,
          2.6575661755636504,
          -0.7279095840457274,
          1.2012753643489005,
          -2.6454848580526633,
          4.910678484066764,
          -1.7006563676576194,
          -0.5068086834736746,
          -0.1966305936558794,
          1.9428744826846451,
          3.899700363638313,
          -0.7605450895184425,
          6.744438735175211,
          6.342873686883838,
          2.122642202363953,
          2.1398147881478127,
          4.094734612840945,
          -2.245922667527754,
          -2.254985943954585,
          0.031507463151578,
          -0.8450366076321605,
          0.7323807925917438,
          2.8513753701970077,
          0.21453325364516795,
          2.0590313387129497,
          1.628949080850907,
          -0.07230206814011429,
          0.32116774075814036,
          -0.38345634151338925,
          -3.6885232350882795,
          3.815330089231576,
          -0.3929607871214429,
          -0.5515732928088309,
          -0.34344116457866963,
          1.1841547915093202,
          2.3734515474689992,
          -2.692403809867914,
          2.2936346699289425,
          3.823242744008917,
          3.8812892273540633,
          3.8974340383289254,
          4.649955944138556,
          -2.421514347666208,
          -3.4197867753203717,
          -2.129506473686773,
          -1.162844107278679,
          0.6287145383358667,
          -3.0003767664198366,
          -1.0619876795931418,
          -3.541954752101905,
          -2.0507379837305373,
          -0.9664153767454037,
          -3.1061772276823167,
          -3.540413821143535,
          2.3131729481288246,
          -1.0125652665303873,
          -1.8040951227256248,
          -1.761927689245086,
          -3.282945334074707,
          -1.6325798082165768,
          -2.1081242387114187,
          0.08301593434170142,
          1.7959307754063527,
          -2.431231775930207,
          -1.9109916519966161,
          0.6290010772679271,
          -0.9574166237744769,
          2.186727597904611,
          1.1136341898505417,
          -0.8605434250964134,
          2.9693114204756093,
          -1.8370912897975944,
          0.8742683373741948,
          0.7203059406922268,
          -0.9840115522050847,
          1.1342375974920496,
          1.8935794437565172,
          -2.470387618981814,
          -1.385317155664477,
          -4.420145452088572,
          -1.7265585743864054,
          1.0765548681320254,
          -0.47529989793503313,
          0.5852468995857276,
          -0.6985911284187006,
          -3.623903323348574,
          0.1668712708561523,
          -2.6444524324730083,
          -1.423142489771424,
          -3.870180619558647,
          -3.279385647152883,
          -1.6696448291291992,
          -3.5685326120184997,
          1.6793279663106986,
          -0.5870187017126699,
          -0.2195644589542805,
          -4.187782553651519,
          -2.0580168302391435,
          -3.4912288250357695,
          -1.881859965086518,
          -2.4844369454269937,
          -3.897725754115256,
          -3.2326393837462626,
          -1.9365029918308818,
          -0.32321010731096844,
          3.678714253470478,
          -0.2979927695295724,
          0.07903461201859073,
          -3.5466490305106917,
          -1.7040944692066895,
          -4.009290518721776,
          -3.2425892063811745,
          -2.874969810520558,
          0.00038076732180753766,
          3.6117975465055574,
          -2.943225762182743,
          -0.7697660481966189,
          0.26077119987538294,
          4.26020874275986,
          2.116610087105183,
          -0.5461078665314887,
          2.850369718420241,
          1.4243904706909642,
          -1.18449069601694,
          -1.6437872482197686,
          4.567947508811812,
          -2.352068645972428,
          3.178817079140984,
          0.9780090259915435,
          -0.30541106690788167,
          4.0687804035266675,
          5.306324174911335,
          1.7147261866491477,
          -0.44284663999346985,
          0.9870462177929543,
          0.014150954136381547,
          -2.414383267491016,
          3.0642020676416837,
          2.261684660153743,
          3.80244356381983,
          0.48862063483725254,
          4.385924570712755,
          -1.8480975218840607,
          -1.8466807250848079,
          -0.584679191037575,
          -3.8687642741757617,
          -2.8155562886396543,
          -3.706380952620975,
          3.227930367880381,
          -0.2265755548538301,
          1.5627283688939313,
          -1.8713544935021835,
          -1.4916843862224975,
          1.7426755742358664,
          1.1150015408217366,
          0.3936812830360366,
          -1.8808820335575438,
          -1.2852890274018374,
          2.291742764507046,
          3.278564587412136,
          1.5489954353434563,
          5.617361911766958,
          1.258010227695994,
          3.4759243006085994,
          7.231994583937209,
          1.9914159566140999,
          7.0324188538525165,
          -1.251329372692782,
          9.99289595597343,
          -2.9127418915525336,
          3.354592401718823,
          0.6247875494091788,
          0.3849436454495499,
          -3.1265955523344195,
          0.23638597303889627,
          5.0259567290957685,
          0.33852425877498044,
          -2.3453534068031816,
          -0.5710154591605485,
          -1.6614491324275606,
          -0.02315823129643261,
          -1.1716550508730665,
          1.8502575220839108,
          1.746100813983174,
          6.658106771087575,
          0.3926903925196585,
          2.231048468301045,
          0.661362121509646,
          -2.1258698823718616,
          4.417220765099172,
          1.3370013948647388,
          0.6062723229766767,
          1.503974390117002,
          6.365496756686174,
          0.8905987125942333,
          1.0237390517598814,
          2.5340207976586764,
          -3.054673045366405,
          -0.15152391492490178,
          -1.3528578569817151,
          -3.516549741123425,
          1.2686999245999449,
          -0.0992391159504583,
          -0.21919884117592286,
          -0.6366376120419921,
          -2.0336022410037864,
          -0.12358032111563547,
          -1.778239812638689,
          0.15818117598864345,
          1.6684496387864591,
          1.4454646961334359,
          5.922006191170226,
          4.384247623977595,
          0.059611162391460824,
          5.636766306501505,
          5.487258315094621,
          2.9627011194376305,
          -2.1739578908111854,
          -0.7347088393425041,
          3.079632707872716,
          1.1007246945701392,
          4.992928880195949,
          3.242921371785681,
          4.336803649199285,
          0.692947265772329,
          3.762906335404867,
          10.274943506591752,
          -0.7651865768816601,
          -2.3435806118483566,
          0.19294063421031546,
          -3.100624871707723,
          -3.4159149180402504,
          -3.3053716316231383,
          -2.5436217766074916,
          -0.773595741712298,
          -3.628656063745773,
          -4.125914726456487,
          -4.121712322499177,
          2.9916659222832727,
          -0.7721935971794305,
          -2.398305522454535,
          6.285675963690818,
          -2.0150397665794664,
          4.990518338764439,
          2.767838926363907,
          0.48359955581183256,
          3.894933005679056,
          -0.29839149891571093,
          1.698742987594727,
          -2.142639775355704,
          2.364473072348405,
          4.770227309619592,
          0.07435164715787886,
          0.8195502229212578,
          -1.5702896306469747,
          -0.20573881800757257,
          -2.6566901000394254,
          -1.6084666770781217,
          0.28376018206417597,
          -2.3025301285651647,
          -1.672400323636602,
          -0.34447439104442856,
          -1.4785915275517079,
          -1.2435939109865997,
          -1.0940137759152513,
          0.11965304546796318,
          -1.152660225192728,
          -3.160353710049595,
          4.34789062877899,
          0.31585321537196603,
          1.3624717279425862,
          -2.0255437750282552,
          -2.6302973185892724,
          1.2667638296380541,
          -2.7863294730718113,
          0.2695591443314016,
          1.2738925443694995,
          -1.602893857330674,
          -1.0799333400074291,
          -1.1902603815169215,
          -0.8638028256382955,
          -2.753835417917809,
          -0.7670110602429531,
          1.6851717855545283,
          1.7728759013203277,
          4.975852203629152,
          -2.823170893323559,
          1.5412307608450728,
          -1.5916070001304996,
          5.312929420227337,
          1.0348499829788735,
          2.4110074456427353,
          4.4786266026627555,
          1.8245333741852379,
          6.382494786496855,
          0.7470424967766649,
          -3.6341571551407665,
          -2.6976391715658044,
          -4.1556777923462365,
          -3.847412128437638,
          -3.9325416957212074,
          -2.743224431792347,
          -4.125864400716546,
          -2.5091045058799457,
          -2.871858101644366,
          -0.9785705769685099,
          -2.589542339883224,
          -3.6388145086100607,
          -3.5487274822801815,
          -4.144426182530808,
          -0.8414967847948646,
          -1.1420130619906508,
          -0.37471647263701546,
          2.1831922715822616,
          0.9750813329974721,
          -1.9841063274377395,
          -4.198992528297327,
          0.2508257940468584,
          -1.1428075651372835,
          -3.779055432117949,
          -3.1820790985391563,
          -4.285646863978813,
          -3.6285730931365805,
          -3.1558558766080678,
          -3.3555722988212535,
          0.9984701713524362,
          3.717479813090663,
          -1.1845622401938578,
          -3.7410142660826446,
          -4.271977519239306,
          4.407920252398289,
          -3.2746120074951404,
          -2.372420070893545,
          -3.9235857166905586,
          -3.344147149527039,
          -3.1037081149574,
          -0.24129208365301358,
          -4.164055066457247,
          -4.00158528130993,
          -3.0315700498125477,
          1.1452677053275118,
          -0.5199671997638682,
          -1.1352199684399102,
          -1.7284723650422769,
          3.9224110409049966,
          0.2793679641620639,
          -0.35664936883109355,
          1.8697613750486082,
          -3.04243550635728,
          0.05183098721860371,
          -1.505118213895733,
          2.391729714053467,
          0.30753603016188924,
          -1.0431355671197484,
          -1.9932795369445633,
          -2.452772047733431,
          -1.3510508684154674,
          2.0337067316156974,
          -1.7359938114219875,
          -0.27736543485631343,
          -2.4668001650052633,
          1.6290614816094398,
          -1.3655046600138614,
          1.1090287007916502,
          3.1710852778398904,
          -0.2604425343044568,
          0.506551061893469,
          3.8617165716039668,
          -1.6017664959711209,
          -0.14201699562479816,
          -1.9638483979890293,
          -2.7278966177311785,
          0.7330953801270562,
          0.2511536234740408,
          4.142173028310069,
          -1.027578084887721,
          1.1563060308630024,
          1.6462617219564584,
          -1.6026529776339533,
          5.6615567930074855,
          2.4724322207503433,
          0.8362611227219257,
          -4.104044493824808,
          -2.992135583071011,
          -3.237142679615933,
          -2.567046264273338,
          -3.264996428255249,
          -1.6599169229197097,
          -3.6151089534519705,
          -3.485074054513444,
          -4.2020227735107145,
          -3.670462391210201,
          0.6432294059116919,
          -0.6071287069285194,
          -0.5748064160510222,
          1.8682625015593746,
          -2.5438730896278274,
          1.681333432430177,
          -4.007370084893111,
          -3.7681774819336544,
          -1.847135953798215,
          -2.089128241300899,
          -1.0991707711032452,
          -3.083214343394592,
          -2.334115728085259,
          1.0390613334335685,
          5.0689653644455195,
          5.6828158252886745,
          2.0694019935760806,
          3.5986869993694044,
          1.6277240989160482,
          4.658100673704203,
          -0.12706684409236807,
          1.6418367584012372,
          4.575288686082132,
          -0.4678912345580853,
          3.213428046463307,
          0.4688065626755777,
          -3.456778804292807,
          -3.1840701178476096,
          -2.1700637692205946,
          1.0995785967712548,
          2.757974424825179,
          0.46416748635909827,
          4.580793021084888,
          1.3116361024686174,
          1.9930218623386713,
          0.5099174590598511,
          5.314996791297494,
          -1.9954995090391137,
          -1.5367824216434471,
          -1.1863634794159585,
          0.9181150964725262,
          0.777680718826544,
          -1.5906791235390987,
          -1.0593987769684607,
          3.1964608861136736,
          0.2555815498945854,
          2.3334712652550365,
          4.252478770414903,
          -0.14394548533386967,
          5.0791945557418146,
          -2.13166165052151,
          2.515711625000871,
          0.7550422448250169,
          -0.724078421547638,
          0.35124014872471165,
          0.21581143258461374,
          0.05984986965469202,
          1.878559532888082,
          1.6694987924822946,
          -1.9137271280896977,
          1.6341381934975274,
          3.55599942397975,
          -2.800685757775312,
          5.414140649183225,
          0.4695132305500018,
          -2.360929402524282,
          -3.7740760119726295,
          -3.9876381405973893,
          0.4502767286758515,
          -2.2433826910159973,
          -3.1403922870219247,
          -2.092171187876968,
          -3.4668771419832662,
          -2.0469264186123235,
          -3.349815067172895,
          4.525777291294148,
          8.088571847377949,
          2.2345802686999474,
          4.555267859244423,
          6.097882652024686,
          3.8638051384351453,
          3.2536401879987813,
          6.277937389270648,
          5.721913209561325,
          2.508675986676911,
          5.136592557647098,
          2.7426643499728316,
          1.7207689246097644,
          -0.8496362895056369,
          4.238212535086191,
          4.187680644202621,
          1.98315348094155,
          3.239774839870886,
          0.5190229923215393,
          1.9083969473099924,
          6.354633474987605,
          0.689669233762157,
          -3.6618837267451583,
          -2.9672156730335875,
          0.26048740031274914,
          1.1842991005902608,
          -3.62703923880873,
          0.01964947471974967,
          -0.8187231302538643,
          -3.4182446561678987,
          -1.2066924888551878,
          -3.017411366681611,
          -2.742643355784446,
          0.6697355740858979,
          -3.0385202840847123,
          2.021764570758986,
          0.16516243684282672,
          0.04021022736284954,
          -0.2947222661008362,
          3.2534336314812284,
          -1.3394646024310382,
          -2.8204742493728987,
          0.43277778655316895,
          0.5788231887635605,
          2.9409514240345485,
          6.381326902767969,
          5.523588465386698,
          1.5851446867353898,
          1.8895420512208507,
          -3.858506611194362,
          -3.991682894266684,
          -3.6940860834578126,
          -3.218354069467257,
          -3.1848732350640527,
          -3.739032603581557,
          -4.007925478973724,
          -4.4353521532801485,
          -1.956753185372736,
          -3.5521814832762213,
          0.008467613848180216,
          4.342071615001873,
          2.4503836408764568,
          2.5751132481463364,
          4.519757990722191,
          3.028475132602864,
          3.4392583314779213,
          1.5769985575554533,
          1.646114685317401,
          2.4897754389246374,
          1.7719066984845437,
          1.377002722295618,
          5.318316771773597,
          -4.345016492939387,
          -3.8179814491809503,
          -0.6541504399872689,
          2.300770700302323,
          7.027600827000237,
          7.16557297153401,
          1.5656784795457859,
          4.464798564624023,
          6.08955049871516,
          5.691216498900602,
          3.737894767358958,
          4.754746042057619,
          -0.47441797451929674,
          0.1677278661765109,
          3.9484952292733246,
          2.983677589855312,
          0.12017013120833243,
          -0.5574976789313077,
          1.313137055516944,
          4.935026207004165,
          4.289296241375591,
          -0.06991845169956099,
          2.0386143098131875,
          0.8930346691064553,
          4.338957093075654,
          -2.48514448572747,
          2.7249455471759814,
          1.3003006827308774,
          -1.2296130014866282,
          0.12497569633730239,
          -0.6431598229919868,
          -3.8196356434634477,
          -3.8267187552741087,
          -4.341117958042458,
          -4.380796975732181,
          1.603311553127461,
          8.341837792101602,
          4.284116392694809,
          3.5870021467315936,
          3.83448657417797,
          -1.0796303247665693,
          -0.4202081779065274,
          -2.3907415353163413,
          -3.356326719921747,
          -1.7700414662394184,
          -1.7373472254136053,
          -2.428985915164142,
          -3.024241427241796,
          2.950410517219782,
          0.9516070718209725,
          3.3272231917494497,
          -1.8643264636726165,
          0.6243629229345826,
          1.2485605755135123,
          -0.443316203071116,
          -3.93503661195107,
          -2.4796814528065343,
          1.5824369360561474,
          1.1441804341883988,
          -1.9679118865607015,
          -3.6867856506943433,
          1.1362971731786262,
          -1.5790528897546134,
          -1.458624473682765,
          -1.7902891286480047,
          -2.934896584721439,
          -2.6589986983095573,
          -0.34964626709254903,
          -1.494793788622206,
          -3.5964181617673723,
          -4.453502367292157,
          -2.651462989185971,
          -3.894591980549784,
          0.7762600779779119,
          4.656577494244324,
          7.208833647399836,
          4.473965109797266,
          1.4642734732761196,
          1.872353607501843,
          4.764750027912861,
          -0.12415090684319958,
          2.417205706694956,
          -2.846517977625353,
          1.109940997966718,
          -1.6533513296517128,
          -1.588441609359851,
          -1.3714369104302264,
          -3.403684619116354,
          -4.225977692247482,
          -4.268067570240499,
          -3.7293672672994442,
          -1.7705790509623374,
          -2.889442318247516,
          4.548275924857566,
          5.073356550114076,
          0.6502456459152354,
          1.1161040386280014,
          1.3684550609403239,
          1.549155281979743,
          3.7992357327740556,
          5.0567442402658775,
          0.15350263153647925,
          1.6391393112073607,
          1.5603832882357194,
          1.8219920674703727,
          2.8425259191076444,
          3.8869801443129783,
          -0.7468333952509734,
          4.631571621896396,
          3.8911909630033907,
          2.0355104185028057,
          -3.182992040044328,
          -3.2695673709110715,
          -3.7218618159260424,
          -2.8682774535946582,
          0.3190352091928971,
          0.5757430582584098,
          -4.350937101311855,
          -3.5151784967408095,
          -1.506801375159049,
          -1.1421008549560623,
          0.05681183155161124,
          -3.8351532678849574,
          3.2128118589311345,
          2.378704490764114,
          -1.1976415613955111,
          -1.092744786896134,
          -0.7628513820282509,
          0.02784981595915713,
          -4.10212870469934,
          -3.8913893911923383,
          -3.5976447351182816,
          -3.239794191542323,
          -2.4503403063842804,
          -3.014450338088512,
          -1.9582372468785287,
          -0.876469088506,
          -4.08341518327891,
          -4.072489056747592,
          1.6273611001923547,
          -3.06499610205874,
          -3.30313743282628,
          5.959635426060379,
          -3.0354905832006653,
          2.870854737858504,
          5.178880052797058,
          3.693709218104748,
          7.584814100049882,
          2.2335327536847034,
          4.711642828743983,
          2.5218974414312707,
          3.9713128708547614,
          2.1174143344213388,
          -2.4834588856688122,
          -3.7588140120514795,
          -2.940165087143144,
          -4.1037145428708275,
          -1.0998272769101434,
          3.1461799517839864,
          -1.288522576528899,
          0.18540000578465868,
          -3.3944576096096464,
          -2.099574651723223,
          -1.6835226608657183,
          0.46159918725411886,
          0.17050176124582628,
          1.900825172637609,
          -1.83982733854725,
          2.52395618049872,
          0.852632503615212,
          -0.14829208847634542,
          0.032763817389466626,
          -0.8118485395837278,
          -2.3094152930391507,
          -1.3781142157060497,
          4.73294853418492,
          2.5116491247739594,
          0.40190188488671785,
          -1.2260302362872006,
          -1.2291922459294378,
          0.49582602614804694,
          -3.880138061627485,
          -3.657925579249297,
          -3.0218259628709445,
          -3.7652857424066295,
          -4.252620533184283,
          -2.4189778922731255,
          -1.4424913333655127
         ],
         "xaxis": "x",
         "y": [
          3.01819468498539,
          2.214252391131303,
          2.6331152338469463,
          3.217178997576667,
          2.3781762767698913,
          2.089486502098197,
          2.4905299812735864,
          2.9404010481427756,
          3.6344573750851343,
          3.8128685022658697,
          4.111578026924422,
          4.1681552465689675,
          3.304343274215556,
          3.4343948330544083,
          3.9977429386505885,
          4.161690555314495,
          3.274174306006782,
          4.144693267466738,
          4.1885130997090325,
          3.176999251557485,
          3.8383228432141228,
          3.6755665573316025,
          4.081163932364114,
          -1.4810276515539362,
          -1.9646822779437376,
          -2.033547476413444,
          -1.2129888097928532,
          -1.060120940731669,
          -1.1320290212977704,
          -1.3747178439153143,
          -1.8504379812087155,
          -1.977055262500905,
          -1.3349625490883716,
          -1.3726318566281628,
          -2.3928171817100923,
          -2.1240291178346133,
          -1.3302037469556658,
          -1.7750868863714646,
          -2.288893259241996,
          -1.454367196178134,
          -1.1909286578558769,
          -1.0439642951733443,
          -1.1739577801740457,
          -1.0557537883657666,
          -1.2419044310347813,
          -1.0376305760598872,
          -1.1675681733551901,
          -1.4190002895312661,
          -2.4731959448091465,
          -1.2208145165718742,
          -1.8574768946424012,
          -1.4015282084342124,
          -1.215594863628664,
          -1.5690955092989174,
          -1.1961191738160168,
          -1.2737481295864952,
          -1.6732439296360457,
          -1.3654185694816894,
          -2.4596922925217455,
          -2.2296381029936256,
          -1.9305930691256237,
          -1.5070413601715484,
          -1.5044286459939789,
          -2.0960012507746724,
          -1.6669260452171288,
          -1.5305535932705565,
          -1.641742455176062,
          -2.5461321556032956,
          -1.6453247331860543,
          -2.04967457382062,
          -1.292006946239217,
          -1.0316260708707763,
          -1.0558751946717009,
          -1.190289533232314,
          -1.012344689688074,
          -2.131509226574109,
          -1.4483204444348683,
          -1.2092847975639591,
          -1.83554286692561,
          -1.756462777149331,
          -1.7893340504569315,
          -1.2704143314615577,
          -2.127755392073127,
          -1.8039839420567734,
          -1.0720509835281986,
          -1.5897269274584738,
          -1.713751017809786,
          -2.2767365614489226,
          -1.9903801562720052,
          -1.177348009913065,
          -1.8827905170802233,
          -1.4411672564568283,
          -1.1357624361503524,
          -1.1764322522902657,
          -1.1958017512265062,
          2.894320563146721,
          3.2346191181632094,
          3.1012955693604463,
          3.330063449230238,
          3.3116904270228527,
          3.223760413814431,
          3.219272568719926,
          3.2634946764984325,
          2.9732801724926627,
          3.2502557119456568,
          -2.102022703841331,
          -1.0497723256076033,
          -1.2304225851730866,
          -1.329772228066754,
          -1.1736096637654823,
          -1.2800502792307473,
          -1.7130489466228753,
          -1.5628893923438094,
          -1.3672469619322403,
          -1.3009368796680874,
          -1.5616564669645712,
          -1.2132516648155844,
          -1.1757617354014267,
          -1.158549881858377,
          -1.1574898100649778,
          -1.3573063274098598,
          -1.708827620963214,
          -1.7283816832862002,
          -1.1756057107753823,
          -1.5566838056240937,
          -2.211046251704071,
          -1.8747388486792833,
          -1.1813938953154366,
          -1.1086800900231135,
          -1.0215654518313817,
          -1.1064963874618035,
          -1.187891117484509,
          -1.0431282267993807,
          -0.9896828754099002,
          -1.1311585396310941,
          -1.0466828989213746,
          -1.3682418495429565,
          -1.0440048601167866,
          -1.0955591830171556,
          -1.035742583869412,
          5.653160065162508,
          5.779747358295139,
          5.784143847928398,
          5.906701965531817,
          5.24867223811951,
          5.661767803089558,
          5.84975503592142,
          5.873060222212396,
          -1.1284712528268455,
          -1.1494052641857386,
          -1.0231705191975629,
          -2.1358487894126026,
          -1.056594330613729,
          -1.591622740763884,
          -1.1308210053375876,
          -1.0487372659226168,
          -1.1631461315786107,
          -1.2000087145462468,
          -1.281701299701894,
          -1.7380065680114067,
          -1.3040148307607673,
          -0.9956946838025482,
          -2.6165479028353866,
          -2.102721872453289,
          -1.6348667994461783,
          -2.23671600622487,
          -1.4945437353824356,
          -1.6243632806329042,
          -1.7034016772288592,
          -1.6023170406442262,
          -1.538548021177097,
          -2.44425870593459,
          2.699729417983037,
          2.585655746677915,
          2.133294608644331,
          2.0299939770235955,
          1.769521896232992,
          1.7541815158794798,
          1.7982183085509127,
          2.698934801597541,
          -1.327836134420175,
          -1.0545037347924375,
          -1.0801698545015948,
          -1.9985355254337618,
          -1.0785578293457072,
          -1.7896364127873248,
          -1.1444592475280269,
          -1.130829764224775,
          -1.1331498727437717,
          -1.126649536796453,
          -1.1547950105563496,
          -1.2738721761062022,
          -1.1021137815364135,
          -1.0644201290858406,
          -1.128256803124929,
          -2.0497979165540223,
          -2.0114026339954654,
          -1.0510430716602328,
          -1.1400845868942115,
          -1.2361729206488143,
          -1.3991086050242993,
          -1.6104403220444663,
          -1.2166202055737916,
          -1.3788367200724696,
          -1.5230039613775697,
          -1.216243277866342,
          -2.078083167464097,
          -1.4224184823225292,
          -1.2365171473154692,
          -1.1963277048127614,
          -1.5592472626218021,
          -1.237875425590306,
          -2.702114782247647,
          -2.019900613524986,
          -1.637135280419006,
          -1.2391699877432811,
          -1.3112998443221309,
          -1.1615299174551017,
          -1.0811470587581653,
          -1.6243047876200394,
          -1.1000900128044013,
          -1.3371512153096619,
          -1.423802482572175,
          -1.1808742525629612,
          -1.0999092709092653,
          -1.1922611838212487,
          -1.0231285949017555,
          -1.1970869940058144,
          -2.060445904308439,
          -1.2563503301602263,
          -1.3633301131385027,
          -1.104486821916321,
          -1.2617072877381552,
          -1.2696961417652932,
          -2.000051791995636,
          -1.2073310163912387,
          -1.3576327571678386,
          -1.1374136482977262,
          -1.0499443375358644,
          -1.1925105059499819,
          -1.1408064770315225,
          -1.1598799235163666,
          -1.0808141175454606,
          -1.2246245609666382,
          1.9108319945132928,
          2.5484239337456596,
          2.2639522923255875,
          1.9563255962546549,
          2.189853203941641,
          1.5402956066853073,
          -1.2267004584766994,
          -2.2042899091859613,
          -1.1701641293366736,
          -1.8125323382053353,
          -1.44968561775928,
          -1.2127133513883768,
          -1.7585682105801257,
          -1.1201559397581682,
          -1.3000295889786753,
          -1.5329145175765602,
          -1.4466508853824684,
          -1.3361402283888997,
          -1.1546723983703617,
          -1.1291071973149238,
          -1.1649315548655088,
          -1.3109033883101302,
          -1.0752121221926594,
          -1.0304939043870769,
          -1.1687339217855521,
          4.956134763165119,
          5.145455076818507,
          5.221824940602675,
          5.220489557024255,
          5.300526281491172,
          5.259105215484087,
          2.245934936069637,
          2.1840168589140236,
          1.7506445927517826,
          2.0873782884018603,
          2.648317433174551,
          2.2969425826376155,
          2.238448416722007,
          2.2512302242875273,
          1.9394216953173613,
          2.281950738630562,
          -1.1083678853333883,
          -1.1430573064898666,
          -1.2221466930045422,
          -1.2396200201968657,
          -1.2090940351727615,
          -2.0703804728608737,
          -1.129154571604281,
          -1.0213651171108873,
          -1.2577684429049463,
          -2.044979511401697,
          -1.7307647917892057,
          -1.5795540607140544,
          -2.040680921684162,
          -1.0898672514308538,
          -1.171968123339299,
          3.051592002071361,
          2.2611933570190037,
          2.6287085536941346,
          2.4781059850194485,
          2.9040782710015796,
          3.14181181272209,
          3.2172857418427583,
          2.9347544252294284,
          3.0186281815527276,
          2.209904350946246,
          -1.1329081542643071,
          -1.4954867270970948,
          -1.3791632592808676,
          -1.4516126354739691,
          -1.402466708656028,
          -1.1437838636405837,
          -2.2549412143439787,
          -1.59708788295982,
          -1.432735268221439,
          -1.2026904696722938,
          -1.2098077038374349,
          -2.168018182512248,
          -1.2979204955981403,
          -1.7878292641150464,
          -1.6482452144157551,
          -2.014105988911229,
          -1.527317937405205,
          -2.25483702023297,
          -1.3549164470230963,
          -1.732391789507542,
          -2.0180300281518266,
          -1.8120938526264907,
          -1.271351878232539,
          -2.141445701670378,
          -2.8094502048915704,
          -1.0570365787178868,
          -1.714871190283846,
          -1.0232161780652633,
          -1.2503198009023444,
          -1.2308038510174104,
          -1.443203601714655,
          -1.09911802459629,
          -1.1506621716992926,
          -1.3163820922028766,
          -1.2768557350415963,
          -1.146292483141942,
          -1.0605401830119172,
          3.47134110719657,
          2.695108330540761,
          2.8540663662136434,
          2.1925792799829145,
          3.1846904926024493,
          3.084208208845345,
          3.2527332687965296,
          3.474917265464427,
          3.346951036445128,
          3.2034451763577816,
          2.8572201507919726,
          -1.1495927918859272,
          -1.5259676326588767,
          -1.6900873621190415,
          -1.8804952995032171,
          -1.6137485714399296,
          -2.04019461224953,
          -2.1462582778505896,
          -1.3460607111722223,
          -1.3923402242712628,
          -2.4905933059579906,
          -2.5550773647986422,
          -1.5343049336548114,
          -2.0491029497340025,
          -1.2857028787629345,
          -1.2067974559158328,
          -1.058205625431005,
          -1.088986329188654,
          -1.8780158905217883,
          -1.1823663163242606,
          -1.1517997887272704,
          -2.2186779754567167,
          -1.4874112139254592,
          -1.3193644104352313,
          -1.154947252661905,
          -1.4072171305476702,
          -2.3724678345646697,
          -2.087447108150173,
          -1.6355058670444425,
          -1.239638569544582,
          -1.5867580294915216,
          -1.4929245340096993,
          -2.2548359009218157,
          -1.3722728400263808,
          -1.7656632682385935,
          -1.8564294776869943,
          -1.4231844805617364,
          -1.7123582256536578,
          -1.8310996332399143,
          -1.927690623379929,
          -1.5957352108409746,
          -1.9121449045982142,
          -2.4407038509129744,
          -1.0402392783556258,
          -1.6129989378054475,
          -1.853076306569033,
          -1.526608791031273,
          -2.7574026426258875,
          -1.3484605499624485,
          -2.2883020650603565,
          -1.0143254138392137,
          -1.4918779889367915,
          3.06333107974381,
          3.1494577381683038,
          3.132751784380316,
          2.4140985045947607,
          -1.0393226494420347,
          -1.0618745736847806,
          2.94449226415245,
          3.341967343204679,
          3.2525156306635687,
          2.9940699761162075,
          3.093781073953484,
          3.1849334122464374,
          3.3069141423575426,
          3.1022073768874225,
          2.7663877635371854,
          2.3405321477798364,
          2.799316561059033,
          2.826940435828962,
          2.0189212657202313,
          2.49545776211213,
          2.822779368679027,
          3.1181190939047214,
          2.0166353465856606,
          2.7152599000241295,
          2.80489716984086,
          2.515793118649655,
          -2.4013992266196937,
          -2.3772762136420544,
          -1.4592984778729852,
          -2.465140661715019,
          -1.4659394174726887,
          -1.87835178976668,
          -2.2641271261566946,
          -1.6746822146284814,
          -1.8127426975200929,
          -1.522235166466541,
          -1.1875046890895677,
          -1.085260242800629,
          -1.114553188826506,
          -1.0216659049712302,
          -1.3030226712166955,
          -2.1183120770013972,
          -1.172470136741458,
          -1.0726070204453504,
          -1.1740317618801015,
          -1.6182456245210404,
          -1.1952935341647097,
          -1.6298179940291198,
          -1.2582453826225104,
          -1.6468666282303728,
          -1.3549125169269502,
          -1.1615880073529152,
          -1.3430815562695158,
          -1.5860555310346764,
          -1.456037413588759,
          -1.2165280426081226,
          -1.509264569624127,
          -1.260765010948245,
          -1.125605474034885,
          -1.0295921448254721,
          -1.0314058533330561,
          -1.3305067600230989,
          -1.3269913782966911,
          -1.0088263662324892,
          -1.6582330291528262,
          -1.2885900528346577,
          -1.2478963153184837,
          -1.4716555721092466,
          -1.3116439729415854,
          -1.5098227092681145,
          -1.454199404372303,
          -1.2389851429511625,
          -1.4922447973939363,
          -1.6778697338881503,
          -1.267359534817834,
          -1.4862433852419712,
          -1.1291221138005565,
          -1.3003111562347958,
          -2.0018058684302953,
          -0.9997011839620497,
          4.5118570383001835,
          4.385360634464635,
          4.424516568901961,
          4.6360508458801695,
          4.254289691456855,
          4.775881799457308,
          4.124098426372762,
          4.855452686159988,
          4.712455818503551,
          4.449486296415913,
          4.220593889246679,
          4.570829920912121,
          4.586046866326822,
          4.177350454251658,
          4.3696709125951365,
          4.052683710529828,
          4.346116523438346,
          4.211619740554471,
          4.147838943571911,
          3.562413190055295,
          4.111199093562976,
          4.444516128561944,
          4.219503181957292,
          4.072229137702454,
          4.030727062721212,
          -1.031406965627196,
          -1.2230334078737315,
          -1.2061478761605544,
          -1.019254100092225,
          -1.0970510357270544,
          -1.0853873609669062,
          -1.2672752096816913,
          -1.0331249469146155,
          3.652449629602887,
          3.2132297437517523,
          -1.4206260390969756,
          -1.9507903007432108,
          -1.059816392534957,
          -2.253640958356049,
          -1.0619095344239042,
          -1.517599079306652,
          -2.0129157334469006,
          -1.2257917399929499,
          -1.1183797135929743,
          -1.6757444066137184,
          -1.0893400621807068,
          -1.867595277399359,
          -1.2785864267141396,
          -1.3572647404857598,
          -1.1018227571938524,
          -1.1470232347229112,
          -2.194833321067185,
          -2.2720296842923378,
          -1.6191765103194826,
          -1.34633447551474,
          -2.4183104921286054,
          -1.6044395717785103,
          -1.5784068661461501,
          -2.1527260678064555,
          -2.213890917987602,
          -1.5443550619662745,
          -1.429545072945674,
          -1.3098174520014905,
          -1.3101830213204426,
          -1.194860860050812,
          -1.1224881054557527,
          -1.4072051629340194,
          -1.5983753169302997,
          -1.1796330793641228,
          -1.4191521029620435,
          3.173500517956579,
          2.69799645101743,
          3.045248052277482,
          2.649402084936498,
          2.62362272305227,
          3.222653322814318,
          3.044086289819351,
          3.324470376740679,
          2.590213516147211,
          3.2728144207451946,
          3.6193254566294475,
          2.735558318603223,
          -1.0892939406213615,
          2.9728306998329406,
          3.1023469335543883,
          2.6872804484899726,
          3.3474862519257647,
          4.451346666600815,
          4.4944542468821504,
          4.789037055179364,
          4.682639606505562,
          4.195592464790824,
          4.707703376453037,
          3.7646588744504577,
          4.312350426295741,
          4.3822535706272525,
          4.4249298638415695,
          4.6275969058866,
          4.553373514842856,
          3.902545127335687,
          4.180862074091665,
          2.8877943470498426,
          3.0173690239356117,
          2.743646997612508,
          2.8018844785739736,
          2.7534355505649173,
          3.0025347368357327,
          3.1504526436616094,
          3.3657075159531638,
          3.1548205991020875,
          -1.218971918711773,
          -1.3907042009410506,
          -1.5315768936924996,
          -1.2330590173893072,
          -1.3679283886784794,
          -2.032896620478754,
          -1.37797355247076,
          -1.471872134879094,
          -1.465831495372643,
          3.4777431252740985,
          3.453281143214022,
          3.376272385011495,
          3.5588832070607337,
          3.3094421826212956,
          3.3576745921484514,
          3.6460155293453567,
          3.23978421644013,
          3.539473792553025,
          3.440716007599738,
          3.623930683252828,
          3.5382256246278767,
          -1.3908372879187336,
          -1.0430824421923097,
          -2.148995936370127,
          -2.105060511434211,
          2.942045654981612,
          2.2902636054081187,
          3.4858271990239977,
          3.530675555150613,
          3.475342950779893,
          2.795497515140769,
          2.2441138420660582,
          2.535238605502295,
          2.450322036331343,
          3.095628036165502,
          2.5457806013132442,
          2.4453244323453784,
          2.9840324572251227,
          -1.128583246825313,
          -1.1180028247225025,
          -1.1372368677310334,
          -1.2553043793299739,
          -1.1345882009545152,
          5.134388988215925,
          4.208587432602215,
          4.9924787565806215,
          4.750411772830967,
          4.993601825177268,
          -1.2310155632512498,
          -1.0849046220659613,
          -1.2675199222019018,
          -1.2100415320821543,
          -1.3368979649630852,
          -1.0451231531586007,
          -1.436588515231897,
          -1.1841413747764415,
          -1.8099081500370955,
          -1.1782131413236787,
          -1.9706957455119123,
          -1.7924842836664339,
          -1.9041164467428031,
          -1.1041991342354747,
          -1.5548898788389958,
          -1.0971654442850332,
          -1.3803118058433084,
          -1.9075970335129244,
          -1.6017236451062324,
          -1.7297216552055272,
          -2.198523608870123,
          -1.0528437959802004,
          -1.2721458602338298,
          -1.2828743649487777,
          -1.427356108144696,
          -1.1549276230743664,
          -1.1766647885118247,
          -2.1899616958136354,
          -1.0568971720004596,
          4.920441099151817,
          4.967501613960823,
          4.785827445143508,
          4.92925050852058,
          5.109722237186886,
          5.080609129668294,
          4.710773605016271,
          5.099997829870231,
          4.249276899902637,
          5.014762869748321,
          5.072614270967988,
          -1.288423495952126,
          -1.725214448000929,
          -1.669455350942506,
          -1.20728195028991,
          -1.2720163442435524,
          -1.1533727404995158,
          -2.1885247781381847,
          -1.1406300910141394,
          -2.2413336523189358,
          -2.179116767900992,
          -1.954608952717402,
          -1.3655477523389552,
          -1.174293187884761,
          -1.450715559081474,
          -1.413347227881149,
          -1.3195720939917914,
          -1.4222455576874249,
          -1.1489624257836824,
          -2.3292546889900474,
          -1.3748807628954043,
          -1.376107843764599,
          -1.3402834774768146,
          -1.1934575475739866,
          -1.4212888986740766,
          -1.097848710613467,
          -2.118457470412134,
          -1.4280705975147394,
          -1.787060817328584,
          -1.848494501456704,
          -1.2213916480569396,
          -1.4687336174739216,
          -1.1847113300801762,
          -1.0685724862661201,
          -1.9997601024035858,
          -1.2268109236360107,
          -2.242743633893603,
          -1.2200707976908345,
          -1.1590161390079194,
          -1.0392970074823056,
          -1.0900974641231245,
          -2.4569779081384224,
          -1.2170489628787455,
          -1.206078581385706,
          -1.5421667862690327,
          -1.325861272933461,
          -1.2475310662681864,
          -1.4432303463708056,
          -1.2932629156314803,
          -1.5828544346007547,
          -1.3534213691119095,
          -1.1960229915843077,
          4.32815214221182,
          4.255371706213518,
          3.369919052504178,
          4.055873203109894,
          4.215274007043031,
          4.116085414810033,
          3.7328017525677004,
          4.138589840001796,
          4.294115711107784,
          4.234148066813955,
          3.8265091519069556,
          4.159358079690148,
          4.492490689106769,
          4.146732376778108,
          4.290119259217188,
          5.781722323215867,
          5.204329117579632,
          5.762020450971569,
          5.469025090037617,
          5.7254765783281965,
          5.783161057403758,
          5.760730473873562,
          5.546842225032112,
          5.624129649764803,
          -1.3009610312953235,
          -1.4424181067991773,
          -1.1783348955041357,
          -1.333929305532636,
          -1.7430993168726685,
          -1.1321626307353518,
          -1.1889964965317437,
          -2.091351520530925,
          -1.052502077171808,
          -1.9781645651979873,
          -1.1685248859840183,
          -1.1195739175261676,
          -1.42925783066967,
          -1.4247708876762801,
          -1.3497575915732598,
          -1.0507499493488188,
          -1.325612444266509,
          -1.394536061005726,
          -1.5907801601953897,
          -1.1291343766795416,
          -1.105198594911798,
          -1.172219395298789,
          -1.0330974197029779,
          -1.139169116130066,
          -1.1051973360335035,
          -1.2363033976904176,
          -1.1962198253431062,
          -1.500124405593055,
          -2.2049292973055015,
          -1.3093502320760533,
          -1.0877960669884645,
          -1.361576294886041,
          -1.1222893914307517,
          -1.4827118131297328,
          -1.3059332820957228,
          -1.387115386666013,
          -1.9248708848153457,
          -1.232062351108036,
          -1.1984263551194507,
          -1.4625111229282086,
          -1.3699172571943738,
          -1.501055535792895,
          -1.1317823225879835,
          -1.593962076458538,
          -1.3339263406768398,
          -1.5496876919824778,
          -1.2238193087991487,
          -1.4147919498551642,
          -1.4621635226638303,
          -1.2145434962145483,
          -1.1418226681626946,
          -2.108004992519417,
          -1.1833476862883032,
          -2.23376785651414,
          -1.0363883555035778,
          -1.069748698071369,
          -1.3309993281404409,
          -1.008858484751545,
          -1.3000752966763713,
          -1.3402867924670732,
          -1.073487586035348,
          -1.7018833960815736,
          -1.3874714277176856,
          -1.0289421273220043,
          2.5961868911369597,
          2.5304015130470603,
          2.523377434236911,
          2.7470356447062505,
          2.530319237326601,
          2.6126279599222495,
          2.8119756990446843,
          -1.1210993842231738,
          -1.1619399197856313,
          -1.3972159089787979,
          -1.2321697785955819,
          -1.3461985999324864,
          -1.1211188666634926,
          -1.204063120800792,
          -1.3446734902731687,
          -1.403211995426181,
          -1.271239957582587,
          -1.3346358398900835,
          -1.2055332697364054,
          -1.046137824912226,
          -1.2254791604551107,
          -1.076139785315677,
          2.6657050471444697,
          3.3457346949388596,
          3.2327938748054366,
          3.344402500577215,
          2.5792438786303244,
          3.6229710596611704,
          3.58903381798175,
          2.4669045611966602,
          3.366234810298045,
          3.477417505795233,
          3.4264124135654597,
          2.77701851406881,
          3.596555304686864,
          3.417367294607827,
          3.61895479924832,
          -2.4871133642499292,
          -1.8393594309966204,
          -2.3999401915860314,
          -1.5708842505147214,
          -1.9006009850212908,
          -1.1669350899087272,
          -1.3164023186104499,
          -2.4837905515652987,
          -1.1533205815809349,
          -1.6706477226446235,
          -1.3546062989024872,
          -1.5287730122002205,
          -1.414111680145131,
          -1.385330324599042,
          -1.6474055424817569,
          -1.381537646867643,
          -1.5936863320318266,
          -1.350149988620026,
          -1.2900345325321891,
          -2.6077863651351305,
          -2.0887333585980192,
          4.677379728719475,
          5.525375631921995,
          5.731474795270526,
          5.6098384606442515,
          5.607670382534279,
          5.590434624750064,
          5.691611276228644,
          5.707190483235229,
          5.730729139806735,
          -1.2701763226456635,
          -1.4916838557809284,
          -1.0343417066407634,
          -1.6844416182418993,
          -1.0888426832869855,
          -1.054622154366618,
          -1.3863712756596889,
          -1.136514951302888,
          -1.1395797701480213,
          -1.174906688127324,
          2.1997205265052178,
          2.163612856848399,
          1.648849232014411,
          2.4204528825398848,
          2.506715225259726,
          2.1184764129149016,
          2.197353491367206,
          2.3416575594462037,
          2.668158070071172,
          2.6366269602997625,
          2.3786671360879463,
          2.5279299088354836,
          2.0810037358914637,
          -1.1496860181293571,
          4.580171710963463,
          4.539045015005192,
          -2.078548524800357,
          -2.0452953682893056,
          -1.0357532270598562,
          -1.4315317405866639,
          -1.035782549310872,
          -1.2427590415541572,
          -1.9171226092743427,
          -1.6834507814645043,
          -2.028506248365102,
          4.554430170280357,
          4.460943002064423,
          4.3950633365008915,
          4.192932778984129,
          4.161296377408715,
          4.535333076234333,
          4.549185132990407,
          4.56817685369827,
          4.529807720091194,
          2.968569573101522,
          3.1585882712672158,
          -1.3833986474325226,
          -1.1837424627651014,
          -1.2978512310032995,
          -1.481928152106886,
          -1.343416028440933,
          -1.3735627077713144,
          -1.9821610300989345,
          -2.02008115721912,
          -1.4255490843835674,
          -1.8645763393087824,
          -1.32190514175521,
          -1.4239619073307586,
          -1.1861713789736104,
          -1.1103039195014117,
          -1.126747026780074,
          -1.68362088093802,
          -1.3264002045658505,
          3.2125575383093663,
          3.464561643115832,
          3.638873751729752,
          2.919182778802965,
          3.0508682238089673,
          2.6004975426987325,
          2.6023724780831854,
          3.533481736439331,
          3.3422351169074775,
          2.765999255450732,
          2.7251095740551077,
          -1.2956265326359138,
          -1.3592289859355082,
          -1.1923936570287508,
          3.181381215973127,
          4.076840963638586,
          3.918618692263664,
          3.4650380960012255,
          3.261247831423646,
          3.3607976729430615,
          3.9568561761827503,
          3.516133474208931,
          2.5137872209656775,
          2.4174564787222588,
          2.059506152189719,
          2.5755901762305626,
          2.278035815292161,
          1.7149038412791926,
          1.9244085154743802,
          2.0221565026633654,
          -1.12087929162665,
          -1.352186528250724,
          -1.3970831374370307,
          -1.602687103164364,
          -1.4370149002522374,
          -1.858880352977293,
          -1.6457233225796335,
          -1.5282982055153584,
          -1.1300063723119267,
          -1.4843201166508668,
          -1.2142218423056559,
          -1.1496860181293571,
          5.139731100613503,
          5.206209739030154,
          5.188900334379024,
          5.212230830094653,
          4.9278588653821656,
          -1.0297110348469551,
          -1.2533701199001301,
          -1.331514678664839,
          -1.1546966245283488,
          -1.0377573030908605,
          -1.0418580470485506,
          -1.060220333298792,
          -1.2837056143547574,
          -1.1341331697616908,
          -1.1161616898047992,
          -1.3290182727333266,
          -1.1198495833519595,
          -1.3197048284368453,
          -1.3774727385796461,
          -1.1763994772037616,
          -1.984276573196944,
          -1.9983392805434421,
          -1.439256844208686,
          -1.411263646564314,
          -1.8732384500847437,
          -1.9678997476056888,
          -1.1131703657426708,
          -1.0710201730214663,
          -2.061444004321642,
          -1.2548620740799168,
          -1.3911038027259763,
          -1.0712133243193767,
          -2.102544955363185,
          -1.2201871587495148,
          -1.3048136696407606,
          -1.3003930851155194,
          -1.4495128934950043,
          -1.7588480035921772,
          -1.9380623263150063,
          -2.1139032464918666,
          -2.3319519441373164,
          -1.9802123909776177,
          -1.4856805468595473,
          -2.0499454272353916,
          -1.242124696252293,
          -1.1535414951207938,
          3.3730342976482017,
          3.974823538748289,
          3.36434900001719,
          3.478286377445436,
          -1.3288020957255415,
          -1.5839976187218905,
          -1.5024347873734154,
          -1.3330335238219122,
          -1.9615712363053623,
          -1.3623081314380423,
          -1.016024153812627,
          -1.774067024482991,
          -1.3522198561495928,
          -1.340233466635752,
          -1.3839934184109373,
          -1.316857160769715,
          -2.081135422244221,
          -1.1987579710431917,
          -1.6749246798429465,
          3.27436262276673,
          3.239283428102273,
          3.588567585495542,
          3.4743960782923775,
          4.216050678460898,
          -1.0454940068042426,
          -1.203818462478837,
          -1.383526960060651,
          -1.998003563310565,
          -1.1959959384002978,
          -1.332162141282446,
          -1.142681852161666,
          -1.1473610408415158,
          -1.3356315103390402,
          -1.0193355464310214,
          -1.0067489651874555,
          -1.5730790397046182,
          -1.3387256575118567,
          -1.2619501243790605,
          -2.142920953396313,
          -1.194980440365222,
          -1.8361605353919492,
          -1.1872988870017283,
          -1.3552758331637735,
          -1.5761183549358637,
          -1.032742961735837,
          -1.0984141570584816,
          -1.3842851659494952,
          -1.2885217374940667,
          -1.607010888369022,
          -1.4850308506995649,
          -1.1785344148358765,
          -1.7224926734733566,
          -1.1345628101477143,
          -1.873028288323484,
          -1.3614931934968724,
          -1.5887717429250716,
          -1.8850001931071403,
          -1.94060064661054,
          -1.4067857567583113,
          -1.5654614208828468,
          -1.150505370332255,
          -1.5178878806140321,
          -1.7394620201381394,
          -1.6657811413304453,
          -2.0542269534103674,
          -1.3612958439870047,
          -1.0441190050078661,
          -1.967200023741811,
          -1.1879913541810834,
          -2.130682540552867,
          -1.0905911176733425,
          -1.1468518915070434,
          -1.1971832236088478,
          -1.1121425231045647,
          -1.551976093935497,
          -1.1888721195689338,
          -1.3223579808526071,
          -1.1169285888751634,
          -1.2049071752299123,
          -1.0156470389725376,
          -1.8358027573268596,
          -1.2591158232681576,
          -1.0746060874582575,
          -1.2149158730986178,
          -1.2301888894433337,
          -1.432977996784696,
          -1.7937824108709848,
          -1.3281940975550073,
          -1.2085971407693763,
          -1.0350823623201524,
          -1.1557871774640867,
          -1.0527706564927957,
          -1.1967663851310772,
          -1.1940324503821544,
          -1.3530494354539548,
          -1.7499263869013761,
          -1.1620809660026368,
          -1.2691137767199543,
          -1.427913866212081,
          3.6935762730935062,
          4.333750732062851,
          4.770600853749808,
          4.376701082026419,
          4.519398990490863,
          4.6767476396346215,
          4.836353095252843,
          3.668056169254071,
          4.8453003052249315,
          -1.7566677567199236,
          -1.4796488121676357,
          -1.2370408150953878,
          -1.7120918580452162,
          -2.213634465894257,
          -1.4645550073413498,
          -1.9993212366081,
          -1.392340148040905,
          -1.182410478032469,
          -1.0212539411705117,
          -1.9395054153368327,
          -2.0935528376632946,
          -1.8103915344037063,
          -1.8066163195238318,
          -2.4443262678035578,
          -1.0625107069269808,
          -1.2683914185937142,
          -2.2239906944088728,
          -1.0584221457589025,
          -1.1418396329020237,
          -1.0493442971989906,
          -1.7822605835907905,
          -1.2664341621440358,
          -2.1143478617238642,
          -1.2125451543749435,
          -1.1729051396382413,
          -1.4735208285975803,
          -1.8018518593516815,
          -1.4083607902141222,
          -1.102765541924985,
          -1.1223946826504083,
          -1.6247116821366123,
          -2.4542449125504806,
          -1.90601149999209,
          -2.238559338383131,
          -1.4661491184454276,
          -1.5431270334541338,
          -2.2986829800568573,
          -1.4491938704429626,
          -2.3987884104083497,
          -1.226100700442931,
          -3.076189830651609,
          3.241887612404421,
          2.2634973345668103,
          2.471755203374027,
          2.917902336255351,
          3.340514362012265,
          2.7872883093339973,
          2.0817222921180667,
          2.957761238962169,
          3.1727841650162403,
          3.087022611746393,
          3.1602474716730713,
          2.9359471986060557,
          3.043452141537307,
          3.572492139569767,
          3.6135446398722326,
          2.650069639839578,
          3.752327384969608,
          3.4815457630202733,
          3.7645518615184166,
          3.9791627278397783,
          3.2797110243380674,
          3.6610700318277565,
          3.6980465965547933,
          3.529721976840669,
          2.801795767717944,
          3.6962039271533524,
          3.1285313558063224,
          3.560023406854958,
          2.998152236209259,
          2.7012730677162944,
          2.777986912355792,
          3.039897328747862,
          2.571100843392393,
          2.757270142758519,
          2.6277247911609583,
          2.6815335582145674,
          2.8962352782860754,
          2.717715134228699,
          2.801366604943784,
          3.6697277409722964,
          3.3837586464129643,
          3.5507381251740746,
          2.9497159335679477,
          3.118006920232046,
          -2.03464590047747,
          -2.316203835897595,
          -2.3286386862895965,
          -1.876123393077585,
          -1.1231763431994022,
          -1.2760761562417258,
          -1.9629780436188153,
          -1.5288448173319455,
          -2.166089797109192,
          -1.94542672286387,
          -2.538204820431744,
          -1.461928297674038,
          -1.8538087670639747,
          -3.0799961469669834,
          -1.447038817260842,
          -1.222075249086829,
          -1.827410776294066,
          -1.1591912745891197,
          -1.0791083642490515,
          -1.1352422735337324,
          -1.1556953627673903,
          -1.4372634450045472,
          -1.0439950688402002,
          -1.0414707469114775,
          -1.0315184111059454,
          -1.569112274167385,
          -1.1291197400914874,
          -1.1518606849140818,
          -2.686359547122589,
          -1.0508186941396251,
          -2.1412387348487147,
          -1.6093140587265864,
          -1.3480064708626276,
          -2.0663484911415364,
          -1.2398812216253696,
          -1.4447742623732782,
          -1.222442933220451,
          -1.5519403989104887,
          -2.2585121653755547,
          3.748013632801751,
          3.7218168788095034,
          4.020217752259949,
          3.7855138660593872,
          4.096249020374355,
          3.970297458255083,
          3.238275133981694,
          3.95300396363547,
          3.9640757951027084,
          3.042851123307964,
          3.963146556879993,
          -1.3023634609633339,
          -1.3108252961625575,
          -1.416943924255574,
          -1.245155052474413,
          -1.1315044736738968,
          2.4918796872971516,
          2.883620059357519,
          2.4272445194311527,
          3.231939874085038,
          3.079295548922998,
          2.8079878848184405,
          3.1721867830040558,
          2.3889523455729087,
          2.816163102854721,
          3.0774423901561434,
          3.099190185680109,
          3.098379782340041,
          -2.213345225625252,
          -1.2269475522323174,
          -1.282059015571225,
          -1.865784609186754,
          -2.1245024483367927,
          -2.21215564100823,
          -0.9936625692594124,
          -2.0573322034032926,
          -1.1422091820757094,
          -2.217698478451482,
          -1.5145886360534,
          -1.4460006878306764,
          -2.1919528517944613,
          -1.4628394915162197,
          -2.516333298124912,
          -1.4500208566210215,
          -1.0456430594578998,
          -1.0960783439100577,
          -1.0476747980606502,
          -1.2160641312239908,
          -1.0326639243575102,
          -1.2222537311531114,
          -1.0456873980824444,
          -1.254651767163511,
          -1.0988002995924275,
          -1.3939144115869464,
          -1.1722161285365302,
          -1.0341741418584092,
          -1.1107700118389816,
          -1.043645426898319,
          -1.4255876327433632,
          -1.2887405763981357,
          -1.4529228115431128,
          -2.2140860121929355,
          -1.6772015225552521,
          -1.3795208780277322,
          -1.1265633221865643,
          -1.4933709291342134,
          -1.2420424983043523,
          -1.0493076356237525,
          -1.1556946269911117,
          -1.0540726114805103,
          -1.1478695174675086,
          -1.1963333347304512,
          -1.1241294831106057,
          -1.4091097528106973,
          -1.8226578187104692,
          -1.148342182808082,
          -1.0382885203860772,
          -1.0499426142025106,
          -2.187945507564741,
          -1.1521660970401912,
          -1.1804598551792225,
          3.40574288881103,
          -1.202045483723947,
          -1.1697779642187633,
          -1.43178755129115,
          -1.0417922286719608,
          -1.044668168623367,
          -1.1510477628531017,
          -1.3711023763061887,
          -1.201039930646928,
          -1.7943601727126643,
          -1.1413843658127074,
          -2.207957047436495,
          -1.8797320629847476,
          -1.2395266761034487,
          -2.0394927851438966,
          4.869176242291125,
          4.517761231787206,
          4.8343341803478035,
          4.297238140839269,
          4.266280631069987,
          4.420883380018686,
          4.5663745206234845,
          4.558724809636713,
          4.457599779407812,
          3.6152503457209786,
          4.525913953918755,
          4.380629027814379,
          4.567607771862149,
          3.673593697117898,
          -1.254902295905741,
          -1.5702352314383208,
          -2.2090626312534427,
          -1.367989706920275,
          -1.5088075022915202,
          -1.8224154927913225,
          -1.2562833586517728,
          -1.4079182580316665,
          -1.8336710320304936,
          5.091935140866192,
          4.383799235235036,
          4.075329538085417,
          4.413993208010789,
          5.027670492612563,
          4.789691895272622,
          4.72651307105283,
          5.073529061881838,
          4.000267115179696,
          4.648338657562394,
          4.775107770355086,
          -1.0415692657941962,
          -1.2165160562651498,
          -1.1349827563166481,
          -1.194395402143854,
          -1.1654201553899122,
          -1.3641039370762875,
          -1.1392421312203933,
          -1.1449774513118984,
          -1.0711458343489968,
          -1.1044994519249913,
          5.495308546730011,
          5.534526762693078,
          5.378388499756853,
          5.280444359439924,
          5.753826486123895,
          5.248490331006927,
          -1.0463688170842218,
          -1.0457348803270465,
          3.9629280044833037,
          3.953192486931732,
          -1.179741551982855,
          -1.157458567908795,
          -1.2068509716079796,
          -1.5677257320912257,
          -1.9582017298627226,
          -2.0043084652870835,
          -1.5635878745964036,
          -1.7433951356612019,
          -1.516526601021338,
          -1.7663320234871818,
          -1.3264182603284695,
          -1.5708512327658701,
          -2.2166185034200256,
          -1.2447388158899542,
          -1.9735215737241332,
          -1.369256262524202,
          -1.0745640306847801,
          -1.1596812454329937,
          -1.3258006045019572,
          -1.484815445158356,
          -2.0202710556624557,
          -1.4653765394831204,
          -1.9250429314697015,
          -1.4745770860199956,
          -1.4926581827494934,
          -1.3468242421448442,
          -2.016030080600132,
          -1.302352630050633,
          -1.2180856923784174,
          -1.2291430572745403,
          -1.4946252284112147,
          -1.5587026741367453,
          -1.2729666080801894,
          -1.1999413045652256,
          -1.66381739104188,
          -1.324376936510395,
          -1.946901711059241,
          -2.078922503955888,
          -1.3234683631971367,
          -2.2514639221478685,
          -1.1365027488721517,
          -1.6106548445336075,
          -1.5067475919620503,
          -1.8884507671308308,
          -1.3738617648739884,
          -1.391983789765441,
          -1.4114832919597697,
          -1.4670448414559063,
          -1.651969306526022,
          -1.1716207878172358,
          -1.5953584078104315,
          -2.11776958544711,
          -1.113382057482406,
          -2.3047043410611643,
          -1.3790017153404157,
          -1.174608866809827,
          -1.0960583886655857,
          -1.0493752276741477,
          -2.4071271298639205,
          -1.2804550956473415,
          -1.1023374726501851,
          -1.1792528063934296,
          -1.1364078064478764,
          -1.2600669965496893,
          -1.1538640179861601,
          -1.7985042862528782,
          -2.6118391725955195,
          -1.9706063769837454,
          -1.8854208584537464,
          -2.0045859481777395,
          -2.034895162128137,
          -1.584642492603501,
          -2.0816686499941848,
          -2.321547648917623,
          -1.576555107550545,
          -1.9469432720404525,
          -1.8115905694398577,
          3.4106380469190385,
          3.5463666355529777,
          2.820059074352477,
          3.146543612694979,
          3.4125417911485565,
          3.2784341882543644,
          3.559727409035386,
          3.358998437914031,
          2.6405685820513236,
          -1.34859297676726,
          -1.126827616319719,
          -1.2315086191976128,
          -1.4397491928861659,
          -1.4697359680214737,
          -1.100848804257399,
          -1.4667877798128135,
          -1.7956577432479877,
          -1.1247950162208662,
          -1.3145818274739796,
          -1.122216673347562,
          -1.1442372815760333,
          -1.4521748513886004,
          -1.2161976685783547,
          -1.4765505573297235,
          -1.3331156026619968,
          -1.4651364178261008,
          -1.2867526449298254,
          -1.63412964430535,
          -1.1516858730120743,
          -1.1439331193841444,
          -1.4240067566104597,
          -1.3480382148231327,
          -2.0850152340349455,
          -2.392166039186469,
          -2.6116195229167687,
          -1.5836866430280225,
          -1.5270115812781533,
          -1.0638013205005712,
          -1.044577105239099,
          -1.0407582654259113,
          -1.2162421824797325,
          -1.1641422686561549,
          -1.1679682975506047,
          -1.0451540644780406,
          -1.122351565549389,
          -1.3832189334331193,
          -1.2561466330531563,
          -1.302043644726405,
          -2.3727918908898906,
          -1.7373291537816742,
          -1.583424573525913,
          -1.9621610697031577,
          -2.084343505090246,
          -1.758914590077291,
          -1.3186522076965188,
          -1.9115188912903012,
          -1.6114957713151499,
          -1.5285333793614553,
          -1.4061343845792473,
          -2.1858207701785495,
          -1.0775012611083274,
          -1.0682435961931684,
          -1.350208662307898,
          -1.5615310074698334,
          -2.4695935782251066,
          -2.0693449275418465,
          -1.3539947358919058,
          -1.7579935370684607,
          -2.232659509122753,
          -2.3702858406545566,
          -1.6865605173320932,
          -1.784175902116007,
          -1.1824900763959985,
          -1.2692978591150101,
          -1.6729618830709523,
          -1.9257295910751742,
          -1.3394404738877266,
          -1.247297207710168,
          -1.8812144545877512,
          -2.239298852677597,
          -1.719694495526255,
          -1.3555538354502752,
          -1.8381584557657098,
          -1.5147601877619947,
          -1.8723552387827136,
          -1.077579482942771,
          -2.37070412404089,
          -1.9167218433035018,
          -1.1997563071236592,
          -1.3414600997849497,
          -1.4638979289538094,
          -1.107980302504313,
          -1.1572874770090273,
          -1.0574593703948385,
          -1.054323974120454,
          -2.094894229397702,
          -2.634474644241637,
          -2.097290210988698,
          -1.5996426579229184,
          -2.0833871675030955,
          -1.118672449553222,
          -1.1191790371438293,
          -1.1552058973236259,
          -1.0415846494150542,
          -1.2636607501515742,
          -1.262834823659672,
          -1.172157929381112,
          -1.051483330095519,
          -1.7119295027936354,
          -1.410798230991465,
          -2.42082266359787,
          -1.1138341635878686,
          -1.4393328025741576,
          -1.4474720899216118,
          -2.1124992807213805,
          -1.043715294438542,
          -1.208041159207899,
          -1.9074300366049766,
          -1.475185250879924,
          -1.2640827497716016,
          -1.105602350168284,
          -1.482258053467461,
          4.865376547812249,
          4.843655506337802,
          4.831549910321104,
          5.041410056623108,
          4.881577172928652,
          4.712593476252155,
          4.882606085829475,
          -1.1202397200503293,
          -1.0468269312265022,
          -1.3972507606553586,
          -1.0287439478817444,
          3.5055868618273793,
          2.7855463546361574,
          2.7762917809680068,
          3.0464014785519837,
          3.4382560974296825,
          3.3949845158078964,
          3.0330872042505486,
          3.6021908308528525,
          3.3576993967248003,
          3.798861082228346,
          -1.5059763640141195,
          -2.104444319834775,
          -1.7799215072991186,
          -1.286687379981767,
          -1.1807519569029048,
          -1.03532215969486,
          -1.0526820127884993,
          -1.041977665411548,
          -1.3510101223385949,
          -1.183464169854727,
          3.49388144340161,
          3.1626300303074855,
          3.9403326934073584,
          3.8208615684794167,
          3.9072727232651436,
          3.903650874482016,
          3.6817421207861014,
          3.12013356601874,
          4.001965776830848,
          3.740661095758581,
          3.89090104499532,
          3.874566408615084,
          -1.9985456418102956,
          -2.1343408243267348,
          -1.3075585010596926,
          -2.1784796628570713,
          -2.0282258614675417,
          -1.6788512528466897,
          5.541078537956616,
          5.65754361975013,
          5.651802003285022,
          5.504892160658945,
          5.261886083766169,
          -2.4197286454868774,
          -1.091618041759445,
          -1.1224200905910542,
          -1.406335172537901,
          -1.4188632803867554,
          -1.47948855384315,
          -1.0776347887321756,
          -1.974372335839174,
          -2.0278180216978843,
          -1.2643656095238047,
          -1.3160708204359683,
          -1.2867865221720451,
          -1.4650425164496383,
          -1.0466331270362952,
          -1.0646760032222526,
          -1.1675304520626892,
          -1.1827171940874892,
          -1.2155065172769466,
          -1.182578336390153,
          -2.1194620657794645,
          -1.286443771280778,
          -1.044125516282986,
          -1.029496041973214,
          -1.5135217954928057,
          -1.1810027747742653,
          -1.0315558972081638,
          2.380009810155856,
          3.307990239312774,
          2.3478695179516667,
          2.1202279870107805,
          2.331349965210653,
          1.9820770013010152,
          2.47578229250382,
          2.0741064990546416,
          2.8513229410059466,
          2.6189724164748656,
          -2.046508137983653,
          -1.394297069446246,
          -1.2190580908189301,
          -1.318524105542439,
          -1.1422359228806913,
          -1.5291020316331232,
          -2.660328785482133,
          -1.437108041407204,
          -1.338880892598143,
          -0.9981128716410997,
          -1.2894915993540343,
          -1.1789907562519262,
          -1.7889444969509674,
          -1.3015542697330045,
          -1.469459585813451,
          -1.1899678108763945,
          -1.9359911135264367,
          -1.5491177930528583,
          -1.397971253253848,
          -1.398745159613354,
          -1.2036571330987345,
          -1.1044342204365976,
          -1.251751566906002,
          -2.5807085206602003,
          -2.0187626535075727,
          -1.3704167913646976,
          -2.139315814732311,
          -1.3575771493535471,
          -1.3271942144618254,
          -1.0886144357826362,
          -1.1237631283936849,
          -1.2523107039802364,
          -1.1036414188408779,
          -1.034218222798222,
          -1.0775826262724673,
          -1.3182326278081058
         ],
         "yaxis": "y"
        }
       ],
       "layout": {
        "coloraxis": {
         "colorbar": {
          "title": {
           "text": "Cluster"
          }
         },
         "colorscale": [
          [
           0,
           "#0d0887"
          ],
          [
           0.1111111111111111,
           "#46039f"
          ],
          [
           0.2222222222222222,
           "#7201a8"
          ],
          [
           0.3333333333333333,
           "#9c179e"
          ],
          [
           0.4444444444444444,
           "#bd3786"
          ],
          [
           0.5555555555555556,
           "#d8576b"
          ],
          [
           0.6666666666666666,
           "#ed7953"
          ],
          [
           0.7777777777777778,
           "#fb9f3a"
          ],
          [
           0.8888888888888888,
           "#fdca26"
          ],
          [
           1,
           "#f0f921"
          ]
         ]
        },
        "legend": {
         "tracegroupgap": 0
        },
        "margin": {
         "t": 60
        },
        "template": {
         "data": {
          "bar": [
           {
            "error_x": {
             "color": "#2a3f5f"
            },
            "error_y": {
             "color": "#2a3f5f"
            },
            "marker": {
             "line": {
              "color": "#E5ECF6",
              "width": 0.5
             },
             "pattern": {
              "fillmode": "overlay",
              "size": 10,
              "solidity": 0.2
             }
            },
            "type": "bar"
           }
          ],
          "barpolar": [
           {
            "marker": {
             "line": {
              "color": "#E5ECF6",
              "width": 0.5
             },
             "pattern": {
              "fillmode": "overlay",
              "size": 10,
              "solidity": 0.2
             }
            },
            "type": "barpolar"
           }
          ],
          "carpet": [
           {
            "aaxis": {
             "endlinecolor": "#2a3f5f",
             "gridcolor": "white",
             "linecolor": "white",
             "minorgridcolor": "white",
             "startlinecolor": "#2a3f5f"
            },
            "baxis": {
             "endlinecolor": "#2a3f5f",
             "gridcolor": "white",
             "linecolor": "white",
             "minorgridcolor": "white",
             "startlinecolor": "#2a3f5f"
            },
            "type": "carpet"
           }
          ],
          "choropleth": [
           {
            "colorbar": {
             "outlinewidth": 0,
             "ticks": ""
            },
            "type": "choropleth"
           }
          ],
          "contour": [
           {
            "colorbar": {
             "outlinewidth": 0,
             "ticks": ""
            },
            "colorscale": [
             [
              0,
              "#0d0887"
             ],
             [
              0.1111111111111111,
              "#46039f"
             ],
             [
              0.2222222222222222,
              "#7201a8"
             ],
             [
              0.3333333333333333,
              "#9c179e"
             ],
             [
              0.4444444444444444,
              "#bd3786"
             ],
             [
              0.5555555555555556,
              "#d8576b"
             ],
             [
              0.6666666666666666,
              "#ed7953"
             ],
             [
              0.7777777777777778,
              "#fb9f3a"
             ],
             [
              0.8888888888888888,
              "#fdca26"
             ],
             [
              1,
              "#f0f921"
             ]
            ],
            "type": "contour"
           }
          ],
          "contourcarpet": [
           {
            "colorbar": {
             "outlinewidth": 0,
             "ticks": ""
            },
            "type": "contourcarpet"
           }
          ],
          "heatmap": [
           {
            "colorbar": {
             "outlinewidth": 0,
             "ticks": ""
            },
            "colorscale": [
             [
              0,
              "#0d0887"
             ],
             [
              0.1111111111111111,
              "#46039f"
             ],
             [
              0.2222222222222222,
              "#7201a8"
             ],
             [
              0.3333333333333333,
              "#9c179e"
             ],
             [
              0.4444444444444444,
              "#bd3786"
             ],
             [
              0.5555555555555556,
              "#d8576b"
             ],
             [
              0.6666666666666666,
              "#ed7953"
             ],
             [
              0.7777777777777778,
              "#fb9f3a"
             ],
             [
              0.8888888888888888,
              "#fdca26"
             ],
             [
              1,
              "#f0f921"
             ]
            ],
            "type": "heatmap"
           }
          ],
          "heatmapgl": [
           {
            "colorbar": {
             "outlinewidth": 0,
             "ticks": ""
            },
            "colorscale": [
             [
              0,
              "#0d0887"
             ],
             [
              0.1111111111111111,
              "#46039f"
             ],
             [
              0.2222222222222222,
              "#7201a8"
             ],
             [
              0.3333333333333333,
              "#9c179e"
             ],
             [
              0.4444444444444444,
              "#bd3786"
             ],
             [
              0.5555555555555556,
              "#d8576b"
             ],
             [
              0.6666666666666666,
              "#ed7953"
             ],
             [
              0.7777777777777778,
              "#fb9f3a"
             ],
             [
              0.8888888888888888,
              "#fdca26"
             ],
             [
              1,
              "#f0f921"
             ]
            ],
            "type": "heatmapgl"
           }
          ],
          "histogram": [
           {
            "marker": {
             "pattern": {
              "fillmode": "overlay",
              "size": 10,
              "solidity": 0.2
             }
            },
            "type": "histogram"
           }
          ],
          "histogram2d": [
           {
            "colorbar": {
             "outlinewidth": 0,
             "ticks": ""
            },
            "colorscale": [
             [
              0,
              "#0d0887"
             ],
             [
              0.1111111111111111,
              "#46039f"
             ],
             [
              0.2222222222222222,
              "#7201a8"
             ],
             [
              0.3333333333333333,
              "#9c179e"
             ],
             [
              0.4444444444444444,
              "#bd3786"
             ],
             [
              0.5555555555555556,
              "#d8576b"
             ],
             [
              0.6666666666666666,
              "#ed7953"
             ],
             [
              0.7777777777777778,
              "#fb9f3a"
             ],
             [
              0.8888888888888888,
              "#fdca26"
             ],
             [
              1,
              "#f0f921"
             ]
            ],
            "type": "histogram2d"
           }
          ],
          "histogram2dcontour": [
           {
            "colorbar": {
             "outlinewidth": 0,
             "ticks": ""
            },
            "colorscale": [
             [
              0,
              "#0d0887"
             ],
             [
              0.1111111111111111,
              "#46039f"
             ],
             [
              0.2222222222222222,
              "#7201a8"
             ],
             [
              0.3333333333333333,
              "#9c179e"
             ],
             [
              0.4444444444444444,
              "#bd3786"
             ],
             [
              0.5555555555555556,
              "#d8576b"
             ],
             [
              0.6666666666666666,
              "#ed7953"
             ],
             [
              0.7777777777777778,
              "#fb9f3a"
             ],
             [
              0.8888888888888888,
              "#fdca26"
             ],
             [
              1,
              "#f0f921"
             ]
            ],
            "type": "histogram2dcontour"
           }
          ],
          "mesh3d": [
           {
            "colorbar": {
             "outlinewidth": 0,
             "ticks": ""
            },
            "type": "mesh3d"
           }
          ],
          "parcoords": [
           {
            "line": {
             "colorbar": {
              "outlinewidth": 0,
              "ticks": ""
             }
            },
            "type": "parcoords"
           }
          ],
          "pie": [
           {
            "automargin": true,
            "type": "pie"
           }
          ],
          "scatter": [
           {
            "fillpattern": {
             "fillmode": "overlay",
             "size": 10,
             "solidity": 0.2
            },
            "type": "scatter"
           }
          ],
          "scatter3d": [
           {
            "line": {
             "colorbar": {
              "outlinewidth": 0,
              "ticks": ""
             }
            },
            "marker": {
             "colorbar": {
              "outlinewidth": 0,
              "ticks": ""
             }
            },
            "type": "scatter3d"
           }
          ],
          "scattercarpet": [
           {
            "marker": {
             "colorbar": {
              "outlinewidth": 0,
              "ticks": ""
             }
            },
            "type": "scattercarpet"
           }
          ],
          "scattergeo": [
           {
            "marker": {
             "colorbar": {
              "outlinewidth": 0,
              "ticks": ""
             }
            },
            "type": "scattergeo"
           }
          ],
          "scattergl": [
           {
            "marker": {
             "colorbar": {
              "outlinewidth": 0,
              "ticks": ""
             }
            },
            "type": "scattergl"
           }
          ],
          "scattermapbox": [
           {
            "marker": {
             "colorbar": {
              "outlinewidth": 0,
              "ticks": ""
             }
            },
            "type": "scattermapbox"
           }
          ],
          "scatterpolar": [
           {
            "marker": {
             "colorbar": {
              "outlinewidth": 0,
              "ticks": ""
             }
            },
            "type": "scatterpolar"
           }
          ],
          "scatterpolargl": [
           {
            "marker": {
             "colorbar": {
              "outlinewidth": 0,
              "ticks": ""
             }
            },
            "type": "scatterpolargl"
           }
          ],
          "scatterternary": [
           {
            "marker": {
             "colorbar": {
              "outlinewidth": 0,
              "ticks": ""
             }
            },
            "type": "scatterternary"
           }
          ],
          "surface": [
           {
            "colorbar": {
             "outlinewidth": 0,
             "ticks": ""
            },
            "colorscale": [
             [
              0,
              "#0d0887"
             ],
             [
              0.1111111111111111,
              "#46039f"
             ],
             [
              0.2222222222222222,
              "#7201a8"
             ],
             [
              0.3333333333333333,
              "#9c179e"
             ],
             [
              0.4444444444444444,
              "#bd3786"
             ],
             [
              0.5555555555555556,
              "#d8576b"
             ],
             [
              0.6666666666666666,
              "#ed7953"
             ],
             [
              0.7777777777777778,
              "#fb9f3a"
             ],
             [
              0.8888888888888888,
              "#fdca26"
             ],
             [
              1,
              "#f0f921"
             ]
            ],
            "type": "surface"
           }
          ],
          "table": [
           {
            "cells": {
             "fill": {
              "color": "#EBF0F8"
             },
             "line": {
              "color": "white"
             }
            },
            "header": {
             "fill": {
              "color": "#C8D4E3"
             },
             "line": {
              "color": "white"
             }
            },
            "type": "table"
           }
          ]
         },
         "layout": {
          "annotationdefaults": {
           "arrowcolor": "#2a3f5f",
           "arrowhead": 0,
           "arrowwidth": 1
          },
          "autotypenumbers": "strict",
          "coloraxis": {
           "colorbar": {
            "outlinewidth": 0,
            "ticks": ""
           }
          },
          "colorscale": {
           "diverging": [
            [
             0,
             "#8e0152"
            ],
            [
             0.1,
             "#c51b7d"
            ],
            [
             0.2,
             "#de77ae"
            ],
            [
             0.3,
             "#f1b6da"
            ],
            [
             0.4,
             "#fde0ef"
            ],
            [
             0.5,
             "#f7f7f7"
            ],
            [
             0.6,
             "#e6f5d0"
            ],
            [
             0.7,
             "#b8e186"
            ],
            [
             0.8,
             "#7fbc41"
            ],
            [
             0.9,
             "#4d9221"
            ],
            [
             1,
             "#276419"
            ]
           ],
           "sequential": [
            [
             0,
             "#0d0887"
            ],
            [
             0.1111111111111111,
             "#46039f"
            ],
            [
             0.2222222222222222,
             "#7201a8"
            ],
            [
             0.3333333333333333,
             "#9c179e"
            ],
            [
             0.4444444444444444,
             "#bd3786"
            ],
            [
             0.5555555555555556,
             "#d8576b"
            ],
            [
             0.6666666666666666,
             "#ed7953"
            ],
            [
             0.7777777777777778,
             "#fb9f3a"
            ],
            [
             0.8888888888888888,
             "#fdca26"
            ],
            [
             1,
             "#f0f921"
            ]
           ],
           "sequentialminus": [
            [
             0,
             "#0d0887"
            ],
            [
             0.1111111111111111,
             "#46039f"
            ],
            [
             0.2222222222222222,
             "#7201a8"
            ],
            [
             0.3333333333333333,
             "#9c179e"
            ],
            [
             0.4444444444444444,
             "#bd3786"
            ],
            [
             0.5555555555555556,
             "#d8576b"
            ],
            [
             0.6666666666666666,
             "#ed7953"
            ],
            [
             0.7777777777777778,
             "#fb9f3a"
            ],
            [
             0.8888888888888888,
             "#fdca26"
            ],
            [
             1,
             "#f0f921"
            ]
           ]
          },
          "colorway": [
           "#636efa",
           "#EF553B",
           "#00cc96",
           "#ab63fa",
           "#FFA15A",
           "#19d3f3",
           "#FF6692",
           "#B6E880",
           "#FF97FF",
           "#FECB52"
          ],
          "font": {
           "color": "#2a3f5f"
          },
          "geo": {
           "bgcolor": "white",
           "lakecolor": "white",
           "landcolor": "#E5ECF6",
           "showlakes": true,
           "showland": true,
           "subunitcolor": "white"
          },
          "hoverlabel": {
           "align": "left"
          },
          "hovermode": "closest",
          "mapbox": {
           "style": "light"
          },
          "paper_bgcolor": "white",
          "plot_bgcolor": "#E5ECF6",
          "polar": {
           "angularaxis": {
            "gridcolor": "white",
            "linecolor": "white",
            "ticks": ""
           },
           "bgcolor": "#E5ECF6",
           "radialaxis": {
            "gridcolor": "white",
            "linecolor": "white",
            "ticks": ""
           }
          },
          "scene": {
           "xaxis": {
            "backgroundcolor": "#E5ECF6",
            "gridcolor": "white",
            "gridwidth": 2,
            "linecolor": "white",
            "showbackground": true,
            "ticks": "",
            "zerolinecolor": "white"
           },
           "yaxis": {
            "backgroundcolor": "#E5ECF6",
            "gridcolor": "white",
            "gridwidth": 2,
            "linecolor": "white",
            "showbackground": true,
            "ticks": "",
            "zerolinecolor": "white"
           },
           "zaxis": {
            "backgroundcolor": "#E5ECF6",
            "gridcolor": "white",
            "gridwidth": 2,
            "linecolor": "white",
            "showbackground": true,
            "ticks": "",
            "zerolinecolor": "white"
           }
          },
          "shapedefaults": {
           "line": {
            "color": "#2a3f5f"
           }
          },
          "ternary": {
           "aaxis": {
            "gridcolor": "white",
            "linecolor": "white",
            "ticks": ""
           },
           "baxis": {
            "gridcolor": "white",
            "linecolor": "white",
            "ticks": ""
           },
           "bgcolor": "#E5ECF6",
           "caxis": {
            "gridcolor": "white",
            "linecolor": "white",
            "ticks": ""
           }
          },
          "title": {
           "x": 0.05
          },
          "xaxis": {
           "automargin": true,
           "gridcolor": "white",
           "linecolor": "white",
           "ticks": "",
           "title": {
            "standoff": 15
           },
           "zerolinecolor": "white",
           "zerolinewidth": 2
          },
          "yaxis": {
           "automargin": true,
           "gridcolor": "white",
           "linecolor": "white",
           "ticks": "",
           "title": {
            "standoff": 15
           },
           "zerolinecolor": "white",
           "zerolinewidth": 2
          }
         }
        },
        "title": {
         "text": "2D PCA Visualization - data/WR.xlsx - 2020"
        },
        "xaxis": {
         "anchor": "y",
         "domain": [
          0,
          1
         ],
         "range": [
          -1,
          1
         ],
         "title": {
          "text": "PC 1"
         }
        },
        "yaxis": {
         "anchor": "x",
         "domain": [
          0,
          1
         ],
         "title": {
          "text": "PC 2"
         }
        }
       }
      }
     },
     "metadata": {},
     "output_type": "display_data"
    },
    {
     "data": {
      "application/vnd.plotly.v1+json": {
       "config": {
        "plotlyServerURL": "https://plot.ly"
       },
       "data": [
        {
         "hovertemplate": "Cluster=%{marker.color}<br>PC 1=%{x}<br>PC 2=%{y}<br>PC 3=%{z}<extra></extra>",
         "legendgroup": "3",
         "marker": {
          "color": [
           3,
           3,
           3,
           3,
           3,
           3,
           3,
           3,
           3,
           3,
           3,
           3,
           3,
           3,
           3,
           3,
           3,
           3,
           3,
           3,
           3,
           3,
           3,
           3,
           3,
           3,
           3,
           3,
           3,
           3,
           3,
           3,
           3,
           3,
           3,
           3,
           3,
           3,
           3,
           3,
           3,
           3,
           3,
           3,
           3,
           3,
           3,
           3,
           3,
           3,
           3,
           3,
           3,
           3,
           3,
           3,
           3,
           3,
           3,
           3,
           3,
           3,
           3,
           3,
           3,
           3,
           3,
           3,
           3,
           3,
           3,
           3,
           3,
           3,
           3,
           3,
           3,
           3,
           3,
           3,
           3,
           3,
           3,
           3,
           3,
           3,
           3,
           3,
           3,
           3,
           3,
           3,
           3,
           3,
           3,
           3,
           3,
           3,
           3,
           3,
           3,
           3,
           3,
           3,
           3,
           3,
           3,
           3,
           3,
           3,
           3,
           3,
           3,
           3,
           3,
           3,
           3,
           3,
           3,
           3,
           3,
           3,
           3,
           3,
           3,
           3,
           3,
           3,
           3,
           3,
           3,
           3,
           3,
           3,
           3,
           3,
           3,
           3,
           3,
           3,
           3,
           3,
           3,
           3,
           3,
           3,
           3,
           3,
           3,
           3,
           3,
           3,
           3,
           3,
           3,
           3,
           3,
           3,
           3,
           3,
           3,
           3,
           3,
           3,
           3,
           3,
           3,
           3,
           3,
           3,
           3,
           3,
           3,
           3,
           3,
           3,
           3,
           3,
           3,
           3,
           3,
           3,
           3,
           3,
           3,
           3,
           3,
           3,
           3,
           3,
           3,
           3,
           3,
           3,
           3,
           3,
           3,
           3,
           3,
           3,
           3,
           3,
           3,
           3
          ],
          "coloraxis": "coloraxis",
          "symbol": "circle"
         },
         "mode": "markers",
         "name": "3",
         "scene": "scene",
         "showlegend": true,
         "type": "scatter3d",
         "x": [
          2.188279054823755,
          6.113200990768896,
          2.191065788994541,
          4.077807736071428,
          6.896138679059165,
          3.3751331145144614,
          2.670635918876923,
          3.3109460491664686,
          6.035982026156237,
          5.750888974192745,
          3.290658028800754,
          4.450658991132515,
          2.8622320927743483,
          2.5813204682384874,
          1.780302331057924,
          5.581153383571097,
          5.753934608523402,
          5.41271336007853,
          6.611378132034818,
          6.682749688286322,
          4.464087605624991,
          4.297529786318212,
          5.530635121069057,
          8.4077999795709,
          1.8000304934685816,
          2.0466482236699677,
          6.089665497604647,
          3.793931618461476,
          2.281635044555912,
          3.4105282017185012,
          1.6136427179398956,
          2.5846648808464296,
          5.177109767640605,
          3.5645470214560193,
          2.4179752568803665,
          2.162034429983128,
          1.2566907589221614,
          6.033232364175466,
          3.157012990568844,
          5.952075248155933,
          1.9427188012023364,
          4.030801586361031,
          1.4042082308063575,
          1.7729846394376927,
          5.134100970247248,
          2.8751385252691772,
          6.905935739670747,
          1.9551762942920754,
          1.5876815946992637,
          4.506915819163827,
          5.318068473809941,
          1.9306200415705612,
          5.490266240781436,
          3.50785788994464,
          3.1217089941574856,
          5.2847463859833566,
          1.5558561089493697,
          2.2115271183122167,
          3.692627390993556,
          3.498280795979666,
          1.9219351850323947,
          3.327800762132035,
          2.303311907168412,
          1.8975576926683895,
          3.8123215538995803,
          2.704488714562763,
          1.9394476240442333,
          1.6506738271458141,
          1.575250734242347,
          3.8941376228064337,
          5.7118516293426635,
          3.6183561198390395,
          3.0662934135490914,
          6.050653155250492,
          1.7754458700836864,
          3.127496234750755,
          1.2846579365047248,
          4.631319548931005,
          1.2965800322014391,
          6.383636981538991,
          3.397221077341715,
          3.2889576049548555,
          2.5872804198848596,
          2.2691108143605803,
          2.8823313785266085,
          1.8501205984365723,
          3.459405158376178,
          3.319124568467949,
          3.1166330453400146,
          3.4547820515762755,
          6.387615399153966,
          3.964471081204715,
          6.553698735063626,
          6.826351806002126,
          4.973769151468044,
          4.789410851142682,
          5.74401473760511,
          2.664821703079752,
          1.8476456712998226,
          5.281148958311526,
          2.1447810796738835,
          3.168092064182832,
          3.8327254789976037,
          2.1453595144950923,
          2.1066035900103715,
          1.606350492908665,
          1.3230874140972257,
          4.025616039539915,
          2.242979446435566,
          2.013613585180652,
          2.5513773023164377,
          3.9807851044557894,
          2.983612958272144,
          1.5228786172389894,
          4.630024170077316,
          2.378217744236078,
          5.763188582794239,
          3.264223441122292,
          4.750204748474234,
          5.752466886705419,
          1.8657623182817888,
          3.555773726562625,
          3.8642336407521434,
          7.926795143005127,
          4.961324371502673,
          7.33922454418547,
          3.388919853791141,
          5.063994856306617,
          3.88817523143209,
          1.9639217539882274,
          7.1781109303808135,
          6.1713889704884375,
          4.667755388149474,
          2.851375370201436,
          3.823242744019672,
          3.8812892273584247,
          3.8974340383459283,
          4.649955944197275,
          4.260208742755766,
          2.1166100871220817,
          2.8503697184472694,
          1.4243904707022403,
          4.567947508817086,
          3.3545924016541657,
          5.025956728993852,
          1.8502575220617754,
          1.7461008139822813,
          6.658106771036272,
          2.231048468310183,
          4.417220765073978,
          1.3370013948611674,
          1.5039743901229192,
          6.365496756660177,
          2.53402079765321,
          1.268699924544899,
          1.6684496388199588,
          1.4454646961367736,
          5.922006191257239,
          4.3842476240492045,
          4.347890628746802,
          1.3624717278700214,
          1.2667638295911967,
          1.273892544319588,
          2.3917297140341627,
          2.033706731618752,
          1.6290614816050524,
          4.142173028405844,
          1.646261722040394,
          5.661556793045318,
          2.4724322208351897,
          1.868262501635237,
          1.6813334324728728,
          1.720768924658424,
          4.238212535068672,
          4.187680644239217,
          1.9831534809938542,
          3.239774839944589,
          1.9083969473236695,
          6.354633474979185,
          4.6565774942586895,
          7.208833647493743,
          4.473965109872162,
          1.4642734733007385,
          1.8723536075319795,
          4.76475002796204,
          2.4172057066695007,
          4.548275924950797,
          5.073356550137485,
          1.368455061000172,
          1.5491552820319934,
          3.7992357328066966,
          5.056744240325173,
          1.639139311271585,
          1.5603832882898219,
          1.8219920675212498,
          5.959635426093351,
          2.8708547378666984,
          5.178880052786804,
          3.693709218104523,
          7.58481410001744,
          2.2335327536826965,
          4.711642828665174,
          2.5218974414298323,
          3.9713128708556265
         ],
         "y": [
          3.0181946847906507,
          2.2142523930643003,
          2.633115236326184,
          2.3781762797734705,
          2.0894865042812665,
          2.4905299832695977,
          2.9404010481415725,
          3.6344573709208072,
          3.3043432689635104,
          3.434394828335185,
          3.2741743038473317,
          3.1769992496363475,
          3.675566553854834,
          5.248672234538712,
          2.5856557494993653,
          2.029993980295634,
          1.7695219001404667,
          1.754181520186861,
          1.7982183117072472,
          1.9108319933900382,
          2.263952292161243,
          1.956325597844904,
          2.1898532037207716,
          1.5402956088901498,
          2.245934938182928,
          2.184016859513687,
          1.7506445929538224,
          2.087378289472131,
          2.238448417542208,
          1.9394216977949583,
          2.2819507394864362,
          2.261193361495289,
          2.6287085538368062,
          2.478105988503994,
          2.904078271968874,
          2.934754428087637,
          3.018628183464004,
          2.2099043545392445,
          2.8540663659816796,
          2.192579282170961,
          3.0842082086558773,
          2.857220150257686,
          3.0633310800817144,
          3.1494577364958385,
          2.414098505768217,
          2.7663877637822996,
          2.3405321467022207,
          2.7993165627048158,
          2.826940436545297,
          2.018921270691229,
          2.4954577631117325,
          2.8227793700781465,
          2.016635350636953,
          2.715259900809053,
          2.8048971697008267,
          2.515793119101369,
          4.385360636099717,
          4.424516569422999,
          4.254289691108664,
          4.124098426085532,
          4.449486295792032,
          4.220593888892868,
          4.052683709438218,
          4.147838944613098,
          3.562413192478859,
          4.111199092906829,
          4.219503165922815,
          4.072229139124547,
          4.030727062604172,
          3.652449625947912,
          3.213229743897354,
          2.6979964518592756,
          3.0452480509568485,
          2.6494020819053232,
          3.222653321656599,
          3.044086287990366,
          3.3244703760779597,
          2.5902135166326317,
          3.272814418907265,
          2.7355583164503425,
          2.687280449546988,
          4.195592462983921,
          3.7646588740684157,
          4.3123504232336884,
          4.18086207202495,
          2.887794348431789,
          2.7436469998836452,
          2.801884480639257,
          2.7534355530553545,
          2.942045654747493,
          2.290263607768396,
          2.795497516192834,
          2.2441138456828176,
          2.5352386027605753,
          2.450322038182168,
          2.5457806024347622,
          2.4453244339292923,
          2.9840324583418796,
          4.208587433775301,
          3.369919054945325,
          4.055873202163157,
          3.8265091518999577,
          5.204329113102061,
          5.469025086856442,
          2.530401515307329,
          2.523377436779547,
          3.232793874287594,
          2.5792438811118026,
          2.777018515823281,
          2.199720528319386,
          2.1636128584601297,
          2.1184764153925673,
          2.1973534929407172,
          2.3416575617373163,
          2.081003736983721,
          3.212557537390923,
          2.919182776540313,
          3.050868222191287,
          2.600497545349863,
          2.602372478502398,
          3.342235115201051,
          2.765999257166158,
          2.725109575606717,
          3.181381211532406,
          3.4650380913802814,
          3.2612478275311556,
          3.3607976712462295,
          3.516133470441043,
          2.059506154254249,
          2.278035817585848,
          1.7149038434405075,
          1.9244085159403976,
          2.022156504520981,
          3.478286376892356,
          3.274362623581275,
          3.2392834287257557,
          3.5885675853106833,
          3.474396076713655,
          3.693576274304155,
          4.333750731298961,
          4.376701080861585,
          4.5193989902009815,
          3.668056170182967,
          2.2634973376061143,
          2.0817222959546466,
          3.5724921403505596,
          3.6135446403237492,
          2.650069642941974,
          3.481545763171964,
          3.2797110237050835,
          3.6610700318686042,
          3.5297219760202307,
          2.8017957695098037,
          3.5600234068439716,
          2.5711008446598327,
          3.383758645041466,
          3.550738124941492,
          2.949715930103417,
          3.118006917533023,
          2.4918796871018487,
          2.42724452191396,
          2.8079878856953213,
          2.8161631047278317,
          4.2972381410169005,
          3.6152503453847813,
          3.6735936970606486,
          4.413993205205904,
          4.726513068716368,
          4.00026711511454,
          4.648338655204523,
          5.28044435691096,
          5.248490329723714,
          3.4106380450792417,
          2.82005907569091,
          3.1465436105930427,
          3.412541789179909,
          3.2784341854634826,
          3.3589984369207717,
          2.640568582766713,
          2.7855463552450876,
          2.7762917771314575,
          3.046401475704271,
          3.4382560964805045,
          3.3949845142241135,
          3.0330872016103463,
          3.357699396607325,
          3.4938814401810494,
          3.162630030499698,
          3.9072727214006355,
          3.9036508727472583,
          3.681742119400058,
          3.1201335649603315,
          3.740661093401041,
          3.8909010430990962,
          3.8745664072204935,
          2.3800098085641643,
          2.3478695188021117,
          2.1202279888614264,
          2.331349966140512,
          1.9820770035668118,
          2.475782293138554,
          2.074106502398042,
          2.851322940487184,
          2.618972415974797
         ],
         "z": [
          -1.222969727217146,
          1.1061403986939669,
          2.010338514225179,
          2.0979690910596656,
          1.2486720425586624,
          1.7832225333150582,
          -1.174541552370677,
          -1.197132725024275,
          -1.5464859388434715,
          -1.7451731210805272,
          2.107898691479837,
          1.5236982327385413,
          -0.8866129558845355,
          -0.267051007076885,
          -0.9895371983926182,
          -1.2417132663357067,
          0.9664759484346925,
          1.7654670444586902,
          0.27474491571435944,
          -1.398631681483579,
          -1.281973050482632,
          1.2153509074831261,
          -1.4246679954759578,
          0.5591426410226799,
          -0.8812869255996416,
          -0.7628217681948977,
          -1.2922064271109863,
          -1.4800061683486587,
          -1.14706096110725,
          -0.4270658567878164,
          -1.060620540277433,
          3.844406573619734,
          -1.7917517040590836,
          2.32360065616521,
          -0.9757638869428016,
          -0.8346647823994056,
          -0.5743286067345017,
          1.8608448068617143,
          -0.7417824834679304,
          2.121091332183883,
          -0.8297404294111146,
          -1.3533456485487472,
          -0.2057085042705747,
          -1.0562199414285738,
          0.9889119232504271,
          -1.1787017782009084,
          -1.7313373850305198,
          -0.375616613068312,
          -0.7815729248768087,
          2.455094939565545,
          -1.5835658158463581,
          -0.6297074594224901,
          2.18006965950239,
          -1.2925191319055742,
          -1.5712786924536106,
          -1.3185227684018437,
          -0.7790146003448974,
          -0.7723874062728369,
          -1.1494099647573837,
          -0.4951148449794653,
          -0.879080051753286,
          -0.7178865148485508,
          -0.7980254218026556,
          -0.7249599808115986,
          2.16275188108277,
          -1.16324760659381,
          -0.8489340292948045,
          -0.6937960072794577,
          -0.6937287877073225,
          -1.3557659301803122,
          1.0199770082858923,
          1.734095694504409,
          -0.9818710102680454,
          -1.5464207426230545,
          -0.9987451331777009,
          -1.1487572119956257,
          -0.9351544562300043,
          1.334396958834358,
          -0.9337228553683307,
          -1.6123955963351102,
          -1.217196288995431,
          -0.9042826271189854,
          3.052594440760004,
          -0.918747567818596,
          -0.8776423449657056,
          -0.9945193016456937,
          -1.2044416486420007,
          -0.9187197469048053,
          -1.091672251780576,
          -1.3327836043906132,
          0.9033064051894119,
          -1.3084986520070383,
          1.4626222818734138,
          -1.8699700611431715,
          1.0990158512917068,
          0.9187397688449085,
          0.7147821025435818,
          -0.20784175944031388,
          3.837976582194971,
          1.759441684107045,
          -0.619777997797434,
          -0.8164662379662673,
          -0.5760033942622156,
          -0.48493113640672586,
          -1.0630991481280148,
          -0.8295108965282234,
          -0.844505634150018,
          2.261365715339794,
          2.829376339057582,
          -0.7391760699689928,
          -1.123930774358048,
          -1.3700601057185409,
          -1.0397073000649533,
          -0.9996120078384205,
          -1.9064784371649486,
          -1.1357528298293458,
          -1.7700992621887712,
          -0.9768000103110066,
          1.7783132679025793,
          0.7946366044697624,
          -1.2731399122444804,
          1.6694680671200455,
          1.7196024482583818,
          -1.4622075988583767,
          -1.2220099770569854,
          -1.424421000180974,
          1.9059733710840718,
          -1.313726919345242,
          -0.7816207577907531,
          -0.5912956988590954,
          -1.726108108606539,
          -1.8853828639274095,
          -1.5268451127322848,
          -0.4721234812290313,
          1.7858344291726524,
          2.3446536345838145,
          -0.5364472573110068,
          -0.7085078462348048,
          2.9508697496426555,
          -0.3653203216789896,
          -1.0043032479423473,
          -0.6462045644497567,
          2.129018977671752,
          2.8016662492574884,
          1.5802943350929861,
          -0.7276205068481104,
          -0.44594945588518625,
          1.773412428099287,
          -0.5272873443939909,
          -1.6372908352925175,
          -0.8540913169791214,
          -0.8757041535838745,
          1.0113458999509892,
          -1.1162174195200043,
          -0.08496085394513944,
          -0.6245327857289592,
          -0.9301615262919181,
          -1.3401118525405549,
          -1.1597534618711107,
          -1.5548905864779978,
          2.841229013226653,
          -0.9192906803194797,
          -0.5126611251280911,
          -0.8928454195955233,
          4.996416351083784,
          4.898323796507569,
          -0.4289053676224104,
          -0.0713675896307546,
          1.8162929306945788,
          -0.26272584184288833,
          -0.2968353342706227,
          -0.016560871546580456,
          -0.7911949218384363,
          1.5506044943979282,
          -1.284122500763568,
          -0.9253961503495762,
          -1.1932985909298917,
          -0.7486255565834705,
          0.6633725512344308,
          1.3855557784924102,
          -1.5656117677546,
          -1.13464028816779,
          -0.748304117727918,
          -1.0306359643284668,
          -1.3886653150529789,
          -1.2452449967061272,
          -1.134237188728929,
          1.1958264744627347,
          -0.7925665718398519,
          -0.8806573582923579,
          -1.2470521629112707,
          1.06446479975155,
          -0.5347975724335731,
          -0.9601954227640407,
          -0.7449847467822335,
          -1.4455944569319488,
          2.4474511259153227,
          1.790204471156539,
          2.163306881849794,
          1.1234888063660138,
          2.7177456336799466,
          2.077066759937145,
          -1.3938079927938198,
          -1.2485173100885247
         ]
        },
        {
         "hovertemplate": "Cluster=%{marker.color}<br>PC 1=%{x}<br>PC 2=%{y}<br>PC 3=%{z}<extra></extra>",
         "legendgroup": "1",
         "marker": {
          "color": [
           1,
           1,
           1,
           1,
           1,
           1,
           1,
           1,
           1,
           1,
           1,
           1,
           1,
           1,
           1,
           1,
           1,
           1,
           1,
           1,
           1,
           1,
           1,
           1,
           1,
           1,
           1,
           1,
           1,
           1,
           1,
           1,
           1,
           1,
           1,
           1,
           1,
           1,
           1,
           1,
           1,
           1,
           1,
           1,
           1,
           1,
           1,
           1,
           1,
           1,
           1,
           1,
           1,
           1,
           1,
           1,
           1,
           1,
           1,
           1,
           1,
           1,
           1,
           1,
           1,
           1,
           1,
           1,
           1,
           1,
           1,
           1,
           1,
           1,
           1,
           1,
           1,
           1,
           1,
           1,
           1,
           1,
           1,
           1,
           1,
           1,
           1,
           1,
           1,
           1,
           1,
           1,
           1,
           1,
           1,
           1,
           1,
           1,
           1,
           1,
           1,
           1,
           1,
           1,
           1,
           1,
           1,
           1,
           1,
           1,
           1,
           1,
           1,
           1,
           1,
           1,
           1,
           1,
           1,
           1,
           1,
           1,
           1,
           1,
           1,
           1,
           1,
           1,
           1,
           1,
           1,
           1,
           1,
           1,
           1,
           1,
           1,
           1,
           1,
           1,
           1,
           1,
           1,
           1,
           1,
           1,
           1,
           1,
           1,
           1,
           1,
           1,
           1,
           1,
           1,
           1,
           1,
           1,
           1,
           1,
           1,
           1,
           1,
           1,
           1,
           1,
           1,
           1,
           1,
           1,
           1,
           1,
           1,
           1,
           1,
           1,
           1,
           1,
           1,
           1,
           1,
           1,
           1,
           1,
           1,
           1,
           1,
           1,
           1,
           1,
           1,
           1,
           1,
           1,
           1,
           1,
           1,
           1,
           1,
           1,
           1,
           1,
           1,
           1,
           1,
           1,
           1,
           1,
           1,
           1,
           1,
           1,
           1,
           1,
           1,
           1,
           1,
           1,
           1,
           1,
           1,
           1,
           1,
           1,
           1,
           1,
           1,
           1,
           1,
           1,
           1,
           1,
           1,
           1,
           1,
           1,
           1,
           1,
           1,
           1,
           1,
           1,
           1,
           1,
           1,
           1,
           1,
           1,
           1,
           1,
           1,
           1,
           1,
           1,
           1,
           1,
           1,
           1,
           1,
           1,
           1,
           1,
           1,
           1,
           1,
           1,
           1,
           1,
           1,
           1,
           1,
           1,
           1,
           1,
           1,
           1,
           1,
           1,
           1,
           1,
           1,
           1,
           1,
           1,
           1,
           1,
           1,
           1,
           1,
           1,
           1,
           1,
           1,
           1,
           1
          ],
          "coloraxis": "coloraxis",
          "symbol": "diamond"
         },
         "mode": "markers",
         "name": "1",
         "scene": "scene",
         "showlegend": true,
         "type": "scatter3d",
         "x": [
          0.13081073713838942,
          1.1635611755010922,
          -0.5294884551953408,
          -2.699673830726452,
          0.1916037868707564,
          -0.8883123972357123,
          -1.2068226687548995,
          -2.3613893059965063,
          1.0331729845849942,
          -0.5136921349280348,
          0.38498161914952267,
          -1.9839195927352702,
          -1.074342099395499,
          -2.150074331906358,
          -1.853091652864324,
          -2.049908660646822,
          -2.522222240436438,
          -2.5094126009748825,
          0.4163254139922444,
          -0.8724421570857234,
          -0.6745537923544379,
          -2.2297002085938322,
          -2.2486793638157168,
          -3.436659439097106,
          -1.4675653669416489,
          -2.6227211943630975,
          -2.990828050503869,
          -0.9739046880080393,
          -0.9212270911815534,
          0.36076606808861883,
          -0.5856024020306373,
          -2.4179186229369183,
          -3.114055350193071,
          -3.1669247060736465,
          -4.0940180017322785,
          -3.6231977137087137,
          -1.6059847827545388,
          0.024481279197836516,
          -0.152414063513638,
          -0.931793753549372,
          -0.21448603889300552,
          -0.15143137681646374,
          -0.7237951313636902,
          1.0920652814984733,
          0.5004933203753822,
          0.80846345657548,
          -1.0173030808469015,
          -0.6828309910886924,
          0.19788136009514243,
          0.6733801855985442,
          0.9913830286072827,
          -2.04361739320941,
          0.004672385133891953,
          0.9295684326885646,
          0.6609657008412038,
          0.23980858700703048,
          -0.507541757514243,
          0.2586195585519757,
          -0.3284963419865321,
          1.027618567864654,
          -0.43359077920191275,
          -1.8907833013815514,
          -1.9156218925968371,
          -1.5193962181845888,
          0.8660775406514422,
          0.34550576373536424,
          -0.6965552736678339,
          -0.5801316345204653,
          -0.44033890595936465,
          0.65067133144927,
          -1.8690560181432145,
          0.49412334818040604,
          -2.749425552411519,
          -0.5845439120324817,
          0.9672028310206385,
          -3.759394562417704,
          0.24542701085178714,
          -0.13864191594955033,
          -2.7011813906406505,
          -1.3182799484819832,
          -2.4581110358895986,
          1.0836828992965828,
          -0.4285786981643767,
          -1.9948507636782433,
          -0.6687240397362431,
          0.3673031453379246,
          0.5738657682961087,
          0.819916796369116,
          -0.5576579549512448,
          -1.9611013526302175,
          -1.94937162776708,
          -2.653225896705108,
          -2.334036049452686,
          -2.127993628007668,
          -2.7154541200581286,
          -0.7127667560094165,
          -0.31353336820836886,
          -3.4389580998834397,
          0.10570991174521308,
          -2.4136982433324077,
          -0.836544239975681,
          -2.484019405328133,
          -3.107588751025558,
          -2.464012808978916,
          -3.591160429913486,
          -1.3413262495852554,
          0.4639327196363117,
          -3.7127417162347323,
          -2.032001615959188,
          0.46143169144662377,
          -1.9781924698440625,
          -2.4546126584830095,
          -2.16472020878106,
          -0.9637926277805379,
          -2.1997488753135523,
          -3.3553876913680565,
          -2.964914120096696,
          -0.2094115432977092,
          -2.9529240386959454,
          0.06745624478093003,
          -3.1512098681584946,
          -2.9940843085874835,
          -1.3483831637990509,
          -0.25975927711492186,
          -0.6948761501355365,
          0.7653544273384729,
          0.5391681947675473,
          0.42114337537491325,
          -1.0198193998217162,
          -0.9005448836823798,
          1.2273019545385726,
          -2.8763303837945693,
          0.40133675160030363,
          0.22615399945498,
          -0.7780075248265859,
          -1.648453506156353,
          -1.4768294261883346,
          -2.442294223961933,
          -0.7248344122892796,
          0.5776131328316286,
          1.3715457603684598,
          0.5960900245594625,
          -0.22449877330855125,
          -0.2934823473664275,
          0.6091841535627845,
          -2.312405983440693,
          -0.5622819803011758,
          -0.24700035593545286,
          -3.4056697924044306,
          -3.553657238791664,
          -1.269705034395369,
          -1.6386890363867885,
          -1.5335303529083786,
          -2.1416502196833944,
          -1.7343482125998322,
          -2.6959043198369765,
          -1.5024193554995215,
          -3.1495630126811984,
          -2.274225766480648,
          -2.949950235493942,
          -2.1610609863493777,
          -3.343283077449639,
          -3.189386982004023,
          -2.1098781909236575,
          0.3978815917239123,
          -0.12006140586983323,
          -2.687740258280738,
          -1.2777426255669257,
          0.3115893878559162,
          0.19673373402083366,
          -3.782056766386585,
          -3.66551958012873,
          -2.462954326613924,
          -0.5159186243717886,
          -0.8265493869785739,
          1.174779139632507,
          0.31612068013525324,
          -2.179152421199807,
          -3.214172380675479,
          -3.048782330215309,
          -2.633732643831819,
          -0.10635835938479629,
          -2.919976982963727,
          0.28855635136692104,
          -1.3625104846658074,
          -0.18427853558353702,
          0.3360100468521562,
          -0.4959977777504456,
          -0.5496120293964575,
          -0.6185070432295892,
          0.20395271083764677,
          0.5995199606708923,
          -1.4616122316658096,
          -2.268527935326016,
          -3.1525696751706085,
          -3.1361788445587893,
          -0.9051535258682746,
          0.03150746316366006,
          -0.845036607244951,
          0.7323807925706438,
          -2.4215143476750622,
          -0.5461078665345037,
          -1.1844906959785229,
          -1.6437872482291236,
          -2.3520686459795863,
          -2.912741891606196,
          0.6247875493349466,
          0.3849436453633597,
          -3.1265955523940647,
          0.23638597302505884,
          0.33852425874147263,
          -2.3453534068371202,
          -0.5710154591830064,
          -1.6614491324611957,
          -0.023158231304023738,
          -1.1716550509388117,
          0.3926903925141363,
          0.6613621214897654,
          -2.1258698824130806,
          0.6062723229588222,
          0.8905987125842354,
          1.0237390517502185,
          -3.0546730454209015,
          -0.1515239149701588,
          -1.35285785705204,
          -3.5165497411942805,
          -0.09923911602673798,
          -0.21919884123769628,
          -0.6366376120956206,
          -2.0336022410681975,
          -0.12358032120521381,
          -1.7782398126918657,
          0.1581811760067361,
          0.07435164710709566,
          0.8195502229001376,
          -1.5702896306984644,
          -0.20573881804891836,
          -2.6566901000998273,
          -1.60846667711566,
          0.2837601820451073,
          -2.3025301286061963,
          -1.6724003236720366,
          -1.4785915275916568,
          0.31585321529973265,
          -2.0255437751212906,
          -2.6302973186423353,
          -2.7863294731434105,
          -1.6028938573955989,
          -1.0799333400879498,
          -1.1902603815824668,
          -3.923585716728457,
          -3.0424355063773225,
          0.051830987239254195,
          -1.505118213910062,
          0.3075360301083624,
          -1.0431355671439273,
          -1.9932795369713923,
          -2.4527720477503183,
          -1.351050868423433,
          -1.7359938114430826,
          -0.2773654348775578,
          -2.466800165037235,
          -2.7278966176665453,
          0.7330953801967626,
          -1.027578084823691,
          1.1563060309363347,
          -1.6026529775699938,
          0.8362611227765576,
          0.6432294059528743,
          -0.6071287068793569,
          -0.5748064159968654,
          -2.543873089605535,
          -1.8471359537880776,
          -2.0891282412952576,
          -0.8496362894669462,
          0.5190229923456412,
          -1.5790528897021985,
          -1.458624473640752,
          -1.7902891286102551,
          -2.9348965846964794,
          -2.658998698257254,
          -0.34964626704374596,
          -1.4947937885764302,
          0.7762600780197503,
          -0.1241509068374655,
          -2.8465179776278475,
          0.6502456459396982,
          1.1161040386577965,
          0.1535026315848711,
          -3.182992040049125,
          -3.2695673709245803,
          -3.721861815932227,
          -2.8682774535842412,
          0.31903520923897616,
          -3.035490583206112
         ],
         "y": [
          3.2171789990980337,
          3.8128684979240983,
          4.111578024758327,
          4.168155244753671,
          3.9977429357643586,
          4.161690553761878,
          4.144693266231363,
          4.188513098190455,
          3.8383228402980274,
          4.081163930508542,
          2.894320563968025,
          3.234619119860452,
          3.101295570593238,
          3.330063451956289,
          3.311690428722713,
          3.2237604147338197,
          3.219272569801504,
          3.2634946783787906,
          2.973280173469033,
          3.250255713165285,
          5.653160063079317,
          5.7797473567628135,
          5.784143846740683,
          5.906701964839779,
          5.661767801618093,
          5.849755034669182,
          5.873060221568944,
          2.699729420767473,
          2.6989348038649363,
          2.548423933767309,
          4.956134760821619,
          5.145455075502017,
          5.221824939316419,
          5.220489555908157,
          5.3005262808391835,
          5.2591052145774,
          2.6483174359903607,
          2.2969425832575197,
          2.2512302260203434,
          3.051592003643588,
          3.1418118145923537,
          3.2172857442752947,
          3.471341109155051,
          2.695108331888555,
          3.184690492534963,
          3.2527332694203417,
          3.4749172676092384,
          3.3469510373777536,
          3.2034451772208135,
          3.1327517836271634,
          2.944492263861623,
          3.3419673428481036,
          3.252515630649921,
          2.9940699765880394,
          3.0937810737235645,
          3.1849334122413873,
          3.306914142556184,
          3.102207376399386,
          3.1181190955560867,
          4.51185703772334,
          4.636050846202195,
          4.775881799986297,
          4.8554526878300415,
          4.71245581909585,
          4.570829921011892,
          4.5860468667680525,
          4.177350454311697,
          4.369670913446448,
          4.346116524175899,
          4.211619740779258,
          4.444516129315436,
          3.173500516285994,
          3.6193254570385305,
          2.972830700614724,
          3.102346935006467,
          3.347486253789199,
          4.451346665058625,
          4.49445424522443,
          4.789037055114565,
          4.682639605573592,
          4.707703375778382,
          4.382253568516281,
          4.424929863037062,
          4.627596904911015,
          4.553373513795636,
          3.9025451253864967,
          3.0173690263360986,
          3.0025347233170647,
          3.1504526456268067,
          3.3657075195805994,
          3.1548206011198228,
          3.477743127045628,
          3.4532811444680647,
          3.3762723870583526,
          3.5588832088682154,
          3.309442184082099,
          3.3576745930585368,
          3.6460155316228775,
          3.239784218103277,
          3.539473794773747,
          3.4407160090107096,
          3.6239306856448317,
          3.538225626054949,
          3.48582720065903,
          3.530675556348203,
          3.4753429528389193,
          3.0956280367669575,
          5.134388989469133,
          4.992478756972043,
          4.750411773472947,
          4.993601825720359,
          4.920441099657105,
          4.967501614487389,
          4.785827445697374,
          4.929250508657422,
          5.10972223822896,
          5.080609130781068,
          4.710773605219402,
          5.09999783123308,
          4.249276899179079,
          5.014762870336081,
          5.072614272315702,
          4.328152142384311,
          4.255371706035467,
          4.215274006889883,
          4.116085414847245,
          3.7328017532795896,
          4.138589840132496,
          4.294115711681216,
          4.23414806684142,
          4.159358079058688,
          4.492490689295462,
          4.146732376146748,
          4.290119259044635,
          5.781722321197538,
          5.762020448704413,
          5.725476575955623,
          5.783161055600108,
          5.760730471829258,
          5.546842221859912,
          5.624129647686658,
          2.596186893830446,
          2.7470356474767343,
          2.530319239868031,
          2.6126279623254645,
          2.8119757015548883,
          3.345734694942803,
          3.3444025013444065,
          3.6229710612700727,
          3.5890338195244773,
          3.366234811222046,
          3.477417506594594,
          3.4264124140807697,
          3.5965553067025033,
          3.417367294859475,
          3.6189548011208585,
          5.525375630171732,
          5.731474794924344,
          5.609838459681933,
          5.6076703813203705,
          5.590434623524106,
          5.691611275596639,
          5.707190482840127,
          5.730729139967807,
          2.4204528846112217,
          2.506715228028543,
          2.668158073688155,
          2.6366269633515893,
          2.378667138301019,
          2.527929911704797,
          4.580171712113407,
          4.53904501566235,
          4.5544301712576925,
          4.460943003377754,
          4.395063337322943,
          4.192932779841139,
          4.16129637750055,
          4.5353330780700585,
          4.549185134117846,
          4.5681768551861675,
          4.529807721471564,
          2.968569573878012,
          3.158588272764678,
          3.4645616428732655,
          3.6388737517927914,
          3.533481736384932,
          4.076840961335402,
          3.918618688739319,
          3.956856173026998,
          2.5137872233318665,
          2.4174564800367957,
          2.5755901776875216,
          5.139731100221415,
          5.206209739185193,
          5.188900334309005,
          5.212230830297273,
          4.927858864853967,
          3.3730342968144926,
          3.974823522557133,
          3.364349001027034,
          4.216050678997193,
          4.770600854181047,
          4.676747638813171,
          4.836353096002415,
          4.845300306101372,
          3.2418876142581263,
          2.471755206111627,
          2.9179023387318264,
          3.340514364355145,
          2.78728831004232,
          2.957761240101363,
          3.1727841663101515,
          3.087022612369072,
          3.160247472903055,
          2.9359471986679186,
          3.043452143455565,
          3.7523273853618258,
          3.764551862179457,
          3.979162729675127,
          3.6980465971914507,
          3.6962039274843645,
          3.128531356592683,
          2.9981522379981107,
          2.701273068545569,
          2.777986913983653,
          3.0398973311359363,
          2.7572701444368204,
          2.627724792360608,
          2.681533559367855,
          2.896235280189796,
          2.7177151364754404,
          2.80136660641664,
          3.669727740430828,
          3.748013634188572,
          3.7218168792288826,
          4.020217754293326,
          3.785513867226822,
          4.096249022713022,
          3.970297459724568,
          3.2382751341234455,
          3.9530039651377087,
          3.964075796623671,
          3.9631465583959704,
          2.8836200615043057,
          3.231939877595665,
          3.0792955507207456,
          3.172186785428118,
          3.0774423924797327,
          3.0991901883227393,
          3.098379784751415,
          3.405742890383867,
          4.869176243036904,
          4.51776123137204,
          4.834334180700521,
          4.266280632603516,
          4.420883380826922,
          4.566374521669849,
          4.558724810325974,
          4.457599779782978,
          4.5259139546919815,
          4.380629028572866,
          4.567607772989266,
          5.091935139154822,
          4.383799233733956,
          5.027670490936651,
          4.789691893125045,
          5.073529060257863,
          4.775107768851923,
          5.495308545472218,
          5.534526761612269,
          5.378388497834197,
          5.753826486029354,
          3.9629280043810295,
          3.953192486787432,
          3.546366634334284,
          3.5597274083824266,
          4.865376546046059,
          4.843655505027638,
          4.831549909298757,
          5.041410056389159,
          4.881577171382084,
          4.712593474509879,
          4.882606084515234,
          3.505586860427282,
          3.6021908303673835,
          3.7988610828292972,
          3.9403326927930404,
          3.820861567218938,
          4.00196577532072,
          5.541078538129533,
          5.657543620546605,
          5.65180200377422,
          5.504892160389364,
          5.261886082122664,
          3.3079902400768346
         ],
         "z": [
          -0.48363080185374707,
          -0.7828702473015708,
          -0.7419824981083942,
          0.0885376773910012,
          -0.7167102893812279,
          -0.7410325227351908,
          -0.5386183920328349,
          -0.16402113675925983,
          -0.5175348341266094,
          -0.8357510408523624,
          0.46534870523913563,
          -0.1338170900322616,
          0.13161255103905864,
          -0.09639572475424824,
          -0.14838757567376784,
          0.06809272106542215,
          0.5270603583210479,
          0.2005437565800371,
          -0.5691289686353124,
          -0.6199431699755532,
          0.4614182492695543,
          0.8452308546312696,
          0.7365027969803823,
          0.8767872638292388,
          0.6202246199622438,
          0.6524251603957039,
          0.6940573628719957,
          -0.28015152740527277,
          -0.46383226375549785,
          -0.30857653719866335,
          0.6138977199065582,
          0.8033025393864459,
          0.9426408699524286,
          1.0054545558285117,
          1.0984213089994912,
          1.0673643886751842,
          -0.6102400421710789,
          -0.6648242597784922,
          -0.04709414481503733,
          0.217127654822217,
          0.008926797850868784,
          -0.6663582185885122,
          -0.869006271444227,
          3.0929476464589882,
          -0.7492798689048153,
          -1.0739479269167804,
          -0.6787220777590528,
          -0.6522173245189737,
          -0.5121108065947256,
          -0.27860181203471523,
          0.5367532963355249,
          0.41522156729634446,
          0.10184609122612362,
          0.10332152654605908,
          -0.1600959328296152,
          0.18050730588891317,
          -0.12041179140872461,
          0.20507741304814586,
          -0.6933391481869383,
          -0.5236192533939438,
          -0.1726413727423353,
          -0.05740510557017259,
          -0.13795793903565173,
          0.17681529205865154,
          -0.6047382058833323,
          -0.40291850922799627,
          0.34470496040950777,
          -0.23608645645456935,
          -0.271820183637677,
          -0.30610379190929166,
          -0.06499137918358038,
          -0.1798947311724781,
          0.03649065625718254,
          -0.10337367890495457,
          -1.080143788643039,
          0.495587942004426,
          -0.4076072581543003,
          -0.18596066005942025,
          0.17574244985764226,
          -0.31367046066714427,
          0.24133584054144208,
          -0.6015068076794484,
          0.27232121319731206,
          0.40081036395704583,
          0.002676693792146222,
          4.784957334962735,
          -0.3696546498097959,
          -0.40959184118422226,
          -0.6094027988661073,
          -0.4605392212632444,
          0.30724172923548343,
          0.5731719462345668,
          0.7007235705355139,
          0.5747315228003661,
          0.2798777986505291,
          0.014090593189372435,
          0.3535222542008238,
          0.3259677887974368,
          -0.04309636671795041,
          0.23707919467194485,
          -0.31654602205234716,
          -0.042230671074447265,
          0.16099516003769665,
          0.004274724639374856,
          0.45693341417240724,
          -0.3270563451846297,
          -0.3846928391394006,
          0.8620372645949156,
          0.5271681311452981,
          0.24159081702018717,
          0.5371278950897488,
          0.8468445084753031,
          0.5578703771445003,
          0.424595919800566,
          0.5164894626607501,
          0.6026198386274283,
          0.4730360167328214,
          0.21658005243404202,
          0.4583663160876199,
          4.881234323993348,
          0.6820126932140947,
          0.5627998505035311,
          0.2715725918302149,
          0.05820767497002474,
          0.8221289143310784,
          -0.2852642380788659,
          3.2152678838701485,
          0.38327838225424204,
          0.26607726157496725,
          0.5056939056732488,
          -0.3976685088588942,
          0.5082859588205357,
          -0.31857256501155823,
          -0.5108992471049395,
          -0.07967854316994427,
          0.4466799071427144,
          0.5949374779871769,
          0.7948819296656647,
          -0.038800395907183205,
          0.017213088807513113,
          -0.4190332783540071,
          -0.6532995861952063,
          -0.832688218494045,
          0.37127932752201415,
          -0.7441910285472189,
          0.36152666298628167,
          -0.2561838995722037,
          -0.4466053636245332,
          0.35619771961497726,
          0.46798255345494527,
          0.2179174057029835,
          0.12734669439050605,
          0.10943191845555565,
          -0.13500611029676854,
          0.23392242931142634,
          0.03710314587685112,
          0.4609381017887004,
          0.6264519115938072,
          0.6113656575959466,
          0.9265425807061374,
          0.6925282485460943,
          0.6592115755146091,
          0.6516203471901834,
          0.17291831301846433,
          -0.597666159336997,
          -0.6740324493131921,
          -0.08291324939706984,
          -0.5967081691986756,
          -0.34694513012398603,
          -0.7112235209795531,
          0.734750953392,
          0.6619105328042731,
          0.10228456749820261,
          -0.34823970215213285,
          -0.0017361619186809854,
          0.31578772576209124,
          0.9589798875382394,
          0.192782921788729,
          0.5354401043081906,
          0.4216639252911665,
          0.29993292540944466,
          -0.7515489612161709,
          0.02145241053805379,
          -0.6570879159265987,
          -0.3922857635460092,
          -0.6708163111472538,
          -0.6046767131463862,
          -0.02548843111519152,
          0.2756222429514417,
          -0.3401976424111933,
          -0.2723032683592144,
          -1.0004439482366707,
          0.34999558694139316,
          0.42977261310468023,
          0.8840289413597131,
          0.7416400380795565,
          0.5675973641485487,
          4.442804399010264,
          -0.03762050488554473,
          3.3624886615359397,
          0.09797587218345687,
          -0.5012882842946249,
          0.13806321833585977,
          -0.21871792553139568,
          0.10090598372935741,
          0.32273172914611903,
          2.9006952174490443,
          -0.11716437877049027,
          0.154218950695206,
          0.17097698421841875,
          -0.21987913729110692,
          0.4771862600119303,
          -0.24364601628553378,
          0.1749283825323159,
          -0.6519989373944557,
          0.03250838327405073,
          -0.5101303522680019,
          -0.7602820560052179,
          -0.2626717191293392,
          -0.5701186305235981,
          -0.790716754473897,
          3.352043464933434,
          0.6011756273899977,
          0.0006062860791070733,
          0.28759830516825374,
          0.723637422180462,
          -0.07775891368655234,
          0.16166539918622333,
          0.3651134918229611,
          0.44398882767264286,
          0.03783037586924638,
          0.543826964126342,
          -0.7489685558158824,
          -0.24335763777471658,
          -0.5463185938260617,
          -0.13161489446437494,
          -0.1264637249356468,
          0.0642261074552031,
          0.10185658404647768,
          4.592629694066123,
          0.40642215537275145,
          0.1802811843494126,
          0.04575135462802949,
          -0.5053468275760634,
          -0.4182222086781287,
          0.27772258004578937,
          -0.05810905583524639,
          -0.06760316071300192,
          -0.5493749136719395,
          -0.36862851032317046,
          0.5369397859487901,
          0.5735137423594886,
          0.705777112233492,
          -0.025457347347021785,
          0.11927797993083357,
          0.3966765414374999,
          0.3421244393321977,
          0.5556353464744559,
          0.4613556308057189,
          0.28615408582753804,
          0.5131929299992091,
          0.4970097898673813,
          0.6889786002371504,
          3.730607284558261,
          0.12266882705257555,
          -0.17580964883239802,
          0.30291880412093836,
          0.17557788235698518,
          -0.4611789464160734,
          0.4118514485662176,
          0.42160540258595947,
          0.2255160652008705,
          0.4755869107258368,
          0.4860165437430446,
          0.09564963313629897,
          -0.5091727331229934,
          0.0796251133434815,
          0.1188268856984006,
          0.6112411229455457,
          0.3373822927739039,
          0.6924045747579208,
          0.02439330958547043,
          0.12476239879520484,
          -0.6506198426708373,
          -0.6961285108531076,
          0.24617583246936492,
          -0.3841930916507553,
          -0.6000781058984055,
          -0.573272481701572,
          0.9801352553854878,
          0.7471757796603563,
          0.9329869592762895,
          1.0422444800887878,
          0.256785392264541,
          0.011120407786076945
         ]
        },
        {
         "hovertemplate": "Cluster=%{marker.color}<br>PC 1=%{x}<br>PC 2=%{y}<br>PC 3=%{z}<extra></extra>",
         "legendgroup": "2",
         "marker": {
          "color": [
           2,
           2,
           2,
           2,
           2,
           2,
           2,
           2,
           2,
           2,
           2,
           2,
           2,
           2,
           2,
           2,
           2,
           2,
           2,
           2,
           2,
           2,
           2,
           2,
           2,
           2,
           2,
           2,
           2,
           2,
           2,
           2,
           2,
           2,
           2,
           2,
           2,
           2,
           2,
           2,
           2,
           2,
           2,
           2,
           2,
           2,
           2,
           2,
           2,
           2,
           2,
           2,
           2,
           2,
           2,
           2,
           2,
           2,
           2,
           2,
           2,
           2,
           2,
           2,
           2,
           2,
           2,
           2,
           2,
           2,
           2,
           2,
           2,
           2,
           2,
           2,
           2,
           2,
           2,
           2,
           2,
           2,
           2,
           2,
           2,
           2,
           2,
           2,
           2,
           2,
           2,
           2,
           2,
           2,
           2,
           2,
           2,
           2,
           2,
           2,
           2,
           2,
           2,
           2,
           2,
           2,
           2,
           2,
           2,
           2,
           2,
           2,
           2,
           2,
           2,
           2,
           2,
           2,
           2,
           2,
           2,
           2,
           2,
           2,
           2,
           2,
           2,
           2,
           2,
           2,
           2,
           2,
           2,
           2,
           2,
           2,
           2,
           2,
           2,
           2,
           2,
           2,
           2,
           2,
           2,
           2,
           2,
           2,
           2,
           2,
           2,
           2,
           2,
           2,
           2,
           2,
           2,
           2,
           2,
           2,
           2,
           2,
           2,
           2,
           2,
           2,
           2,
           2,
           2,
           2,
           2,
           2,
           2,
           2,
           2,
           2,
           2,
           2,
           2,
           2,
           2,
           2,
           2,
           2,
           2,
           2,
           2,
           2,
           2,
           2,
           2,
           2,
           2,
           2,
           2,
           2,
           2,
           2,
           2,
           2,
           2,
           2,
           2,
           2,
           2,
           2,
           2,
           2,
           2,
           2,
           2,
           2,
           2,
           2,
           2,
           2,
           2,
           2,
           2,
           2,
           2,
           2,
           2,
           2,
           2,
           2,
           2,
           2,
           2,
           2,
           2,
           2,
           2,
           2,
           2,
           2,
           2,
           2,
           2,
           2,
           2,
           2,
           2,
           2,
           2,
           2,
           2,
           2,
           2,
           2,
           2,
           2,
           2,
           2,
           2,
           2,
           2,
           2,
           2,
           2,
           2,
           2,
           2,
           2,
           2,
           2,
           2,
           2,
           2,
           2,
           2,
           2,
           2,
           2,
           2,
           2,
           2,
           2,
           2,
           2,
           2,
           2,
           2,
           2,
           2,
           2,
           2,
           2,
           2,
           2,
           2,
           2,
           2,
           2,
           2,
           2,
           2,
           2,
           2,
           2,
           2,
           2,
           2,
           2,
           2,
           2,
           2,
           2,
           2,
           2,
           2,
           2,
           2,
           2,
           2,
           2,
           2,
           2,
           2,
           2,
           2,
           2,
           2,
           2,
           2,
           2,
           2,
           2,
           2,
           2,
           2,
           2,
           2,
           2,
           2,
           2,
           2,
           2,
           2,
           2,
           2,
           2,
           2,
           2,
           2,
           2,
           2,
           2,
           2,
           2,
           2,
           2,
           2,
           2,
           2,
           2,
           2,
           2,
           2,
           2,
           2,
           2,
           2,
           2,
           2,
           2,
           2,
           2,
           2,
           2,
           2,
           2,
           2,
           2,
           2,
           2,
           2,
           2,
           2,
           2,
           2,
           2,
           2,
           2,
           2,
           2,
           2,
           2
          ],
          "coloraxis": "coloraxis",
          "symbol": "square"
         },
         "mode": "markers",
         "name": "2",
         "scene": "scene",
         "showlegend": true,
         "type": "scatter3d",
         "x": [
          0.8025376865545025,
          1.4930763773859448,
          -0.06041280485293275,
          0.7527022034826578,
          0.3495050637333116,
          1.282627844802046,
          0.900677973061155,
          0.030065481402320363,
          1.706670899633608,
          -1.009646131701598,
          1.1264655502115766,
          1.8069972210645013,
          0.997424929982847,
          2.0012359510062234,
          2.5896470970697205,
          0.14116512758960537,
          0.4049660219173309,
          -1.230440411623526,
          1.6275598199454921,
          1.980407584000086,
          -1.1660144688693492,
          -0.8104024285563354,
          1.3135801384882482,
          -0.049497272263558954,
          -0.2552325601995553,
          0.7289271341877223,
          0.17726461005962948,
          2.4848033931245803,
          0.30917935243388184,
          1.3591819063205561,
          -1.102094530156895,
          -0.4896807616350915,
          2.548879151306804,
          1.4816558486731983,
          1.99960661466765,
          2.551926117826271,
          2.4741320305844785,
          2.275557812937506,
          -0.846558178938629,
          0.756054948986062,
          2.4265932088679634,
          0.24036319078253404,
          -0.6162184392961463,
          2.6579569952281674,
          -1.104627300193606,
          -0.14630820269708417,
          0.5098990085006144,
          -0.7863070589591654,
          2.500111830485879,
          -0.7309657290919795,
          -0.7349626393741261,
          -0.9515885901800244,
          -1.1548798597318923,
          -1.1644707905377538,
          1.505870384267923,
          0.7902368226037104,
          0.982108147847689,
          2.0542749071798485,
          -1.1854516866220401,
          0.6174924839235013,
          1.5795068864118083,
          -0.7690477632149307,
          -0.7755628777309652,
          1.7911327318844745,
          0.9810629724903481,
          0.9742663819293871,
          0.3843672130420896,
          -0.8244263132252143,
          0.18834712663006553,
          -0.21200602994764278,
          -1.2092758920616853,
          1.2275622769649093,
          1.8439253369129045,
          1.3263644192880224,
          -1.2461038692550535,
          -0.38785858464194095,
          1.9533023355350645,
          -1.264830370234022,
          1.2797813313467155,
          0.5772821776562203,
          2.4363663985776416,
          0.32119462597579523,
          1.086918748030598,
          0.7863979150117038,
          0.09972294915815454,
          0.15090322506548767,
          1.6903227646455214,
          1.8730114373906612,
          1.4203165173274526,
          -1.0735823683717647,
          2.0396975500309074,
          0.19624784411242588,
          1.514795360765449,
          -0.08892904254123604,
          -1.1266036576849479,
          -0.07071356376476207,
          -0.6842873331873156,
          0.5411076254910138,
          0.5097795502683845,
          1.8032136374766337,
          -0.7793661063127149,
          1.6280053470231626,
          -0.6804840619749519,
          -0.9435098241386339,
          2.057886339308051,
          -0.31838149390691106,
          -0.30366598883151374,
          0.26845096476448277,
          0.137187487874076,
          0.3308461160135877,
          1.7702063271975026,
          0.6980629857834924,
          -0.3639173734474245,
          2.6179601575197267,
          -0.005657300198960003,
          2.3686941512733575,
          2.4037770369890197,
          2.5685046203356428,
          1.2909243116497522,
          2.3772725856890884,
          -0.5652948333469917,
          -0.6128174754946383,
          -0.6859532521954502,
          -1.2252457136630475,
          -0.141519886830864,
          0.9838417188883506,
          1.1904669256618192,
          0.10314389093274917,
          1.4667560600146952,
          1.6868561819718622,
          -0.9914554869410384,
          0.28166913403162974,
          0.8949223412009921,
          0.2893897945404474,
          0.6230638381950095,
          -0.38292025980555494,
          0.15951375364508724,
          -0.4073999910894091,
          -1.0938185300652064,
          -0.8553030864320247,
          -0.19646812266508595,
          0.8544755664126871,
          -0.8921061672504016,
          0.16705888371472685,
          -0.7401424508855962,
          -0.8290485955048915,
          -0.15329102845744663,
          -1.1319484780876976,
          -0.5152154079725845,
          -0.6225278597071677,
          -0.42273016850616457,
          0.7919425575395301,
          2.7451665537381387,
          -1.2137862878898886,
          -0.5291117010691267,
          -0.3613475723880288,
          -0.654294204366936,
          -0.0559210242069934,
          0.7814150642034738,
          -0.45921471749572285,
          -0.10896256256578017,
          2.6126380783504604,
          -0.19516223751612805,
          2.018443776023072,
          -0.09289589994450852,
          0.7515607018385378,
          1.304916140974252,
          -0.9035662252602717,
          -1.0950540692021236,
          -0.3798947123093388,
          -0.27703760354650897,
          0.7342402700189241,
          0.13551593208283985,
          -0.3433438548272437,
          2.584834289073134,
          -0.5958336140627034,
          1.617281079352275,
          -0.4843673736192094,
          -0.1383612070778104,
          0.08982182799717649,
          -0.004363052443864991,
          1.200535515427319,
          1.0865648224427003,
          0.612777352392544,
          -0.7301515136775122,
          -1.1536923085678537,
          1.57216927100338,
          -0.9643555788582263,
          0.1805221673055029,
          1.6644645963007836,
          0.6402367839288432,
          1.1392757667887394,
          2.3932478736203433,
          -0.14477415036147503,
          0.5062312399429407,
          -0.08358760433571259,
          -0.0328839250551637,
          0.4393678709062596,
          -0.21369433224903908,
          0.3217267840111064,
          -0.7870131637160325,
          -0.854152016275454,
          0.17837759497317016,
          -0.7113670077957346,
          -0.9357849696770202,
          0.5175556916411174,
          0.21922189224698505,
          -0.7279095840420033,
          1.201275364336501,
          -0.506808683458843,
          -0.19663059364287963,
          1.9428744826797595,
          2.1398147881542147,
          0.21453325362861403,
          2.0590313386935253,
          1.6289490808570988,
          -0.07230206813316371,
          -0.38345634151117036,
          -0.3929607871000914,
          -0.5515732927932638,
          -0.34344116454386375,
          1.18415479190895,
          2.2936346699248404,
          -1.1628441072601106,
          -1.0619876795758716,
          -0.9664153767310956,
          2.3131729481283103,
          -1.0125652665018523,
          0.08301593433657006,
          1.7959307754383962,
          0.6290010772680488,
          -0.95741662375439,
          2.186727597933423,
          1.1136341898786108,
          -0.8605434251129686,
          0.7203059407161612,
          -0.9840115521652288,
          1.1342375974923056,
          1.8935794437699163,
          1.0765548681921768,
          -0.4752998979215295,
          -0.6985911284185834,
          1.6793279663378853,
          -0.587018701716365,
          -0.21956445895066745,
          -0.3232101072975652,
          -0.29799276952375153,
          0.07903461199498035,
          0.00038076733803289726,
          -0.7697660481851505,
          0.260771199870758,
          0.9780090259992205,
          -0.30541106690794256,
          1.7147261866589139,
          0.9870462177924648,
          0.014150954117235742,
          -0.22657555485015518,
          1.742675574241467,
          0.3936812830363277,
          -1.2852890274105582,
          2.291742764535175,
          1.2580102277139489,
          1.9914159566298677,
          -1.2513293726895225,
          -0.734708839340747,
          1.1007246945912714,
          0.6929472657902392,
          -0.7651865768568689,
          -0.7735957417008047,
          -0.7721935971961905,
          0.48359955580651526,
          -0.2983914988986521,
          1.6987429875954476,
          2.3644730723471667,
          -1.0940137759090236,
          0.11965304550028293,
          -1.152660225190427,
          -0.7670110602375915,
          1.034849983004748,
          2.4110074456437762,
          1.824533374177808,
          0.7470424967962072,
          -0.978570576954419,
          -0.8414967847851129,
          -1.1420130619856634,
          -0.37471647262519814,
          0.9750813330298768,
          0.25082579403563837,
          -1.1428075651348362,
          0.9984701713665872,
          -1.1845622402100642,
          -0.24129208366023897,
          1.1452677053266165,
          -0.5199671993678064,
          -0.35664936884644416,
          1.1090287007977806,
          -0.2604425343263994,
          0.5065510619274071,
          -0.14201699561572498,
          -1.09917077110102,
          1.0390613334270409,
          2.0694019935867485,
          1.6277240989089206,
          -0.12706684407848096,
          1.6418367584188942,
          -0.4678912345674628,
          0.4688065626804246,
          1.0995785968075238,
          0.4641674863587012,
          1.3116361024852652,
          1.9930218623744158,
          0.5099174590574186,
          -1.1863634794057085,
          0.91811509648962,
          0.7776807188760226,
          -1.0593987769701307,
          0.2555815498803237,
          -0.14394548532344484,
          2.515711625057866,
          0.7550422447603896,
          0.35124014873910153,
          0.21581143260481178,
          0.059849869635492096,
          1.8785595328787565,
          1.6694987925152156,
          1.634138193500361,
          0.4695132305787364,
          2.5086759867213906,
          0.6896692337613475,
          0.2604874002891853,
          1.1842991005649948,
          0.019649474715618696,
          -1.2066924888424517,
          0.6697355740918984,
          2.0217645707925644,
          0.16516243682286716,
          0.040210227369927055,
          -0.2947222660959792,
          0.4327777865587435,
          0.5788231887645134,
          1.5851446867352517,
          1.8895420512063772,
          0.008467613859301842,
          2.450383640881934,
          2.575113248144115,
          1.5769985575523953,
          2.4897754389229725,
          1.771906698488786,
          1.3770027223005783,
          -0.6541504399583007,
          2.300770700295176,
          1.5656784795212906,
          -0.47441797453865564,
          0.16772786617569774,
          0.1201701312213205,
          -0.5574976789447247,
          -0.06991845168795613,
          0.8930346691219764,
          -1.2296130014818194,
          0.12497569633677018,
          -0.6431598230219207,
          -1.0796303247770596,
          -0.4202081779276734,
          0.9516070718348771,
          0.6243629229348152,
          1.2485605755060882,
          1.1441804341803508,
          1.1362971731586426,
          1.1099409979530341,
          -0.7468333952314824,
          2.0355104184704516,
          0.05681183156490969,
          -1.1976415613888205,
          -1.0927447869048947,
          -0.7628513820175121,
          0.02784981599186024,
          -0.87646908849389,
          1.6273611001857629,
          -1.099827276894499,
          0.18540000579131982,
          0.17050176124957006,
          1.9008251726307575,
          0.8526325035959503,
          -0.14829208849140002,
          0.0327638173941601,
          -0.8118485395800387,
          0.4019018848631585,
          0.4958260261485886
         ],
         "y": [
          -1.4810276533597402,
          -1.3747178443413557,
          -1.3349625488750811,
          -1.3726318562929243,
          -1.3302037470876653,
          -1.4543671962365081,
          -1.4190002892476299,
          -1.4015282087782537,
          -1.5690955090331267,
          -1.2737481293033064,
          -1.3654185703854653,
          -1.5070413611291764,
          -1.5044286466479113,
          -1.5305535946395754,
          -1.64174245662513,
          -1.2920069461221964,
          -1.4483204439884674,
          -1.2704143315941454,
          -1.5897269285292142,
          -1.4411672576331889,
          -1.2304225855953725,
          -1.2800502797902766,
          -1.5628893918299713,
          -1.3672469617160528,
          -1.300936880264054,
          -1.561656467936414,
          -1.3573063276569386,
          -1.7088276223634011,
          -1.556683806212125,
          -1.5916227407629602,
          -1.2817012994456993,
          -1.3040148306696286,
          -1.634866801437765,
          -1.494543735612941,
          -1.624363280234944,
          -1.7034016777772716,
          -1.6023170413883692,
          -1.5385480227121848,
          -1.3278361349882295,
          -1.3991086057910507,
          -1.6104403247949493,
          -1.5230039618784508,
          -1.2365171472507621,
          -1.5592472620666853,
          -1.2378754250000277,
          -1.2391699870304227,
          -1.311299844674926,
          -1.081147057666946,
          -1.6243047864257152,
          -1.3371512149015867,
          -1.423802482557209,
          -1.3633301129144288,
          -1.2617072878791014,
          -1.2696961423759403,
          -1.4496856177167716,
          -1.3000295899681538,
          -1.4466508855173799,
          -1.579554062771345,
          -1.1719681230871866,
          -1.495486727753418,
          -1.3791632593269072,
          -1.4516126353925933,
          -1.4024667088087854,
          -1.5970878846355456,
          -1.4327352689527597,
          -1.5273179382173856,
          -1.3549164470842463,
          -1.2713518780494248,
          -1.2503198016737718,
          -1.4432036026159123,
          -1.276855735045463,
          -1.525967633841068,
          -1.6900873634592724,
          -1.613748573612777,
          -1.3460607114759342,
          -1.392340225097753,
          -1.5343049349705997,
          -1.2857028798139016,
          -1.487411230858714,
          -1.4072171310373738,
          -1.6355058665777475,
          -1.2396385698949597,
          -1.5867580313633738,
          -1.4929245347010693,
          -1.3722728391702634,
          -1.4231844810287246,
          -1.5957352111587084,
          -1.6129989387885242,
          -1.5266087904736978,
          -1.3484605484029986,
          -1.878351791836935,
          -1.6746822169151276,
          -1.8127426996834382,
          -1.5222351682205137,
          -1.1875046885585252,
          -1.195293533649104,
          -1.2582453821761348,
          -1.354912515867012,
          -1.3430815560551903,
          -1.4560374135998195,
          -1.216528042215068,
          -1.5092645702541223,
          -1.26076501104235,
          -1.3269913786784462,
          -1.6582330301187642,
          -1.2885900529618786,
          -1.471655571218371,
          -1.5098227090446659,
          -1.4541994046002247,
          -1.4922447981371063,
          -1.6778697348542357,
          -1.4862433856149222,
          -1.5175990800886343,
          -1.6191765126793076,
          -1.3463344763551401,
          -1.6044395734916745,
          -1.5784068680881866,
          -1.5443550625381544,
          -1.4072051627842215,
          -1.5983753188138392,
          -1.4191521044895983,
          -1.3908372879687962,
          -1.267519922426975,
          -1.2100415322649318,
          -1.3368979652771424,
          -1.436588516423724,
          -1.554889878937265,
          -1.3803118071405844,
          -1.6017236446907541,
          -1.7297216561704363,
          -1.4273561083667663,
          -1.725214448721787,
          -1.6694553528133986,
          -1.4507155601952921,
          -1.4133472293503067,
          -1.3195720947114973,
          -1.4222455582721791,
          -1.3748807633294295,
          -1.3761078447665434,
          -1.3402834777373525,
          -1.4212889002191444,
          -1.4280705981755057,
          -1.2213916489895225,
          -1.4687336181377806,
          -1.226810923688216,
          -1.2200707977013008,
          -1.5828544355866283,
          -1.4292578319869231,
          -1.4247708885027524,
          -1.3497575923043,
          -1.3256124450203248,
          -1.5907801613417039,
          -1.5001244064646233,
          -1.309350232850744,
          -1.3615762954208996,
          -1.4827118136629724,
          -1.387115387601566,
          -1.2320623509059538,
          -1.46251112149415,
          -1.3699172570415226,
          -1.5010555370637741,
          -1.5939620772993601,
          -1.3339263400332864,
          -1.549687692220591,
          -1.2238193087114988,
          -1.4147919498463954,
          -1.462163522580013,
          -1.183347685863534,
          -1.0363883541218915,
          -1.3309993281909698,
          -1.3000752970652536,
          -1.3402867920518255,
          -1.3874714277479172,
          -1.3164023188675007,
          -1.6706477232792614,
          -1.3546062995381658,
          -1.528773013584794,
          -1.414111679776296,
          -1.3853303251884332,
          -1.3815376466890474,
          -1.3501499886291124,
          -1.4916838575383002,
          -1.386371275606779,
          -1.4315317414802078,
          -1.3833986491282253,
          -1.297851230857906,
          -1.4819281523049985,
          -1.343416028379469,
          -1.3735627076631454,
          -1.425549084134903,
          -1.3219051413531562,
          -1.4239619074005085,
          -1.6836208827841124,
          -1.3264002056084254,
          -1.2956265327434993,
          -1.3592289868925462,
          -1.3521865281080656,
          -1.3970831382308369,
          -1.6026871049258997,
          -1.6457233240785825,
          -1.5282982067279893,
          -1.3315146793433,
          -1.2837056140942495,
          -1.3290182733930855,
          -1.3774727387671155,
          -1.4392568447513325,
          -1.4112636471373106,
          -1.2548620741289236,
          -1.3911038023806364,
          -1.3048136701281512,
          -1.3003930857863564,
          -1.4495128939553086,
          -1.4856805477210444,
          -1.3288020952227404,
          -1.5839976181733944,
          -1.5024347876826305,
          -1.3330335242138143,
          -1.3623081313026342,
          -1.3522198571450201,
          -1.340233467268553,
          -1.383993419728441,
          -1.316857177349848,
          -1.6749246801608761,
          -1.3835269607198966,
          -1.3321621417582732,
          -1.3356315104766872,
          -1.5730790395945158,
          -1.338725658369798,
          -1.3552758333824255,
          -1.5761183568079953,
          -1.3842851664509161,
          -1.2885217382435965,
          -1.6070108901650937,
          -1.48503085164502,
          -1.1785344144314498,
          -1.3614931949675302,
          -1.588771745019331,
          -1.8850001938957235,
          -1.9406006482785316,
          -1.7394620232381348,
          -1.665781143004849,
          -1.3612958440728835,
          -1.5519760952175088,
          -1.1888721191622504,
          -1.322357980688288,
          -1.4329779970063372,
          -1.3281940976154079,
          -1.2085971401500881,
          -1.3530494362352032,
          -1.2691137770673884,
          -1.4279138660607265,
          -1.4796488129632521,
          -1.2370408151711356,
          -1.464555007664112,
          -1.392340148012686,
          -1.182410477462233,
          -1.2664341621890378,
          -1.4735208291166735,
          -1.4083607900332444,
          -1.1223946824171294,
          -1.6247116830396675,
          -1.466149119037627,
          -1.449193871041436,
          -1.2261007004547841,
          -1.2760761559480807,
          -1.5288448180363614,
          -1.461928298147206,
          -1.4470388181610219,
          -1.4372634452719222,
          -1.1291197394062422,
          -1.348006470547001,
          -1.23988122208016,
          -1.4447742628093638,
          -1.5519403994443044,
          -1.3108252960861206,
          -1.416943925461014,
          -1.2451550524226898,
          -1.2820590154842963,
          -1.5145886371332746,
          -1.4460006884437766,
          -1.4628394917453085,
          -1.450020857066866,
          -1.3939144122363472,
          -1.4255876333011843,
          -1.288740576807797,
          -1.4529228126656342,
          -1.6772015238643831,
          -1.4933709289056902,
          -1.2420424981636633,
          -1.4091097533934513,
          -1.148342182143502,
          -1.431787551034877,
          -1.37110237627508,
          -1.2010399470201123,
          -1.2395266756089203,
          -1.570235232114188,
          -1.367989706532775,
          -1.5088075038901914,
          -1.4079182584503278,
          -1.179741551979372,
          -1.5677257323842588,
          -1.5635878747611984,
          -1.5165266014658412,
          -1.3264182610368627,
          -1.57085123447211,
          -1.2447388157814931,
          -1.3692562628174614,
          -1.4848154470197665,
          -1.465376540340197,
          -1.4745770874807598,
          -1.4926581844281446,
          -1.3468242424780184,
          -1.229143057655082,
          -1.4946252288356867,
          -1.5587026762619987,
          -1.1999413046836196,
          -1.3243769362176658,
          -1.323468363890846,
          -1.6106548468813224,
          -1.5067475904519172,
          -1.3738617656898215,
          -1.3919837906946655,
          -1.4114832912623894,
          -1.4670448413352033,
          -1.6519693078840372,
          -1.5953584076483949,
          -1.3790017162783,
          -1.5765551097931858,
          -1.3485929766824858,
          -1.4397491922768078,
          -1.4697359673942836,
          -1.4667877800642957,
          -1.3145818284471047,
          -1.452174851774074,
          -1.4765505585447185,
          -1.3331156022552608,
          -1.4651364179533066,
          -1.2867526451677156,
          -1.4240067570357609,
          -1.3480382149601504,
          -1.5836866431232937,
          -1.5270115810507972,
          -1.302043645157337,
          -1.7373291542974154,
          -1.5834245738528676,
          -1.3186522079054503,
          -1.6114957718948688,
          -1.5285333801922505,
          -1.4061343851683756,
          -1.3502086632641148,
          -1.5615310077102207,
          -1.3539947352127808,
          -1.1824900758694712,
          -1.269297859084629,
          -1.3394404744318447,
          -1.24729720735419,
          -1.3555538356902723,
          -1.5147601884259443,
          -1.1997563073453594,
          -1.341460099773457,
          -1.4638979284281042,
          -1.1186724490409332,
          -1.1191790364203553,
          -1.4107982315521113,
          -1.43933280256718,
          -1.4474720898347317,
          -1.4751852506675278,
          -1.482258053246027,
          -1.5059763638895582,
          -1.3075585016885685,
          -1.678851252328075,
          -1.479488554095127,
          -1.2643656096307914,
          -1.3160708200725133,
          -1.286786522206724,
          -1.4650425178573274,
          -1.2864437718754556,
          -1.5135217958231255,
          -1.529102032564803,
          -1.3388808929758407,
          -1.3015542695315931,
          -1.4694595857607535,
          -1.5491177931296896,
          -1.3979712533187756,
          -1.3987451595853633,
          -1.20365713294555,
          -1.3704167906049685,
          -1.327194214788645
         ],
         "z": [
          -1.1831132053412425,
          -1.679854307373989,
          -1.2393292755186618,
          -1.1822752553883467,
          -1.1494753165320624,
          -1.2833714474414804,
          -1.2095708004469976,
          -0.7364219157984697,
          -1.399816955264968,
          -0.9038960059630601,
          -1.5586481878063407,
          -1.5688453279025012,
          -0.8190302786969331,
          -1.7327588549306765,
          -1.3773869919767263,
          -1.0786760763580796,
          -0.5042627079816557,
          -0.7973869692871877,
          -1.285941929252596,
          -1.9014640433135759,
          -0.9509309915878966,
          -0.9235006332278738,
          -1.5293264542438774,
          -0.988344166658052,
          -1.0488973508360295,
          -1.0134624979778786,
          -1.0554480631771008,
          -1.4567275543092262,
          -0.8826726898622241,
          -0.862003060945654,
          -0.8030495308415158,
          -1.0978710006154477,
          -1.6423379495469148,
          -1.744014349989215,
          -1.0137923613923634,
          -1.158123400033705,
          -1.4831710266723215,
          -1.5892466773577079,
          -0.7486221023675625,
          -1.4493301765556135,
          -2.021882710271554,
          -0.6078263141664618,
          -1.2337478321851005,
          -1.6317453841717815,
          -0.7828937140059373,
          -1.0857622741260333,
          -1.5079206155914835,
          -1.6490309896074993,
          -1.1318312044831753,
          -0.5081599512755562,
          -0.258840701122924,
          -0.26684926386267777,
          -0.7869701621825281,
          -0.8173048170081819,
          -1.3800587925653076,
          -1.690206583098733,
          -1.4155825168998044,
          -1.5378418678136359,
          -1.0068852470694407,
          -0.9729508825993013,
          -1.5744144808898528,
          -0.445755668325067,
          -0.05031313475719949,
          -1.4788548913011528,
          -1.3865893980696675,
          -1.2373362067780433,
          -1.1198698914996499,
          -0.8339101017530466,
          -1.527097728204709,
          -0.5209142492985583,
          -0.628818061562003,
          -1.2181731819367796,
          -1.1427769278600017,
          -1.2202274202403225,
          -0.6725696520257582,
          -0.8121734380845188,
          -1.830190262087261,
          -0.9206874816474541,
          -0.8999138055091082,
          -1.2461049720706736,
          -1.5894229061082028,
          -1.6768184731420563,
          -1.5549141963577555,
          -1.1281781619509388,
          -0.9700758760990764,
          -1.1369127943668509,
          -1.1929081815758698,
          -1.1570787353388248,
          -0.9148981721264708,
          -0.9929700086266073,
          -0.6800806571726885,
          -0.6674829616564335,
          -0.926658014588398,
          -0.9310132885700356,
          -0.7440473679727686,
          -1.4030429233320378,
          -1.0613726787102309,
          -1.3110634917672732,
          -1.243807780867116,
          -1.797034975576569,
          -1.0487287200033395,
          -1.6164971409600888,
          -1.071485340509591,
          -0.6188078013930779,
          -1.030994668025586,
          -1.0875282737100067,
          -0.3462849873346608,
          -0.5685532583102084,
          -0.6627493318508352,
          -0.5495786447586338,
          -1.1316736000999774,
          -1.266804345276185,
          -0.5012814472143325,
          -2.007723496072066,
          -1.1964478143622144,
          -1.6955320451151916,
          -1.6905023675455981,
          -2.0849068792696244,
          -1.0625789704632405,
          -1.5064290379390755,
          -0.8858669261422775,
          -0.947466093647091,
          -0.9013483817596223,
          -0.90428458250395,
          -1.1550078604594727,
          -1.288183555504077,
          -0.9631291120176241,
          -1.1066659680709936,
          -0.8940690753736092,
          -0.9157018122045513,
          -0.5273569029225635,
          -0.01629335764977357,
          -0.6533708677996903,
          -0.9518295974085386,
          -1.342249058525422,
          -1.2066906495304741,
          -0.9698263975888846,
          -0.5380728146857219,
          -0.6184190894186055,
          -0.10392261112333408,
          -0.9831672115152129,
          -1.3709160214222507,
          -1.315054247944747,
          -1.075149128174007,
          -1.0559167932659421,
          -0.8893940545609925,
          -0.2540482028621878,
          -0.8791874567243173,
          -1.0340636177947609,
          -1.2209360503025741,
          -1.2023397799883129,
          -0.8766293878931887,
          -1.8700258598380866,
          -0.6232038128738207,
          -0.6864353550459311,
          -0.5596749647854735,
          -0.783487280747489,
          -1.4840182684825152,
          -1.0192306410443224,
          -0.802482019339546,
          -0.7680365417171738,
          -1.516363338712647,
          -1.0134226296837845,
          -1.6264550967384086,
          -1.4365714335575404,
          -1.2876437453184082,
          -1.5047316585205464,
          -0.9357185525394207,
          -1.3635433447367638,
          -1.1845143203921735,
          -0.979533677410126,
          -1.2325757960078778,
          -0.9956516822738588,
          -1.0168628870162744,
          -1.5848671150655236,
          -0.8788368378160322,
          -1.2005895130451052,
          -0.6338229482717818,
          -0.9931674654608268,
          -1.0182803798415672,
          -1.1329521601828705,
          -1.3673054424207072,
          -1.569888142726503,
          -1.1273830497813548,
          -1.238410623389768,
          -0.5088454797614176,
          -1.2592999975011798,
          -0.8199674569241937,
          -0.7769179499098912,
          -1.6776059944850088,
          -1.3828958845655652,
          -1.5403521394517106,
          -1.5589102902664491,
          -1.1620922736153283,
          -1.4514481374267523,
          -0.9655661708773132,
          -0.6845350720385053,
          -1.1473427067700765,
          -0.39656513273346444,
          -0.5906880039652931,
          -0.42994768833114594,
          -0.5780984240011566,
          -1.2635974270235055,
          -0.9148018254682155,
          -0.14907009038998043,
          -1.1089271360492878,
          -0.986505869997602,
          -0.916124023930924,
          -1.3724123277960498,
          -0.9606010680518239,
          -1.1662917341749488,
          -1.8036968799991124,
          -1.761637401496071,
          -1.101965354308901,
          -1.2234445909334704,
          -1.2527019095986773,
          -1.0557320922632074,
          -0.5525483146087021,
          -0.9783526018498268,
          -0.8197944659493189,
          -0.8430123881682701,
          -1.3936356511115753,
          -1.2233480196115698,
          -0.385018530841731,
          -0.4109681667139157,
          -0.4012685622096596,
          -1.1577125325820776,
          -0.5630982760279682,
          -1.2059752949757534,
          -1.5283100697762795,
          -1.3815205931075194,
          -0.8644678739839936,
          -1.6035366636000592,
          -1.103191563051128,
          -1.2345203553667448,
          -1.6228869319068266,
          -0.5023453981342326,
          -0.3727099473991223,
          -0.6489089131040404,
          -0.8994236853972399,
          -0.5789072795241352,
          -0.5812636055418388,
          -1.1864048760913695,
          -1.1716329458668173,
          -0.7568389715574864,
          -0.4743144772691968,
          -0.7360075150552188,
          -1.5040787475726025,
          -1.0999698027824676,
          -0.893584418432718,
          -0.8394255959086482,
          -1.3297528154800036,
          -1.2748450093403998,
          -1.4170058870008992,
          -1.3379357353225545,
          -1.5401411809425145,
          -1.1040515552048866,
          -1.4845703057974415,
          -0.9058726880866167,
          -1.1954450157432024,
          -1.205503660975825,
          -1.2505156796324746,
          -1.5920774174923695,
          -0.9196768854269051,
          -0.6826585327419864,
          -0.9678575020378728,
          -0.8947561204436455,
          -0.29257813962626295,
          -0.06530147890570082,
          -1.2845294321654923,
          -1.0327520837340138,
          -1.1569755557571062,
          -1.570524117958903,
          -1.6383159705493346,
          -0.42866828702756843,
          -0.9436225561414884,
          -0.7824744975582051,
          -0.7338475937632167,
          -1.0947412345328376,
          -1.844826832846565,
          -1.6134409143709987,
          -0.24664951667482168,
          -0.4601949965497403,
          -0.36984258310199264,
          -0.7743436292806258,
          -0.8356362019476116,
          -0.5895051293497037,
          -0.6808849702603617,
          -0.5662569863859446,
          -1.3001514791157072,
          -0.9959312798088971,
          -0.5736650565883399,
          -1.2979268475083152,
          -0.7679261052474023,
          -1.2705933388966038,
          -1.0570030752644775,
          -0.8593648247034059,
          -1.0310737075293326,
          -0.7955131174708846,
          -1.072816270383025,
          -1.0981403041804285,
          -1.1593325736146158,
          -1.5533838518903043,
          -1.2249299442641122,
          -1.5805903845556453,
          -1.2258026911224957,
          -1.1217613605811738,
          -1.5785630748298554,
          -1.3823850834862323,
          -1.7057394356079425,
          -1.7450715881889887,
          -1.4460862553403002,
          -0.8640327241727068,
          -0.8661000680813238,
          -0.9210560205220967,
          -1.0392826392762593,
          -1.2489292586761018,
          -1.258475473818352,
          -1.5949984188620774,
          -1.5823444325197489,
          -1.2057765796994482,
          -1.1139480632865113,
          -0.6500657704425277,
          -1.4418783045120904,
          -1.0841347696339747,
          -0.6308991433589534,
          -1.2440546066838354,
          -2.135691104938074,
          -1.2972815399344304,
          -0.8733777189636606,
          -1.1733108191736799,
          -0.9998270819554486,
          -0.8106972457972982,
          -1.0138073905241443,
          -1.4924462899484288,
          -1.1952527360480736,
          -0.5891415445133807,
          -1.1080997639179275,
          -1.0835194533756645,
          -1.213945916017279,
          -1.0009755273475112,
          -1.2209039007667295,
          -1.0763909293641092,
          -1.3008884860451806,
          -1.5466196025621508,
          -1.8287342021479516,
          -1.6327401924928626,
          -1.5632080741994074,
          -1.6998181986109064,
          -0.8275988171038008,
          -1.5936708005071034,
          -1.7926424905558245,
          -1.3523205794042599,
          -1.3045671065911828,
          -1.212780499447911,
          -0.9949815293765212,
          -0.8398397332882964,
          -0.8975781266559176,
          -1.0563623609925141,
          -1.0661538205578267,
          -0.2759588847258981,
          -1.1460266675078412,
          -1.4785791405043311,
          -1.3536357710829456,
          -1.0220114236461975,
          -1.5679784591603938,
          -1.0598783226601927,
          -1.306905861001531,
          -1.109343569228227,
          -1.266826903275695,
          -1.268958908518829,
          -0.186236109125821,
          -0.7659531540918695,
          -0.49619545474688537,
          -0.40032926399185104,
          -0.8333887166294032,
          -0.8991603830468734,
          -1.3534801886557235,
          -0.2760230513207165,
          -1.2313801274244238,
          -1.0605940642524505,
          -1.4124509762189101,
          -1.0668080766424792,
          -1.0475850760780896,
          -0.6953704162106751,
          -0.7392060845433691,
          -1.0045519579378437,
          -1.439475768486195
         ]
        },
        {
         "hovertemplate": "Cluster=%{marker.color}<br>PC 1=%{x}<br>PC 2=%{y}<br>PC 3=%{z}<extra></extra>",
         "legendgroup": "5",
         "marker": {
          "color": [
           5,
           5,
           5,
           5,
           5,
           5,
           5,
           5,
           5,
           5,
           5,
           5,
           5,
           5,
           5,
           5,
           5,
           5,
           5,
           5,
           5,
           5,
           5,
           5,
           5,
           5,
           5,
           5,
           5,
           5,
           5,
           5,
           5,
           5,
           5,
           5,
           5,
           5,
           5,
           5,
           5,
           5,
           5,
           5,
           5,
           5,
           5,
           5,
           5,
           5,
           5,
           5,
           5,
           5,
           5,
           5,
           5,
           5,
           5,
           5,
           5,
           5,
           5,
           5,
           5,
           5,
           5,
           5,
           5,
           5,
           5,
           5,
           5,
           5,
           5,
           5,
           5,
           5,
           5,
           5,
           5,
           5,
           5,
           5,
           5,
           5,
           5,
           5,
           5,
           5,
           5,
           5,
           5,
           5,
           5,
           5,
           5,
           5,
           5,
           5,
           5,
           5,
           5,
           5,
           5,
           5,
           5,
           5,
           5,
           5,
           5,
           5,
           5,
           5,
           5,
           5,
           5,
           5,
           5,
           5,
           5,
           5,
           5,
           5,
           5,
           5,
           5,
           5,
           5,
           5,
           5,
           5,
           5,
           5,
           5
          ],
          "coloraxis": "coloraxis",
          "symbol": "x"
         },
         "mode": "markers",
         "name": "5",
         "scene": "scene",
         "showlegend": true,
         "type": "scatter3d",
         "x": [
          1.9835782414101268,
          1.7786137791109822,
          2.023959450691627,
          3.829025311703862,
          -0.22962817781517525,
          1.0075955186902736,
          -0.8780024502791957,
          1.9991323068907927,
          2.7648833957212826,
          1.0585689066831807,
          -1.5505615855167059,
          1.0175829657659672,
          -1.8087577853803443,
          -1.8934972914872532,
          2.338468592638979,
          0.6193088421468809,
          2.2135227365517323,
          0.27580718507025537,
          2.4016428368855087,
          -1.1096259589568094,
          0.2813477478667184,
          1.6189981753751679,
          0.006154074398068945,
          -0.13844728987940425,
          2.352961592223777,
          0.009019491196316386,
          1.2445770499388473,
          1.5591030088892828,
          3.0514527576155848,
          -0.06873356568932791,
          0.7847037681106279,
          2.691775896999601,
          2.0105008189694034,
          -1.7128999015414001,
          0.6881671563137403,
          1.9656368665832933,
          0.43172181590375813,
          -0.9807340841043397,
          -1.5027980804138654,
          0.0026397976903085436,
          2.3804041603611803,
          0.7096826777923867,
          1.577008353549519,
          -0.8197628284366764,
          1.2749808362914463,
          1.9478431735656767,
          0.8862205410847434,
          0.209255316649533,
          0.5151909183887416,
          0.27557616080014574,
          1.8885491177634588,
          1.3448584748150758,
          0.19790670736756022,
          -0.922989354823263,
          -1.1599245481798612,
          -0.6685558523573522,
          -1.2069804183144113,
          1.8628289733029189,
          -0.5369594209133556,
          2.5602343247551946,
          1.190918393694075,
          -0.28912794802025765,
          -0.4541148122771152,
          3.8575202315352564,
          -1.0497064082711471,
          2.410630372748093,
          1.729370300230392,
          1.4573647083258783,
          -1.7705009417371267,
          2.0800135934800537,
          1.539326726540074,
          -0.7605450894891169,
          2.122642202320387,
          0.3211677407320904,
          2.373451547437722,
          0.6287145383597331,
          -1.7619276891794993,
          -1.6325798081988276,
          0.8742683373801409,
          0.5852468995726186,
          0.16687127086635076,
          -1.4231424897002787,
          -1.8818599650822856,
          -0.44284663994199325,
          2.261684660133316,
          0.48862063483388535,
          4.385924570672092,
          -0.584679190956137,
          1.5627283688940903,
          1.1150015408132594,
          3.27856458738482,
          1.548995435316797,
          0.05961116243847496,
          4.3368036491671385,
          0.19294063421725027,
          -0.34447439102492144,
          0.26955914427896643,
          -0.8638028255584331,
          1.6851717855598256,
          1.7728759013027946,
          1.541230760863736,
          2.1831922715606575,
          -1.1352199684296744,
          0.27936796416408577,
          1.8697613750440056,
          3.1710852778077787,
          -1.9638483979729464,
          0.25115362359966253,
          2.3334712652585794,
          -0.7240784215219251,
          0.4502767287775963,
          2.2345802687033482,
          -0.8187231302460054,
          2.9409514240184276,
          4.3420716149617045,
          1.6461146852971453,
          1.3131370555102289,
          2.038614309794847,
          2.7249455471392476,
          1.3003006827007084,
          1.6033115531297493,
          3.3272231917231534,
          -0.44331620300614133,
          1.5824369360493606,
          -1.6533513295829174,
          -1.588441609354236,
          0.5757430583589979,
          2.378704490760925,
          -1.958237246808871,
          2.1174143344056815,
          3.1461799517253635,
          0.46159918724020965,
          4.732948534136547,
          2.5116491247505883,
          -1.2260302362128053
         ],
         "y": [
          -1.96468227653605,
          -1.85043797977644,
          -1.9770552614437138,
          -2.392817178881901,
          -1.7750868867610712,
          -1.8574768933990442,
          -2.1315092319412123,
          -1.9903801548113162,
          -2.1020227029210714,
          -1.874738847908603,
          -2.1358487950032554,
          2.133294611411676,
          -1.9985355289677353,
          -1.7896364138301903,
          -2.011402632102029,
          -2.0780831662618855,
          -2.019900613607863,
          -2.060445905118103,
          -2.0000517901768746,
          -2.2042899150555564,
          -2.044979511975122,
          -2.0406809217438973,
          -2.254941220102388,
          -2.168018187767843,
          -2.0401946120181984,
          -1.8780158905040327,
          -1.8564294766902005,
          -1.9276906225636306,
          -2.377276212621268,
          -2.0018058691848024,
          -1.9507902999365372,
          -2.2536409567731224,
          -2.0129157325701637,
          -1.6757444064757334,
          -1.8675952767939217,
          2.623622721834866,
          -2.0328966202821297,
          -2.1489959421873386,
          -2.105060516867476,
          -1.8099081497730807,
          -1.9706957444227966,
          -1.9041164463045939,
          -1.9075970323930975,
          -2.1899617014661774,
          -2.188524777359853,
          -2.2413336517173312,
          -2.1791167675519763,
          -1.9546089529474933,
          -2.329254694555153,
          -1.7870608164784143,
          -1.9997601016089068,
          -2.2427436316416123,
          -2.4569779129623193,
          -1.7430993163564414,
          -2.091351524426688,
          -1.9781645659444407,
          -2.204929303260785,
          -1.9248708836757369,
          -2.1080049979310838,
          -2.233767856068008,
          2.6657050476164357,
          2.4669045562728606,
          -1.900600985605437,
          -2.483790548515424,
          4.677379721999438,
          1.648849233601993,
          -2.0285062474223206,
          -1.9821610307089257,
          -1.8588803529515379,
          -1.9842765717376791,
          -1.8732384501676582,
          -1.9380623275843207,
          -1.9802123896710437,
          -1.9615712362294988,
          -2.08113542018921,
          -1.9980035644228644,
          -2.142920958847252,
          -1.83616053641436,
          -1.8730282879090963,
          -2.054226952448512,
          -1.9672000245889292,
          -2.1306825460595764,
          -1.835802758096658,
          -1.9993212414114572,
          -2.093552837869871,
          -1.8066163186497337,
          -2.444326264696437,
          -2.223990700306184,
          -2.1143478619952827,
          -1.8018518583933074,
          -2.454244910818291,
          -1.906011498667179,
          -2.034645905266726,
          -2.538204818618194,
          -1.8274107757087308,
          3.042851119409832,
          2.3889523468212555,
          -2.2133452313853352,
          -1.8657846082004335,
          -2.12450244807473,
          -2.0573322040681425,
          -2.2140860108937908,
          -1.7943601734198102,
          -1.8797320633384487,
          -2.039492784136998,
          -2.2090626291727014,
          -1.8336710330795067,
          4.075329530987144,
          -1.9469017104395727,
          -1.8884507682254308,
          -2.407127136417423,
          -1.9706063761510022,
          -1.7956577431500282,
          -2.0850152324569975,
          -2.372791887472647,
          -1.911518889655899,
          -1.8812144533522466,
          -1.8381584547013556,
          -2.3707041208914643,
          -1.916721842113319,
          -2.0948942297023003,
          -2.4208226606446357,
          -2.112499285990297,
          -1.9074300358973233,
          -2.104444325286743,
          -1.7799215079606427,
          -2.4197286518501366,
          -2.027818020925801,
          -2.1194620713332633,
          -2.046508136586625,
          -2.6603287818064314,
          -1.788944496181952,
          -2.5807085166809487,
          -2.018762652317709,
          -2.13931582034239
         ],
         "z": [
          1.7013513115110634,
          1.8728514421654159,
          2.5703494962344156,
          4.699163526254926,
          3.5776964492540073,
          2.004123669594219,
          7.252142791709696,
          2.043228754640957,
          2.355080772312758,
          2.133679225662981,
          7.4942578078494115,
          3.826676165880039,
          5.954354998584705,
          4.34357588937525,
          2.116816700864858,
          3.4710960201703824,
          3.6213739920640786,
          4.540061424237748,
          1.9100431647433385,
          7.686352960521291,
          4.365805874046866,
          3.868923487439196,
          7.412703638897289,
          6.972438340972542,
          1.8378160507876045,
          3.123132599531776,
          1.7282249910834078,
          2.4741675657850215,
          2.6512348482583254,
          4.452019967053248,
          3.0662874372181657,
          3.295282968512299,
          2.407001128588479,
          2.728441308688751,
          2.2792333428654254,
          4.363769996822263,
          2.9109154367411905,
          7.2083314375129195,
          7.3359383539517715,
          2.740667644261193,
          2.048962276294277,
          2.4623519540407695,
          2.608742589504495,
          7.487286469936174,
          3.0210766236988698,
          3.5083136296255875,
          3.6886018175081974,
          3.0243380486092146,
          7.458741874941584,
          2.224147850203256,
          2.721973621359445,
          5.288758552124964,
          8.106366650098403,
          2.5235975527288343,
          6.225290745774036,
          4.507622524290221,
          7.729394123798209,
          1.9887431719397917,
          7.012806736000049,
          4.179629818473271,
          4.452041202005807,
          7.909690174829583,
          4.155298728667323,
          4.278076846057946,
          8.018821509623397,
          4.339215608317839,
          2.610982487628934,
          3.744094016337494,
          3.606543372288822,
          1.6943154226041321,
          2.765538022280568,
          4.501535720425973,
          2.273770366902901,
          3.8748515756253643,
          2.492434565507351,
          4.104848549958021,
          7.531157866693717,
          4.409602398212521,
          2.771934679010259,
          2.435508095706157,
          4.052413058892437,
          7.411726797122154,
          4.399801580383461,
          6.467294310419058,
          3.462884991545935,
          2.167819179453904,
          3.973001825688308,
          7.483446977015136,
          4.156975872459557,
          1.823826723297392,
          5.901976344169131,
          2.5200928537651044,
          6.306252010759691,
          5.7563379009003075,
          2.4966479990523305,
          7.4918636640679885,
          4.291282035991774,
          7.60306940206508,
          2.015337648930917,
          4.111324401100192,
          4.003488940390776,
          2.655241529269511,
          3.9947591033432923,
          3.7402830801790174,
          2.4386463695165017,
          2.4430067542279397,
          4.4870489122854815,
          7.734043929329264,
          1.872860832960459,
          4.308265017754572,
          7.907973938633762,
          1.7590226857862505,
          3.1007915050628387,
          2.211631977303514,
          3.9603775333619176,
          1.6821770538946643,
          2.153154777665038,
          1.5639113385195624,
          5.161504369118522,
          2.523683562645214,
          4.07106137388961,
          5.1349423935751535,
          6.974955406375295,
          2.1731575134334307,
          7.3808087814561265,
          4.142765509029783,
          8.01176966616708,
          2.73616584753849,
          7.563316785622941,
          2.306346089730714,
          5.136143698753322,
          2.5009837299977993,
          4.462406550073448,
          2.523568710190756,
          7.44959850760003
         ]
        },
        {
         "hovertemplate": "Cluster=%{marker.color}<br>PC 1=%{x}<br>PC 2=%{y}<br>PC 3=%{z}<extra></extra>",
         "legendgroup": "4",
         "marker": {
          "color": [
           4,
           4,
           4,
           4,
           4,
           4,
           4,
           4,
           4,
           4,
           4,
           4,
           4,
           4,
           4,
           4,
           4,
           4,
           4,
           4,
           4,
           4,
           4,
           4,
           4,
           4,
           4,
           4,
           4,
           4,
           4,
           4,
           4,
           4,
           4,
           4,
           4,
           4,
           4,
           4,
           4,
           4,
           4,
           4,
           4,
           4,
           4,
           4,
           4,
           4,
           4,
           4,
           4,
           4,
           4,
           4,
           4,
           4,
           4,
           4,
           4,
           4,
           4,
           4,
           4,
           4,
           4,
           4,
           4,
           4,
           4,
           4,
           4,
           4,
           4,
           4,
           4,
           4,
           4,
           4,
           4,
           4,
           4,
           4,
           4,
           4,
           4,
           4,
           4,
           4,
           4,
           4,
           4,
           4,
           4,
           4,
           4,
           4,
           4,
           4,
           4,
           4,
           4,
           4,
           4,
           4,
           4,
           4,
           4,
           4,
           4,
           4,
           4,
           4,
           4,
           4,
           4,
           4,
           4,
           4,
           4,
           4,
           4,
           4,
           4,
           4,
           4,
           4,
           4,
           4,
           4,
           4,
           4,
           4,
           4,
           4,
           4,
           4,
           4,
           4,
           4,
           4,
           4,
           4,
           4,
           4,
           4,
           4,
           4,
           4,
           4,
           4,
           4,
           4,
           4,
           4,
           4,
           4,
           4,
           4,
           4,
           4,
           4,
           4,
           4,
           4,
           4,
           4,
           4,
           4,
           4,
           4,
           4,
           4,
           4,
           4,
           4,
           4,
           4,
           4,
           4,
           4,
           4,
           4,
           4,
           4,
           4,
           4,
           4,
           4,
           4,
           4,
           4,
           4,
           4,
           4,
           4
          ],
          "coloraxis": "coloraxis",
          "symbol": "cross"
         },
         "mode": "markers",
         "name": "4",
         "scene": "scene",
         "showlegend": true,
         "type": "scatter3d",
         "x": [
          2.6421468336009335,
          5.5600711887837315,
          5.224816100458545,
          6.694749707016399,
          3.358368559593221,
          7.077826170485603,
          5.4128186109494765,
          5.7948692737607805,
          4.174772317000678,
          3.3227634517315554,
          8.092903452253324,
          2.816161780097228,
          5.869239830570353,
          5.341105085747046,
          4.173398032400894,
          4.343100698201971,
          4.6431929017609646,
          3.280935228613706,
          3.125708507813531,
          5.387332271248891,
          3.5636909910966565,
          3.1707909879530995,
          3.4376464349300466,
          3.398230978837775,
          3.7779372974675436,
          8.226790909555639,
          4.308555484501445,
          4.951218482439412,
          7.130711174692694,
          3.191981312022317,
          6.006065718692635,
          3.210117500737916,
          2.700908798786693,
          3.4989473691245716,
          2.839544632356793,
          2.7817946701665366,
          3.4626411346748713,
          3.5921432782267204,
          2.80239563637511,
          2.580869235955043,
          5.154291665498015,
          3.074356439665946,
          3.765805541124151,
          3.8200281079992813,
          4.3771405257332425,
          6.858126264885361,
          3.373789130658629,
          3.3744902955525515,
          6.258972868364091,
          7.242207751435575,
          7.716827459237298,
          5.043658225002352,
          4.682088345262303,
          6.477130238669139,
          3.1851104311029395,
          6.78186558599188,
          2.945457625544025,
          3.0850253652197748,
          4.509726987414751,
          3.0417942326448206,
          6.869069919632844,
          4.358589586517382,
          9.233014128045156,
          4.804239971980499,
          2.865069773629618,
          3.7045495591290885,
          4.251999304958581,
          2.9083810656818896,
          3.2483301072163617,
          3.071164287641655,
          2.947814380209174,
          4.073154131393183,
          3.351972810616267,
          4.79881564536201,
          7.529868524434128,
          7.436454661782425,
          5.0829838439398465,
          7.276761166281488,
          4.1506355830971975,
          5.180521071117891,
          4.763592331226503,
          2.117548877916215,
          2.8837115105683258,
          6.962923968797134,
          4.57382697739745,
          5.973541974415025,
          2.9569302873051075,
          2.9476131218410258,
          2.978333758694729,
          7.874575694290806,
          3.491152191265698,
          3.5966543139419778,
          4.8247404024639104,
          3.3389760721378825,
          4.635806449427619,
          2.8220401160491146,
          3.755759676506307,
          4.591751670952542,
          2.501413468393612,
          5.319470224810051,
          2.6575661755262194,
          4.910678484062893,
          3.899700363645226,
          6.744438735191922,
          6.3428736868538715,
          4.0947346128864055,
          3.8153300892737994,
          2.969311420471839,
          3.6787142534820014,
          3.611797546546935,
          3.1788170791655412,
          4.068780403503342,
          5.306324174865994,
          3.0642020676215633,
          3.802443563805586,
          3.227930367892504,
          5.617361911764638,
          3.475924300621124,
          7.231994583942731,
          7.032418853878903,
          9.992895955902645,
          5.6367663064585285,
          5.487258315085459,
          2.9627011194272694,
          3.0796327078632695,
          4.992928880179137,
          3.242921371762583,
          3.7629063353942835,
          10.274943506527347,
          2.9916659222959865,
          6.2856759636130635,
          4.990518338764314,
          2.76783892638256,
          3.8949330056346647,
          4.77022730961237,
          4.975852203609187,
          5.312929420185522,
          4.478626602636178,
          6.382494786416057,
          3.7174798131322753,
          4.407920252386213,
          3.922411040885653,
          3.8617165716285005,
          5.068965364427152,
          5.6828158253230825,
          3.5986869993571418,
          4.658100673734333,
          4.575288686009194,
          3.213428046464132,
          2.757974424769326,
          4.580793021088924,
          5.314996791329205,
          3.1964608861408985,
          4.252478770398041,
          5.079194555728834,
          3.5559994239642565,
          5.414140649143232,
          4.525777291376236,
          8.088571847368451,
          4.555267859299444,
          6.097882652114292,
          3.8638051384424417,
          3.2536401880415213,
          6.277937389277843,
          5.721913209565721,
          5.136592557730787,
          2.7426643500151315,
          3.2534336315120838,
          6.381326902762599,
          5.523588465352495,
          4.519757990694656,
          3.0284751326002355,
          3.439258331537575,
          5.318316771770614,
          7.027600826887874,
          7.165572971595913,
          4.464798564606633,
          6.0895504986680375,
          5.691216498807408,
          3.7378947673461624,
          4.7547460420657925,
          3.948495229288864,
          2.9836775898573693,
          4.9350262069958335,
          4.289296241374071,
          4.338957093015181,
          8.341837792128146,
          4.284116392684938,
          3.5870021467347577,
          3.834486574158139,
          2.950410517206596,
          2.84252591909623,
          3.886980144287474,
          4.631571621867368,
          3.8911909630318497,
          3.2128118589303782,
          2.5239561804781494
         ],
         "y": [
          -2.0335474757098693,
          -2.1240291168315393,
          -2.288893257219773,
          -2.4731959418049456,
          -1.673243930579711,
          -2.4596922907321197,
          -2.2296381017468616,
          -1.9305930725845664,
          -2.0960012490352855,
          -1.6669260469817018,
          -2.5461321541201385,
          -1.645324733050869,
          -2.0496745771985783,
          -1.8355428702443386,
          -1.7564627774110706,
          -1.789334052968719,
          -2.127755390552749,
          -1.8039839440790468,
          -1.713751018812529,
          -2.2767365584475305,
          -1.882790515323312,
          -1.7130489490106748,
          -1.7283816864352808,
          -2.211046249723269,
          -1.7380065687397417,
          -2.6165479002620406,
          -2.1027218725635413,
          -2.2367160034402462,
          -2.4442587029987055,
          -2.0497979148547496,
          -2.7021147779751096,
          -1.6371352803904298,
          -1.812532336200325,
          -1.7585682096662072,
          -1.5329145162080333,
          -2.0703804723656365,
          -1.7307647925877923,
          -1.787829265495348,
          -1.6482452149704876,
          -2.0141059870499163,
          -2.2548370197988237,
          -1.7323917893921659,
          -2.0180300269026348,
          -1.8120938544296235,
          -2.1414457004296783,
          -2.8094501998367454,
          -1.7148711909687286,
          -1.8804953005509246,
          -2.146258280142772,
          -2.4905933060358203,
          -2.5550773647218104,
          -2.049102951608231,
          -2.218677973457209,
          -2.372467833016673,
          -2.0874471050463708,
          -2.254835902440909,
          -1.765663269612521,
          -1.7123582283816765,
          -1.8310996347634765,
          -1.912144903705717,
          -2.4407038497939273,
          -1.8530763062036928,
          -2.7574026411734187,
          -2.2883020624480626,
          -1.4918779899159296,
          -2.401399226023201,
          -2.465140661543765,
          -2.2641271262093077,
          -2.1183120741663273,
          -1.6182456255333248,
          -1.6298179959684547,
          -1.646866628341573,
          -1.586055531452926,
          -2.1948333202544483,
          -2.2720296865672136,
          -2.4183104900648846,
          -2.1527260681681475,
          -2.2138909194117704,
          -1.7924842850394607,
          -2.1985236082629873,
          -2.118457469312913,
          -1.8484945002190567,
          -1.7018833968150506,
          -2.4871133603183377,
          -1.8393594326682694,
          -2.3999401889580048,
          -1.570884252663379,
          -1.6474055429726855,
          -1.5936863321897166,
          -2.607786363192846,
          -2.088733357396784,
          -1.6844416196821344,
          -2.0785485230569765,
          -2.045295366569573,
          -1.91712261004239,
          -1.6834507813069501,
          -2.020081155525594,
          -1.8645763407785416,
          -1.9983392795784318,
          -1.9678997476056699,
          -2.061444002084044,
          -2.1025449544592467,
          -1.7588480052495432,
          -2.1139032484267357,
          -2.331951942563438,
          -2.0499454278746496,
          -1.77406702667889,
          -1.7224926747715616,
          -1.7937824112449945,
          -1.7499263890928032,
          -1.7566677573854532,
          -1.7120918575322879,
          -2.2136344638582206,
          -1.9395054140410466,
          -1.8103915344568795,
          -1.7822605838227366,
          -2.238559337129959,
          -1.5431270346854786,
          -2.2986829787989764,
          -2.3987884102930153,
          -3.0761898251877065,
          -2.3162038337322257,
          -2.328638684616564,
          -1.8761233918095825,
          -1.9629780422574414,
          -2.1660897959461836,
          -1.9454267212994016,
          -1.8538087671134338,
          -3.079996141707886,
          -1.5691122748038748,
          -2.6863595422046282,
          -2.141238733405494,
          -1.6093140593966204,
          -2.0663484889152413,
          -2.2585121637786214,
          -2.212155639112607,
          -2.2176984761470613,
          -2.1919528498226244,
          -2.5163332943270116,
          -1.8226578209020814,
          -2.1879455058500814,
          -2.2079570455226176,
          -1.8224154943762012,
          -1.9582017305946142,
          -2.0043084673378058,
          -1.7433951358863662,
          -1.7663320259057884,
          -2.2166185004134458,
          -1.9735215732675175,
          -2.020271052997325,
          -1.9250429333105057,
          -2.0160300827954063,
          -1.663817393065167,
          -2.078922502580932,
          -2.25146392098992,
          -2.117769583832977,
          -2.304704338775095,
          -1.7985042891853382,
          -2.611839171162445,
          -1.8854208598839717,
          -2.0045859521536804,
          -2.0348951613030315,
          -1.5846424945609987,
          -2.0816686513202725,
          -2.3215476482185777,
          -1.9469432755889473,
          -1.8115905715346758,
          -1.634129645744803,
          -2.3921660381150267,
          -2.6116195192317715,
          -1.9621610695021967,
          -2.084343503806058,
          -1.7589145926215906,
          -2.1858207687297577,
          -2.4695935741822996,
          -2.0693449304575986,
          -1.75799353771902,
          -2.232659507000735,
          -2.3702858368364197,
          -1.6865605170404767,
          -1.7841759028425128,
          -1.67296188434798,
          -1.9257295901149867,
          -2.2392988509182747,
          -1.7196944954230882,
          -1.8723552373623404,
          -2.6344746440789044,
          -2.0972902097675106,
          -1.5996426585392174,
          -2.083387165759964,
          -1.7119295027005097,
          -1.99854564044041,
          -2.1343408226021743,
          -2.178479661438499,
          -2.028225861547933,
          -1.9743723345866686,
          -1.9359911119718773
         ],
         "z": [
          1.5975881365303652,
          0.18205173395120414,
          0.7072570871041264,
          1.0431861895061139,
          -1.7005670038928133,
          0.17968600990962616,
          0.8456404906764214,
          -2.4205295302919505,
          1.1749558956913648,
          -1.7039608061524751,
          0.09424574361927951,
          -1.2925516234197192,
          -2.1021667890287974,
          -2.4648083139352224,
          -1.7134586392210651,
          -1.968548464052274,
          0.6872740991874423,
          -1.5995802808318735,
          -1.4730177861052156,
          1.1399173416084512,
          -0.9926274587081886,
          -1.7383768323614042,
          -1.9765135785617398,
          1.963843823155923,
          -1.4636524024164017,
          0.5643113725182491,
          0.5493146484155464,
          1.9659197201261571,
          0.7555324464561629,
          1.1694620358197652,
          4.309941507749524,
          -1.5570742549341678,
          -0.611737412364939,
          -1.5581995349209758,
          -1.6903608603063414,
          1.4003407961518186,
          -1.2848127654213377,
          -1.5786671042014995,
          -1.5334598406867361,
          1.6497550507347118,
          0.6113804694819813,
          -1.4244502898587894,
          0.6424440995784829,
          -1.5933944659035078,
          1.4258106080395343,
          4.462189239036197,
          -1.696374813210369,
          -1.2721088075680127,
          -2.3208240957926427,
          -0.06978970505868429,
          0.31879694866999386,
          -1.7271110696669438,
          1.8018490620985943,
          0.3018926983711372,
          1.2919122881424299,
          -1.9797963763236641,
          -1.5972413646409507,
          -1.6929035619986297,
          -1.6644725851897197,
          0.7756436095923855,
          0.6546705559300238,
          -1.3730388134091498,
          0.28425193495831846,
          1.9784189356079802,
          -2.158896003150361,
          2.5103131858179597,
          1.74837215642376,
          1.73814072298395,
          2.0133864738901144,
          -1.5417469631638003,
          -1.583514880318756,
          -1.9807099433198903,
          -1.9468370890162372,
          0.336476742279013,
          -2.353031775998824,
          0.253791696945743,
          0.02447651352073808,
          -2.2738121444709973,
          -1.6836852559940392,
          0.1379813311035863,
          0.30754913828313213,
          1.3905287253519667,
          -1.18839737419576,
          0.3893389246122981,
          -1.7141702625491901,
          0.657076553583509,
          -2.1206502520922976,
          -1.319147664480735,
          -1.9007422280543818,
          0.5640291852687317,
          0.9839474324346559,
          -1.7949174942286765,
          0.6619915184369747,
          1.9809999521808126,
          -1.8735440726536745,
          -1.5576952445014955,
          1.4599227164041473,
          -1.8733135300604216,
          1.4401038362427985,
          -1.3542238976687313,
          1.7850593633309104,
          0.522986008026041,
          -2.188161529772885,
          -2.260699574999669,
          0.2113859436323626,
          0.4340105471610257,
          -1.80325162810917,
          -1.8290947634579378,
          -1.1700295103340264,
          -1.7992283010250216,
          -1.0871181951693176,
          -1.6453307083829514,
          0.605358693016357,
          1.00549345234445,
          -1.5084063912640886,
          -0.8811489213621096,
          0.5499781621502986,
          -2.217877243067045,
          0.26078304560923865,
          0.16528930425308933,
          3.0029813591869887,
          0.7812018573626611,
          1.1852601000218301,
          1.1242182387560111,
          1.355924028671841,
          0.7920133602001493,
          1.1729045035434638,
          -1.287121506036697,
          2.54971312852734,
          -1.6352271874800064,
          4.25105380877105,
          1.1361937473504498,
          -1.4399558693517986,
          1.6673202267048528,
          1.4453351278319528,
          1.454330506805108,
          0.897356012919553,
          1.575051432717998,
          1.7711394908543574,
          -1.6127349863033855,
          2.0621755724945605,
          2.2991032642965,
          -1.6496462741863742,
          -1.9131863692431847,
          -2.0390312505450128,
          -1.7249107435207738,
          -2.387691988601789,
          1.7756886933824139,
          0.6611725198561499,
          1.9506300461388084,
          -2.036140104862953,
          -1.7991640674306915,
          -1.9497251896991807,
          1.16614321236985,
          0.6332951082843765,
          1.753204215126768,
          1.2271558047803124,
          -2.0440082503215944,
          0.42326747556649447,
          -1.5295076735758075,
          -2.40706662596097,
          0.6871827382701966,
          -2.2105903726359637,
          -2.273519920591438,
          0.19165796036280755,
          -2.1648875536396783,
          -1.359366281516502,
          -1.808559231750721,
          0.629913766676608,
          4.34873168685484,
          -1.4628852689314573,
          1.5292021282807227,
          -1.7173048437497866,
          0.9997097672584049,
          0.5309556463296758,
          -2.418995365279086,
          -2.2347562968511974,
          0.24433455407830637,
          0.8907689207372214,
          -1.711910371759214,
          -2.0690074871501145,
          -2.0672113903798826,
          0.7704780794963985,
          1.3435220300959723,
          -1.595584173832338,
          -1.4498840006503444,
          0.34030078112282847,
          0.9830401438632609,
          -1.9525466564089042,
          1.1288210911204508,
          -1.3479503503473382,
          1.2530358076362424,
          1.5688120217289943,
          0.585082514222646,
          0.5388114582319277,
          1.1699799962608053,
          1.8061047981272416
         ]
        },
        {
         "hovertemplate": "Cluster=%{marker.color}<br>PC 1=%{x}<br>PC 2=%{y}<br>PC 3=%{z}<extra></extra>",
         "legendgroup": "0",
         "marker": {
          "color": [
           0,
           0,
           0,
           0,
           0,
           0,
           0,
           0,
           0,
           0,
           0,
           0,
           0,
           0,
           0,
           0,
           0,
           0,
           0,
           0,
           0,
           0,
           0,
           0,
           0,
           0,
           0,
           0,
           0,
           0,
           0,
           0,
           0,
           0,
           0,
           0,
           0,
           0,
           0,
           0,
           0,
           0,
           0,
           0,
           0,
           0,
           0,
           0,
           0,
           0,
           0,
           0,
           0,
           0,
           0,
           0,
           0,
           0,
           0,
           0,
           0,
           0,
           0,
           0,
           0,
           0,
           0,
           0,
           0,
           0,
           0,
           0,
           0,
           0,
           0,
           0,
           0,
           0,
           0,
           0,
           0,
           0,
           0,
           0,
           0,
           0,
           0,
           0,
           0,
           0,
           0,
           0,
           0,
           0,
           0,
           0,
           0,
           0,
           0,
           0,
           0,
           0,
           0,
           0,
           0,
           0,
           0,
           0,
           0,
           0,
           0,
           0,
           0,
           0,
           0,
           0,
           0,
           0,
           0,
           0,
           0,
           0,
           0,
           0,
           0,
           0,
           0,
           0,
           0,
           0,
           0,
           0,
           0,
           0,
           0,
           0,
           0,
           0,
           0,
           0,
           0,
           0,
           0,
           0,
           0,
           0,
           0,
           0,
           0,
           0,
           0,
           0,
           0,
           0,
           0,
           0,
           0,
           0,
           0,
           0,
           0,
           0,
           0,
           0,
           0,
           0,
           0,
           0,
           0,
           0,
           0,
           0,
           0,
           0,
           0,
           0,
           0,
           0,
           0,
           0,
           0,
           0,
           0,
           0,
           0,
           0,
           0,
           0,
           0,
           0,
           0,
           0,
           0,
           0,
           0,
           0,
           0,
           0,
           0,
           0,
           0,
           0,
           0,
           0,
           0,
           0,
           0,
           0,
           0,
           0,
           0,
           0,
           0,
           0,
           0,
           0,
           0,
           0,
           0,
           0,
           0,
           0,
           0,
           0,
           0,
           0,
           0,
           0,
           0,
           0,
           0,
           0,
           0,
           0,
           0,
           0,
           0,
           0,
           0,
           0,
           0,
           0,
           0,
           0,
           0,
           0,
           0,
           0,
           0,
           0,
           0,
           0,
           0,
           0,
           0,
           0,
           0,
           0,
           0,
           0,
           0,
           0,
           0,
           0,
           0,
           0,
           0,
           0,
           0,
           0,
           0,
           0,
           0,
           0,
           0,
           0,
           0,
           0,
           0,
           0,
           0,
           0,
           0,
           0,
           0,
           0,
           0,
           0,
           0,
           0,
           0,
           0,
           0,
           0,
           0,
           0,
           0,
           0,
           0,
           0,
           0,
           0,
           0,
           0,
           0,
           0,
           0,
           0,
           0,
           0,
           0,
           0,
           0,
           0,
           0,
           0,
           0,
           0,
           0,
           0,
           0,
           0,
           0,
           0,
           0,
           0,
           0,
           0,
           0,
           0,
           0,
           0,
           0,
           0,
           0,
           0,
           0,
           0,
           0,
           0,
           0,
           0,
           0,
           0,
           0,
           0,
           0,
           0,
           0,
           0,
           0,
           0,
           0,
           0,
           0,
           0,
           0,
           0,
           0,
           0,
           0,
           0,
           0,
           0,
           0,
           0,
           0,
           0,
           0,
           0,
           0,
           0,
           0,
           0,
           0,
           0,
           0,
           0,
           0,
           0,
           0,
           0,
           0,
           0,
           0,
           0,
           0,
           0,
           0,
           0,
           0,
           0,
           0,
           0,
           0,
           0,
           0,
           0,
           0,
           0,
           0,
           0,
           0,
           0,
           0,
           0,
           0,
           0,
           0,
           0,
           0,
           0,
           0,
           0,
           0,
           0,
           0,
           0,
           0,
           0,
           0,
           0,
           0,
           0,
           0,
           0,
           0,
           0,
           0,
           0,
           0,
           0,
           0,
           0,
           0,
           0,
           0,
           0,
           0,
           0,
           0,
           0,
           0,
           0,
           0,
           0,
           0,
           0,
           0,
           0,
           0,
           0,
           0,
           0,
           0,
           0,
           0,
           0,
           0,
           0,
           0,
           0,
           0,
           0,
           0,
           0,
           0,
           0,
           0,
           0,
           0,
           0,
           0,
           0,
           0,
           0,
           0,
           0,
           0,
           0,
           0,
           0,
           0,
           0,
           0,
           0,
           0,
           0,
           0,
           0,
           0,
           0,
           0,
           0,
           0,
           0,
           0,
           0,
           0,
           0,
           0,
           0,
           0,
           0,
           0,
           0,
           0,
           0,
           0,
           0,
           0,
           0,
           0,
           0,
           0,
           0,
           0,
           0,
           0,
           0,
           0,
           0,
           0,
           0,
           0,
           0,
           0,
           0,
           0,
           0,
           0,
           0,
           0
          ],
          "coloraxis": "coloraxis",
          "symbol": "circle"
         },
         "mode": "markers",
         "name": "0",
         "scene": "scene",
         "showlegend": true,
         "type": "scatter3d",
         "x": [
          -1.7935285739751354,
          -3.4848968187205256,
          -2.5227214291433815,
          -3.4590365911307743,
          -4.244705238822915,
          -3.6085537696765972,
          -4.386020014497606,
          -2.279007119570183,
          -3.264499530177999,
          -2.2039473791454047,
          -1.5589719957409427,
          -1.505482476937538,
          -1.929536145449866,
          -3.8532278931339206,
          -4.060189020406666,
          -1.7249605069867044,
          -3.5295794617314593,
          -2.4075633185628376,
          -1.7929633215254888,
          -1.7248667578642538,
          -3.7053540469751582,
          -2.4519365794400567,
          -2.9249489491656266,
          -3.0310420106200775,
          -1.3198368855701612,
          -2.158760403704602,
          -2.2299348885384824,
          -2.9548331451402836,
          -2.3888299906417965,
          -2.3120934812731178,
          -1.9689117796376636,
          -3.227287885886129,
          -3.5635698693227837,
          -3.7381262575694385,
          -3.9332486573497314,
          -3.507743674753783,
          -4.18967463307112,
          -2.499762329451467,
          -3.714775939990441,
          -4.1212328080780125,
          -2.1010849594654704,
          -4.249322719954258,
          -4.287693811029868,
          -3.9766970184314614,
          -3.4467149278325278,
          -3.0996473657528254,
          -3.771360620956941,
          -3.1870269196633094,
          -3.0525647724268454,
          -3.403595231648597,
          -3.211859607287522,
          -1.7941857067436455,
          -2.409473074752507,
          -4.180337722689189,
          -3.266885425110306,
          -4.4064609875988845,
          -3.4822918973292376,
          -3.105754453816696,
          -2.6856206833330627,
          -3.8218615708403445,
          -3.7421800791544535,
          -2.429693795625402,
          -2.7545643180689026,
          -4.391258283909943,
          -4.05281145941313,
          -3.7259487943100145,
          -3.051884461506732,
          -2.170461997413378,
          -3.224443566536212,
          -2.0391478116514943,
          -2.7485495114622776,
          -1.939407463476519,
          -2.672496959200774,
          -1.4865602080118303,
          -2.695584267028365,
          -2.7446484607279973,
          -3.7464252000703566,
          -2.664761949815194,
          -4.068015867323873,
          -3.213726206006085,
          -2.702409691635263,
          -3.4139718242680526,
          -2.4933209809057963,
          -1.611940137571032,
          -2.49600356367752,
          -3.5288091592832727,
          -2.5897861336629777,
          -3.1851577355527865,
          -3.279533798036272,
          -4.1942843009117015,
          -2.808314392776186,
          -3.0135082990906628,
          -1.5528244508335372,
          -1.575939717713449,
          -1.9139286293065603,
          -1.627035644623681,
          -2.9827271745804818,
          -3.555182414265439,
          -2.7372312525418034,
          -2.274902552689959,
          -4.069420925053572,
          -3.660142140833583,
          -2.8366700976435104,
          -3.3270806518019236,
          -2.732135875375473,
          -1.826529036800248,
          -2.6088693170886006,
          -2.4901460679285576,
          -2.6828506445584592,
          -3.2458490122335273,
          -2.110611842930649,
          -1.9272261921322782,
          -3.4847958664514507,
          -3.216360479911685,
          -1.6097241058758553,
          -3.3717490732224937,
          -1.5914354184701678,
          -1.960852772631613,
          -2.0100762233025504,
          -1.50280596030999,
          -3.315172717717884,
          -2.3819462148981523,
          -1.8141861996838913,
          -2.1591511809875095,
          -3.93496858931752,
          -2.8119194971337667,
          -2.958640642482338,
          -3.642417833229043,
          -3.4143528511343884,
          -3.091681102072166,
          -3.2731338734708597,
          -1.7417348766316638,
          -3.7732131942395286,
          -2.2248921771371055,
          -2.8863814411653252,
          -3.7042291056259793,
          -3.4225575438805427,
          -1.5555374767770498,
          -1.4144993957880745,
          -2.9209121553683453,
          -1.3676724565775695,
          -3.041257409152174,
          -1.5801354496032876,
          -2.6240530619502938,
          -3.2416724777108237,
          -3.041459768950057,
          -1.7372513378294536,
          -1.5929094139093487,
          -3.9025989141570134,
          -3.4850658901444365,
          -1.9952067041307593,
          -3.6159558194384824,
          -1.5569804832950567,
          -1.6160793313081168,
          -2.3794071129079115,
          -1.5794151964848346,
          -2.8887835923057312,
          -1.3723040664574424,
          -3.0039315052115967,
          -3.5509518539492264,
          -1.294345369364009,
          -3.261811540219433,
          -3.653676336233448,
          -3.511191034859473,
          -3.531775563386107,
          -1.9456244881357978,
          -4.019471825072023,
          -1.365485532978499,
          -3.4396375502529737,
          -2.85563468799112,
          -1.9761948559212494,
          -2.749118453668902,
          -2.6702231725512795,
          -1.9570656266027724,
          -1.261261358133461,
          -3.369093626764556,
          -3.193577024069905,
          -2.3466168047021143,
          -3.129508912356188,
          -4.085081470001853,
          -4.250874192480809,
          -4.715655941347038,
          -1.7426289705341442,
          -3.659588448492537,
          -1.643415127708296,
          -3.2530755188673783,
          -1.8384991492880736,
          -3.4580790711534988,
          -3.0430319362691938,
          -2.6525539609254576,
          -2.1793056239022177,
          -1.9982327711276364,
          -3.0781891039750153,
          -3.796011421475906,
          -4.2009274803675805,
          -4.092422174023137,
          -2.8974421308869878,
          -2.884287199405715,
          -3.004498808467384,
          -4.242976854614754,
          -3.5986568088108606,
          -3.108121459635156,
          -1.6852249518211646,
          -2.98171940379005,
          -3.4112441914255425,
          -4.009132839036651,
          -2.8132181603317354,
          -2.565103936611216,
          -3.1263104777592083,
          -2.8841759111538696,
          -3.77120732698917,
          -3.341846378970955,
          -3.9853796965613455,
          -2.983805203579205,
          -3.4565739262376707,
          -3.9977026309588037,
          -2.110987574228513,
          -2.7140052471499527,
          -2.621429587397872,
          -2.0167800612575406,
          -3.6645767542085266,
          -1.666341276694096,
          -2.6444472263134657,
          -3.34466893872425,
          -3.568241123103787,
          -4.526772329565992,
          -2.7403303540206405,
          -3.2624003980043925,
          -1.7956660748935294,
          -2.0708219704360213,
          -3.2876997411021383,
          -1.357651159438431,
          -4.031128876515283,
          -2.788179734030517,
          -3.711468691514894,
          -2.1254302651977204,
          -1.5537798997978867,
          -3.2525951727276663,
          -2.5129667015775308,
          -3.8218100924145575,
          -2.763734559308734,
          -4.266744877382297,
          -3.236326703861755,
          -3.324625311518706,
          -3.0120009844872637,
          -1.4235923898497111,
          -3.4564018552722793,
          -2.8257243810956516,
          -2.7621986532481806,
          -3.9418553654589163,
          -4.373244848201511,
          -4.331884156755878,
          -3.109934686133788,
          -3.387774300668272,
          -3.8726119399481136,
          -2.820630482694942,
          -2.0903583778933124,
          -2.5245700855783557,
          -3.528952554065153,
          -3.00134263537289,
          -2.264201152564834,
          -1.783193859589338,
          -2.639029586255109,
          -1.661000441606306,
          -1.7065759639873435,
          -4.497971410055519,
          -4.354789004959132,
          -2.8956882718823076,
          -3.6979482019194108,
          -3.093540437102873,
          -4.616282338807768,
          -4.698142109084423,
          -1.903435859420289,
          -2.779263611121498,
          -4.108196288466296,
          -3.459256499134965,
          -4.31871284963692,
          -4.259533480681449,
          -3.3383020784507647,
          -4.333665130918108,
          -1.3807289456196123,
          -1.8191291443938529,
          -1.4871601697771983,
          -2.5764108881700896,
          -4.043332109247431,
          -1.4838240115411407,
          -3.841910570993364,
          -3.6378550406885424,
          -3.7671079520569837,
          -1.9877218795674665,
          -4.6753347587472645,
          -2.9327381410536524,
          -1.8025946786777547,
          -1.5356125120064854,
          -2.366407147026544,
          -2.177554869380855,
          -2.627884078683488,
          -2.37969424380497,
          -1.9842117935856207,
          -3.4441411684145593,
          -1.6978885965186783,
          -4.704190063081736,
          -1.3614075559575047,
          -3.5539423954453686,
          -4.6753347587472645,
          -3.620389071825475,
          -1.7072701674114243,
          -2.9502734675054243,
          -3.8820252987945554,
          -3.5871744282880496,
          -4.176200184303232,
          -3.6714392889158147,
          -3.624039046317867,
          -3.1164485582503954,
          -1.423118007637591,
          -1.9127208203165134,
          -2.248141276848148,
          -2.3932209042147696,
          -2.645484858060578,
          -1.7006563676605655,
          -2.245922667521681,
          -2.2549859439711986,
          -3.688523235106637,
          -2.6924038098611134,
          -3.419786775340369,
          -2.1295064736734703,
          -3.000376766420404,
          -3.5419547520929515,
          -2.0507379837298365,
          -3.1061772277109507,
          -3.5404138211632192,
          -1.8040951227049087,
          -3.282945334062539,
          -2.108124238704997,
          -2.431231775946501,
          -1.910991652007775,
          -1.8370912897988028,
          -2.4703876189501726,
          -1.3853171556622474,
          -4.420145452089543,
          -1.7265585743649536,
          -3.6239033233657807,
          -2.644452432463954,
          -3.870180619561037,
          -3.279385647154738,
          -1.669644829130004,
          -3.5685326120154395,
          -4.187782553697255,
          -2.0580168302573587,
          -3.491228825058118,
          -2.484436945414167,
          -3.8977257541184858,
          -3.2326393837474265,
          -1.9365029918169916,
          -3.5466490305333656,
          -1.7040944692058262,
          -4.009290518736428,
          -3.242589206383704,
          -2.8749698105132127,
          -2.9432257621768745,
          -2.4143832675216377,
          -1.8480975218945241,
          -1.8466807250816746,
          -3.8687642741932424,
          -2.8155562886379553,
          -3.706380952641039,
          -1.8713544935006097,
          -1.4916843862174418,
          -1.8808820335653424,
          -2.1739578908190915,
          -2.343580611830971,
          -3.1006248717073723,
          -3.415914918043175,
          -3.3053716316632586,
          -2.5436217766057,
          -3.628656063762651,
          -4.125914726469392,
          -4.121712322511532,
          -2.3983055224485224,
          -2.0150397666021753,
          -2.142639775343208,
          -1.243593910978521,
          -3.1603537100468557,
          -2.753835417925324,
          -2.823170893349576,
          -1.5916070001334273,
          -3.6341571551570273,
          -2.697639171572943,
          -4.155677792358085,
          -3.8474121284244633,
          -3.932541695735846,
          -2.7432244317777306,
          -4.125864400728805,
          -2.5091045058714827,
          -2.8718581016451736,
          -2.5895423398687143,
          -3.6388145086262553,
          -3.5487274822816475,
          -4.144426182543187,
          -1.9841063274135338,
          -4.198992528311446,
          -3.7790554321357486,
          -3.1820790985245604,
          -4.285646863989068,
          -3.6285730931351776,
          -3.1558558766119593,
          -3.355572298819359,
          -3.7410142660972334,
          -4.271977519244694,
          -3.2746120074827716,
          -2.3724200708940457,
          -3.344147149509023,
          -3.1037081149518597,
          -4.164055066469165,
          -4.001585281324395,
          -3.031570049824187,
          -1.7284723646519815,
          -1.3655046600362335,
          -1.6017664959629745,
          -4.104044493836838,
          -2.9921355830780594,
          -3.237142679621923,
          -2.5670462642855534,
          -3.2649964282550243,
          -1.65991692290844,
          -3.615108953460091,
          -3.4850740544999144,
          -4.202022773513043,
          -3.670462391207184,
          -4.007370084907805,
          -3.768177481952715,
          -3.083214343388063,
          -2.3341157280816236,
          -3.456778804313349,
          -3.1840701178463955,
          -2.1700637692328586,
          -1.9954995090232606,
          -1.5367824216296144,
          -1.5906791235581033,
          -2.1316616505286077,
          -1.9137271280828603,
          -2.8006857577817152,
          -2.3609294025198047,
          -3.7740760119777104,
          -3.987638140612991,
          -2.2433826910048205,
          -3.1403922870226593,
          -2.0921711878855707,
          -3.466877141992685,
          -2.0469264186194653,
          -3.349815067162146,
          -3.6618837267452498,
          -2.9672156730156614,
          -3.6270392388100445,
          -3.4182446561666433,
          -3.0174113666870386,
          -2.742643355784873,
          -3.0385202840642327,
          -1.3394646024493577,
          -2.820474249377093,
          -3.858506611211952,
          -3.9916828942820763,
          -3.6940860834781577,
          -3.2183540694719617,
          -3.1848732350741478,
          -3.73903260359191,
          -4.0079254789880805,
          -4.435352153290429,
          -1.9567531853585385,
          -3.552181483265453,
          -4.3450164929483215,
          -3.8179814491954525,
          -2.4851444857543856,
          -3.8196356434597782,
          -3.826718755265189,
          -4.341117958051916,
          -4.380796975738064,
          -2.3907415353119155,
          -3.3563267199415994,
          -1.7700414662148896,
          -1.737347225399597,
          -2.4289859151538717,
          -3.02424142725063,
          -1.8643264636739725,
          -3.935036611966319,
          -2.4796814528235975,
          -1.9679118865555665,
          -3.6867856506906773,
          -3.5964181617646966,
          -4.453502367298617,
          -2.6514629891969035,
          -3.8945919805653424,
          -1.3714369104080943,
          -3.4036846191026267,
          -4.225977692258254,
          -4.26806757025138,
          -3.729367267319289,
          -1.7705790509885027,
          -2.889442318236208,
          -4.350937101310174,
          -3.5151784967400097,
          -1.5068013751155838,
          -1.142100854917592,
          -3.8351532678941775,
          -4.102128704712431,
          -3.8913893912101,
          -3.5976447351129717,
          -3.2397941915256854,
          -2.4503403063640032,
          -3.014450338075471,
          -4.083415183292146,
          -4.072489056760835,
          -3.064996102048143,
          -3.3031374328479144,
          -2.483458885665743,
          -3.7588140120363227,
          -2.9401650871184826,
          -4.10371454287835,
          -1.2885225765147825,
          -3.3944576096323904,
          -2.099574651708539,
          -1.683522660859134,
          -1.8398273385688697,
          -2.30941529304628,
          -1.3781142157059292,
          -1.2291922459277165,
          -3.880138061628304,
          -3.6579255792539946,
          -3.0218259628778834,
          -3.765285742415387,
          -4.252620533194827,
          -2.418977892278808,
          -1.4424913333437726
         ],
         "y": [
          -1.212988809869279,
          -1.0601209397771,
          -1.1320290212637996,
          -1.19092865815996,
          -1.0439642944796141,
          -1.1739577803261945,
          -1.055753787799046,
          -1.2419044308198004,
          -1.0376305747775738,
          -1.1675681732860284,
          -1.220814516661152,
          -1.2155948632655593,
          -1.1961191738677415,
          -1.0316260698954978,
          -1.0558751941229843,
          -1.190289533456748,
          -1.0123446885153342,
          -1.209284797636204,
          -1.0720509830958205,
          -1.177348009934581,
          -1.1357624363684469,
          -1.1764322523737372,
          -1.19580175156941,
          -1.049772324645959,
          -1.3297722289717584,
          -1.1736096636968403,
          -1.2132516644998652,
          -1.1757617354106253,
          -1.1585498817199742,
          -1.1574898100773,
          -1.1756057104334074,
          -1.1813938954296301,
          -1.1086800898488227,
          -1.0215654510489558,
          -1.1064963872828721,
          -1.1878911174902136,
          -1.0431282260538746,
          -0.9896828739929834,
          -1.1311585392590096,
          -1.0466828981574656,
          -1.36824185046525,
          -1.044004859422763,
          -1.095559182673268,
          -1.035742583015311,
          -1.128471252744179,
          -1.149405263882877,
          -1.0231705182150317,
          -1.0565943298464626,
          -1.1308210051843037,
          -1.0487372651221545,
          -1.1631461313558078,
          -1.2000087151301795,
          -0.9956946823884317,
          -1.0545037340325791,
          -1.0801698542247948,
          -1.078557828980679,
          -1.1444592471269808,
          -1.1308297635115394,
          -1.1331498729771574,
          -1.1266495349805303,
          -1.154795010451981,
          -1.27387217630016,
          -1.1021137810911354,
          -1.0644201286787214,
          -1.1282568017140706,
          -1.0510430711104743,
          -1.140084586437041,
          -1.236172920575621,
          -1.2166202054721507,
          -1.3788367197316431,
          -1.2162432778840278,
          -1.4224184834950984,
          -1.1963277049258816,
          -1.161529916780613,
          -1.1000900118453576,
          -1.180874252639892,
          -1.0999092708148865,
          -1.1922611839005022,
          -1.0231285940933426,
          -1.1970869935586004,
          -1.256350330161837,
          -1.1044868199806253,
          -1.2073310166147004,
          -1.3576327578905478,
          -1.1374136477025125,
          -1.0499443368276509,
          -1.1925105057066991,
          -1.140806477074857,
          -1.1598799235028867,
          -1.0808141173510044,
          -1.2246245609790167,
          -1.2267004585316756,
          -1.1701641288364035,
          -1.212713350751958,
          -1.120155939288431,
          -1.3361402291172224,
          -1.1546723983906693,
          -1.1291071969818796,
          -1.164931555075703,
          -1.31090338850252,
          -1.0752121217504569,
          -1.0304939033068172,
          -1.1687339214558259,
          -1.1083678849638194,
          -1.1430573063819403,
          -1.2221466933721035,
          -1.239620019858871,
          -1.2090940352714912,
          -1.129154571920354,
          -1.0213651162950952,
          -1.257768443191283,
          -1.089867250727691,
          -1.1329081537866312,
          -1.143783863497646,
          -1.2026904691092644,
          -1.209807702460052,
          -1.2979204959152126,
          -1.0570365777850734,
          -1.0232161763720156,
          -1.2308038513119255,
          -1.0991180244176166,
          -1.1506621715687417,
          -1.3163820929697003,
          -1.146292482729913,
          -1.0605401826196517,
          -1.1495927917101667,
          -1.2067974559319181,
          -1.0582056247969036,
          -1.0889863288903419,
          -1.182366316381672,
          -1.1517997885289595,
          -1.3193644104085305,
          -1.154947252672925,
          -1.0402392768852824,
          -1.0143254124697245,
          -1.0393226483310571,
          -1.0618745726999461,
          -1.4592984783308984,
          -1.465939418637468,
          -1.0852602425913243,
          -1.1145531880987158,
          -1.021665903783862,
          -1.3030226710685255,
          -1.1724701368568815,
          -1.0726070192468897,
          -1.1740317619959624,
          -1.1615880069855706,
          -1.1256054728940503,
          -1.029592143881791,
          -1.0314058523528369,
          -1.3305067597083426,
          -1.0088263651243627,
          -1.2478963149843032,
          -1.3116439728652205,
          -1.2389851433434702,
          -1.2673595353458083,
          -1.1291221136256517,
          -1.3003111567209367,
          -0.999701182370734,
          -1.031406964436427,
          -1.2230334077056202,
          -1.2061478759618955,
          -1.019254098965215,
          -1.0970510354153082,
          -1.0853873604115325,
          -1.2672752101208549,
          -1.0331249460953567,
          -1.4206260395687125,
          -1.0598163918728818,
          -1.0619095332779418,
          -1.2257917399341989,
          -1.1183797133554492,
          -1.089340061285631,
          -1.278586427251837,
          -1.3572647411011205,
          -1.1018227565047884,
          -1.1470232344845117,
          -1.4295450732421051,
          -1.309817452344288,
          -1.3101830221243331,
          -1.1948608603028863,
          -1.122488105046921,
          -1.179633079338678,
          -1.0892939403296533,
          -1.2189719193717377,
          -1.390704201160977,
          -1.5315768951907855,
          -1.2330590178778482,
          -1.367928389357369,
          -1.377973553537448,
          -1.4718721349519552,
          -1.4658314962324341,
          -1.0430824410519977,
          -1.1285832467977743,
          -1.118002824649811,
          -1.137236866330104,
          -1.255304379804768,
          -1.134588201095216,
          -1.2310155632411215,
          -1.0849046217086853,
          -1.0451231524010027,
          -1.1841413745200047,
          -1.178213141184909,
          -1.1041991337330948,
          -1.0971654439413083,
          -1.0528437954065097,
          -1.2721458604304547,
          -1.2828743644760179,
          -1.1549276225494047,
          -1.1766647886035595,
          -1.0568971709267998,
          -1.2884234961316396,
          -1.2072819501856076,
          -1.2720163443587136,
          -1.1533727395047442,
          -1.1406300904649869,
          -1.3655477531335576,
          -1.1742931876446687,
          -1.1489624254582227,
          -1.1934575476674483,
          -1.0978487103645491,
          -1.1847113300299414,
          -1.0685724855256256,
          -1.1590161392060707,
          -1.0392970065960547,
          -1.0900974637644836,
          -1.2170489631105779,
          -1.2060785812051138,
          -1.542166786640511,
          -1.325861273225516,
          -1.2475310661470915,
          -1.4432303469748957,
          -1.2932629161674973,
          -1.3534213698825843,
          -1.1960229912279414,
          -1.3009610314427147,
          -1.4424181062549533,
          -1.178334895535121,
          -1.3339293061607504,
          -1.1321626303358934,
          -1.1889964967695525,
          -1.0525020766187214,
          -1.1685248859752444,
          -1.1195739169799699,
          -1.0507499485859282,
          -1.3945360613668227,
          -1.129134376246214,
          -1.1051985947893115,
          -1.172219395263419,
          -1.0330974187854411,
          -1.139169116042828,
          -1.1051973358354656,
          -1.236303397590426,
          -1.1962198249151552,
          -1.0877960665698105,
          -1.1222893917594368,
          -1.3059332815903286,
          -1.1984263552011143,
          -1.13178232267382,
          -1.2145434963513895,
          -1.1418226678677135,
          -1.0697486968589023,
          -1.0088584838339933,
          -1.073487585073367,
          -1.0289421256947744,
          -1.1210993835489316,
          -1.1619399195304536,
          -1.3972159092761631,
          -1.2321697788306145,
          -1.3461985998456194,
          -1.1211188660978537,
          -1.204063120762386,
          -1.3446734908805427,
          -1.4032119956881752,
          -1.271239958218631,
          -1.33463584029644,
          -1.2055332683578157,
          -1.0461378242720756,
          -1.2254791605423299,
          -1.0761397847320198,
          -1.166935089842535,
          -1.1533205815277103,
          -1.2900345330879623,
          -1.2701763226787706,
          -1.034341705798268,
          -1.0888426824391058,
          -1.0546221534023414,
          -1.1365149513597346,
          -1.1395797700629406,
          -1.1749066878191623,
          -1.1496860178157928,
          -1.0357532256981616,
          -1.035782547762022,
          -1.242759040713611,
          -1.1837424622537425,
          -1.1861713787725081,
          -1.1103039187503114,
          -1.126747026366215,
          -1.1923936568793347,
          -1.120879291556153,
          -1.4370149016026403,
          -1.1300063722725648,
          -1.4843201178859933,
          -1.214221842611454,
          -1.1496860178157928,
          -1.029711033987826,
          -1.2533701196433422,
          -1.154696624293367,
          -1.0377573022123345,
          -1.0418580459149325,
          -1.0602203325544761,
          -1.1341331697266963,
          -1.116161689629156,
          -1.119849583288884,
          -1.3197048288132807,
          -1.1763994766176329,
          -1.113170365266385,
          -1.071020172234216,
          -1.071213323739863,
          -1.2201871584461423,
          -1.2421246966383344,
          -1.1535414944121547,
          -1.0160241527678509,
          -1.198757970970408,
          -1.0454940057856463,
          -1.203818462777199,
          -1.195995938207912,
          -1.1426818521991349,
          -1.1473610406757224,
          -1.0193355449502937,
          -1.0067489640852851,
          -1.2619501247911802,
          -1.194980440542829,
          -1.1872988871292298,
          -1.032742960929788,
          -1.098414156507555,
          -1.1345628100340535,
          -1.406785758597411,
          -1.565461421479768,
          -1.1505053701029038,
          -1.5178878817861625,
          -1.0441190041309087,
          -1.1879913541513967,
          -1.0905911173673215,
          -1.1468518913455672,
          -1.1971832234736957,
          -1.112142522925982,
          -1.1169285871446262,
          -1.2049071744668123,
          -1.01564703774546,
          -1.259115823476599,
          -1.0746060868681266,
          -1.2149158730020104,
          -1.2301888895113258,
          -1.0350823611086672,
          -1.1557871772476764,
          -1.0527706556368093,
          -1.1967663849362316,
          -1.1940324504108075,
          -1.162080966120041,
          -1.021253939782125,
          -1.0625107061363306,
          -1.2683914185493934,
          -1.0584221447914237,
          -1.1418396328663356,
          -1.0493442961059896,
          -1.2125451544490289,
          -1.1729051397222272,
          -1.1027655412460657,
          -1.123176342675309,
          -1.2220752495801985,
          -1.1591912746026876,
          -1.0791083638617653,
          -1.1352422719255435,
          -1.1556953627377065,
          -1.0439950679526697,
          -1.0414707461283723,
          -1.031518410336531,
          -1.1518606847343802,
          -1.0508186931542098,
          -1.222442933413725,
          -1.3023634609727097,
          -1.1315044735372115,
          -1.2269475519677697,
          -0.9936625679759572,
          -1.1422091818999034,
          -1.0456430586289562,
          -1.0960783433276495,
          -1.0476747973196034,
          -1.216064131402922,
          -1.032663923490545,
          -1.222253731319764,
          -1.0456873973344305,
          -1.2546517673274025,
          -1.098800299297194,
          -1.1722161288524608,
          -1.0341741410195247,
          -1.110770011541263,
          -1.0436454261128367,
          -1.379520878697145,
          -1.1265633213298683,
          -1.049307634648041,
          -1.1556946272119577,
          -1.0540726108149132,
          -1.1478695173461055,
          -1.196333334515219,
          -1.1241294829189628,
          -1.038288519615105,
          -1.0499426136999865,
          -1.1521660971392684,
          -1.18045985508118,
          -1.2020454839975543,
          -1.1697779641625539,
          -1.041792227923906,
          -1.0446681677746263,
          -1.1510477623917528,
          -1.1413843819083815,
          -1.2549022952553082,
          -1.256283358969146,
          -1.0415692650459294,
          -1.2165160562357251,
          -1.1349827559014039,
          -1.1943954017503358,
          -1.1654201556399175,
          -1.3641039381093396,
          -1.1392421308360479,
          -1.1449774518246123,
          -1.0711458340786428,
          -1.1044994520686688,
          -1.046368816230527,
          -1.045734879281668,
          -1.1574585680915273,
          -1.2068509716202196,
          -1.0745640296859666,
          -1.1596812454049836,
          -1.3258006042744326,
          -1.3023526305866553,
          -1.218085692772839,
          -1.2729666076489619,
          -1.136502748518103,
          -1.171620787961932,
          -1.1133820570126742,
          -1.1746088667351258,
          -1.0960583883458035,
          -1.0493752267591845,
          -1.280455096198799,
          -1.1023374724225237,
          -1.1792528060294287,
          -1.1364078061232434,
          -1.260066996422623,
          -1.1538640180946178,
          -1.1268276161670807,
          -1.2315086195280223,
          -1.1008488039010884,
          -1.1247950160037132,
          -1.1222166731344212,
          -1.144237281405681,
          -1.2161976688325642,
          -1.1516858724345775,
          -1.1439331192397328,
          -1.063801319522666,
          -1.0445771043478451,
          -1.0407582643483233,
          -1.2162421825782193,
          -1.1641422685122884,
          -1.1679682971553342,
          -1.045154063638027,
          -1.122351564841257,
          -1.3832189337875536,
          -1.2561466333726405,
          -1.0775012604980514,
          -1.0682435954421474,
          -1.0775794817916085,
          -1.1079803023845918,
          -1.157287476878913,
          -1.057459369742573,
          -1.0543239736282242,
          -1.1552058972265986,
          -1.0415846484185822,
          -1.2636607506764792,
          -1.262834823979953,
          -1.17215792945428,
          -1.0514833294024906,
          -1.1138341633847582,
          -1.0437152935431597,
          -1.2080411586393154,
          -1.2640827497544,
          -1.1056023500405316,
          -1.1202397200117178,
          -1.0468269307503288,
          -1.3972507606514035,
          -1.0287439469855022,
          -1.2866873803291692,
          -1.1807519570791394,
          -1.0353221590016288,
          -1.05268201208007,
          -1.041977664328956,
          -1.3510101216880501,
          -1.1834641699336863,
          -1.0916180414475931,
          -1.1224200903791839,
          -1.4063351735959653,
          -1.418863281309177,
          -1.0776347882416624,
          -1.046633126242725,
          -1.0646760022391086,
          -1.167530452082233,
          -1.182717194387367,
          -1.215506517743957,
          -1.1825783365325984,
          -1.0441255154632978,
          -1.029496041160318,
          -1.1810027748306486,
          -1.0315558961079125,
          -1.3942970696073445,
          -1.2190580912948998,
          -1.3185241062369788,
          -1.1422359224679042,
          -1.437108042480784,
          -0.9981128703875278,
          -1.2894915997771972,
          -1.1789907562488102,
          -1.189967810122678,
          -1.1044342197946588,
          -1.2517515666529448,
          -1.3575771495551148,
          -1.0886144355359313,
          -1.12376312811643,
          -1.2523107037874763,
          -1.1036414183831476,
          -1.0342182221089584,
          -1.0775826257594912,
          -1.3182326282598087
         ],
         "z": [
          -0.39613080156744335,
          -0.2699274156417607,
          -0.447547800833528,
          -0.01604452861091324,
          0.04426139283774423,
          0.02311936025489838,
          0.05364259906166473,
          -0.3939569095265707,
          -0.44951181587141037,
          -0.7480691713122694,
          -0.6963513031047187,
          -0.7462546316274131,
          -0.6172320906582593,
          -0.17303918142194627,
          -0.04910537568379787,
          -0.6744337814747341,
          -0.4005910336709802,
          -0.03254341708082588,
          -1.0279943441306791,
          -0.9880288672773088,
          0.002091667823872603,
          -0.1851004966458551,
          -0.16039776781101833,
          -0.5407916780466259,
          -0.5995487591013668,
          -0.7774818849247603,
          -0.46467037834840225,
          -0.04497031614245012,
          -0.5497395770348479,
          -0.5166000728086086,
          -0.7296462453664712,
          0.10208728196441759,
          -0.02750237710502551,
          -0.261753238751562,
          0.03969456895495842,
          -0.4038216171018105,
          0.005338208427687198,
          -0.9097719452336619,
          0.023412291959428847,
          -0.05041693059350787,
          0.3015601986466036,
          0.017384987025777895,
          0.014022017708830955,
          -0.12687973616065418,
          -0.0568882757568671,
          -0.11652082512806866,
          -0.2254137461134469,
          -0.503248828355308,
          -0.17745166185364136,
          -0.3694751569679348,
          -0.07269849228167462,
          -0.6946031295330009,
          -0.9791431844409582,
          0.02404562672056594,
          -0.30685289181082953,
          0.0773792568058628,
          0.005229184466865723,
          -0.22960488065041337,
          -0.5500472285613093,
          -0.43049988487082713,
          0.05163449206482003,
          0.24120108090961614,
          -0.46217435172135973,
          0.06094123756046146,
          0.41174940117223896,
          -0.19734535724794816,
          -0.5906113199452404,
          -0.1944673288951048,
          0.11311055659017281,
          -0.027414683725501477,
          -0.2755817835736016,
          -0.4329372234096225,
          -0.30299177275710515,
          -0.6143515271202827,
          -0.49401236295532036,
          -0.05654365571355711,
          -0.12900421153565733,
          -0.11710474908601778,
          -0.09209808669891195,
          0.0047515204302944185,
          0.19051811825998127,
          0.013284813563790021,
          -0.26497355194930605,
          -0.2614322908902896,
          -0.40533253014172355,
          -0.4141047732019927,
          -0.35290430222382996,
          -0.042326080877775736,
          0.040577547287582,
          -0.00483126324675219,
          0.024513667210941333,
          -0.02078164548964285,
          -0.547057731316719,
          -0.7404147121921159,
          -0.9097838234880422,
          -0.5756099477109345,
          -0.05774453146506273,
          -0.05951156158487933,
          -0.38752649992883903,
          -0.295401182335406,
          -0.2253522994856939,
          -0.25823207718779817,
          -0.17713669829796425,
          -0.16791746586959477,
          -0.26918872417708256,
          -0.6858585615414516,
          -0.04576965847665586,
          -0.30033385122321915,
          -0.44489673135315616,
          -0.5219804634977668,
          -0.2772603123442672,
          -0.8401237354282503,
          -0.10826204530547273,
          -0.16268147731404636,
          -0.6920021453419316,
          -0.35505790089874323,
          -0.49828882128773017,
          -1.072712496593096,
          -1.0398188158927804,
          -0.7593551041702572,
          -0.2013802037723994,
          -0.511245141869162,
          -0.25631484512678504,
          -0.4050322006954021,
          -0.13902643225917724,
          -0.19055704514252994,
          0.04091265890411208,
          -0.21469328231773466,
          -0.25170790327911025,
          0.02887649834317006,
          -0.06011459969347218,
          -0.21005249065591897,
          0.16868697931149618,
          -0.9387209513951459,
          -0.7154003485155168,
          -0.21677053807613275,
          -0.29107675272349454,
          -0.312137307116563,
          -0.2097412434554425,
          -0.471350960377506,
          -0.9725177928228083,
          -0.5992836135879793,
          -0.42445573490313293,
          -0.3581550423999478,
          -0.4056891952711755,
          0.010639391131017757,
          -0.6228074213011024,
          -1.0184555434291178,
          -0.1581498728197051,
          -0.37510110724702866,
          -0.02143910041541972,
          -0.36252043144347734,
          -0.5133197536062406,
          -0.2988583959509303,
          -0.5001479217244345,
          -0.6274545185933882,
          -0.33278667500258513,
          -0.35413547322190664,
          -0.6324675086921638,
          -0.3016783037077204,
          -0.6908295951507544,
          0.17472952579911416,
          -0.3156176126763442,
          -0.10830428341343486,
          -0.22049471828420583,
          -0.2824069086867083,
          -0.10708383559258729,
          -0.7087169283911403,
          -0.3289956895611773,
          -0.5682167596630535,
          -0.6945111518560084,
          -0.5674594943689993,
          -0.5766328796025397,
          -0.6764600210684784,
          0.2490565229818183,
          -0.23914416500948735,
          -0.13767918391811776,
          0.043541738250246896,
          0.43389241945155615,
          0.05463980218489655,
          0.161362956374042,
          0.28720837997149695,
          -0.7008444687941084,
          -0.09714110955916885,
          -0.6978221043063272,
          0.30652430056575586,
          -0.32834584006427253,
          -0.013802417805655064,
          0.010754100695621301,
          -0.05595934831810853,
          0.6433277703860956,
          -0.22212938450167422,
          -0.5694272666169887,
          0.12460004986539117,
          -0.015058072359698011,
          0.44036465611711917,
          -0.2514247151939417,
          -0.3663065159973764,
          0.08468257604815488,
          -0.11508336315236598,
          -0.39970400244302035,
          0.05336199270306796,
          -0.5689691362200902,
          -0.3890389413228812,
          -0.2218986885743444,
          -0.10462926120211692,
          0.05049762121891986,
          0.1084909545921394,
          -0.17325582348858498,
          -0.013296117768735675,
          -0.17937424704126312,
          0.1801136184479227,
          0.2768771614474207,
          0.07304165163970082,
          -0.1256435796193929,
          0.04493943691570673,
          -0.1650086826589095,
          -0.2535709172895406,
          -0.3223717455505526,
          -0.5857106021285161,
          -0.051160390917117174,
          -0.9500669409649104,
          -0.7098833374751915,
          0.09107643148967108,
          -0.45063094025186035,
          0.15622624794652107,
          -0.19572450394691118,
          -0.06771095054973393,
          -0.05181642149115285,
          -0.48296125395478456,
          -0.29982885011511556,
          -0.27500204982034293,
          0.13416601027097105,
          0.01726936245457956,
          -0.06767651202059985,
          -0.39975584351774973,
          0.08196187570263241,
          -0.25147878332452234,
          -0.20074755381901296,
          0.015504206512904352,
          -0.25177468830500466,
          -0.020509551600853354,
          0.05427917077840863,
          -0.14187147817662804,
          -0.5297690998056095,
          -0.3573000210253587,
          -0.08818796378418597,
          -0.4860838647196744,
          -0.26050750609715556,
          -0.1095696300961618,
          -0.00848534988486095,
          -0.05092957012752378,
          0.16856757109913312,
          0.1156666796191903,
          -0.05556184305769453,
          -0.36053383105800785,
          0.11837618704769323,
          -0.3169272165330652,
          0.02947098690663932,
          0.1105047653690931,
          -0.3832714526977222,
          -0.9148751737427059,
          -0.758823937098261,
          -0.9533293802335064,
          -1.1395123076173526,
          0.24172084099432045,
          0.20246308383507886,
          0.0886852516363815,
          -0.10064151211072507,
          0.13664786622793026,
          0.273790088501347,
          0.22152303004975613,
          -0.5007738137844706,
          0.13370792274544882,
          0.13710256427449852,
          0.27029537294356115,
          0.6123231951606428,
          0.042866670237434824,
          0.2271273403013961,
          0.10322149465970858,
          -0.8216060803126737,
          -0.9024449385318688,
          -0.6182443809125329,
          -0.06760423329421626,
          -0.03594925510078749,
          -1.0299700553652607,
          -0.13736603032762076,
          0.024353606514334696,
          0.11101409395831749,
          -0.4741288124566472,
          0.27659358355962,
          -0.5588639380071858,
          -1.155557923476004,
          -0.5513794376201919,
          -0.2672730991587513,
          -0.20377012336199093,
          -0.5384235174189405,
          -0.6693930964352368,
          -0.5271887664937597,
          -0.1032730899167766,
          -0.22098109668504587,
          0.2179519824617491,
          -0.5054146064627385,
          -0.0115322479687526,
          0.27659358355962,
          -0.27560615917747017,
          -0.45918269264688527,
          -0.15490146010009911,
          -0.15544729108619088,
          -0.24692161020885955,
          0.008961138437704186,
          0.03642605446843679,
          0.01245905122064862,
          -0.18416496547502867,
          -0.2265068539864157,
          -0.7573728233055749,
          -0.5815569485033878,
          -0.6701698927648281,
          -0.5797062567326269,
          -0.5946792900697394,
          -0.30704288628055226,
          -0.45569580814014665,
          -0.31529913781429436,
          -0.06644172947106804,
          -0.36147306961640335,
          -0.47345132094298487,
          0.0018050783448438535,
          0.01485929767263602,
          -0.5580675696951036,
          -0.5316510278099135,
          -0.42378668871021624,
          -0.3386734255639758,
          0.17578716665964544,
          -0.5399021279004338,
          -0.921887931426108,
          -0.9944178266896819,
          -0.8681121588022513,
          -0.4078860801029108,
          -0.05213830009089874,
          0.19950337939460638,
          -0.15416123204945745,
          -0.2129831097394106,
          -0.0767859256477598,
          -0.08072260390018757,
          -0.07857629962800039,
          -0.6859884051669392,
          -0.023300014004061093,
          -0.20964195335922106,
          -0.3436691635636507,
          -0.38691962436203114,
          0.18706687850613693,
          -0.23304920441858357,
          0.14951451357211226,
          -0.09782965618459329,
          -0.2673189144818768,
          -0.5909153640541062,
          -0.05401312643075492,
          0.037749828490483264,
          0.017316161283070626,
          -0.2499927810527847,
          -0.8781751010112802,
          -0.8361263281485823,
          -0.05128565962414736,
          -0.07044995322411488,
          -0.3842577517444295,
          -0.16971254805384658,
          -0.7077419461766126,
          -0.8195871829526041,
          -0.7818971495073459,
          -0.6380238559671704,
          -0.29292224851585014,
          -0.22957438600027097,
          -0.21237903755681384,
          -0.6366067942301659,
          -0.36370390762128124,
          -0.2635018420769887,
          -0.013336994413248504,
          -0.054670816918284196,
          -0.26048506605292265,
          -0.9458002187857522,
          -0.33252133815358054,
          -0.39748275761218815,
          -0.1191995025260015,
          0.051941427482249135,
          -0.7922747915547512,
          -0.8805507744949244,
          -0.22878179895216164,
          -0.4905345942401072,
          -0.01889043423613145,
          0.27427140255151705,
          -0.16361783848206318,
          0.08338888146259088,
          -0.018599612608809473,
          -0.0072454939299617235,
          -0.31229179131339146,
          -0.28743294629330496,
          -0.2555792355261238,
          -0.07316273199647723,
          -0.04597420945625343,
          -0.04080256475001677,
          0.14718486604775932,
          -0.15174097460273386,
          0.06857311931690963,
          0.07052528105431524,
          0.10684984583230332,
          0.054161959289537244,
          -0.03481159862218532,
          -0.21133929122739156,
          -0.018795319213466076,
          0.004485763050109955,
          -0.3010277679715004,
          -0.4065121821252339,
          -0.013191675155475193,
          -0.017300291472546175,
          -0.0742201627054389,
          -0.19698472692890576,
          -0.5340251930952603,
          -0.7316591123219551,
          -0.6578649169244691,
          -0.06725890378386197,
          -0.1310514087168992,
          -0.19109050595751562,
          -0.34777099235037656,
          -0.3081538619019573,
          -0.6198303822250634,
          0.04161717993001186,
          -0.14120184376450157,
          -0.010639046147602327,
          -0.24428035165214385,
          -0.05220496327263873,
          -0.14017071900306846,
          -0.18008554288944673,
          -0.3684425788139759,
          -0.22699556340638713,
          -0.06313295509817492,
          0.15726462495407864,
          -0.18028053661030272,
          -0.7116734781554392,
          -0.566587911348356,
          -0.5881790135579827,
          -0.80994674272465,
          -0.38777736325218304,
          -0.3654092137772599,
          -0.030806626158747057,
          -0.06689958969084997,
          -0.30107487429634766,
          -0.25044863270294704,
          -0.4620824777268515,
          -0.08744364126648675,
          -0.4351779945625679,
          0.05337616772530129,
          -0.05786083646728887,
          0.2357584929111534,
          -0.10389295081395002,
          -0.04992696941119673,
          -0.3787591246985997,
          -0.26335372453485323,
          -0.4412806395306204,
          -0.9969412921038641,
          -0.4038483766338606,
          -0.08597713816710953,
          -0.05225615405863493,
          -0.14586224632238495,
          -0.10384513151161222,
          -0.29946452531655654,
          0.09281397946015596,
          -0.0677749557754044,
          0.22158972764006804,
          0.2586906325261021,
          0.1534033594491378,
          0.0992637210817784,
          -0.0971039896379636,
          -0.8194758983809511,
          0.05268722845807728,
          -0.19749672382022213,
          0.0699081308885135,
          0.0495298872207732,
          -0.45574946103673525,
          -0.40908958844660387,
          -0.2471987022803766,
          -0.3449876760472224,
          -0.2649356335307382,
          -0.4938065849418214,
          -0.8992050510102029,
          -0.13862109025616312,
          -0.2387427266922838,
          -0.10494841393938839,
          0.006386051701144474,
          -0.04087116362290005,
          0.08976318595305291,
          0.1276233854143994,
          -0.15478564080870988,
          -0.33494373032010416,
          0.13353028370689496,
          0.00755421840325018,
          0.05227919561401711,
          -0.1584656821493793,
          0.10942250583718477,
          0.010416053197834178,
          0.05032644114858427,
          -0.2891573783442615,
          0.6107703075099629,
          0.5435180107913805,
          -0.12130245973907938,
          -0.028774458245168878,
          -0.048153813842664914,
          0.12176299889467822,
          0.1590716405201881,
          -0.12771865285084597,
          0.05662048260504623,
          -0.07315287661746692,
          -0.08182679472157177,
          0.019144676166326292,
          -0.4474864952028481,
          0.16898191848152608,
          0.07862625407665115,
          0.15350868094748107,
          0.06945255532916879,
          -0.4914048617548549,
          -0.49657097394220817,
          -0.17608898323519903,
          -0.6814158454983931,
          -0.7500719996272145,
          -0.565839951172335,
          -0.3589467594163456,
          -0.5067477521407282,
          -0.03986217512991686,
          -0.005058306231370764,
          0.18813011156311593,
          -0.07313225578027925,
          0.017542132294227745,
          -0.6244673717102635,
          0.05558295932205223
         ]
        }
       ],
       "layout": {
        "coloraxis": {
         "colorbar": {
          "title": {
           "text": "Cluster"
          }
         },
         "colorscale": [
          [
           0,
           "#0d0887"
          ],
          [
           0.1111111111111111,
           "#46039f"
          ],
          [
           0.2222222222222222,
           "#7201a8"
          ],
          [
           0.3333333333333333,
           "#9c179e"
          ],
          [
           0.4444444444444444,
           "#bd3786"
          ],
          [
           0.5555555555555556,
           "#d8576b"
          ],
          [
           0.6666666666666666,
           "#ed7953"
          ],
          [
           0.7777777777777778,
           "#fb9f3a"
          ],
          [
           0.8888888888888888,
           "#fdca26"
          ],
          [
           1,
           "#f0f921"
          ]
         ]
        },
        "legend": {
         "title": {
          "text": "Cluster"
         },
         "tracegroupgap": 0
        },
        "margin": {
         "b": 0,
         "l": 0,
         "r": 0,
         "t": 0
        },
        "scene": {
         "domain": {
          "x": [
           0,
           1
          ],
          "y": [
           0,
           1
          ]
         },
         "xaxis": {
          "title": {
           "text": "PC 1"
          }
         },
         "yaxis": {
          "title": {
           "text": "PC 2"
          }
         },
         "zaxis": {
          "title": {
           "text": "PC 3"
          }
         }
        },
        "template": {
         "data": {
          "bar": [
           {
            "error_x": {
             "color": "#2a3f5f"
            },
            "error_y": {
             "color": "#2a3f5f"
            },
            "marker": {
             "line": {
              "color": "#E5ECF6",
              "width": 0.5
             },
             "pattern": {
              "fillmode": "overlay",
              "size": 10,
              "solidity": 0.2
             }
            },
            "type": "bar"
           }
          ],
          "barpolar": [
           {
            "marker": {
             "line": {
              "color": "#E5ECF6",
              "width": 0.5
             },
             "pattern": {
              "fillmode": "overlay",
              "size": 10,
              "solidity": 0.2
             }
            },
            "type": "barpolar"
           }
          ],
          "carpet": [
           {
            "aaxis": {
             "endlinecolor": "#2a3f5f",
             "gridcolor": "white",
             "linecolor": "white",
             "minorgridcolor": "white",
             "startlinecolor": "#2a3f5f"
            },
            "baxis": {
             "endlinecolor": "#2a3f5f",
             "gridcolor": "white",
             "linecolor": "white",
             "minorgridcolor": "white",
             "startlinecolor": "#2a3f5f"
            },
            "type": "carpet"
           }
          ],
          "choropleth": [
           {
            "colorbar": {
             "outlinewidth": 0,
             "ticks": ""
            },
            "type": "choropleth"
           }
          ],
          "contour": [
           {
            "colorbar": {
             "outlinewidth": 0,
             "ticks": ""
            },
            "colorscale": [
             [
              0,
              "#0d0887"
             ],
             [
              0.1111111111111111,
              "#46039f"
             ],
             [
              0.2222222222222222,
              "#7201a8"
             ],
             [
              0.3333333333333333,
              "#9c179e"
             ],
             [
              0.4444444444444444,
              "#bd3786"
             ],
             [
              0.5555555555555556,
              "#d8576b"
             ],
             [
              0.6666666666666666,
              "#ed7953"
             ],
             [
              0.7777777777777778,
              "#fb9f3a"
             ],
             [
              0.8888888888888888,
              "#fdca26"
             ],
             [
              1,
              "#f0f921"
             ]
            ],
            "type": "contour"
           }
          ],
          "contourcarpet": [
           {
            "colorbar": {
             "outlinewidth": 0,
             "ticks": ""
            },
            "type": "contourcarpet"
           }
          ],
          "heatmap": [
           {
            "colorbar": {
             "outlinewidth": 0,
             "ticks": ""
            },
            "colorscale": [
             [
              0,
              "#0d0887"
             ],
             [
              0.1111111111111111,
              "#46039f"
             ],
             [
              0.2222222222222222,
              "#7201a8"
             ],
             [
              0.3333333333333333,
              "#9c179e"
             ],
             [
              0.4444444444444444,
              "#bd3786"
             ],
             [
              0.5555555555555556,
              "#d8576b"
             ],
             [
              0.6666666666666666,
              "#ed7953"
             ],
             [
              0.7777777777777778,
              "#fb9f3a"
             ],
             [
              0.8888888888888888,
              "#fdca26"
             ],
             [
              1,
              "#f0f921"
             ]
            ],
            "type": "heatmap"
           }
          ],
          "heatmapgl": [
           {
            "colorbar": {
             "outlinewidth": 0,
             "ticks": ""
            },
            "colorscale": [
             [
              0,
              "#0d0887"
             ],
             [
              0.1111111111111111,
              "#46039f"
             ],
             [
              0.2222222222222222,
              "#7201a8"
             ],
             [
              0.3333333333333333,
              "#9c179e"
             ],
             [
              0.4444444444444444,
              "#bd3786"
             ],
             [
              0.5555555555555556,
              "#d8576b"
             ],
             [
              0.6666666666666666,
              "#ed7953"
             ],
             [
              0.7777777777777778,
              "#fb9f3a"
             ],
             [
              0.8888888888888888,
              "#fdca26"
             ],
             [
              1,
              "#f0f921"
             ]
            ],
            "type": "heatmapgl"
           }
          ],
          "histogram": [
           {
            "marker": {
             "pattern": {
              "fillmode": "overlay",
              "size": 10,
              "solidity": 0.2
             }
            },
            "type": "histogram"
           }
          ],
          "histogram2d": [
           {
            "colorbar": {
             "outlinewidth": 0,
             "ticks": ""
            },
            "colorscale": [
             [
              0,
              "#0d0887"
             ],
             [
              0.1111111111111111,
              "#46039f"
             ],
             [
              0.2222222222222222,
              "#7201a8"
             ],
             [
              0.3333333333333333,
              "#9c179e"
             ],
             [
              0.4444444444444444,
              "#bd3786"
             ],
             [
              0.5555555555555556,
              "#d8576b"
             ],
             [
              0.6666666666666666,
              "#ed7953"
             ],
             [
              0.7777777777777778,
              "#fb9f3a"
             ],
             [
              0.8888888888888888,
              "#fdca26"
             ],
             [
              1,
              "#f0f921"
             ]
            ],
            "type": "histogram2d"
           }
          ],
          "histogram2dcontour": [
           {
            "colorbar": {
             "outlinewidth": 0,
             "ticks": ""
            },
            "colorscale": [
             [
              0,
              "#0d0887"
             ],
             [
              0.1111111111111111,
              "#46039f"
             ],
             [
              0.2222222222222222,
              "#7201a8"
             ],
             [
              0.3333333333333333,
              "#9c179e"
             ],
             [
              0.4444444444444444,
              "#bd3786"
             ],
             [
              0.5555555555555556,
              "#d8576b"
             ],
             [
              0.6666666666666666,
              "#ed7953"
             ],
             [
              0.7777777777777778,
              "#fb9f3a"
             ],
             [
              0.8888888888888888,
              "#fdca26"
             ],
             [
              1,
              "#f0f921"
             ]
            ],
            "type": "histogram2dcontour"
           }
          ],
          "mesh3d": [
           {
            "colorbar": {
             "outlinewidth": 0,
             "ticks": ""
            },
            "type": "mesh3d"
           }
          ],
          "parcoords": [
           {
            "line": {
             "colorbar": {
              "outlinewidth": 0,
              "ticks": ""
             }
            },
            "type": "parcoords"
           }
          ],
          "pie": [
           {
            "automargin": true,
            "type": "pie"
           }
          ],
          "scatter": [
           {
            "fillpattern": {
             "fillmode": "overlay",
             "size": 10,
             "solidity": 0.2
            },
            "type": "scatter"
           }
          ],
          "scatter3d": [
           {
            "line": {
             "colorbar": {
              "outlinewidth": 0,
              "ticks": ""
             }
            },
            "marker": {
             "colorbar": {
              "outlinewidth": 0,
              "ticks": ""
             }
            },
            "type": "scatter3d"
           }
          ],
          "scattercarpet": [
           {
            "marker": {
             "colorbar": {
              "outlinewidth": 0,
              "ticks": ""
             }
            },
            "type": "scattercarpet"
           }
          ],
          "scattergeo": [
           {
            "marker": {
             "colorbar": {
              "outlinewidth": 0,
              "ticks": ""
             }
            },
            "type": "scattergeo"
           }
          ],
          "scattergl": [
           {
            "marker": {
             "colorbar": {
              "outlinewidth": 0,
              "ticks": ""
             }
            },
            "type": "scattergl"
           }
          ],
          "scattermapbox": [
           {
            "marker": {
             "colorbar": {
              "outlinewidth": 0,
              "ticks": ""
             }
            },
            "type": "scattermapbox"
           }
          ],
          "scatterpolar": [
           {
            "marker": {
             "colorbar": {
              "outlinewidth": 0,
              "ticks": ""
             }
            },
            "type": "scatterpolar"
           }
          ],
          "scatterpolargl": [
           {
            "marker": {
             "colorbar": {
              "outlinewidth": 0,
              "ticks": ""
             }
            },
            "type": "scatterpolargl"
           }
          ],
          "scatterternary": [
           {
            "marker": {
             "colorbar": {
              "outlinewidth": 0,
              "ticks": ""
             }
            },
            "type": "scatterternary"
           }
          ],
          "surface": [
           {
            "colorbar": {
             "outlinewidth": 0,
             "ticks": ""
            },
            "colorscale": [
             [
              0,
              "#0d0887"
             ],
             [
              0.1111111111111111,
              "#46039f"
             ],
             [
              0.2222222222222222,
              "#7201a8"
             ],
             [
              0.3333333333333333,
              "#9c179e"
             ],
             [
              0.4444444444444444,
              "#bd3786"
             ],
             [
              0.5555555555555556,
              "#d8576b"
             ],
             [
              0.6666666666666666,
              "#ed7953"
             ],
             [
              0.7777777777777778,
              "#fb9f3a"
             ],
             [
              0.8888888888888888,
              "#fdca26"
             ],
             [
              1,
              "#f0f921"
             ]
            ],
            "type": "surface"
           }
          ],
          "table": [
           {
            "cells": {
             "fill": {
              "color": "#EBF0F8"
             },
             "line": {
              "color": "white"
             }
            },
            "header": {
             "fill": {
              "color": "#C8D4E3"
             },
             "line": {
              "color": "white"
             }
            },
            "type": "table"
           }
          ]
         },
         "layout": {
          "annotationdefaults": {
           "arrowcolor": "#2a3f5f",
           "arrowhead": 0,
           "arrowwidth": 1
          },
          "autotypenumbers": "strict",
          "coloraxis": {
           "colorbar": {
            "outlinewidth": 0,
            "ticks": ""
           }
          },
          "colorscale": {
           "diverging": [
            [
             0,
             "#8e0152"
            ],
            [
             0.1,
             "#c51b7d"
            ],
            [
             0.2,
             "#de77ae"
            ],
            [
             0.3,
             "#f1b6da"
            ],
            [
             0.4,
             "#fde0ef"
            ],
            [
             0.5,
             "#f7f7f7"
            ],
            [
             0.6,
             "#e6f5d0"
            ],
            [
             0.7,
             "#b8e186"
            ],
            [
             0.8,
             "#7fbc41"
            ],
            [
             0.9,
             "#4d9221"
            ],
            [
             1,
             "#276419"
            ]
           ],
           "sequential": [
            [
             0,
             "#0d0887"
            ],
            [
             0.1111111111111111,
             "#46039f"
            ],
            [
             0.2222222222222222,
             "#7201a8"
            ],
            [
             0.3333333333333333,
             "#9c179e"
            ],
            [
             0.4444444444444444,
             "#bd3786"
            ],
            [
             0.5555555555555556,
             "#d8576b"
            ],
            [
             0.6666666666666666,
             "#ed7953"
            ],
            [
             0.7777777777777778,
             "#fb9f3a"
            ],
            [
             0.8888888888888888,
             "#fdca26"
            ],
            [
             1,
             "#f0f921"
            ]
           ],
           "sequentialminus": [
            [
             0,
             "#0d0887"
            ],
            [
             0.1111111111111111,
             "#46039f"
            ],
            [
             0.2222222222222222,
             "#7201a8"
            ],
            [
             0.3333333333333333,
             "#9c179e"
            ],
            [
             0.4444444444444444,
             "#bd3786"
            ],
            [
             0.5555555555555556,
             "#d8576b"
            ],
            [
             0.6666666666666666,
             "#ed7953"
            ],
            [
             0.7777777777777778,
             "#fb9f3a"
            ],
            [
             0.8888888888888888,
             "#fdca26"
            ],
            [
             1,
             "#f0f921"
            ]
           ]
          },
          "colorway": [
           "#636efa",
           "#EF553B",
           "#00cc96",
           "#ab63fa",
           "#FFA15A",
           "#19d3f3",
           "#FF6692",
           "#B6E880",
           "#FF97FF",
           "#FECB52"
          ],
          "font": {
           "color": "#2a3f5f"
          },
          "geo": {
           "bgcolor": "white",
           "lakecolor": "white",
           "landcolor": "#E5ECF6",
           "showlakes": true,
           "showland": true,
           "subunitcolor": "white"
          },
          "hoverlabel": {
           "align": "left"
          },
          "hovermode": "closest",
          "mapbox": {
           "style": "light"
          },
          "paper_bgcolor": "white",
          "plot_bgcolor": "#E5ECF6",
          "polar": {
           "angularaxis": {
            "gridcolor": "white",
            "linecolor": "white",
            "ticks": ""
           },
           "bgcolor": "#E5ECF6",
           "radialaxis": {
            "gridcolor": "white",
            "linecolor": "white",
            "ticks": ""
           }
          },
          "scene": {
           "xaxis": {
            "backgroundcolor": "#E5ECF6",
            "gridcolor": "white",
            "gridwidth": 2,
            "linecolor": "white",
            "showbackground": true,
            "ticks": "",
            "zerolinecolor": "white"
           },
           "yaxis": {
            "backgroundcolor": "#E5ECF6",
            "gridcolor": "white",
            "gridwidth": 2,
            "linecolor": "white",
            "showbackground": true,
            "ticks": "",
            "zerolinecolor": "white"
           },
           "zaxis": {
            "backgroundcolor": "#E5ECF6",
            "gridcolor": "white",
            "gridwidth": 2,
            "linecolor": "white",
            "showbackground": true,
            "ticks": "",
            "zerolinecolor": "white"
           }
          },
          "shapedefaults": {
           "line": {
            "color": "#2a3f5f"
           }
          },
          "ternary": {
           "aaxis": {
            "gridcolor": "white",
            "linecolor": "white",
            "ticks": ""
           },
           "baxis": {
            "gridcolor": "white",
            "linecolor": "white",
            "ticks": ""
           },
           "bgcolor": "#E5ECF6",
           "caxis": {
            "gridcolor": "white",
            "linecolor": "white",
            "ticks": ""
           }
          },
          "title": {
           "x": 0.05
          },
          "xaxis": {
           "automargin": true,
           "gridcolor": "white",
           "linecolor": "white",
           "ticks": "",
           "title": {
            "standoff": 15
           },
           "zerolinecolor": "white",
           "zerolinewidth": 2
          },
          "yaxis": {
           "automargin": true,
           "gridcolor": "white",
           "linecolor": "white",
           "ticks": "",
           "title": {
            "standoff": 15
           },
           "zerolinecolor": "white",
           "zerolinewidth": 2
          }
         }
        },
        "title": {
         "text": "3D PCA Visualization - data/WR.xlsx - 2020"
        }
       }
      }
     },
     "metadata": {},
     "output_type": "display_data"
    }
   ],
   "source": [
    "cluster_labels_2d = apply_kmeans(X_pca_2d, n_clusters=6)\n",
    "visualize_2d_pca_interactive(X_pca_2d, labels=labels, clusters=cluster_labels_2d, title=title)\n",
    "\n",
    "cluster_labels_3d = apply_kmeans(X_pca_3d, n_clusters=6)\n",
    "visualize_3d_pca(X_pca_3d, labels=labels, clusters=cluster_labels_3d, title=title)\n"
   ]
  },
  {
   "cell_type": "markdown",
   "id": "36c44297",
   "metadata": {},
   "source": [
    "## Part 2.2: Decision Trees"
   ]
  },
  {
   "cell_type": "markdown",
   "id": "ec99dbd2",
   "metadata": {},
   "source": [
    "#### Code can be found in decisionTree.py"
   ]
  },
  {
   "cell_type": "code",
   "execution_count": 143,
   "id": "6fb058ee",
   "metadata": {},
   "outputs": [
    {
     "name": "stdout",
     "output_type": "stream",
     "text": [
      "Accuracy: 0.8805970149253731\n"
     ]
    },
    {
     "data": {
      "image/png": "[encoded data removed]",
      "text/plain": [
       "<Figure size 1440x720 with 1 Axes>"
      ]
     },
     "metadata": {
      "needs_background": "light"
     },
     "output_type": "display_data"
    },
    {
     "data": {
      "image/png": "[encoded data removed]",
      "text/plain": [
       "<Figure size 576x432 with 2 Axes>"
      ]
     },
     "metadata": {
      "needs_background": "light"
     },
     "output_type": "display_data"
    }
   ],
   "source": [
    "%run -i \"decisionTree.py\""
   ]
  },
  {
   "cell_type": "markdown",
   "id": "22f762f1",
   "metadata": {},
   "source": [
    "## Part 2.3: Support Vector Machines (SVM)"
   ]
  },
  {
   "cell_type": "code",
   "execution_count": 144,
   "id": "df69971a",
   "metadata": {},
   "outputs": [
    {
     "name": "stdout",
     "output_type": "stream",
     "text": [
      "Accuracy: 0.9515669515669516\n",
      "Classification Report:\n",
      "              precision    recall  f1-score   support\n",
      "\n",
      " not all pro       0.95      1.00      0.98       334\n",
      "     all pro       0.00      0.00      0.00        17\n",
      "\n",
      "    accuracy                           0.95       351\n",
      "   macro avg       0.48      0.50      0.49       351\n",
      "weighted avg       0.91      0.95      0.93       351\n",
      "\n",
      "Confusion Matrix:\n",
      "[[334   0]\n",
      " [ 17   0]]\n"
     ]
    },
    {
     "data": {
      "image/png": "[encoded data removed]",
      "text/plain": [
       "<Figure size 576x432 with 2 Axes>"
      ]
     },
     "metadata": {
      "needs_background": "light"
     },
     "output_type": "display_data"
    }
   ],
   "source": [
    "from sklearn.model_selection import train_test_split\n",
    "from sklearn.svm import SVC\n",
    "from sklearn.metrics import accuracy_score, classification_report, confusion_matrix\n",
    "import seaborn as sns\n",
    "\n",
    "X_train, X_test, y_train, y_test = train_test_split(X_clean, y_clean, test_size=0.20)\n",
    "svm_model = SVC()\n",
    "svm_model.fit(X_train, y_train)\n",
    "\n",
    "y_pred = svm_model.predict(X_test)\n",
    "\n",
    "# Evaluate the model\n",
    "accuracy = accuracy_score(y_test, y_pred)\n",
    "print(f\"Accuracy: {accuracy}\")\n",
    "print(\"Classification Report:\")\n",
    "print(classification_report(y_test, y_pred, target_names=['not all pro', 'all pro'], zero_division=0))\n",
    "\n",
    "conf_matrix = confusion_matrix(y_test, y_pred)\n",
    "print(\"Confusion Matrix:\")\n",
    "print(conf_matrix)\n",
    "\n",
    "plt.figure(figsize=(8, 6))\n",
    "sns.heatmap(conf_matrix, annot=True, fmt='d', cmap='Blues',\n",
    "            xticklabels=['Not All Pro', 'All Pro'],\n",
    "            yticklabels=['Not All Pro', 'All Pro'])\n",
    "plt.title('Confusion Matrix for SVM')\n",
    "plt.xlabel('Predicted Label')\n",
    "plt.ylabel('True Label')\n",
    "plt.show()"
   ]
  },
  {
   "cell_type": "code",
   "execution_count": 145,
   "id": "477dce30",
   "metadata": {},
   "outputs": [
    {
     "data": {
      "image/png": "[encoded data removed]",
      "text/plain": [
       "<Figure size 576x432 with 1 Axes>"
      ]
     },
     "metadata": {
      "needs_background": "light"
     },
     "output_type": "display_data"
    },
    {
     "data": {
      "image/png": "[encoded data removed]",
      "text/plain": [
       "<Figure size 576x432 with 1 Axes>"
      ]
     },
     "metadata": {
      "needs_background": "light"
     },
     "output_type": "display_data"
    }
   ],
   "source": [
    "from sklearn.metrics import roc_curve, auc, precision_recall_curve, average_precision_score\n",
    "\n",
    "y_scores = svm_model.decision_function(X_test)\n",
    "fpr, tpr, temp = roc_curve(y_test, y_scores)\n",
    "roc_auc = auc(fpr, tpr)\n",
    "precision, recall, temp = precision_recall_curve(y_test, y_scores)\n",
    "average_precision = average_precision_score(y_test, y_scores)\n",
    "\n",
    "# ROC curve\n",
    "plt.figure(figsize=(8, 6))\n",
    "plt.plot(fpr, tpr, color='darkorange', lw=2, label=f'ROC curve (area = {roc_auc:.2f})')\n",
    "plt.plot([0, 1], [0, 1], color='blue', lw=2, linestyle='--')\n",
    "plt.xlabel('False Positive Rate')\n",
    "plt.ylabel('True Positive Rate')\n",
    "plt.title('Receiver Operating Characteristic (ROC) Curve')\n",
    "plt.legend(loc=\"lower right\")\n",
    "plt.show()\n",
    "\n",
    "# Precision-Recall curve\n",
    "plt.figure(figsize=(8, 6))\n",
    "plt.plot(recall, precision, color='darkorange', lw=2, label=f'Precision-Recall curve (AP = {average_precision:.2f})')\n",
    "plt.xlabel('Recall')\n",
    "plt.ylabel('Precision')\n",
    "plt.title('Precision-Recall Curve')\n",
    "plt.legend(loc=\"lower left\")\n",
    "plt.show()"
   ]
  },
  {
   "cell_type": "markdown",
   "id": "7627c3ba",
   "metadata": {},
   "source": [
    "## Part 3: Supervised Learning Method"
   ]
  },
  {
   "cell_type": "code",
   "execution_count": 146,
   "id": "5269f116",
   "metadata": {},
   "outputs": [
    {
     "name": "stdout",
     "output_type": "stream",
     "text": [
      "Accuracy: 0.9572649572649573\n",
      "Classification Report:\n",
      "              precision    recall  f1-score   support\n",
      "\n",
      " not all pro       0.96      1.00      0.98       337\n",
      "     all pro       0.00      0.00      0.00        14\n",
      "\n",
      "    accuracy                           0.96       351\n",
      "   macro avg       0.48      0.50      0.49       351\n",
      "weighted avg       0.92      0.96      0.94       351\n",
      "\n",
      "Confusion Matrix:\n",
      "[[336   1]\n",
      " [ 14   0]]\n"
     ]
    },
    {
     "data": {
      "image/png": "[encoded data removed]",
      "text/plain": [
       "<Figure size 576x432 with 2 Axes>"
      ]
     },
     "metadata": {
      "needs_background": "light"
     },
     "output_type": "display_data"
    }
   ],
   "source": [
    "from sklearn.model_selection import train_test_split\n",
    "from sklearn.linear_model import LogisticRegression\n",
    "from sklearn.metrics import accuracy_score, classification_report, confusion_matrix\n",
    "import seaborn as sns\n",
    "\n",
    "X_train, X_test, y_train, y_test = train_test_split(X_clean, y_clean, test_size=0.2, random_state=42)\n",
    "\n",
    "log_reg = LogisticRegression()\n",
    "log_reg.fit(X_train, y_train)\n",
    "\n",
    "y_pred = log_reg.predict(X_test)\n",
    "\n",
    "# Evaluate the model\n",
    "accuracy = accuracy_score(y_test, y_pred)\n",
    "print(f\"Accuracy: {accuracy}\")\n",
    "print(\"Classification Report:\")\n",
    "print(classification_report(y_test, y_pred, target_names=['not all pro', 'all pro']))\n",
    "\n",
    "conf_matrix = confusion_matrix(y_test, y_pred)\n",
    "print(\"Confusion Matrix:\")\n",
    "print(conf_matrix)\n",
    "\n",
    "plt.figure(figsize=(8, 6))\n",
    "sns.heatmap(conf_matrix, annot=True, fmt='d', cmap='Blues',\n",
    "            xticklabels=['Not All Pro', 'All Pro'],\n",
    "            yticklabels=['Not All Pro', 'All Pro'])\n",
    "plt.title('Confusion Matrix for Logistic Regression')\n",
    "plt.xlabel('Predicted Label')\n",
    "plt.ylabel('True Label')\n",
    "plt.show()\n"
   ]
  },
  {
   "cell_type": "code",
   "execution_count": null,
   "id": "045c1d1c",
   "metadata": {},
   "outputs": [],
   "source": []
  }
 ],
 "metadata": {
  "kernelspec": {
   "display_name": "Python 3 (ipykernel)",
   "language": "python",
   "name": "python3"
  },
  "language_info": {
   "codemirror_mode": {
    "name": "ipython",
    "version": 3
   },
   "file_extension": ".py",
   "mimetype": "text/x-python",
   "name": "python",
   "nbconvert_exporter": "python",
   "pygments_lexer": "ipython3",
   "version": "3.9.7"
  }
 },
 "nbformat": 4,
 "nbformat_minor": 5
}
